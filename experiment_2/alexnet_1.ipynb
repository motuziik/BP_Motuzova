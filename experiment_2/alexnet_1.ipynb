{
 "cells": [
  {
   "cell_type": "markdown",
   "metadata": {},
   "source": [
    "# AlexNet — Architektúra\n",
    "\n",
    "Súbor: alexnet_1.ipynb\n",
    "\n",
    "Program: Hospodárska informatika\n",
    "\n",
    "Vypracovala:  Veronika Motúzová \n",
    "\n",
    "Bakalárska práca: Metódy hlbokého učenia pre detekciu meteorov v astronomických snímkach\n",
    "\n",
    "Vedúci bakalárskej práce: doc. Ing. Peter Butka, PhD.\n",
    "\n",
    "Konzultant: Ing. Viera Maslej Krešňáková"
   ]
  },
  {
   "cell_type": "markdown",
   "metadata": {},
   "source": [
    "Import knižníc"
   ]
  },
  {
   "cell_type": "code",
   "execution_count": 2,
   "metadata": {},
   "outputs": [],
   "source": [
    "import numpy as np\n",
    "import keras\n",
    "from keras import backend as K\n",
    "from keras.models import Sequential\n",
    "from keras.layers import Activation\n",
    "from keras.layers.core import Dense, Flatten\n",
    "from keras.metrics import categorical_crossentropy\n",
    "from keras.layers import Conv2D, MaxPooling2D, Dropout, ZeroPadding2D\n",
    "from keras.utils import np_utils, plot_model\n",
    "from keras.optimizers import Adam\n",
    "from keras.metrics import categorical_crossentropy\n",
    "from keras.preprocessing.image import ImageDataGenerator\n",
    "from keras.layers.normalization import BatchNormalization\n",
    "from keras.layers.convolutional import *\n",
    "import array\n",
    "from sklearn.metrics import confusion_matrix,classification_report\n",
    "import itertools \n",
    "from sklearn.metrics import confusion_matrix\n",
    "from sklearn import metrics\n",
    "from keras.callbacks import ModelCheckpoint\n",
    "from keras.models import load_model "
   ]
  },
  {
   "cell_type": "markdown",
   "metadata": {},
   "source": [
    "Načítanie dát"
   ]
  },
  {
   "cell_type": "code",
   "execution_count": 3,
   "metadata": {},
   "outputs": [],
   "source": [
    "train = np.load('../data/data_final_train.npz')\n",
    "test = np.load('../data/data_final_test.npz')"
   ]
  },
  {
   "cell_type": "code",
   "execution_count": 4,
   "metadata": {},
   "outputs": [],
   "source": [
    "x_train = train['train_data'].reshape(train['train_data'].shape[0], 128, 128, 1)\n",
    "x_test = test['test_data'].reshape(test['test_data'].shape[0], 128, 128, 1)"
   ]
  },
  {
   "cell_type": "code",
   "execution_count": 5,
   "metadata": {},
   "outputs": [],
   "source": [
    "x_train = x_train.astype('float32')\n",
    "x_test = x_test.astype('float32')"
   ]
  },
  {
   "cell_type": "code",
   "execution_count": 6,
   "metadata": {},
   "outputs": [
    {
     "name": "stdout",
     "output_type": "stream",
     "text": [
      "(23746, 128, 128, 1)\n",
      "(23746, 128, 128, 1)\n"
     ]
    }
   ],
   "source": [
    "print(x_train.shape)\n",
    "print(x_test.shape)"
   ]
  },
  {
   "cell_type": "code",
   "execution_count": 7,
   "metadata": {},
   "outputs": [],
   "source": [
    "y_train = np_utils.to_categorical(train['train_targets'], 2)\n",
    "y_test = np_utils.to_categorical(test['test_targets'], 2)"
   ]
  },
  {
   "cell_type": "markdown",
   "metadata": {},
   "source": [
    "CNN"
   ]
  },
  {
   "cell_type": "code",
   "execution_count": 8,
   "metadata": {},
   "outputs": [],
   "source": [
    "model = Sequential()"
   ]
  },
  {
   "cell_type": "code",
   "execution_count": 9,
   "metadata": {},
   "outputs": [],
   "source": [
    "model.add(ZeroPadding2D((1,1),input_shape=(128, 128,1)))"
   ]
  },
  {
   "cell_type": "code",
   "execution_count": 10,
   "metadata": {},
   "outputs": [],
   "source": [
    "model.add(Conv2D(96, 3, strides=1, activation='relu')) # strides 4 -> 1 , 11 -> 3"
   ]
  },
  {
   "cell_type": "code",
   "execution_count": 11,
   "metadata": {},
   "outputs": [
    {
     "name": "stdout",
     "output_type": "stream",
     "text": [
      "WARNING:tensorflow:From C:\\Users\\motuz\\Anaconda3\\lib\\site-packages\\keras\\backend\\tensorflow_backend.py:4070: The name tf.nn.max_pool is deprecated. Please use tf.nn.max_pool2d instead.\n",
      "\n"
     ]
    }
   ],
   "source": [
    "model.add(MaxPooling2D(3, 2))"
   ]
  },
  {
   "cell_type": "code",
   "execution_count": 12,
   "metadata": {},
   "outputs": [],
   "source": [
    "model.add(Conv2D(96, 5, strides=1, padding='same', activation='relu')) # 256 -> 96"
   ]
  },
  {
   "cell_type": "code",
   "execution_count": 13,
   "metadata": {},
   "outputs": [],
   "source": [
    "model.add(MaxPooling2D(3, 2))"
   ]
  },
  {
   "cell_type": "code",
   "execution_count": 14,
   "metadata": {},
   "outputs": [],
   "source": [
    "model.add(Conv2D(96, 3, strides=1, padding='same', activation='relu')) # 384 -> 96"
   ]
  },
  {
   "cell_type": "code",
   "execution_count": 15,
   "metadata": {},
   "outputs": [],
   "source": [
    "model.add(Conv2D(96, 3, strides=1, padding='same', activation='relu'))"
   ]
  },
  {
   "cell_type": "code",
   "execution_count": 16,
   "metadata": {},
   "outputs": [],
   "source": [
    "model.add(MaxPooling2D(3, 2))"
   ]
  },
  {
   "cell_type": "code",
   "execution_count": 17,
   "metadata": {},
   "outputs": [],
   "source": [
    "model.add(Flatten())"
   ]
  },
  {
   "cell_type": "code",
   "execution_count": 18,
   "metadata": {},
   "outputs": [],
   "source": [
    "model.add(Dense(256, activation='relu')) # 4096 -> 256"
   ]
  },
  {
   "cell_type": "code",
   "execution_count": 19,
   "metadata": {},
   "outputs": [],
   "source": [
    "model.add(Dropout(0.25)) # dropout 0.5 -> 0.25"
   ]
  },
  {
   "cell_type": "code",
   "execution_count": 20,
   "metadata": {},
   "outputs": [],
   "source": [
    "model.add(Dense(256, activation='relu')) # 4096 -> 256"
   ]
  },
  {
   "cell_type": "code",
   "execution_count": 21,
   "metadata": {},
   "outputs": [],
   "source": [
    "model.add(Dropout(0.25)) # dropout 0.5 -> 0.25"
   ]
  },
  {
   "cell_type": "code",
   "execution_count": 22,
   "metadata": {},
   "outputs": [],
   "source": [
    "model.add(Dense(2, activation='softmax'))"
   ]
  },
  {
   "cell_type": "markdown",
   "metadata": {},
   "source": [
    "Adam Optimization"
   ]
  },
  {
   "cell_type": "code",
   "execution_count": 23,
   "metadata": {},
   "outputs": [],
   "source": [
    "adam = Adam()"
   ]
  },
  {
   "cell_type": "code",
   "execution_count": 24,
   "metadata": {},
   "outputs": [],
   "source": [
    "model.compile(loss='categorical_crossentropy', optimizer=adam, metrics=['accuracy'])"
   ]
  },
  {
   "cell_type": "markdown",
   "metadata": {},
   "source": [
    "Aby sa uložil model s najlepším výsledkom:"
   ]
  },
  {
   "cell_type": "code",
   "execution_count": 25,
   "metadata": {},
   "outputs": [],
   "source": [
    "saved_model = \"alexnet_1.hdf5\"\n",
    "checkpoint = ModelCheckpoint(saved_model, monitor='val_accuracy', verbose=1, save_best_only=True, mode='max')"
   ]
  },
  {
   "cell_type": "code",
   "execution_count": 26,
   "metadata": {},
   "outputs": [
    {
     "name": "stdout",
     "output_type": "stream",
     "text": [
      "WARNING:tensorflow:From C:\\Users\\motuz\\Anaconda3\\lib\\site-packages\\keras\\backend\\tensorflow_backend.py:422: The name tf.global_variables is deprecated. Please use tf.compat.v1.global_variables instead.\n",
      "\n",
      "Train on 23746 samples, validate on 23746 samples\n",
      "Epoch 1/15\n",
      "23746/23746 [==============================] - 1813s 76ms/step - loss: 0.3889 - accuracy: 0.8169 - val_loss: 0.2209 - val_accuracy: 0.9197\n",
      "\n",
      "Epoch 00001: val_accuracy improved from -inf to 0.91973, saving model to alexnet_1.hdf5\n",
      "Epoch 2/15\n",
      "23746/23746 [==============================] - 1792s 75ms/step - loss: 0.2099 - accuracy: 0.9229 - val_loss: 0.1847 - val_accuracy: 0.9312\n",
      "\n",
      "Epoch 00002: val_accuracy improved from 0.91973 to 0.93123, saving model to alexnet_1.hdf5\n",
      "Epoch 3/15\n",
      "23746/23746 [==============================] - 3095s 130ms/step - loss: 0.1882 - accuracy: 0.9284 - val_loss: 0.1769 - val_accuracy: 0.9407\n",
      "\n",
      "Epoch 00003: val_accuracy improved from 0.93123 to 0.94071, saving model to alexnet_1.hdf5\n",
      "Epoch 4/15\n",
      "23746/23746 [==============================] - 2514s 106ms/step - loss: 0.1487 - accuracy: 0.9473 - val_loss: 0.1089 - val_accuracy: 0.9657\n",
      "\n",
      "Epoch 00004: val_accuracy improved from 0.94071 to 0.96572, saving model to alexnet_1.hdf5\n",
      "Epoch 5/15\n",
      "23746/23746 [==============================] - 2185s 92ms/step - loss: 0.1061 - accuracy: 0.9642 - val_loss: 0.0910 - val_accuracy: 0.9734\n",
      "\n",
      "Epoch 00005: val_accuracy improved from 0.96572 to 0.97343, saving model to alexnet_1.hdf5\n",
      "Epoch 6/15\n",
      "23746/23746 [==============================] - 2084s 88ms/step - loss: 0.0842 - accuracy: 0.9731 - val_loss: 0.1302 - val_accuracy: 0.9492\n",
      "\n",
      "Epoch 00006: val_accuracy did not improve from 0.97343\n",
      "Epoch 7/15\n",
      "23746/23746 [==============================] - 2344s 99ms/step - loss: 0.0780 - accuracy: 0.9737 - val_loss: 0.0890 - val_accuracy: 0.9723\n",
      "\n",
      "Epoch 00007: val_accuracy did not improve from 0.97343\n",
      "Epoch 8/15\n",
      "23746/23746 [==============================] - 2335s 98ms/step - loss: 0.0637 - accuracy: 0.9792 - val_loss: 0.1125 - val_accuracy: 0.9688\n",
      "\n",
      "Epoch 00008: val_accuracy did not improve from 0.97343\n",
      "Epoch 9/15\n",
      "23746/23746 [==============================] - 2177s 92ms/step - loss: 0.0545 - accuracy: 0.9808 - val_loss: 0.0970 - val_accuracy: 0.9724\n",
      "\n",
      "Epoch 00009: val_accuracy did not improve from 0.97343\n",
      "Epoch 10/15\n",
      "23746/23746 [==============================] - 2024s 85ms/step - loss: 0.0432 - accuracy: 0.9856 - val_loss: 0.0986 - val_accuracy: 0.9738\n",
      "\n",
      "Epoch 00010: val_accuracy improved from 0.97343 to 0.97376, saving model to alexnet_1.hdf5\n",
      "Epoch 11/15\n",
      "23746/23746 [==============================] - 2016s 85ms/step - loss: 0.0483 - accuracy: 0.9851 - val_loss: 0.1017 - val_accuracy: 0.9806\n",
      "\n",
      "Epoch 00011: val_accuracy improved from 0.97376 to 0.98059, saving model to alexnet_1.hdf5\n",
      "Epoch 12/15\n",
      "23746/23746 [==============================] - 1869s 79ms/step - loss: 0.0373 - accuracy: 0.9874 - val_loss: 0.1077 - val_accuracy: 0.9716\n",
      "\n",
      "Epoch 00012: val_accuracy did not improve from 0.98059\n",
      "Epoch 13/15\n",
      "23746/23746 [==============================] - 1831s 77ms/step - loss: 0.0256 - accuracy: 0.9915 - val_loss: 0.1446 - val_accuracy: 0.9745\n",
      "\n",
      "Epoch 00013: val_accuracy did not improve from 0.98059\n",
      "Epoch 14/15\n",
      "23746/23746 [==============================] - 1813s 76ms/step - loss: 0.0218 - accuracy: 0.9931 - val_loss: 0.1349 - val_accuracy: 0.9746\n",
      "\n",
      "Epoch 00014: val_accuracy did not improve from 0.98059\n",
      "Epoch 15/15\n",
      "23746/23746 [==============================] - 1774s 75ms/step - loss: 0.0271 - accuracy: 0.9915 - val_loss: 0.1515 - val_accuracy: 0.9738\n",
      "\n",
      "Epoch 00015: val_accuracy did not improve from 0.98059\n"
     ]
    }
   ],
   "source": [
    "f = model.fit(x_train, y_train, epochs=15, batch_size=128, validation_data=(x_test, y_test), callbacks=[checkpoint])"
   ]
  },
  {
   "cell_type": "markdown",
   "metadata": {},
   "source": [
    "Načítanie modelu"
   ]
  },
  {
   "cell_type": "code",
   "execution_count": 35,
   "metadata": {},
   "outputs": [
    {
     "name": "stdout",
     "output_type": "stream",
     "text": [
      "Loading model....\n"
     ]
    }
   ],
   "source": [
    "print(\"Loading model....\")\n",
    "model = load_model('alexnet_1.hdf5')"
   ]
  },
  {
   "cell_type": "markdown",
   "metadata": {},
   "source": [
    "Vyhodnotenie test loss a accuracy"
   ]
  },
  {
   "cell_type": "code",
   "execution_count": 36,
   "metadata": {},
   "outputs": [
    {
     "name": "stdout",
     "output_type": "stream",
     "text": [
      "Test loss: 0.017534747558914782\n",
      "Test accuracy: 0.993556797504425\n"
     ]
    }
   ],
   "source": [
    "#na trénovacej množine \n",
    "score = model.evaluate(x_train, y_train, verbose=0) \n",
    "print('Test loss:', score[0])\n",
    "print('Test accuracy:', score[1])"
   ]
  },
  {
   "cell_type": "code",
   "execution_count": 37,
   "metadata": {},
   "outputs": [
    {
     "name": "stdout",
     "output_type": "stream",
     "text": [
      "Test loss: 0.10167804184588745\n",
      "Test accuracy: 0.9805862307548523\n"
     ]
    }
   ],
   "source": [
    "#na testovacej množine\n",
    "score1 = model.evaluate(x_test, y_test, verbose=0)\n",
    "print('Test loss:', score1[0])\n",
    "print('Test accuracy:', score1[1])"
   ]
  },
  {
   "cell_type": "markdown",
   "metadata": {},
   "source": [
    "Predikcia"
   ]
  },
  {
   "cell_type": "code",
   "execution_count": 30,
   "metadata": {},
   "outputs": [],
   "source": [
    "y_pred = model.predict(x_test)\n",
    "prediction_int = np.zeros_like(y_pred)\n",
    "prediction_int[y_pred > 0.5] = 1"
   ]
  },
  {
   "cell_type": "markdown",
   "metadata": {},
   "source": [
    "Confusion Matrix"
   ]
  },
  {
   "cell_type": "code",
   "execution_count": 31,
   "metadata": {},
   "outputs": [],
   "source": [
    "matrix = metrics.confusion_matrix(y_test.argmax(axis=1), y_pred.argmax(axis=1))"
   ]
  },
  {
   "cell_type": "code",
   "execution_count": 32,
   "metadata": {},
   "outputs": [
    {
     "name": "stdout",
     "output_type": "stream",
     "text": [
      "[[11795    78]\n",
      " [  383 11490]]\n"
     ]
    }
   ],
   "source": [
    "print(matrix)\n",
    "# TN / FN\n",
    "# FP / TP"
   ]
  },
  {
   "cell_type": "markdown",
   "metadata": {},
   "source": [
    "Classification Report"
   ]
  },
  {
   "cell_type": "code",
   "execution_count": 33,
   "metadata": {},
   "outputs": [
    {
     "name": "stdout",
     "output_type": "stream",
     "text": [
      "              precision    recall  f1-score   support\n",
      "\n",
      "           0       0.97      0.99      0.98     11873\n",
      "           1       0.99      0.97      0.98     11873\n",
      "\n",
      "   micro avg       0.98      0.98      0.98     23746\n",
      "   macro avg       0.98      0.98      0.98     23746\n",
      "weighted avg       0.98      0.98      0.98     23746\n",
      " samples avg       0.98      0.98      0.98     23746\n",
      "\n"
     ]
    }
   ],
   "source": [
    "print(classification_report(y_test, prediction_int))"
   ]
  },
  {
   "cell_type": "code",
   "execution_count": 34,
   "metadata": {},
   "outputs": [
    {
     "name": "stdout",
     "output_type": "stream",
     "text": [
      "Model: \"sequential_1\"\n",
      "_________________________________________________________________\n",
      "Layer (type)                 Output Shape              Param #   \n",
      "=================================================================\n",
      "zero_padding2d_1 (ZeroPaddin (None, 130, 130, 1)       0         \n",
      "_________________________________________________________________\n",
      "conv2d_1 (Conv2D)            (None, 128, 128, 96)      960       \n",
      "_________________________________________________________________\n",
      "max_pooling2d_1 (MaxPooling2 (None, 63, 63, 96)        0         \n",
      "_________________________________________________________________\n",
      "conv2d_2 (Conv2D)            (None, 63, 63, 96)        230496    \n",
      "_________________________________________________________________\n",
      "max_pooling2d_2 (MaxPooling2 (None, 31, 31, 96)        0         \n",
      "_________________________________________________________________\n",
      "conv2d_3 (Conv2D)            (None, 31, 31, 96)        83040     \n",
      "_________________________________________________________________\n",
      "conv2d_4 (Conv2D)            (None, 31, 31, 96)        83040     \n",
      "_________________________________________________________________\n",
      "max_pooling2d_3 (MaxPooling2 (None, 15, 15, 96)        0         \n",
      "_________________________________________________________________\n",
      "flatten_1 (Flatten)          (None, 21600)             0         \n",
      "_________________________________________________________________\n",
      "dense_1 (Dense)              (None, 256)               5529856   \n",
      "_________________________________________________________________\n",
      "dropout_1 (Dropout)          (None, 256)               0         \n",
      "_________________________________________________________________\n",
      "dense_2 (Dense)              (None, 256)               65792     \n",
      "_________________________________________________________________\n",
      "dropout_2 (Dropout)          (None, 256)               0         \n",
      "_________________________________________________________________\n",
      "dense_3 (Dense)              (None, 2)                 514       \n",
      "=================================================================\n",
      "Total params: 5,993,698\n",
      "Trainable params: 5,993,698\n",
      "Non-trainable params: 0\n",
      "_________________________________________________________________\n"
     ]
    }
   ],
   "source": [
    "model.summary()"
   ]
  }
 ],
 "metadata": {
  "kernelspec": {
   "display_name": "Python 3",
   "language": "python",
   "name": "python3"
  },
  "language_info": {
   "codemirror_mode": {
    "name": "ipython",
    "version": 3
   },
   "file_extension": ".py",
   "mimetype": "text/x-python",
   "name": "python",
   "nbconvert_exporter": "python",
   "pygments_lexer": "ipython3",
   "version": "3.7.3"
  }
 },
 "nbformat": 4,
 "nbformat_minor": 4
}
