{
 "cells": [
  {
   "cell_type": "markdown",
   "metadata": {},
   "source": [
    "# AlexNet — Architektúra\n",
    "\n",
    "Súbor: alexnet.ipynb\n",
    "\n",
    "Program: Hospodárska informatika\n",
    "\n",
    "Vypracovala:  Veronika Motúzová \n",
    "\n",
    "Bakalárska práca: Metódy hlbokého učenia pre detekciu meteorov v astronomických snímkach\n",
    "\n",
    "Vedúci bakalárskej práce: doc. Ing. Peter Butka, PhD.\n",
    "\n",
    "Konzultant: Ing. Viera Maslej Krešňáková\n",
    "\n",
    "architektúra podľa: https://medium.com/datadriveninvestor/five-powerful-cnn-architectures-b939c9ddd57b"
   ]
  },
  {
   "cell_type": "markdown",
   "metadata": {},
   "source": [
    "Import knižníc"
   ]
  },
  {
   "cell_type": "code",
   "execution_count": 2,
   "metadata": {},
   "outputs": [],
   "source": [
    "import numpy as np\n",
    "import keras\n",
    "from keras import backend as K\n",
    "from keras.models import Sequential\n",
    "from keras.layers import Activation\n",
    "from keras.layers.core import Dense, Flatten\n",
    "from keras.metrics import categorical_crossentropy\n",
    "from keras.layers import Conv2D, MaxPooling2D, Dropout, ZeroPadding2D\n",
    "from keras.utils import np_utils, plot_model\n",
    "from keras.optimizers import Adam\n",
    "from keras.metrics import categorical_crossentropy\n",
    "from keras.preprocessing.image import ImageDataGenerator\n",
    "from keras.layers.normalization import BatchNormalization\n",
    "from keras.layers.convolutional import *\n",
    "import array\n",
    "from sklearn.metrics import confusion_matrix,classification_report\n",
    "import itertools \n",
    "from sklearn.metrics import confusion_matrix\n",
    "from sklearn import metrics\n",
    "from keras.callbacks import ModelCheckpoint\n",
    "from keras.models import load_model "
   ]
  },
  {
   "cell_type": "markdown",
   "metadata": {},
   "source": [
    "Načítanie dát"
   ]
  },
  {
   "cell_type": "code",
   "execution_count": 3,
   "metadata": {},
   "outputs": [],
   "source": [
    "train = np.load('../data/1500_train.npz')\n",
    "test = np.load('../data/1500_test.npz')"
   ]
  },
  {
   "cell_type": "code",
   "execution_count": 4,
   "metadata": {},
   "outputs": [],
   "source": [
    "x_train = train['train_data'].reshape(train['train_data'].shape[0], 128, 128, 1)\n",
    "x_test = test['test_data'].reshape(test['test_data'].shape[0], 128, 128, 1)"
   ]
  },
  {
   "cell_type": "code",
   "execution_count": 5,
   "metadata": {},
   "outputs": [],
   "source": [
    "x_train = x_train.astype('float32')\n",
    "x_test = x_test.astype('float32')"
   ]
  },
  {
   "cell_type": "code",
   "execution_count": 6,
   "metadata": {},
   "outputs": [
    {
     "name": "stdout",
     "output_type": "stream",
     "text": [
      "(16000, 128, 128, 1)\n",
      "(16000, 128, 128, 1)\n"
     ]
    }
   ],
   "source": [
    "print(x_train.shape)\n",
    "print(x_test.shape)"
   ]
  },
  {
   "cell_type": "code",
   "execution_count": 7,
   "metadata": {},
   "outputs": [],
   "source": [
    "y_train = np_utils.to_categorical(train['train_targets'], 2)\n",
    "y_test = np_utils.to_categorical(test['test_targets'], 2)"
   ]
  },
  {
   "cell_type": "markdown",
   "metadata": {},
   "source": [
    "CNN AlexNet"
   ]
  },
  {
   "cell_type": "code",
   "execution_count": 8,
   "metadata": {},
   "outputs": [],
   "source": [
    "model = Sequential()"
   ]
  },
  {
   "cell_type": "code",
   "execution_count": 9,
   "metadata": {},
   "outputs": [],
   "source": [
    "model.add(ZeroPadding2D((1,1),input_shape=(128, 128,1)))"
   ]
  },
  {
   "cell_type": "code",
   "execution_count": 10,
   "metadata": {},
   "outputs": [],
   "source": [
    "model.add(Conv2D(96, 11, strides=4, activation='relu'))"
   ]
  },
  {
   "cell_type": "code",
   "execution_count": 11,
   "metadata": {},
   "outputs": [
    {
     "name": "stdout",
     "output_type": "stream",
     "text": [
      "WARNING:tensorflow:From C:\\Users\\motuz\\Anaconda3\\lib\\site-packages\\keras\\backend\\tensorflow_backend.py:4070: The name tf.nn.max_pool is deprecated. Please use tf.nn.max_pool2d instead.\n",
      "\n"
     ]
    }
   ],
   "source": [
    "model.add(MaxPooling2D(3, 2))"
   ]
  },
  {
   "cell_type": "code",
   "execution_count": 12,
   "metadata": {},
   "outputs": [],
   "source": [
    "model.add(Conv2D(256, 5, strides=1, padding='same', activation='relu'))"
   ]
  },
  {
   "cell_type": "code",
   "execution_count": 13,
   "metadata": {},
   "outputs": [],
   "source": [
    "model.add(MaxPooling2D(3, 2))"
   ]
  },
  {
   "cell_type": "code",
   "execution_count": 14,
   "metadata": {},
   "outputs": [],
   "source": [
    "model.add(Conv2D(384, 3, strides=1, padding='same', activation='relu'))"
   ]
  },
  {
   "cell_type": "code",
   "execution_count": 15,
   "metadata": {},
   "outputs": [],
   "source": [
    "model.add(Conv2D(256, 3, strides=1, padding='same', activation='relu'))"
   ]
  },
  {
   "cell_type": "code",
   "execution_count": 16,
   "metadata": {},
   "outputs": [],
   "source": [
    "model.add(MaxPooling2D(3, 2))"
   ]
  },
  {
   "cell_type": "code",
   "execution_count": 17,
   "metadata": {},
   "outputs": [],
   "source": [
    "model.add(Flatten())"
   ]
  },
  {
   "cell_type": "code",
   "execution_count": 18,
   "metadata": {},
   "outputs": [],
   "source": [
    "model.add(Dense(4096, activation='relu'))"
   ]
  },
  {
   "cell_type": "code",
   "execution_count": 19,
   "metadata": {},
   "outputs": [],
   "source": [
    "model.add(Dropout(0.5))"
   ]
  },
  {
   "cell_type": "code",
   "execution_count": 20,
   "metadata": {},
   "outputs": [],
   "source": [
    "model.add(Dense(4096, activation='relu'))"
   ]
  },
  {
   "cell_type": "code",
   "execution_count": 21,
   "metadata": {},
   "outputs": [],
   "source": [
    "model.add(Dropout(0.5))"
   ]
  },
  {
   "cell_type": "code",
   "execution_count": 22,
   "metadata": {},
   "outputs": [],
   "source": [
    "model.add(Dense(2, activation='softmax'))"
   ]
  },
  {
   "cell_type": "markdown",
   "metadata": {},
   "source": [
    "Adam Optimization"
   ]
  },
  {
   "cell_type": "code",
   "execution_count": 23,
   "metadata": {},
   "outputs": [],
   "source": [
    "adam = Adam()"
   ]
  },
  {
   "cell_type": "code",
   "execution_count": 24,
   "metadata": {},
   "outputs": [],
   "source": [
    "model.compile(loss='categorical_crossentropy', optimizer=adam, metrics=['accuracy'])"
   ]
  },
  {
   "cell_type": "markdown",
   "metadata": {},
   "source": [
    "Aby sa uložil model s najlepším výsledkom:"
   ]
  },
  {
   "cell_type": "code",
   "execution_count": 25,
   "metadata": {},
   "outputs": [],
   "source": [
    "saved_model = \"alexnet.hdf5\"\n",
    "checkpoint = ModelCheckpoint(saved_model, monitor='val_accuracy', verbose=1, save_best_only=True, mode='max')"
   ]
  },
  {
   "cell_type": "code",
   "execution_count": 26,
   "metadata": {},
   "outputs": [
    {
     "name": "stdout",
     "output_type": "stream",
     "text": [
      "WARNING:tensorflow:From C:\\Users\\motuz\\Anaconda3\\lib\\site-packages\\keras\\backend\\tensorflow_backend.py:422: The name tf.global_variables is deprecated. Please use tf.compat.v1.global_variables instead.\n",
      "\n",
      "Train on 16000 samples, validate on 16000 samples\n",
      "Epoch 1/15\n",
      "16000/16000 [==============================] - 466s 29ms/step - loss: 0.4870 - accuracy: 0.7434 - val_loss: 0.3412 - val_accuracy: 0.8573\n",
      "\n",
      "Epoch 00001: val_accuracy improved from -inf to 0.85731, saving model to alexnet.hdf5\n",
      "Epoch 2/15\n",
      "16000/16000 [==============================] - 390s 24ms/step - loss: 0.3312 - accuracy: 0.8539 - val_loss: 0.2761 - val_accuracy: 0.8928\n",
      "\n",
      "Epoch 00002: val_accuracy improved from 0.85731 to 0.89275, saving model to alexnet.hdf5\n",
      "Epoch 3/15\n",
      "16000/16000 [==============================] - 541s 34ms/step - loss: 0.2578 - accuracy: 0.8949 - val_loss: 0.2598 - val_accuracy: 0.8979\n",
      "\n",
      "Epoch 00003: val_accuracy improved from 0.89275 to 0.89794, saving model to alexnet.hdf5\n",
      "Epoch 4/15\n",
      "16000/16000 [==============================] - 681s 43ms/step - loss: 0.2090 - accuracy: 0.9178 - val_loss: 0.2132 - val_accuracy: 0.9213\n",
      "\n",
      "Epoch 00004: val_accuracy improved from 0.89794 to 0.92131, saving model to alexnet.hdf5\n",
      "Epoch 5/15\n",
      "16000/16000 [==============================] - 717s 45ms/step - loss: 0.1890 - accuracy: 0.9302 - val_loss: 0.2516 - val_accuracy: 0.9151\n",
      "\n",
      "Epoch 00005: val_accuracy did not improve from 0.92131\n",
      "Epoch 6/15\n",
      "16000/16000 [==============================] - 408s 26ms/step - loss: 0.1664 - accuracy: 0.9386 - val_loss: 0.1955 - val_accuracy: 0.9369\n",
      "\n",
      "Epoch 00006: val_accuracy improved from 0.92131 to 0.93687, saving model to alexnet.hdf5\n",
      "Epoch 7/15\n",
      "16000/16000 [==============================] - 283s 18ms/step - loss: 0.1581 - accuracy: 0.9427 - val_loss: 0.2326 - val_accuracy: 0.9266\n",
      "\n",
      "Epoch 00007: val_accuracy did not improve from 0.93687\n",
      "Epoch 8/15\n",
      "16000/16000 [==============================] - 284s 18ms/step - loss: 0.1502 - accuracy: 0.9449 - val_loss: 0.1840 - val_accuracy: 0.9427\n",
      "\n",
      "Epoch 00008: val_accuracy improved from 0.93687 to 0.94275, saving model to alexnet.hdf5\n",
      "Epoch 9/15\n",
      "16000/16000 [==============================] - 286s 18ms/step - loss: 0.1412 - accuracy: 0.9482 - val_loss: 0.1954 - val_accuracy: 0.9399\n",
      "\n",
      "Epoch 00009: val_accuracy did not improve from 0.94275\n",
      "Epoch 10/15\n",
      "16000/16000 [==============================] - 285s 18ms/step - loss: 0.1281 - accuracy: 0.9539 - val_loss: 0.2057 - val_accuracy: 0.9404\n",
      "\n",
      "Epoch 00010: val_accuracy did not improve from 0.94275\n",
      "Epoch 11/15\n",
      "16000/16000 [==============================] - 283s 18ms/step - loss: 0.1123 - accuracy: 0.9596 - val_loss: 0.2097 - val_accuracy: 0.9427\n",
      "\n",
      "Epoch 00011: val_accuracy did not improve from 0.94275\n",
      "Epoch 12/15\n",
      "16000/16000 [==============================] - 283s 18ms/step - loss: 0.1097 - accuracy: 0.9592 - val_loss: 0.2095 - val_accuracy: 0.9481\n",
      "\n",
      "Epoch 00012: val_accuracy improved from 0.94275 to 0.94806, saving model to alexnet.hdf5\n",
      "Epoch 13/15\n",
      "16000/16000 [==============================] - 276s 17ms/step - loss: 0.1131 - accuracy: 0.9597 - val_loss: 0.1978 - val_accuracy: 0.9427\n",
      "\n",
      "Epoch 00013: val_accuracy did not improve from 0.94806\n",
      "Epoch 14/15\n",
      "16000/16000 [==============================] - 281s 18ms/step - loss: 0.0996 - accuracy: 0.9642 - val_loss: 0.2191 - val_accuracy: 0.9404\n",
      "\n",
      "Epoch 00014: val_accuracy did not improve from 0.94806\n",
      "Epoch 15/15\n",
      "16000/16000 [==============================] - 281s 18ms/step - loss: 0.0932 - accuracy: 0.9668 - val_loss: 0.2389 - val_accuracy: 0.9461\n",
      "\n",
      "Epoch 00015: val_accuracy did not improve from 0.94806\n"
     ]
    }
   ],
   "source": [
    "f = model.fit(x_train, y_train, epochs=15, batch_size=128, validation_data=(x_test, y_test), callbacks=[checkpoint])"
   ]
  },
  {
   "cell_type": "markdown",
   "metadata": {},
   "source": [
    "Načítanie modelu"
   ]
  },
  {
   "cell_type": "code",
   "execution_count": 27,
   "metadata": {},
   "outputs": [
    {
     "name": "stdout",
     "output_type": "stream",
     "text": [
      "Loading model....\n"
     ]
    }
   ],
   "source": [
    "print(\"Loading model....\")\n",
    "model = load_model('alexnet.hdf5')"
   ]
  },
  {
   "cell_type": "markdown",
   "metadata": {},
   "source": [
    "Predikcia"
   ]
  },
  {
   "cell_type": "code",
   "execution_count": 28,
   "metadata": {},
   "outputs": [],
   "source": [
    "y_pred = model.predict(x_test)\n",
    "prediction_int = np.zeros_like(y_pred)\n",
    "prediction_int[y_pred > 0.5] = 1"
   ]
  },
  {
   "cell_type": "code",
   "execution_count": 29,
   "metadata": {},
   "outputs": [
    {
     "name": "stdout",
     "output_type": "stream",
     "text": [
      "Test loss: 0.20953427624795587\n",
      "Test accuracy: 0.9480624794960022\n"
     ]
    }
   ],
   "source": [
    "score = model.evaluate(x_test, y_test, verbose=0)\n",
    "print('Test loss:', score[0])\n",
    "print('Test accuracy:', score[1])"
   ]
  },
  {
   "cell_type": "markdown",
   "metadata": {},
   "source": [
    "Confusion Matrix"
   ]
  },
  {
   "cell_type": "code",
   "execution_count": 30,
   "metadata": {},
   "outputs": [],
   "source": [
    "matrix = metrics.confusion_matrix(y_test.argmax(axis=1), y_pred.argmax(axis=1))"
   ]
  },
  {
   "cell_type": "code",
   "execution_count": 31,
   "metadata": {},
   "outputs": [
    {
     "name": "stdout",
     "output_type": "stream",
     "text": [
      "[[7834  166]\n",
      " [ 665 7335]]\n"
     ]
    }
   ],
   "source": [
    "print(matrix)\n",
    "# TN / FN\n",
    "# FP / TP"
   ]
  },
  {
   "cell_type": "markdown",
   "metadata": {},
   "source": [
    "Classification Report"
   ]
  },
  {
   "cell_type": "code",
   "execution_count": 32,
   "metadata": {},
   "outputs": [
    {
     "name": "stdout",
     "output_type": "stream",
     "text": [
      "              precision    recall  f1-score   support\n",
      "\n",
      "           0       0.92      0.98      0.95      8000\n",
      "           1       0.98      0.92      0.95      8000\n",
      "\n",
      "   micro avg       0.95      0.95      0.95     16000\n",
      "   macro avg       0.95      0.95      0.95     16000\n",
      "weighted avg       0.95      0.95      0.95     16000\n",
      " samples avg       0.95      0.95      0.95     16000\n",
      "\n"
     ]
    }
   ],
   "source": [
    "print(classification_report(y_test, prediction_int))"
   ]
  },
  {
   "cell_type": "code",
   "execution_count": 33,
   "metadata": {},
   "outputs": [
    {
     "name": "stdout",
     "output_type": "stream",
     "text": [
      "Model: \"sequential_1\"\n",
      "_________________________________________________________________\n",
      "Layer (type)                 Output Shape              Param #   \n",
      "=================================================================\n",
      "zero_padding2d_1 (ZeroPaddin (None, 130, 130, 1)       0         \n",
      "_________________________________________________________________\n",
      "conv2d_1 (Conv2D)            (None, 30, 30, 96)        11712     \n",
      "_________________________________________________________________\n",
      "max_pooling2d_1 (MaxPooling2 (None, 14, 14, 96)        0         \n",
      "_________________________________________________________________\n",
      "conv2d_2 (Conv2D)            (None, 14, 14, 256)       614656    \n",
      "_________________________________________________________________\n",
      "max_pooling2d_2 (MaxPooling2 (None, 6, 6, 256)         0         \n",
      "_________________________________________________________________\n",
      "conv2d_3 (Conv2D)            (None, 6, 6, 384)         885120    \n",
      "_________________________________________________________________\n",
      "conv2d_4 (Conv2D)            (None, 6, 6, 256)         884992    \n",
      "_________________________________________________________________\n",
      "max_pooling2d_3 (MaxPooling2 (None, 2, 2, 256)         0         \n",
      "_________________________________________________________________\n",
      "flatten_1 (Flatten)          (None, 1024)              0         \n",
      "_________________________________________________________________\n",
      "dense_1 (Dense)              (None, 4096)              4198400   \n",
      "_________________________________________________________________\n",
      "dropout_1 (Dropout)          (None, 4096)              0         \n",
      "_________________________________________________________________\n",
      "dense_2 (Dense)              (None, 4096)              16781312  \n",
      "_________________________________________________________________\n",
      "dropout_2 (Dropout)          (None, 4096)              0         \n",
      "_________________________________________________________________\n",
      "dense_3 (Dense)              (None, 2)                 8194      \n",
      "=================================================================\n",
      "Total params: 23,384,386\n",
      "Trainable params: 23,384,386\n",
      "Non-trainable params: 0\n",
      "_________________________________________________________________\n"
     ]
    }
   ],
   "source": [
    "model.summary()"
   ]
  }
 ],
 "metadata": {
  "kernelspec": {
   "display_name": "Python 3",
   "language": "python",
   "name": "python3"
  },
  "language_info": {
   "codemirror_mode": {
    "name": "ipython",
    "version": 3
   },
   "file_extension": ".py",
   "mimetype": "text/x-python",
   "name": "python",
   "nbconvert_exporter": "python",
   "pygments_lexer": "ipython3",
   "version": "3.7.3"
  }
 },
 "nbformat": 4,
 "nbformat_minor": 4
}
