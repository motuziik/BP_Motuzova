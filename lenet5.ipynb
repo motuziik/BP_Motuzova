{
 "cells": [
  {
   "cell_type": "markdown",
   "metadata": {},
   "source": [
    "# LeNet-5 — Architektúra\n",
    "\n",
    "Súbor: lenet5.ipynb\n",
    "\n",
    "Program: Hospodárska informatika\n",
    "\n",
    "Vypracovala:  Veronika Motúzová \n",
    "\n",
    "Bakalárska práca: Metódy hlbokého učenia pre detekciu meteorov v astronomických snímkach\n",
    "\n",
    "Vedúci bakalárskej práce: doc. Ing. Peter Butka, PhD.\n",
    "\n",
    "Konzultant: Ing. Viera Maslej Krešňáková\n",
    "\n",
    "architektúra podľa: https://medium.com/datadriveninvestor/five-powerful-cnn-architectures-b939c9ddd57b"
   ]
  },
  {
   "cell_type": "markdown",
   "metadata": {},
   "source": [
    "Import knižníc"
   ]
  },
  {
   "cell_type": "code",
   "execution_count": 2,
   "metadata": {},
   "outputs": [],
   "source": [
    "import numpy as np\n",
    "import keras\n",
    "from keras import backend as K\n",
    "from keras.models import Sequential\n",
    "from keras.layers import Activation\n",
    "from keras.layers.core import Dense, Flatten\n",
    "from keras.metrics import categorical_crossentropy\n",
    "from keras.layers import Conv2D, MaxPooling2D, Dropout, ZeroPadding2D\n",
    "from keras.utils import np_utils, plot_model\n",
    "from keras.optimizers import Adam\n",
    "from keras.metrics import categorical_crossentropy\n",
    "from keras.preprocessing.image import ImageDataGenerator\n",
    "from keras.layers.normalization import BatchNormalization\n",
    "from keras.layers.convolutional import *\n",
    "import array\n",
    "from sklearn.metrics import confusion_matrix,classification_report\n",
    "import itertools \n",
    "from sklearn.metrics import confusion_matrix\n",
    "from sklearn import metrics\n",
    "from keras.callbacks import ModelCheckpoint\n",
    "from keras.models import load_model "
   ]
  },
  {
   "cell_type": "markdown",
   "metadata": {},
   "source": [
    "Načítanie dát"
   ]
  },
  {
   "cell_type": "code",
   "execution_count": 3,
   "metadata": {},
   "outputs": [],
   "source": [
    "train = np.load('../data/1500_train.npz')\n",
    "test = np.load('../data/1500_test.npz')"
   ]
  },
  {
   "cell_type": "code",
   "execution_count": 4,
   "metadata": {},
   "outputs": [],
   "source": [
    "x_train = train['train_data'].reshape(train['train_data'].shape[0], 128, 128, 1)\n",
    "x_test = test['test_data'].reshape(test['test_data'].shape[0], 128, 128, 1)"
   ]
  },
  {
   "cell_type": "code",
   "execution_count": 5,
   "metadata": {},
   "outputs": [],
   "source": [
    "x_train = x_train.astype('float32')\n",
    "x_test = x_test.astype('float32')"
   ]
  },
  {
   "cell_type": "code",
   "execution_count": 6,
   "metadata": {},
   "outputs": [
    {
     "name": "stdout",
     "output_type": "stream",
     "text": [
      "(16000, 128, 128, 1)\n",
      "(16000, 128, 128, 1)\n"
     ]
    }
   ],
   "source": [
    "print(x_train.shape)\n",
    "print(x_test.shape)"
   ]
  },
  {
   "cell_type": "code",
   "execution_count": 6,
   "metadata": {},
   "outputs": [],
   "source": [
    "y_train = np_utils.to_categorical(train['train_targets'], 2)\n",
    "y_test = np_utils.to_categorical(test['test_targets'], 2)"
   ]
  },
  {
   "cell_type": "markdown",
   "metadata": {},
   "source": [
    "CNN LeNet-5"
   ]
  },
  {
   "cell_type": "code",
   "execution_count": 8,
   "metadata": {},
   "outputs": [],
   "source": [
    "model = Sequential()"
   ]
  },
  {
   "cell_type": "code",
   "execution_count": 9,
   "metadata": {},
   "outputs": [],
   "source": [
    "model.add(ZeroPadding2D((1,1),input_shape=(128, 128,1)))"
   ]
  },
  {
   "cell_type": "code",
   "execution_count": 10,
   "metadata": {},
   "outputs": [],
   "source": [
    "#conv1\n",
    "model.add(Conv2D(filters=20, kernel_size=5,padding='same', activation='relu'))"
   ]
  },
  {
   "cell_type": "code",
   "execution_count": 11,
   "metadata": {},
   "outputs": [
    {
     "name": "stdout",
     "output_type": "stream",
     "text": [
      "WARNING:tensorflow:From C:\\Users\\motuz\\Anaconda3\\lib\\site-packages\\keras\\backend\\tensorflow_backend.py:4070: The name tf.nn.max_pool is deprecated. Please use tf.nn.max_pool2d instead.\n",
      "\n"
     ]
    }
   ],
   "source": [
    "#pool1\n",
    "model.add(MaxPooling2D())"
   ]
  },
  {
   "cell_type": "code",
   "execution_count": 12,
   "metadata": {},
   "outputs": [],
   "source": [
    "#conv2\n",
    "model.add(Conv2D(filters=50, kernel_size=5,padding='same', activation='relu'))"
   ]
  },
  {
   "cell_type": "code",
   "execution_count": 13,
   "metadata": {},
   "outputs": [],
   "source": [
    "#pool2\n",
    "model.add(MaxPooling2D())"
   ]
  },
  {
   "cell_type": "code",
   "execution_count": 14,
   "metadata": {},
   "outputs": [],
   "source": [
    "#flatten\n",
    "model.add(Flatten())"
   ]
  },
  {
   "cell_type": "code",
   "execution_count": 15,
   "metadata": {},
   "outputs": [],
   "source": [
    "#dense1\n",
    "model.add(Dense(500, activation='relu'))"
   ]
  },
  {
   "cell_type": "code",
   "execution_count": 16,
   "metadata": {},
   "outputs": [],
   "source": [
    "model.add(Dense(2, activation='softmax'))"
   ]
  },
  {
   "cell_type": "markdown",
   "metadata": {},
   "source": [
    "Adam Optimization"
   ]
  },
  {
   "cell_type": "code",
   "execution_count": 17,
   "metadata": {},
   "outputs": [],
   "source": [
    "adam = Adam()"
   ]
  },
  {
   "cell_type": "code",
   "execution_count": 18,
   "metadata": {},
   "outputs": [],
   "source": [
    "model.compile(loss='categorical_crossentropy', optimizer=adam, metrics=['accuracy'])"
   ]
  },
  {
   "cell_type": "markdown",
   "metadata": {},
   "source": [
    "Aby sa uložil model s najlepším výsledkom:"
   ]
  },
  {
   "cell_type": "code",
   "execution_count": 19,
   "metadata": {},
   "outputs": [],
   "source": [
    "saved_model = \"lenet5.hdf5\"\n",
    "checkpoint = ModelCheckpoint(saved_model, monitor='val_accuracy', verbose=1, save_best_only=True, mode='max')"
   ]
  },
  {
   "cell_type": "code",
   "execution_count": 20,
   "metadata": {},
   "outputs": [
    {
     "name": "stdout",
     "output_type": "stream",
     "text": [
      "WARNING:tensorflow:From C:\\Users\\motuz\\Anaconda3\\lib\\site-packages\\keras\\backend\\tensorflow_backend.py:422: The name tf.global_variables is deprecated. Please use tf.compat.v1.global_variables instead.\n",
      "\n",
      "Train on 16000 samples, validate on 16000 samples\n",
      "Epoch 1/15\n",
      "16000/16000 [==============================] - 295s 18ms/step - loss: 0.4529 - accuracy: 0.7551 - val_loss: 0.3504 - val_accuracy: 0.8444\n",
      "\n",
      "Epoch 00001: val_accuracy improved from -inf to 0.84444, saving model to lenet5.hdf5\n",
      "Epoch 2/15\n",
      "16000/16000 [==============================] - 324s 20ms/step - loss: 0.3275 - accuracy: 0.8493 - val_loss: 0.3078 - val_accuracy: 0.8581\n",
      "\n",
      "Epoch 00002: val_accuracy improved from 0.84444 to 0.85806, saving model to lenet5.hdf5\n",
      "Epoch 3/15\n",
      "16000/16000 [==============================] - 332s 21ms/step - loss: 0.2640 - accuracy: 0.8852 - val_loss: 0.2369 - val_accuracy: 0.9017\n",
      "\n",
      "Epoch 00003: val_accuracy improved from 0.85806 to 0.90169, saving model to lenet5.hdf5\n",
      "Epoch 4/15\n",
      "16000/16000 [==============================] - 327s 20ms/step - loss: 0.2017 - accuracy: 0.9156 - val_loss: 0.2379 - val_accuracy: 0.9075\n",
      "\n",
      "Epoch 00004: val_accuracy improved from 0.90169 to 0.90750, saving model to lenet5.hdf5\n",
      "Epoch 5/15\n",
      "16000/16000 [==============================] - 312s 20ms/step - loss: 0.1574 - accuracy: 0.9358 - val_loss: 0.2368 - val_accuracy: 0.9031\n",
      "\n",
      "Epoch 00005: val_accuracy did not improve from 0.90750\n",
      "Epoch 6/15\n",
      "16000/16000 [==============================] - 309s 19ms/step - loss: 0.1131 - accuracy: 0.9553 - val_loss: 0.2530 - val_accuracy: 0.9119\n",
      "\n",
      "Epoch 00006: val_accuracy improved from 0.90750 to 0.91188, saving model to lenet5.hdf5\n",
      "Epoch 7/15\n",
      "16000/16000 [==============================] - 310s 19ms/step - loss: 0.0855 - accuracy: 0.9663 - val_loss: 0.3164 - val_accuracy: 0.8954\n",
      "\n",
      "Epoch 00007: val_accuracy did not improve from 0.91188\n",
      "Epoch 8/15\n",
      "16000/16000 [==============================] - 320s 20ms/step - loss: 0.0637 - accuracy: 0.9772 - val_loss: 0.2374 - val_accuracy: 0.9275\n",
      "\n",
      "Epoch 00008: val_accuracy improved from 0.91188 to 0.92750, saving model to lenet5.hdf5\n",
      "Epoch 9/15\n",
      "16000/16000 [==============================] - 310s 19ms/step - loss: 0.0420 - accuracy: 0.9867 - val_loss: 0.3202 - val_accuracy: 0.9097\n",
      "\n",
      "Epoch 00009: val_accuracy did not improve from 0.92750\n",
      "Epoch 10/15\n",
      "16000/16000 [==============================] - 310s 19ms/step - loss: 0.0318 - accuracy: 0.9909 - val_loss: 0.3374 - val_accuracy: 0.9154\n",
      "\n",
      "Epoch 00010: val_accuracy did not improve from 0.92750\n",
      "Epoch 11/15\n",
      "16000/16000 [==============================] - 338s 21ms/step - loss: 0.0514 - accuracy: 0.9829 - val_loss: 0.4323 - val_accuracy: 0.8899\n",
      "\n",
      "Epoch 00011: val_accuracy did not improve from 0.92750\n",
      "Epoch 12/15\n",
      "16000/16000 [==============================] - 948s 59ms/step - loss: 0.0787 - accuracy: 0.9694 - val_loss: 0.3337 - val_accuracy: 0.9140\n",
      "\n",
      "Epoch 00012: val_accuracy did not improve from 0.92750\n",
      "Epoch 13/15\n",
      "16000/16000 [==============================] - 611s 38ms/step - loss: 0.0220 - accuracy: 0.9941 - val_loss: 0.3751 - val_accuracy: 0.9139\n",
      "\n",
      "Epoch 00013: val_accuracy did not improve from 0.92750\n",
      "Epoch 14/15\n",
      "16000/16000 [==============================] - 645s 40ms/step - loss: 0.0463 - accuracy: 0.9887 - val_loss: 0.3311 - val_accuracy: 0.9185\n",
      "\n",
      "Epoch 00014: val_accuracy did not improve from 0.92750\n",
      "Epoch 15/15\n",
      "16000/16000 [==============================] - 857s 54ms/step - loss: 0.0086 - accuracy: 0.9978 - val_loss: 0.3991 - val_accuracy: 0.9162\n",
      "\n",
      "Epoch 00015: val_accuracy did not improve from 0.92750\n"
     ]
    }
   ],
   "source": [
    "f = model.fit(x_train, y_train, epochs=15, batch_size=128, validation_data=(x_test, y_test), callbacks=[checkpoint])"
   ]
  },
  {
   "cell_type": "markdown",
   "metadata": {},
   "source": [
    "Načítanie modelu"
   ]
  },
  {
   "cell_type": "code",
   "execution_count": 7,
   "metadata": {
    "collapsed": true,
    "jupyter": {
     "outputs_hidden": true
    }
   },
   "outputs": [
    {
     "name": "stdout",
     "output_type": "stream",
     "text": [
      "Loading model....\n",
      "WARNING:tensorflow:From C:\\Users\\motuz\\Anaconda3\\lib\\site-packages\\keras\\backend\\tensorflow_backend.py:4070: The name tf.nn.max_pool is deprecated. Please use tf.nn.max_pool2d instead.\n",
      "\n",
      "WARNING:tensorflow:From C:\\Users\\motuz\\Anaconda3\\lib\\site-packages\\keras\\backend\\tensorflow_backend.py:422: The name tf.global_variables is deprecated. Please use tf.compat.v1.global_variables instead.\n",
      "\n"
     ]
    }
   ],
   "source": [
    "print(\"Loading model....\")\n",
    "model = load_model('lenet5.hdf5')"
   ]
  },
  {
   "cell_type": "markdown",
   "metadata": {},
   "source": [
    "Predikcia"
   ]
  },
  {
   "cell_type": "code",
   "execution_count": 8,
   "metadata": {},
   "outputs": [],
   "source": [
    "y_pred = model.predict(x_test)\n",
    "prediction_int = np.zeros_like(y_pred)\n",
    "prediction_int[y_pred > 0.5] = 1"
   ]
  },
  {
   "cell_type": "code",
   "execution_count": 9,
   "metadata": {},
   "outputs": [
    {
     "name": "stdout",
     "output_type": "stream",
     "text": [
      "Test loss: 0.23742769477516412\n",
      "Test accuracy: 0.9275000095367432\n"
     ]
    }
   ],
   "source": [
    "score = model.evaluate(x_test, y_test, verbose=0)\n",
    "print('Test loss:', score[0])\n",
    "print('Test accuracy:', score[1])"
   ]
  },
  {
   "cell_type": "markdown",
   "metadata": {},
   "source": [
    "Confusion Matrix"
   ]
  },
  {
   "cell_type": "code",
   "execution_count": 10,
   "metadata": {},
   "outputs": [],
   "source": [
    "matrix = metrics.confusion_matrix(y_test.argmax(axis=1), y_pred.argmax(axis=1))"
   ]
  },
  {
   "cell_type": "code",
   "execution_count": 11,
   "metadata": {},
   "outputs": [
    {
     "name": "stdout",
     "output_type": "stream",
     "text": [
      "[[7556  444]\n",
      " [ 716 7284]]\n"
     ]
    }
   ],
   "source": [
    "print(matrix)\n",
    "# TN / FN\n",
    "# FP / TP"
   ]
  },
  {
   "cell_type": "markdown",
   "metadata": {},
   "source": [
    "Classification Report"
   ]
  },
  {
   "cell_type": "code",
   "execution_count": 12,
   "metadata": {},
   "outputs": [
    {
     "name": "stdout",
     "output_type": "stream",
     "text": [
      "              precision    recall  f1-score   support\n",
      "\n",
      "           0       0.91      0.94      0.93      8000\n",
      "           1       0.94      0.91      0.93      8000\n",
      "\n",
      "   micro avg       0.93      0.93      0.93     16000\n",
      "   macro avg       0.93      0.93      0.93     16000\n",
      "weighted avg       0.93      0.93      0.93     16000\n",
      " samples avg       0.93      0.93      0.93     16000\n",
      "\n"
     ]
    }
   ],
   "source": [
    "print(classification_report(y_test, prediction_int))"
   ]
  },
  {
   "cell_type": "code",
   "execution_count": 13,
   "metadata": {},
   "outputs": [
    {
     "name": "stdout",
     "output_type": "stream",
     "text": [
      "Model: \"sequential_1\"\n",
      "_________________________________________________________________\n",
      "Layer (type)                 Output Shape              Param #   \n",
      "=================================================================\n",
      "zero_padding2d_1 (ZeroPaddin (None, 130, 130, 1)       0         \n",
      "_________________________________________________________________\n",
      "conv2d_1 (Conv2D)            (None, 130, 130, 20)      520       \n",
      "_________________________________________________________________\n",
      "max_pooling2d_1 (MaxPooling2 (None, 65, 65, 20)        0         \n",
      "_________________________________________________________________\n",
      "conv2d_2 (Conv2D)            (None, 65, 65, 50)        25050     \n",
      "_________________________________________________________________\n",
      "max_pooling2d_2 (MaxPooling2 (None, 32, 32, 50)        0         \n",
      "_________________________________________________________________\n",
      "flatten_1 (Flatten)          (None, 51200)             0         \n",
      "_________________________________________________________________\n",
      "dense_1 (Dense)              (None, 500)               25600500  \n",
      "_________________________________________________________________\n",
      "dense_2 (Dense)              (None, 2)                 1002      \n",
      "=================================================================\n",
      "Total params: 25,627,072\n",
      "Trainable params: 25,627,072\n",
      "Non-trainable params: 0\n",
      "_________________________________________________________________\n"
     ]
    }
   ],
   "source": [
    "model.summary()"
   ]
  }
 ],
 "metadata": {
  "kernelspec": {
   "display_name": "Python 3",
   "language": "python",
   "name": "python3"
  },
  "language_info": {
   "codemirror_mode": {
    "name": "ipython",
    "version": 3
   },
   "file_extension": ".py",
   "mimetype": "text/x-python",
   "name": "python",
   "nbconvert_exporter": "python",
   "pygments_lexer": "ipython3",
   "version": "3.7.3"
  }
 },
 "nbformat": 4,
 "nbformat_minor": 4
}
