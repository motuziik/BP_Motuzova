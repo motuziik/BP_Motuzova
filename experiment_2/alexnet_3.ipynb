{
 "cells": [
  {
   "cell_type": "markdown",
   "metadata": {},
   "source": [
    "# AlexNet — Architektúra\n",
    "\n",
    "Súbor: alexnet_3.ipynb\n",
    "\n",
    "Program: Hospodárska informatika\n",
    "\n",
    "Vypracovala:  Veronika Motúzová \n",
    "\n",
    "Bakalárska práca: Metódy hlbokého učenia pre detekciu meteorov v astronomických snímkach\n",
    "\n",
    "Vedúci bakalárskej práce: doc. Ing. Peter Butka, PhD.\n",
    "\n",
    "Konzultant: Ing. Viera Maslej Krešňáková"
   ]
  },
  {
   "cell_type": "markdown",
   "metadata": {},
   "source": [
    "Import knižníc"
   ]
  },
  {
   "cell_type": "code",
   "execution_count": 2,
   "metadata": {},
   "outputs": [],
   "source": [
    "import numpy as np\n",
    "import keras\n",
    "from keras import backend as K\n",
    "from keras.models import Sequential\n",
    "from keras.layers import Activation\n",
    "from keras.layers.core import Dense, Flatten\n",
    "from keras.metrics import categorical_crossentropy\n",
    "from keras.layers import Conv2D, MaxPooling2D, Dropout, ZeroPadding2D\n",
    "from keras.utils import np_utils, plot_model\n",
    "from keras.optimizers import Adam\n",
    "from keras.metrics import categorical_crossentropy\n",
    "from keras.preprocessing.image import ImageDataGenerator\n",
    "from keras.layers.normalization import BatchNormalization\n",
    "from keras.layers.convolutional import *\n",
    "import array\n",
    "from sklearn.metrics import confusion_matrix,classification_report\n",
    "import itertools \n",
    "from sklearn.metrics import confusion_matrix\n",
    "from sklearn import metrics\n",
    "from keras.callbacks import ModelCheckpoint\n",
    "from keras.models import load_model "
   ]
  },
  {
   "cell_type": "markdown",
   "metadata": {},
   "source": [
    "Načítanie dát"
   ]
  },
  {
   "cell_type": "code",
   "execution_count": 3,
   "metadata": {},
   "outputs": [],
   "source": [
    "train = np.load('../data/data_final_train.npz')\n",
    "test = np.load('../data/data_final_test.npz')"
   ]
  },
  {
   "cell_type": "code",
   "execution_count": 4,
   "metadata": {},
   "outputs": [],
   "source": [
    "x_train = train['train_data'].reshape(train['train_data'].shape[0], 128, 128, 1)\n",
    "x_test = test['test_data'].reshape(test['test_data'].shape[0], 128, 128, 1)"
   ]
  },
  {
   "cell_type": "code",
   "execution_count": 5,
   "metadata": {},
   "outputs": [],
   "source": [
    "x_train = x_train.astype('float32')\n",
    "x_test = x_test.astype('float32')"
   ]
  },
  {
   "cell_type": "code",
   "execution_count": 6,
   "metadata": {},
   "outputs": [
    {
     "name": "stdout",
     "output_type": "stream",
     "text": [
      "(23746, 128, 128, 1)\n",
      "(23746, 128, 128, 1)\n"
     ]
    }
   ],
   "source": [
    "print(x_train.shape)\n",
    "print(x_test.shape)"
   ]
  },
  {
   "cell_type": "code",
   "execution_count": 7,
   "metadata": {},
   "outputs": [],
   "source": [
    "y_train = np_utils.to_categorical(train['train_targets'], 2)\n",
    "y_test = np_utils.to_categorical(test['test_targets'], 2)"
   ]
  },
  {
   "cell_type": "markdown",
   "metadata": {},
   "source": [
    "CNN"
   ]
  },
  {
   "cell_type": "code",
   "execution_count": 8,
   "metadata": {},
   "outputs": [],
   "source": [
    "model = Sequential()"
   ]
  },
  {
   "cell_type": "code",
   "execution_count": 9,
   "metadata": {},
   "outputs": [],
   "source": [
    "model.add(ZeroPadding2D((1,1),input_shape=(128, 128,1)))"
   ]
  },
  {
   "cell_type": "code",
   "execution_count": 10,
   "metadata": {},
   "outputs": [],
   "source": [
    "model.add(Conv2D(96, 3, strides=2, activation='relu'))"
   ]
  },
  {
   "cell_type": "code",
   "execution_count": 11,
   "metadata": {},
   "outputs": [
    {
     "name": "stdout",
     "output_type": "stream",
     "text": [
      "WARNING:tensorflow:From C:\\Users\\motuz\\Anaconda3\\lib\\site-packages\\keras\\backend\\tensorflow_backend.py:4070: The name tf.nn.max_pool is deprecated. Please use tf.nn.max_pool2d instead.\n",
      "\n"
     ]
    }
   ],
   "source": [
    "model.add(MaxPooling2D(3, 2))"
   ]
  },
  {
   "cell_type": "code",
   "execution_count": 12,
   "metadata": {},
   "outputs": [],
   "source": [
    "model.add(Conv2D(96, 5, strides=1, padding='same', activation='relu'))"
   ]
  },
  {
   "cell_type": "code",
   "execution_count": 13,
   "metadata": {},
   "outputs": [],
   "source": [
    "model.add(MaxPooling2D(3, 2))"
   ]
  },
  {
   "cell_type": "code",
   "execution_count": 14,
   "metadata": {},
   "outputs": [],
   "source": [
    "model.add(Conv2D(96, 3, strides=1, padding='same', activation='relu'))"
   ]
  },
  {
   "cell_type": "code",
   "execution_count": 15,
   "metadata": {},
   "outputs": [],
   "source": [
    "model.add(Conv2D(96, 3, strides=1, padding='same', activation='relu'))"
   ]
  },
  {
   "cell_type": "code",
   "execution_count": 16,
   "metadata": {},
   "outputs": [],
   "source": [
    "model.add(MaxPooling2D(3, 2))"
   ]
  },
  {
   "cell_type": "code",
   "execution_count": 17,
   "metadata": {},
   "outputs": [],
   "source": [
    "model.add(Flatten())"
   ]
  },
  {
   "cell_type": "code",
   "execution_count": 18,
   "metadata": {},
   "outputs": [],
   "source": [
    "model.add(Dense(96, activation='relu'))"
   ]
  },
  {
   "cell_type": "code",
   "execution_count": 19,
   "metadata": {},
   "outputs": [],
   "source": [
    "model.add(Dropout(0.2))"
   ]
  },
  {
   "cell_type": "code",
   "execution_count": 20,
   "metadata": {},
   "outputs": [],
   "source": [
    "model.add(Dense(96, activation='relu'))"
   ]
  },
  {
   "cell_type": "code",
   "execution_count": 21,
   "metadata": {},
   "outputs": [],
   "source": [
    "model.add(Dropout(0.2))"
   ]
  },
  {
   "cell_type": "code",
   "execution_count": 22,
   "metadata": {},
   "outputs": [],
   "source": [
    "model.add(Dense(2, activation='softmax'))"
   ]
  },
  {
   "cell_type": "markdown",
   "metadata": {},
   "source": [
    "Adam Optimization"
   ]
  },
  {
   "cell_type": "code",
   "execution_count": 23,
   "metadata": {},
   "outputs": [],
   "source": [
    "adam = Adam()"
   ]
  },
  {
   "cell_type": "code",
   "execution_count": 24,
   "metadata": {},
   "outputs": [],
   "source": [
    "model.compile(loss='categorical_crossentropy', optimizer=adam, metrics=['accuracy'])"
   ]
  },
  {
   "cell_type": "markdown",
   "metadata": {},
   "source": [
    "Aby sa uložil model s najlepším výsledkom:"
   ]
  },
  {
   "cell_type": "code",
   "execution_count": 25,
   "metadata": {},
   "outputs": [],
   "source": [
    "saved_model = \"alexnet_3.hdf5\"\n",
    "checkpoint = ModelCheckpoint(saved_model, monitor='val_accuracy', verbose=1, save_best_only=True, mode='max')"
   ]
  },
  {
   "cell_type": "code",
   "execution_count": 26,
   "metadata": {},
   "outputs": [
    {
     "name": "stdout",
     "output_type": "stream",
     "text": [
      "WARNING:tensorflow:From C:\\Users\\motuz\\Anaconda3\\lib\\site-packages\\keras\\backend\\tensorflow_backend.py:422: The name tf.global_variables is deprecated. Please use tf.compat.v1.global_variables instead.\n",
      "\n",
      "Train on 23746 samples, validate on 23746 samples\n",
      "Epoch 1/15\n",
      "23746/23746 [==============================] - 470s 20ms/step - loss: 0.3608 - accuracy: 0.8321 - val_loss: 0.2095 - val_accuracy: 0.9255\n",
      "\n",
      "Epoch 00001: val_accuracy improved from -inf to 0.92555, saving model to alexnet_3.hdf5\n",
      "Epoch 2/15\n",
      "23746/23746 [==============================] - 474s 20ms/step - loss: 0.2034 - accuracy: 0.9278 - val_loss: 0.1644 - val_accuracy: 0.9410\n",
      "\n",
      "Epoch 00002: val_accuracy improved from 0.92555 to 0.94104, saving model to alexnet_3.hdf5\n",
      "Epoch 3/15\n",
      "23746/23746 [==============================] - 440s 19ms/step - loss: 0.1652 - accuracy: 0.9418 - val_loss: 0.1321 - val_accuracy: 0.9586\n",
      "\n",
      "Epoch 00003: val_accuracy improved from 0.94104 to 0.95856, saving model to alexnet_3.hdf5\n",
      "Epoch 4/15\n",
      "23746/23746 [==============================] - 449s 19ms/step - loss: 0.1481 - accuracy: 0.9484 - val_loss: 0.1155 - val_accuracy: 0.9637\n",
      "\n",
      "Epoch 00004: val_accuracy improved from 0.95856 to 0.96366, saving model to alexnet_3.hdf5\n",
      "Epoch 5/15\n",
      "23746/23746 [==============================] - 453s 19ms/step - loss: 0.1211 - accuracy: 0.9603 - val_loss: 0.1174 - val_accuracy: 0.9639\n",
      "\n",
      "Epoch 00005: val_accuracy improved from 0.96366 to 0.96391, saving model to alexnet_3.hdf5\n",
      "Epoch 6/15\n",
      "23746/23746 [==============================] - 445s 19ms/step - loss: 0.1066 - accuracy: 0.9644 - val_loss: 0.1337 - val_accuracy: 0.9558\n",
      "\n",
      "Epoch 00006: val_accuracy did not improve from 0.96391\n",
      "Epoch 7/15\n",
      "23746/23746 [==============================] - 438s 18ms/step - loss: 0.0961 - accuracy: 0.9688 - val_loss: 0.1100 - val_accuracy: 0.9688\n",
      "\n",
      "Epoch 00007: val_accuracy improved from 0.96391 to 0.96879, saving model to alexnet_3.hdf5\n",
      "Epoch 8/15\n",
      "23746/23746 [==============================] - 431s 18ms/step - loss: 0.0884 - accuracy: 0.9714 - val_loss: 0.1010 - val_accuracy: 0.9696\n",
      "\n",
      "Epoch 00008: val_accuracy improved from 0.96879 to 0.96959, saving model to alexnet_3.hdf5\n",
      "Epoch 9/15\n",
      "23746/23746 [==============================] - 427s 18ms/step - loss: 0.0829 - accuracy: 0.9727 - val_loss: 0.1125 - val_accuracy: 0.9637\n",
      "\n",
      "Epoch 00009: val_accuracy did not improve from 0.96959\n",
      "Epoch 10/15\n",
      "23746/23746 [==============================] - 428s 18ms/step - loss: 0.0753 - accuracy: 0.9744 - val_loss: 0.1041 - val_accuracy: 0.9736\n",
      "\n",
      "Epoch 00010: val_accuracy improved from 0.96959 to 0.97360, saving model to alexnet_3.hdf5\n",
      "Epoch 11/15\n",
      "23746/23746 [==============================] - 426s 18ms/step - loss: 0.0697 - accuracy: 0.9773 - val_loss: 0.1310 - val_accuracy: 0.9593\n",
      "\n",
      "Epoch 00011: val_accuracy did not improve from 0.97360\n",
      "Epoch 12/15\n",
      "23746/23746 [==============================] - 429s 18ms/step - loss: 0.0658 - accuracy: 0.9778 - val_loss: 0.1112 - val_accuracy: 0.9634\n",
      "\n",
      "Epoch 00012: val_accuracy did not improve from 0.97360\n",
      "Epoch 13/15\n",
      "23746/23746 [==============================] - 433s 18ms/step - loss: 0.0655 - accuracy: 0.9788 - val_loss: 0.0973 - val_accuracy: 0.9711\n",
      "\n",
      "Epoch 00013: val_accuracy did not improve from 0.97360\n",
      "Epoch 14/15\n",
      "23746/23746 [==============================] - 440s 19ms/step - loss: 0.0523 - accuracy: 0.9824 - val_loss: 0.0987 - val_accuracy: 0.9722\n",
      "\n",
      "Epoch 00014: val_accuracy did not improve from 0.97360\n",
      "Epoch 15/15\n",
      "23746/23746 [==============================] - 1907s 80ms/step - loss: 0.0531 - accuracy: 0.9819 - val_loss: 0.1013 - val_accuracy: 0.9714\n",
      "\n",
      "Epoch 00015: val_accuracy did not improve from 0.97360\n"
     ]
    }
   ],
   "source": [
    "f = model.fit(x_train, y_train, epochs=15, batch_size=128, validation_data=(x_test, y_test), callbacks=[checkpoint])"
   ]
  },
  {
   "cell_type": "markdown",
   "metadata": {},
   "source": [
    "Načítanie modelu"
   ]
  },
  {
   "cell_type": "code",
   "execution_count": 27,
   "metadata": {},
   "outputs": [
    {
     "name": "stdout",
     "output_type": "stream",
     "text": [
      "Loading model....\n"
     ]
    }
   ],
   "source": [
    "print(\"Loading model....\")\n",
    "model = load_model('alexnet_3.hdf5')"
   ]
  },
  {
   "cell_type": "markdown",
   "metadata": {},
   "source": [
    "Vyhodnotenie test loss a accuracy"
   ]
  },
  {
   "cell_type": "code",
   "execution_count": 28,
   "metadata": {},
   "outputs": [
    {
     "name": "stdout",
     "output_type": "stream",
     "text": [
      "Test loss: 0.06133939040400451\n",
      "Test accuracy: 0.9803756475448608\n"
     ]
    }
   ],
   "source": [
    "#na trénovacej množine \n",
    "score = model.evaluate(x_train, y_train, verbose=0) \n",
    "print('Test loss:', score[0])\n",
    "print('Test accuracy:', score[1])"
   ]
  },
  {
   "cell_type": "code",
   "execution_count": 29,
   "metadata": {},
   "outputs": [
    {
     "name": "stdout",
     "output_type": "stream",
     "text": [
      "Test loss: 0.10406423373232483\n",
      "Test accuracy: 0.9735955595970154\n"
     ]
    }
   ],
   "source": [
    "#na testovacej množine\n",
    "score1 = model.evaluate(x_test, y_test, verbose=0)\n",
    "print('Test loss:', score1[0])\n",
    "print('Test accuracy:', score1[1])"
   ]
  },
  {
   "cell_type": "markdown",
   "metadata": {},
   "source": [
    "Predikcia"
   ]
  },
  {
   "cell_type": "code",
   "execution_count": 30,
   "metadata": {},
   "outputs": [],
   "source": [
    "y_pred = model.predict(x_test)\n",
    "prediction_int = np.zeros_like(y_pred)\n",
    "prediction_int[y_pred > 0.5] = 1"
   ]
  },
  {
   "cell_type": "markdown",
   "metadata": {},
   "source": [
    "Confusion Matrix"
   ]
  },
  {
   "cell_type": "code",
   "execution_count": 31,
   "metadata": {},
   "outputs": [],
   "source": [
    "matrix = metrics.confusion_matrix(y_test.argmax(axis=1), y_pred.argmax(axis=1))"
   ]
  },
  {
   "cell_type": "code",
   "execution_count": 32,
   "metadata": {},
   "outputs": [
    {
     "name": "stdout",
     "output_type": "stream",
     "text": [
      "[[11786    87]\n",
      " [  540 11333]]\n"
     ]
    }
   ],
   "source": [
    "print(matrix)\n",
    "# TN / FN\n",
    "# FP / TP"
   ]
  },
  {
   "cell_type": "markdown",
   "metadata": {},
   "source": [
    "Classification Report"
   ]
  },
  {
   "cell_type": "code",
   "execution_count": 33,
   "metadata": {},
   "outputs": [
    {
     "name": "stdout",
     "output_type": "stream",
     "text": [
      "              precision    recall  f1-score   support\n",
      "\n",
      "           0       0.96      0.99      0.97     11873\n",
      "           1       0.99      0.95      0.97     11873\n",
      "\n",
      "   micro avg       0.97      0.97      0.97     23746\n",
      "   macro avg       0.97      0.97      0.97     23746\n",
      "weighted avg       0.97      0.97      0.97     23746\n",
      " samples avg       0.97      0.97      0.97     23746\n",
      "\n"
     ]
    }
   ],
   "source": [
    "print(classification_report(y_test, prediction_int))"
   ]
  },
  {
   "cell_type": "code",
   "execution_count": 34,
   "metadata": {},
   "outputs": [
    {
     "name": "stdout",
     "output_type": "stream",
     "text": [
      "Model: \"sequential_1\"\n",
      "_________________________________________________________________\n",
      "Layer (type)                 Output Shape              Param #   \n",
      "=================================================================\n",
      "zero_padding2d_1 (ZeroPaddin (None, 130, 130, 1)       0         \n",
      "_________________________________________________________________\n",
      "conv2d_1 (Conv2D)            (None, 64, 64, 96)        960       \n",
      "_________________________________________________________________\n",
      "max_pooling2d_1 (MaxPooling2 (None, 31, 31, 96)        0         \n",
      "_________________________________________________________________\n",
      "conv2d_2 (Conv2D)            (None, 31, 31, 96)        230496    \n",
      "_________________________________________________________________\n",
      "max_pooling2d_2 (MaxPooling2 (None, 15, 15, 96)        0         \n",
      "_________________________________________________________________\n",
      "conv2d_3 (Conv2D)            (None, 15, 15, 96)        83040     \n",
      "_________________________________________________________________\n",
      "conv2d_4 (Conv2D)            (None, 15, 15, 96)        83040     \n",
      "_________________________________________________________________\n",
      "max_pooling2d_3 (MaxPooling2 (None, 7, 7, 96)          0         \n",
      "_________________________________________________________________\n",
      "flatten_1 (Flatten)          (None, 4704)              0         \n",
      "_________________________________________________________________\n",
      "dense_1 (Dense)              (None, 96)                451680    \n",
      "_________________________________________________________________\n",
      "dropout_1 (Dropout)          (None, 96)                0         \n",
      "_________________________________________________________________\n",
      "dense_2 (Dense)              (None, 96)                9312      \n",
      "_________________________________________________________________\n",
      "dropout_2 (Dropout)          (None, 96)                0         \n",
      "_________________________________________________________________\n",
      "dense_3 (Dense)              (None, 2)                 194       \n",
      "=================================================================\n",
      "Total params: 858,722\n",
      "Trainable params: 858,722\n",
      "Non-trainable params: 0\n",
      "_________________________________________________________________\n"
     ]
    }
   ],
   "source": [
    "model.summary() # ako sa menia dáta v modeli"
   ]
  }
 ],
 "metadata": {
  "kernelspec": {
   "display_name": "Python 3",
   "language": "python",
   "name": "python3"
  },
  "language_info": {
   "codemirror_mode": {
    "name": "ipython",
    "version": 3
   },
   "file_extension": ".py",
   "mimetype": "text/x-python",
   "name": "python",
   "nbconvert_exporter": "python",
   "pygments_lexer": "ipython3",
   "version": "3.7.3"
  }
 },
 "nbformat": 4,
 "nbformat_minor": 4
}
