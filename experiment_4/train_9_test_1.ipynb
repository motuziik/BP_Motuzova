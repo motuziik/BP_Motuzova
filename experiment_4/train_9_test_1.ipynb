{
 "cells": [
  {
   "cell_type": "markdown",
   "metadata": {},
   "source": [
    "# Pomer dát 9:1\n",
    "\n",
    "Súbor: train_9_test_1.ipynb\n",
    "\n",
    "Program: Hospodárska informatika\n",
    "\n",
    "Vypracovala:  Veronika Motúzová \n",
    "\n",
    "Bakalárska práca: Metódy hlbokého učenia pre detekciu meteorov v astronomických snímkach\n",
    "\n",
    "Vedúci bakalárskej práce: doc. Ing. Peter Butka, PhD.\n",
    "\n",
    "Konzultant: Ing. Viera Maslej Krešňáková"
   ]
  },
  {
   "cell_type": "markdown",
   "metadata": {},
   "source": [
    "Import knižníc"
   ]
  },
  {
   "cell_type": "code",
   "execution_count": 5,
   "metadata": {},
   "outputs": [],
   "source": [
    "import numpy as np\n",
    "import keras\n",
    "from keras import backend as K\n",
    "from keras.models import Sequential\n",
    "from keras.layers import Activation\n",
    "from keras.layers.core import Dense, Flatten\n",
    "from keras.metrics import categorical_crossentropy\n",
    "from keras.layers import Conv2D, MaxPooling2D, Dropout, ZeroPadding2D\n",
    "from keras.utils import np_utils, plot_model\n",
    "from keras.optimizers import Adam\n",
    "from keras.metrics import categorical_crossentropy\n",
    "from keras.preprocessing.image import ImageDataGenerator\n",
    "from keras.layers.normalization import BatchNormalization\n",
    "from keras.layers.convolutional import *\n",
    "import array\n",
    "from sklearn.metrics import confusion_matrix,classification_report\n",
    "import itertools \n",
    "from sklearn.metrics import confusion_matrix\n",
    "from sklearn import metrics\n",
    "from keras.callbacks import ModelCheckpoint\n",
    "from keras.models import load_model \n",
    "from sklearn.model_selection import train_test_split"
   ]
  },
  {
   "cell_type": "markdown",
   "metadata": {},
   "source": [
    "Načítanie dát"
   ]
  },
  {
   "cell_type": "code",
   "execution_count": 6,
   "metadata": {},
   "outputs": [],
   "source": [
    "train = np.load('../data/data_final_train.npz')\n",
    "test = np.load('../data/data_final_test.npz')"
   ]
  },
  {
   "cell_type": "code",
   "execution_count": 7,
   "metadata": {},
   "outputs": [],
   "source": [
    "x_train = train['train_data'].reshape(train['train_data'].shape[0], 128, 128, 1)\n",
    "x_test = test['test_data'].reshape(test['test_data'].shape[0], 128, 128, 1)"
   ]
  },
  {
   "cell_type": "code",
   "execution_count": 8,
   "metadata": {},
   "outputs": [],
   "source": [
    "x_train = x_train.astype('float32')\n",
    "x_test = x_test.astype('float32')"
   ]
  },
  {
   "cell_type": "code",
   "execution_count": 9,
   "metadata": {},
   "outputs": [],
   "source": [
    "y_train = np_utils.to_categorical(train['train_targets'], 2)\n",
    "y_test = np_utils.to_categorical(test['test_targets'], 2)"
   ]
  },
  {
   "cell_type": "code",
   "execution_count": 10,
   "metadata": {},
   "outputs": [],
   "source": [
    "X = np.concatenate([x_train,x_test])"
   ]
  },
  {
   "cell_type": "code",
   "execution_count": 11,
   "metadata": {},
   "outputs": [],
   "source": [
    "Y = np.concatenate([y_train,y_test])"
   ]
  },
  {
   "cell_type": "code",
   "execution_count": 12,
   "metadata": {},
   "outputs": [],
   "source": [
    "x_train, x_test, y_train, y_test = train_test_split(X,Y,test_size=0.1)"
   ]
  },
  {
   "cell_type": "code",
   "execution_count": 10,
   "metadata": {},
   "outputs": [
    {
     "name": "stdout",
     "output_type": "stream",
     "text": [
      "(42742, 128, 128, 1)\n",
      "(4750, 128, 128, 1)\n",
      "(42742, 2)\n",
      "(4750, 2)\n"
     ]
    }
   ],
   "source": [
    "print(x_train.shape)\n",
    "print(x_test.shape)\n",
    "print(y_train.shape)\n",
    "print(y_test.shape)"
   ]
  },
  {
   "cell_type": "markdown",
   "metadata": {},
   "source": [
    "CNN"
   ]
  },
  {
   "cell_type": "code",
   "execution_count": 11,
   "metadata": {},
   "outputs": [],
   "source": [
    "model = Sequential()"
   ]
  },
  {
   "cell_type": "code",
   "execution_count": 12,
   "metadata": {},
   "outputs": [],
   "source": [
    "model.add(ZeroPadding2D((1,1),input_shape=(128, 128,1)))"
   ]
  },
  {
   "cell_type": "code",
   "execution_count": 13,
   "metadata": {},
   "outputs": [],
   "source": [
    "model.add(Conv2D(64, 3, strides=1, activation='relu')) "
   ]
  },
  {
   "cell_type": "code",
   "execution_count": 14,
   "metadata": {},
   "outputs": [
    {
     "name": "stdout",
     "output_type": "stream",
     "text": [
      "WARNING:tensorflow:From C:\\Users\\motuz\\Anaconda3\\lib\\site-packages\\keras\\backend\\tensorflow_backend.py:4070: The name tf.nn.max_pool is deprecated. Please use tf.nn.max_pool2d instead.\n",
      "\n"
     ]
    }
   ],
   "source": [
    "model.add(MaxPooling2D(3, 2))"
   ]
  },
  {
   "cell_type": "code",
   "execution_count": 15,
   "metadata": {},
   "outputs": [],
   "source": [
    "model.add(Conv2D(64, 5, strides=1, padding='same', activation='relu'))"
   ]
  },
  {
   "cell_type": "code",
   "execution_count": 16,
   "metadata": {},
   "outputs": [],
   "source": [
    "model.add(MaxPooling2D(3, 2))"
   ]
  },
  {
   "cell_type": "code",
   "execution_count": 17,
   "metadata": {},
   "outputs": [],
   "source": [
    "model.add(Conv2D(64, 3, strides=1, padding='same', activation='relu'))"
   ]
  },
  {
   "cell_type": "code",
   "execution_count": 18,
   "metadata": {},
   "outputs": [],
   "source": [
    "model.add(Conv2D(64, 3, strides=1, padding='same', activation='relu'))"
   ]
  },
  {
   "cell_type": "code",
   "execution_count": 19,
   "metadata": {},
   "outputs": [],
   "source": [
    "model.add(MaxPooling2D(3, 2))"
   ]
  },
  {
   "cell_type": "code",
   "execution_count": 20,
   "metadata": {},
   "outputs": [],
   "source": [
    "model.add(Flatten())"
   ]
  },
  {
   "cell_type": "code",
   "execution_count": 21,
   "metadata": {},
   "outputs": [],
   "source": [
    "model.add(Dense(96, activation='relu'))"
   ]
  },
  {
   "cell_type": "code",
   "execution_count": 22,
   "metadata": {},
   "outputs": [],
   "source": [
    "model.add(Dropout(0.25)) "
   ]
  },
  {
   "cell_type": "code",
   "execution_count": 23,
   "metadata": {},
   "outputs": [],
   "source": [
    "model.add(Dense(96, activation='relu'))"
   ]
  },
  {
   "cell_type": "code",
   "execution_count": 24,
   "metadata": {},
   "outputs": [],
   "source": [
    "model.add(Dropout(0.25)) "
   ]
  },
  {
   "cell_type": "code",
   "execution_count": 25,
   "metadata": {},
   "outputs": [],
   "source": [
    "model.add(Dense(2, activation='softmax'))"
   ]
  },
  {
   "cell_type": "markdown",
   "metadata": {},
   "source": [
    "Adam Optimization"
   ]
  },
  {
   "cell_type": "code",
   "execution_count": 26,
   "metadata": {},
   "outputs": [],
   "source": [
    "adam = Adam()"
   ]
  },
  {
   "cell_type": "code",
   "execution_count": 27,
   "metadata": {},
   "outputs": [],
   "source": [
    "model.compile(loss='categorical_crossentropy', optimizer=adam, metrics=['accuracy'])"
   ]
  },
  {
   "cell_type": "markdown",
   "metadata": {},
   "source": [
    "Aby sa uložil model s najlepším výsledkom:"
   ]
  },
  {
   "cell_type": "code",
   "execution_count": 28,
   "metadata": {},
   "outputs": [],
   "source": [
    "saved_model = \"model_9_1.hdf5\"\n",
    "checkpoint = ModelCheckpoint(saved_model, monitor='val_accuracy', verbose=1, save_best_only=True, mode='max')"
   ]
  },
  {
   "cell_type": "markdown",
   "metadata": {},
   "source": [
    "test loss je chyba klasifikácie (FN + FP) / súčet všetkých\n",
    "\n",
    "test accuracy je úspešnosť klasifikácie (TP + TN) / súčet všetkých"
   ]
  },
  {
   "cell_type": "code",
   "execution_count": 29,
   "metadata": {},
   "outputs": [
    {
     "name": "stdout",
     "output_type": "stream",
     "text": [
      "WARNING:tensorflow:From C:\\Users\\motuz\\Anaconda3\\lib\\site-packages\\keras\\backend\\tensorflow_backend.py:422: The name tf.global_variables is deprecated. Please use tf.compat.v1.global_variables instead.\n",
      "\n",
      "Train on 42742 samples, validate on 4750 samples\n",
      "Epoch 1/20\n",
      "42742/42742 [==============================] - 1570s 37ms/step - loss: 0.3263 - accuracy: 0.8612 - val_loss: 0.1814 - val_accuracy: 0.9339\n",
      "\n",
      "Epoch 00001: val_accuracy improved from -inf to 0.93389, saving model to model_9_1.hdf5\n",
      "Epoch 2/20\n",
      "42742/42742 [==============================] - 1532s 36ms/step - loss: 0.1892 - accuracy: 0.9316 - val_loss: 0.1503 - val_accuracy: 0.9482\n",
      "\n",
      "Epoch 00002: val_accuracy improved from 0.93389 to 0.94821, saving model to model_9_1.hdf5\n",
      "Epoch 3/20\n",
      "42742/42742 [==============================] - 1512s 35ms/step - loss: 0.1318 - accuracy: 0.9562 - val_loss: 0.1076 - val_accuracy: 0.9674\n",
      "\n",
      "Epoch 00003: val_accuracy improved from 0.94821 to 0.96737, saving model to model_9_1.hdf5\n",
      "Epoch 4/20\n",
      "42742/42742 [==============================] - 1511s 35ms/step - loss: 0.0998 - accuracy: 0.9676 - val_loss: 0.1232 - val_accuracy: 0.9667\n",
      "\n",
      "Epoch 00004: val_accuracy did not improve from 0.96737\n",
      "Epoch 5/20\n",
      "42742/42742 [==============================] - 1507s 35ms/step - loss: 0.0947 - accuracy: 0.9687 - val_loss: 0.1087 - val_accuracy: 0.9771\n",
      "\n",
      "Epoch 00005: val_accuracy improved from 0.96737 to 0.97705, saving model to model_9_1.hdf5\n",
      "Epoch 6/20\n",
      "42742/42742 [==============================] - 1505s 35ms/step - loss: 0.0705 - accuracy: 0.9783 - val_loss: 0.1358 - val_accuracy: 0.9686\n",
      "\n",
      "Epoch 00006: val_accuracy did not improve from 0.97705\n",
      "Epoch 7/20\n",
      "42742/42742 [==============================] - 1487s 35ms/step - loss: 0.0695 - accuracy: 0.9775 - val_loss: 0.1041 - val_accuracy: 0.9804\n",
      "\n",
      "Epoch 00007: val_accuracy improved from 0.97705 to 0.98042, saving model to model_9_1.hdf5\n",
      "Epoch 8/20\n",
      "42742/42742 [==============================] - 1478s 35ms/step - loss: 0.0627 - accuracy: 0.9805 - val_loss: 0.0943 - val_accuracy: 0.9792\n",
      "\n",
      "Epoch 00008: val_accuracy did not improve from 0.98042\n",
      "Epoch 9/20\n",
      "42742/42742 [==============================] - 1473s 34ms/step - loss: 0.0530 - accuracy: 0.9838 - val_loss: 0.0832 - val_accuracy: 0.9806\n",
      "\n",
      "Epoch 00009: val_accuracy improved from 0.98042 to 0.98063, saving model to model_9_1.hdf5\n",
      "Epoch 10/20\n",
      "42742/42742 [==============================] - 1450s 34ms/step - loss: 0.0450 - accuracy: 0.9855 - val_loss: 0.1427 - val_accuracy: 0.9724\n",
      "\n",
      "Epoch 00010: val_accuracy did not improve from 0.98063\n",
      "Epoch 11/20\n",
      "42742/42742 [==============================] - 1438s 34ms/step - loss: 0.0380 - accuracy: 0.9878 - val_loss: 0.1585 - val_accuracy: 0.9819\n",
      "\n",
      "Epoch 00011: val_accuracy improved from 0.98063 to 0.98189, saving model to model_9_1.hdf5\n",
      "Epoch 12/20\n",
      "42742/42742 [==============================] - 1429s 33ms/step - loss: 0.0361 - accuracy: 0.9881 - val_loss: 0.1340 - val_accuracy: 0.9762\n",
      "\n",
      "Epoch 00012: val_accuracy did not improve from 0.98189\n",
      "Epoch 13/20\n",
      "42742/42742 [==============================] - 1444s 34ms/step - loss: 0.0273 - accuracy: 0.9908 - val_loss: 0.1627 - val_accuracy: 0.9756\n",
      "\n",
      "Epoch 00013: val_accuracy did not improve from 0.98189\n",
      "Epoch 14/20\n",
      "42742/42742 [==============================] - 1672s 39ms/step - loss: 0.0235 - accuracy: 0.9924 - val_loss: 0.1287 - val_accuracy: 0.9819\n",
      "\n",
      "Epoch 00014: val_accuracy did not improve from 0.98189\n",
      "Epoch 15/20\n",
      "42742/42742 [==============================] - 1813s 42ms/step - loss: 0.0230 - accuracy: 0.9924 - val_loss: 0.1571 - val_accuracy: 0.9735\n",
      "\n",
      "Epoch 00015: val_accuracy did not improve from 0.98189\n",
      "Epoch 16/20\n",
      "42742/42742 [==============================] - 1926s 45ms/step - loss: 0.0158 - accuracy: 0.9952 - val_loss: 0.1783 - val_accuracy: 0.9745\n",
      "\n",
      "Epoch 00016: val_accuracy did not improve from 0.98189\n",
      "Epoch 17/20\n",
      "42742/42742 [==============================] - 1606s 38ms/step - loss: 0.0224 - accuracy: 0.9930 - val_loss: 0.1259 - val_accuracy: 0.9794\n",
      "\n",
      "Epoch 00017: val_accuracy did not improve from 0.98189\n",
      "Epoch 18/20\n",
      "42742/42742 [==============================] - 1487s 35ms/step - loss: 0.0155 - accuracy: 0.9951 - val_loss: 0.1719 - val_accuracy: 0.9783\n",
      "\n",
      "Epoch 00018: val_accuracy did not improve from 0.98189\n",
      "Epoch 19/20\n",
      "42742/42742 [==============================] - 1452s 34ms/step - loss: 0.0202 - accuracy: 0.9935 - val_loss: 0.1525 - val_accuracy: 0.9802\n",
      "\n",
      "Epoch 00019: val_accuracy did not improve from 0.98189\n",
      "Epoch 20/20\n",
      "42742/42742 [==============================] - 1428s 33ms/step - loss: 0.0121 - accuracy: 0.9963 - val_loss: 0.1602 - val_accuracy: 0.9800\n",
      "\n",
      "Epoch 00020: val_accuracy did not improve from 0.98189\n"
     ]
    }
   ],
   "source": [
    "f = model.fit(x_train, y_train, epochs=20, batch_size=128, validation_data=(x_test, y_test), callbacks=[checkpoint])"
   ]
  },
  {
   "cell_type": "markdown",
   "metadata": {},
   "source": [
    "Načítanie modelu"
   ]
  },
  {
   "cell_type": "code",
   "execution_count": 13,
   "metadata": {
    "collapsed": true,
    "jupyter": {
     "outputs_hidden": true
    }
   },
   "outputs": [
    {
     "name": "stdout",
     "output_type": "stream",
     "text": [
      "Loading model....\n",
      "WARNING:tensorflow:From C:\\Users\\motuz\\Anaconda3\\lib\\site-packages\\keras\\backend\\tensorflow_backend.py:4070: The name tf.nn.max_pool is deprecated. Please use tf.nn.max_pool2d instead.\n",
      "\n",
      "WARNING:tensorflow:From C:\\Users\\motuz\\Anaconda3\\lib\\site-packages\\keras\\backend\\tensorflow_backend.py:422: The name tf.global_variables is deprecated. Please use tf.compat.v1.global_variables instead.\n",
      "\n"
     ]
    }
   ],
   "source": [
    "print(\"Loading model....\")\n",
    "model = load_model('model_9_1.hdf5')"
   ]
  },
  {
   "cell_type": "markdown",
   "metadata": {},
   "source": [
    "Vyhodnotenie test loss a accuracy"
   ]
  },
  {
   "cell_type": "code",
   "execution_count": 31,
   "metadata": {},
   "outputs": [
    {
     "name": "stdout",
     "output_type": "stream",
     "text": [
      "Test loss: 0.02359017183333063\n",
      "Test accuracy: 0.9919283390045166\n"
     ]
    }
   ],
   "source": [
    "#na trénovacej množine \n",
    "score = model.evaluate(x_train, y_train, verbose=0) \n",
    "print('Test loss:', score[0])\n",
    "print('Test accuracy:', score[1])"
   ]
  },
  {
   "cell_type": "code",
   "execution_count": 32,
   "metadata": {},
   "outputs": [
    {
     "name": "stdout",
     "output_type": "stream",
     "text": [
      "Test loss: 0.15845295498294046\n",
      "Test accuracy: 0.9818947315216064\n"
     ]
    }
   ],
   "source": [
    "#na testovacej množine\n",
    "score1 = model.evaluate(x_test, y_test, verbose=0)\n",
    "print('Test loss:', score1[0])\n",
    "print('Test accuracy:', score1[1])"
   ]
  },
  {
   "cell_type": "markdown",
   "metadata": {},
   "source": [
    "Predikcia"
   ]
  },
  {
   "cell_type": "code",
   "execution_count": 14,
   "metadata": {},
   "outputs": [],
   "source": [
    "y_pred = model.predict(x_test)\n",
    "prediction_int = np.zeros_like(y_pred)\n",
    "prediction_int[y_pred > 0.5] = 1"
   ]
  },
  {
   "cell_type": "markdown",
   "metadata": {},
   "source": [
    "Confusion Matrix"
   ]
  },
  {
   "cell_type": "code",
   "execution_count": 15,
   "metadata": {},
   "outputs": [],
   "source": [
    "matrix = metrics.confusion_matrix(y_test.argmax(axis=1), y_pred.argmax(axis=1))"
   ]
  },
  {
   "cell_type": "code",
   "execution_count": 16,
   "metadata": {},
   "outputs": [
    {
     "name": "stdout",
     "output_type": "stream",
     "text": [
      "[[2409    5]\n",
      " [  41 2295]]\n"
     ]
    }
   ],
   "source": [
    "# TN / FN\n",
    "# FP / TP\n",
    "print(matrix)"
   ]
  },
  {
   "cell_type": "markdown",
   "metadata": {},
   "source": [
    "Classification Report"
   ]
  },
  {
   "cell_type": "code",
   "execution_count": 37,
   "metadata": {},
   "outputs": [
    {
     "name": "stdout",
     "output_type": "stream",
     "text": [
      "              precision    recall  f1-score   support\n",
      "\n",
      "           0       0.97      0.99      0.98      2398\n",
      "           1       0.99      0.97      0.98      2352\n",
      "\n",
      "   micro avg       0.98      0.98      0.98      4750\n",
      "   macro avg       0.98      0.98      0.98      4750\n",
      "weighted avg       0.98      0.98      0.98      4750\n",
      " samples avg       0.98      0.98      0.98      4750\n",
      "\n"
     ]
    }
   ],
   "source": [
    "print(classification_report(y_test, prediction_int))"
   ]
  },
  {
   "cell_type": "code",
   "execution_count": 33,
   "metadata": {},
   "outputs": [
    {
     "name": "stdout",
     "output_type": "stream",
     "text": [
      "Model: \"sequential_1\"\n",
      "_________________________________________________________________\n",
      "Layer (type)                 Output Shape              Param #   \n",
      "=================================================================\n",
      "zero_padding2d_1 (ZeroPaddin (None, 130, 130, 1)       0         \n",
      "_________________________________________________________________\n",
      "conv2d_1 (Conv2D)            (None, 128, 128, 64)      640       \n",
      "_________________________________________________________________\n",
      "max_pooling2d_1 (MaxPooling2 (None, 63, 63, 64)        0         \n",
      "_________________________________________________________________\n",
      "conv2d_2 (Conv2D)            (None, 63, 63, 64)        102464    \n",
      "_________________________________________________________________\n",
      "max_pooling2d_2 (MaxPooling2 (None, 31, 31, 64)        0         \n",
      "_________________________________________________________________\n",
      "conv2d_3 (Conv2D)            (None, 31, 31, 64)        36928     \n",
      "_________________________________________________________________\n",
      "conv2d_4 (Conv2D)            (None, 31, 31, 64)        36928     \n",
      "_________________________________________________________________\n",
      "max_pooling2d_3 (MaxPooling2 (None, 15, 15, 64)        0         \n",
      "_________________________________________________________________\n",
      "flatten_1 (Flatten)          (None, 14400)             0         \n",
      "_________________________________________________________________\n",
      "dense_1 (Dense)              (None, 96)                1382496   \n",
      "_________________________________________________________________\n",
      "dropout_1 (Dropout)          (None, 96)                0         \n",
      "_________________________________________________________________\n",
      "dense_2 (Dense)              (None, 96)                9312      \n",
      "_________________________________________________________________\n",
      "dropout_2 (Dropout)          (None, 96)                0         \n",
      "_________________________________________________________________\n",
      "dense_3 (Dense)              (None, 2)                 194       \n",
      "=================================================================\n",
      "Total params: 1,568,962\n",
      "Trainable params: 1,568,962\n",
      "Non-trainable params: 0\n",
      "_________________________________________________________________\n"
     ]
    }
   ],
   "source": [
    "model.summary()"
   ]
  }
 ],
 "metadata": {
  "kernelspec": {
   "display_name": "Python 3",
   "language": "python",
   "name": "python3"
  },
  "language_info": {
   "codemirror_mode": {
    "name": "ipython",
    "version": 3
   },
   "file_extension": ".py",
   "mimetype": "text/x-python",
   "name": "python",
   "nbconvert_exporter": "python",
   "pygments_lexer": "ipython3",
   "version": "3.7.3"
  }
 },
 "nbformat": 4,
 "nbformat_minor": 4
}
