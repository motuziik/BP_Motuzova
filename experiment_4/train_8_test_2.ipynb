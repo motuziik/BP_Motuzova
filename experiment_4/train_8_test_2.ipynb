{
 "cells": [
  {
   "cell_type": "markdown",
   "metadata": {},
   "source": [
    "# Pomer dát 8:2\n",
    "\n",
    "Súbor: train_8_test_2.ipynb\n",
    "\n",
    "Program: Hospodárska informatika\n",
    "\n",
    "Vypracovala:  Veronika Motúzová \n",
    "\n",
    "Bakalárska práca: Metódy hlbokého učenia pre detekciu meteorov v astronomických snímkach\n",
    "\n",
    "Vedúci bakalárskej práce: doc. Ing. Peter Butka, PhD.\n",
    "\n",
    "Konzultant: Ing. Viera Maslej Krešňáková"
   ]
  },
  {
   "cell_type": "markdown",
   "metadata": {},
   "source": [
    "Import knižníc"
   ]
  },
  {
   "cell_type": "code",
   "execution_count": 2,
   "metadata": {},
   "outputs": [],
   "source": [
    "import numpy as np\n",
    "import keras\n",
    "from keras import backend as K\n",
    "from keras.models import Sequential\n",
    "from keras.layers import Activation\n",
    "from keras.layers.core import Dense, Flatten\n",
    "from keras.metrics import categorical_crossentropy\n",
    "from keras.layers import Conv2D, MaxPooling2D, Dropout, ZeroPadding2D\n",
    "from keras.utils import np_utils, plot_model\n",
    "from keras.optimizers import Adam\n",
    "from keras.metrics import categorical_crossentropy\n",
    "from keras.preprocessing.image import ImageDataGenerator\n",
    "from keras.layers.normalization import BatchNormalization\n",
    "from keras.layers.convolutional import *\n",
    "import array\n",
    "from sklearn.metrics import confusion_matrix,classification_report\n",
    "import itertools \n",
    "from sklearn.metrics import confusion_matrix\n",
    "from sklearn import metrics\n",
    "from keras.callbacks import ModelCheckpoint\n",
    "from keras.models import load_model \n",
    "from sklearn.model_selection import train_test_split"
   ]
  },
  {
   "cell_type": "markdown",
   "metadata": {},
   "source": [
    "Načítanie dát"
   ]
  },
  {
   "cell_type": "code",
   "execution_count": 3,
   "metadata": {},
   "outputs": [],
   "source": [
    "train = np.load('../data/data_final_train.npz')\n",
    "test = np.load('../data/data_final_test.npz')"
   ]
  },
  {
   "cell_type": "code",
   "execution_count": 4,
   "metadata": {},
   "outputs": [],
   "source": [
    "x_train = train['train_data'].reshape(train['train_data'].shape[0], 128, 128, 1)\n",
    "x_test = test['test_data'].reshape(test['test_data'].shape[0], 128, 128, 1)"
   ]
  },
  {
   "cell_type": "code",
   "execution_count": 5,
   "metadata": {},
   "outputs": [],
   "source": [
    "x_train = x_train.astype('float32')\n",
    "x_test = x_test.astype('float32')"
   ]
  },
  {
   "cell_type": "code",
   "execution_count": 6,
   "metadata": {},
   "outputs": [],
   "source": [
    "y_train = np_utils.to_categorical(train['train_targets'], 2)\n",
    "y_test = np_utils.to_categorical(test['test_targets'], 2)"
   ]
  },
  {
   "cell_type": "code",
   "execution_count": 7,
   "metadata": {},
   "outputs": [],
   "source": [
    "X = np.concatenate([x_train,x_test])"
   ]
  },
  {
   "cell_type": "code",
   "execution_count": 8,
   "metadata": {},
   "outputs": [],
   "source": [
    "Y = np.concatenate([y_train,y_test])"
   ]
  },
  {
   "cell_type": "code",
   "execution_count": 9,
   "metadata": {},
   "outputs": [],
   "source": [
    "x_train, x_test, y_train, y_test = train_test_split(X,Y,test_size=0.2)"
   ]
  },
  {
   "cell_type": "code",
   "execution_count": 10,
   "metadata": {},
   "outputs": [
    {
     "name": "stdout",
     "output_type": "stream",
     "text": [
      "(37993, 128, 128, 1)\n",
      "(9499, 128, 128, 1)\n",
      "(37993, 2)\n",
      "(9499, 2)\n"
     ]
    }
   ],
   "source": [
    "print(x_train.shape)\n",
    "print(x_test.shape)\n",
    "print(y_train.shape)\n",
    "print(y_test.shape)"
   ]
  },
  {
   "cell_type": "markdown",
   "metadata": {},
   "source": [
    "CNN"
   ]
  },
  {
   "cell_type": "code",
   "execution_count": 11,
   "metadata": {},
   "outputs": [],
   "source": [
    "model = Sequential()"
   ]
  },
  {
   "cell_type": "code",
   "execution_count": 12,
   "metadata": {},
   "outputs": [],
   "source": [
    "model.add(ZeroPadding2D((1,1),input_shape=(128, 128,1)))"
   ]
  },
  {
   "cell_type": "code",
   "execution_count": 13,
   "metadata": {},
   "outputs": [],
   "source": [
    "model.add(Conv2D(64, 3, strides=1, activation='relu')) "
   ]
  },
  {
   "cell_type": "code",
   "execution_count": 14,
   "metadata": {},
   "outputs": [
    {
     "name": "stdout",
     "output_type": "stream",
     "text": [
      "WARNING:tensorflow:From C:\\Users\\motuz\\Anaconda3\\lib\\site-packages\\keras\\backend\\tensorflow_backend.py:4070: The name tf.nn.max_pool is deprecated. Please use tf.nn.max_pool2d instead.\n",
      "\n"
     ]
    }
   ],
   "source": [
    "model.add(MaxPooling2D(3, 2))"
   ]
  },
  {
   "cell_type": "code",
   "execution_count": 15,
   "metadata": {},
   "outputs": [],
   "source": [
    "model.add(Conv2D(64, 5, strides=1, padding='same', activation='relu'))"
   ]
  },
  {
   "cell_type": "code",
   "execution_count": 16,
   "metadata": {},
   "outputs": [],
   "source": [
    "model.add(MaxPooling2D(3, 2))"
   ]
  },
  {
   "cell_type": "code",
   "execution_count": 17,
   "metadata": {},
   "outputs": [],
   "source": [
    "model.add(Conv2D(64, 3, strides=1, padding='same', activation='relu'))"
   ]
  },
  {
   "cell_type": "code",
   "execution_count": 18,
   "metadata": {},
   "outputs": [],
   "source": [
    "model.add(Conv2D(64, 3, strides=1, padding='same', activation='relu'))"
   ]
  },
  {
   "cell_type": "code",
   "execution_count": 19,
   "metadata": {},
   "outputs": [],
   "source": [
    "model.add(MaxPooling2D(3, 2))"
   ]
  },
  {
   "cell_type": "code",
   "execution_count": 20,
   "metadata": {},
   "outputs": [],
   "source": [
    "model.add(Flatten())"
   ]
  },
  {
   "cell_type": "code",
   "execution_count": 21,
   "metadata": {},
   "outputs": [],
   "source": [
    "model.add(Dense(96, activation='relu'))"
   ]
  },
  {
   "cell_type": "code",
   "execution_count": 22,
   "metadata": {},
   "outputs": [],
   "source": [
    "model.add(Dropout(0.25)) "
   ]
  },
  {
   "cell_type": "code",
   "execution_count": 23,
   "metadata": {},
   "outputs": [],
   "source": [
    "model.add(Dense(96, activation='relu'))"
   ]
  },
  {
   "cell_type": "code",
   "execution_count": 24,
   "metadata": {},
   "outputs": [],
   "source": [
    "model.add(Dropout(0.25)) "
   ]
  },
  {
   "cell_type": "code",
   "execution_count": 25,
   "metadata": {},
   "outputs": [],
   "source": [
    "model.add(Dense(2, activation='softmax'))"
   ]
  },
  {
   "cell_type": "markdown",
   "metadata": {},
   "source": [
    "Adam Optimization"
   ]
  },
  {
   "cell_type": "code",
   "execution_count": 26,
   "metadata": {},
   "outputs": [],
   "source": [
    "adam = Adam()"
   ]
  },
  {
   "cell_type": "code",
   "execution_count": 27,
   "metadata": {},
   "outputs": [],
   "source": [
    "model.compile(loss='categorical_crossentropy', optimizer=adam, metrics=['accuracy'])"
   ]
  },
  {
   "cell_type": "markdown",
   "metadata": {},
   "source": [
    "Aby sa uložil model s najlepším výsledkom:"
   ]
  },
  {
   "cell_type": "code",
   "execution_count": 28,
   "metadata": {},
   "outputs": [],
   "source": [
    "saved_model = \"model_8_2.hdf5\"\n",
    "checkpoint = ModelCheckpoint(saved_model, monitor='val_accuracy', verbose=1, save_best_only=True, mode='max')"
   ]
  },
  {
   "cell_type": "markdown",
   "metadata": {},
   "source": [
    "test loss je chyba klasifikácie (FN + FP) / súčet všetkých\n",
    "\n",
    "test accuracy je úspešnosť klasifikácie (TP + TN) / súčet všetkých"
   ]
  },
  {
   "cell_type": "code",
   "execution_count": 29,
   "metadata": {},
   "outputs": [
    {
     "name": "stdout",
     "output_type": "stream",
     "text": [
      "WARNING:tensorflow:From C:\\Users\\motuz\\Anaconda3\\lib\\site-packages\\keras\\backend\\tensorflow_backend.py:422: The name tf.global_variables is deprecated. Please use tf.compat.v1.global_variables instead.\n",
      "\n",
      "Train on 37993 samples, validate on 9499 samples\n",
      "Epoch 1/20\n",
      "37993/37993 [==============================] - 1281s 34ms/step - loss: 0.3658 - accuracy: 0.8322 - val_loss: 0.2356 - val_accuracy: 0.9075\n",
      "\n",
      "Epoch 00001: val_accuracy improved from -inf to 0.90746, saving model to model_8_2.hdf5\n",
      "Epoch 2/20\n",
      "37993/37993 [==============================] - 1341s 35ms/step - loss: 0.2091 - accuracy: 0.9207 - val_loss: 0.1637 - val_accuracy: 0.9488\n",
      "\n",
      "Epoch 00002: val_accuracy improved from 0.90746 to 0.94884, saving model to model_8_2.hdf5\n",
      "Epoch 3/20\n",
      "37993/37993 [==============================] - 1259s 33ms/step - loss: 0.1385 - accuracy: 0.9541 - val_loss: 0.1130 - val_accuracy: 0.9641\n",
      "\n",
      "Epoch 00003: val_accuracy improved from 0.94884 to 0.96410, saving model to model_8_2.hdf5\n",
      "Epoch 4/20\n",
      "37993/37993 [==============================] - 1264s 33ms/step - loss: 0.1113 - accuracy: 0.9635 - val_loss: 0.0985 - val_accuracy: 0.9700\n",
      "\n",
      "Epoch 00004: val_accuracy improved from 0.96410 to 0.97000, saving model to model_8_2.hdf5\n",
      "Epoch 5/20\n",
      "37993/37993 [==============================] - 1406s 37ms/step - loss: 0.0984 - accuracy: 0.9697 - val_loss: 0.0998 - val_accuracy: 0.9692\n",
      "\n",
      "Epoch 00005: val_accuracy did not improve from 0.97000\n",
      "Epoch 6/20\n",
      "37993/37993 [==============================] - 1488s 39ms/step - loss: 0.0817 - accuracy: 0.9751 - val_loss: 0.1069 - val_accuracy: 0.9698\n",
      "\n",
      "Epoch 00006: val_accuracy did not improve from 0.97000\n",
      "Epoch 7/20\n",
      "37993/37993 [==============================] - 1316s 35ms/step - loss: 0.0726 - accuracy: 0.9777 - val_loss: 0.0897 - val_accuracy: 0.9752\n",
      "\n",
      "Epoch 00007: val_accuracy improved from 0.97000 to 0.97516, saving model to model_8_2.hdf5\n",
      "Epoch 8/20\n",
      "37993/37993 [==============================] - 1313s 35ms/step - loss: 0.0653 - accuracy: 0.9792 - val_loss: 0.1034 - val_accuracy: 0.9690\n",
      "\n",
      "Epoch 00008: val_accuracy did not improve from 0.97516\n",
      "Epoch 9/20\n",
      "37993/37993 [==============================] - 1333s 35ms/step - loss: 0.0528 - accuracy: 0.9833 - val_loss: 0.0940 - val_accuracy: 0.9802\n",
      "\n",
      "Epoch 00009: val_accuracy improved from 0.97516 to 0.98021, saving model to model_8_2.hdf5\n",
      "Epoch 10/20\n",
      "37993/37993 [==============================] - 1320s 35ms/step - loss: 0.0565 - accuracy: 0.9820 - val_loss: 0.1024 - val_accuracy: 0.9721\n",
      "\n",
      "Epoch 00010: val_accuracy did not improve from 0.98021\n",
      "Epoch 11/20\n",
      "37993/37993 [==============================] - 1318s 35ms/step - loss: 0.0383 - accuracy: 0.9879 - val_loss: 0.1057 - val_accuracy: 0.9766\n",
      "\n",
      "Epoch 00011: val_accuracy did not improve from 0.98021\n",
      "Epoch 12/20\n",
      "37993/37993 [==============================] - 1302s 34ms/step - loss: 0.0494 - accuracy: 0.9849 - val_loss: 0.0853 - val_accuracy: 0.9771\n",
      "\n",
      "Epoch 00012: val_accuracy did not improve from 0.98021\n",
      "Epoch 13/20\n",
      "37993/37993 [==============================] - 1327s 35ms/step - loss: 0.0320 - accuracy: 0.9894 - val_loss: 0.1167 - val_accuracy: 0.9751\n",
      "\n",
      "Epoch 00013: val_accuracy did not improve from 0.98021\n",
      "Epoch 14/20\n",
      "37993/37993 [==============================] - 1363s 36ms/step - loss: 0.0339 - accuracy: 0.9890 - val_loss: 0.1109 - val_accuracy: 0.9747\n",
      "\n",
      "Epoch 00014: val_accuracy did not improve from 0.98021\n",
      "Epoch 15/20\n",
      "37993/37993 [==============================] - 1390s 37ms/step - loss: 0.0244 - accuracy: 0.9920 - val_loss: 0.1140 - val_accuracy: 0.9767\n",
      "\n",
      "Epoch 00015: val_accuracy did not improve from 0.98021\n",
      "Epoch 16/20\n",
      "37993/37993 [==============================] - 1415s 37ms/step - loss: 0.0358 - accuracy: 0.9882 - val_loss: 0.1082 - val_accuracy: 0.9781\n",
      "\n",
      "Epoch 00016: val_accuracy did not improve from 0.98021\n",
      "Epoch 17/20\n",
      "37993/37993 [==============================] - 1406s 37ms/step - loss: 0.0200 - accuracy: 0.9932 - val_loss: 0.1372 - val_accuracy: 0.9773\n",
      "\n",
      "Epoch 00017: val_accuracy did not improve from 0.98021\n",
      "Epoch 18/20\n",
      "37993/37993 [==============================] - 1358s 36ms/step - loss: 0.0155 - accuracy: 0.9951 - val_loss: 0.1415 - val_accuracy: 0.9794\n",
      "\n",
      "Epoch 00018: val_accuracy did not improve from 0.98021\n",
      "Epoch 19/20\n",
      "37993/37993 [==============================] - 1406s 37ms/step - loss: 0.0127 - accuracy: 0.9960 - val_loss: 0.2047 - val_accuracy: 0.9629\n",
      "\n",
      "Epoch 00019: val_accuracy did not improve from 0.98021\n",
      "Epoch 20/20\n",
      "37993/37993 [==============================] - 1636s 43ms/step - loss: 0.0201 - accuracy: 0.9934 - val_loss: 0.1359 - val_accuracy: 0.9745\n",
      "\n",
      "Epoch 00020: val_accuracy did not improve from 0.98021\n"
     ]
    }
   ],
   "source": [
    "f = model.fit(x_train, y_train, epochs=20, batch_size=128, validation_data=(x_test, y_test), callbacks=[checkpoint])"
   ]
  },
  {
   "cell_type": "markdown",
   "metadata": {},
   "source": [
    "Načítanie modelu"
   ]
  },
  {
   "cell_type": "code",
   "execution_count": 30,
   "metadata": {},
   "outputs": [
    {
     "name": "stdout",
     "output_type": "stream",
     "text": [
      "Loading model....\n"
     ]
    }
   ],
   "source": [
    "print(\"Loading model....\")\n",
    "model = load_model('model_8_2.hdf5')"
   ]
  },
  {
   "cell_type": "markdown",
   "metadata": {},
   "source": [
    "Vyhodnotenie test loss a accuracy"
   ]
  },
  {
   "cell_type": "code",
   "execution_count": 31,
   "metadata": {},
   "outputs": [
    {
     "name": "stdout",
     "output_type": "stream",
     "text": [
      "Test loss: 0.04176461377963053\n",
      "Test accuracy: 0.9869712591171265\n"
     ]
    }
   ],
   "source": [
    "#na trénovacej množine \n",
    "score = model.evaluate(x_train, y_train, verbose=0) \n",
    "print('Test loss:', score[0])\n",
    "print('Test accuracy:', score[1])"
   ]
  },
  {
   "cell_type": "code",
   "execution_count": 32,
   "metadata": {},
   "outputs": [
    {
     "name": "stdout",
     "output_type": "stream",
     "text": [
      "Test loss: 0.09395373942561276\n",
      "Test accuracy: 0.9802084565162659\n"
     ]
    }
   ],
   "source": [
    "#na testovacej množine\n",
    "score1 = model.evaluate(x_test, y_test, verbose=0)\n",
    "print('Test loss:', score1[0])\n",
    "print('Test accuracy:', score1[1])"
   ]
  },
  {
   "cell_type": "markdown",
   "metadata": {},
   "source": [
    "Predikcia"
   ]
  },
  {
   "cell_type": "code",
   "execution_count": 34,
   "metadata": {},
   "outputs": [],
   "source": [
    "y_pred = model.predict(x_test)\n",
    "prediction_int = np.zeros_like(y_pred)\n",
    "prediction_int[y_pred > 0.5] = 1"
   ]
  },
  {
   "cell_type": "markdown",
   "metadata": {},
   "source": [
    "Confusion Matrix"
   ]
  },
  {
   "cell_type": "code",
   "execution_count": 35,
   "metadata": {},
   "outputs": [],
   "source": [
    "matrix = metrics.confusion_matrix(y_test.argmax(axis=1), y_pred.argmax(axis=1))"
   ]
  },
  {
   "cell_type": "code",
   "execution_count": 36,
   "metadata": {},
   "outputs": [
    {
     "name": "stdout",
     "output_type": "stream",
     "text": [
      "[[4728   24]\n",
      " [ 164 4583]]\n"
     ]
    }
   ],
   "source": [
    "# TN / FN\n",
    "# FP / TP\n",
    "print(matrix)"
   ]
  },
  {
   "cell_type": "markdown",
   "metadata": {},
   "source": [
    "Classification Report"
   ]
  },
  {
   "cell_type": "code",
   "execution_count": 37,
   "metadata": {},
   "outputs": [
    {
     "name": "stdout",
     "output_type": "stream",
     "text": [
      "              precision    recall  f1-score   support\n",
      "\n",
      "           0       0.97      0.99      0.98      4752\n",
      "           1       0.99      0.97      0.98      4747\n",
      "\n",
      "   micro avg       0.98      0.98      0.98      9499\n",
      "   macro avg       0.98      0.98      0.98      9499\n",
      "weighted avg       0.98      0.98      0.98      9499\n",
      " samples avg       0.98      0.98      0.98      9499\n",
      "\n"
     ]
    }
   ],
   "source": [
    "print(classification_report(y_test, prediction_int))"
   ]
  },
  {
   "cell_type": "code",
   "execution_count": 33,
   "metadata": {},
   "outputs": [
    {
     "name": "stdout",
     "output_type": "stream",
     "text": [
      "Model: \"sequential_1\"\n",
      "_________________________________________________________________\n",
      "Layer (type)                 Output Shape              Param #   \n",
      "=================================================================\n",
      "zero_padding2d_1 (ZeroPaddin (None, 130, 130, 1)       0         \n",
      "_________________________________________________________________\n",
      "conv2d_1 (Conv2D)            (None, 128, 128, 64)      640       \n",
      "_________________________________________________________________\n",
      "max_pooling2d_1 (MaxPooling2 (None, 63, 63, 64)        0         \n",
      "_________________________________________________________________\n",
      "conv2d_2 (Conv2D)            (None, 63, 63, 64)        102464    \n",
      "_________________________________________________________________\n",
      "max_pooling2d_2 (MaxPooling2 (None, 31, 31, 64)        0         \n",
      "_________________________________________________________________\n",
      "conv2d_3 (Conv2D)            (None, 31, 31, 64)        36928     \n",
      "_________________________________________________________________\n",
      "conv2d_4 (Conv2D)            (None, 31, 31, 64)        36928     \n",
      "_________________________________________________________________\n",
      "max_pooling2d_3 (MaxPooling2 (None, 15, 15, 64)        0         \n",
      "_________________________________________________________________\n",
      "flatten_1 (Flatten)          (None, 14400)             0         \n",
      "_________________________________________________________________\n",
      "dense_1 (Dense)              (None, 96)                1382496   \n",
      "_________________________________________________________________\n",
      "dropout_1 (Dropout)          (None, 96)                0         \n",
      "_________________________________________________________________\n",
      "dense_2 (Dense)              (None, 96)                9312      \n",
      "_________________________________________________________________\n",
      "dropout_2 (Dropout)          (None, 96)                0         \n",
      "_________________________________________________________________\n",
      "dense_3 (Dense)              (None, 2)                 194       \n",
      "=================================================================\n",
      "Total params: 1,568,962\n",
      "Trainable params: 1,568,962\n",
      "Non-trainable params: 0\n",
      "_________________________________________________________________\n"
     ]
    }
   ],
   "source": [
    "model.summary() "
   ]
  }
 ],
 "metadata": {
  "kernelspec": {
   "display_name": "Python 3",
   "language": "python",
   "name": "python3"
  },
  "language_info": {
   "codemirror_mode": {
    "name": "ipython",
    "version": 3
   },
   "file_extension": ".py",
   "mimetype": "text/x-python",
   "name": "python",
   "nbconvert_exporter": "python",
   "pygments_lexer": "ipython3",
   "version": "3.7.3"
  }
 },
 "nbformat": 4,
 "nbformat_minor": 4
}
