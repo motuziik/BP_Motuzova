{
 "cells": [
  {
   "cell_type": "markdown",
   "metadata": {},
   "source": [
    "# Pomer dát 7:3\n",
    "\n",
    "Súbor: train_7_test_3.ipynb\n",
    "\n",
    "Program: Hospodárska informatika\n",
    "\n",
    "Vypracovala:  Veronika Motúzová \n",
    "\n",
    "Bakalárska práca: Metódy hlbokého učenia pre detekciu meteorov v astronomických snímkach\n",
    "\n",
    "Vedúci bakalárskej práce: doc. Ing. Peter Butka, PhD.\n",
    "\n",
    "Konzultant: Ing. Viera Maslej Krešňáková"
   ]
  },
  {
   "cell_type": "markdown",
   "metadata": {},
   "source": [
    "Import knižníc"
   ]
  },
  {
   "cell_type": "code",
   "execution_count": 9,
   "metadata": {},
   "outputs": [],
   "source": [
    "import numpy as np\n",
    "import keras\n",
    "from keras import backend as K\n",
    "from keras.models import Sequential\n",
    "from keras.layers import Activation\n",
    "from keras.layers.core import Dense, Flatten\n",
    "from keras.metrics import categorical_crossentropy\n",
    "from keras.layers import Conv2D, MaxPooling2D, Dropout, ZeroPadding2D\n",
    "from keras.utils import np_utils, plot_model\n",
    "from keras.optimizers import Adam\n",
    "from keras.metrics import categorical_crossentropy\n",
    "from keras.preprocessing.image import ImageDataGenerator\n",
    "from keras.layers.normalization import BatchNormalization\n",
    "from keras.layers.convolutional import *\n",
    "import array\n",
    "from sklearn.metrics import confusion_matrix,classification_report\n",
    "import itertools \n",
    "from sklearn.metrics import confusion_matrix\n",
    "from sklearn import metrics\n",
    "from keras.callbacks import ModelCheckpoint\n",
    "from keras.models import load_model \n",
    "from sklearn.model_selection import train_test_split"
   ]
  },
  {
   "cell_type": "markdown",
   "metadata": {},
   "source": [
    "Načítanie dát"
   ]
  },
  {
   "cell_type": "code",
   "execution_count": 2,
   "metadata": {},
   "outputs": [],
   "source": [
    "train = np.load('../data/data_final_train.npz')\n",
    "test = np.load('../data/data_final_test.npz')"
   ]
  },
  {
   "cell_type": "code",
   "execution_count": 3,
   "metadata": {},
   "outputs": [],
   "source": [
    "x_train = train['train_data'].reshape(train['train_data'].shape[0], 128, 128, 1)\n",
    "x_test = test['test_data'].reshape(test['test_data'].shape[0], 128, 128, 1)"
   ]
  },
  {
   "cell_type": "code",
   "execution_count": 4,
   "metadata": {},
   "outputs": [],
   "source": [
    "x_train = x_train.astype('float32')\n",
    "x_test = x_test.astype('float32')"
   ]
  },
  {
   "cell_type": "code",
   "execution_count": 5,
   "metadata": {},
   "outputs": [],
   "source": [
    "y_train = np_utils.to_categorical(train['train_targets'], 2)\n",
    "y_test = np_utils.to_categorical(test['test_targets'], 2)"
   ]
  },
  {
   "cell_type": "code",
   "execution_count": 6,
   "metadata": {},
   "outputs": [],
   "source": [
    "X = np.concatenate([x_train,x_test])"
   ]
  },
  {
   "cell_type": "code",
   "execution_count": 7,
   "metadata": {},
   "outputs": [],
   "source": [
    "Y = np.concatenate([y_train,y_test])"
   ]
  },
  {
   "cell_type": "code",
   "execution_count": 11,
   "metadata": {},
   "outputs": [],
   "source": [
    "x_train, x_test, y_train, y_test = train_test_split(X,Y,test_size=0.3)"
   ]
  },
  {
   "cell_type": "code",
   "execution_count": 12,
   "metadata": {},
   "outputs": [
    {
     "name": "stdout",
     "output_type": "stream",
     "text": [
      "(33244, 128, 128, 1)\n",
      "(14248, 128, 128, 1)\n",
      "(33244, 2)\n",
      "(14248, 2)\n"
     ]
    }
   ],
   "source": [
    "print(x_train.shape)\n",
    "print(x_test.shape)\n",
    "print(y_train.shape)\n",
    "print(y_test.shape)"
   ]
  },
  {
   "cell_type": "markdown",
   "metadata": {},
   "source": [
    "Začíname vrstviť neurónku AlexNet Architecture"
   ]
  },
  {
   "cell_type": "code",
   "execution_count": 13,
   "metadata": {},
   "outputs": [],
   "source": [
    "model = Sequential()"
   ]
  },
  {
   "cell_type": "code",
   "execution_count": 14,
   "metadata": {},
   "outputs": [],
   "source": [
    "model.add(ZeroPadding2D((1,1),input_shape=(128, 128,1)))"
   ]
  },
  {
   "cell_type": "code",
   "execution_count": 15,
   "metadata": {},
   "outputs": [],
   "source": [
    "model.add(Conv2D(64, 3, strides=1, activation='relu')) "
   ]
  },
  {
   "cell_type": "code",
   "execution_count": 16,
   "metadata": {},
   "outputs": [
    {
     "name": "stdout",
     "output_type": "stream",
     "text": [
      "WARNING:tensorflow:From C:\\Users\\motuz\\Anaconda3\\lib\\site-packages\\keras\\backend\\tensorflow_backend.py:4070: The name tf.nn.max_pool is deprecated. Please use tf.nn.max_pool2d instead.\n",
      "\n"
     ]
    }
   ],
   "source": [
    "model.add(MaxPooling2D(3, 2))"
   ]
  },
  {
   "cell_type": "code",
   "execution_count": 17,
   "metadata": {},
   "outputs": [],
   "source": [
    "model.add(Conv2D(64, 5, strides=1, padding='same', activation='relu'))"
   ]
  },
  {
   "cell_type": "code",
   "execution_count": 18,
   "metadata": {},
   "outputs": [],
   "source": [
    "model.add(MaxPooling2D(3, 2))"
   ]
  },
  {
   "cell_type": "code",
   "execution_count": 19,
   "metadata": {},
   "outputs": [],
   "source": [
    "model.add(Conv2D(64, 3, strides=1, padding='same', activation='relu'))"
   ]
  },
  {
   "cell_type": "code",
   "execution_count": 20,
   "metadata": {},
   "outputs": [],
   "source": [
    "model.add(Conv2D(64, 3, strides=1, padding='same', activation='relu'))"
   ]
  },
  {
   "cell_type": "code",
   "execution_count": 21,
   "metadata": {},
   "outputs": [],
   "source": [
    "model.add(MaxPooling2D(3, 2))"
   ]
  },
  {
   "cell_type": "code",
   "execution_count": 22,
   "metadata": {},
   "outputs": [],
   "source": [
    "model.add(Flatten())"
   ]
  },
  {
   "cell_type": "code",
   "execution_count": 23,
   "metadata": {},
   "outputs": [],
   "source": [
    "model.add(Dense(96, activation='relu'))"
   ]
  },
  {
   "cell_type": "code",
   "execution_count": 24,
   "metadata": {},
   "outputs": [],
   "source": [
    "model.add(Dropout(0.25)) "
   ]
  },
  {
   "cell_type": "code",
   "execution_count": 25,
   "metadata": {},
   "outputs": [],
   "source": [
    "model.add(Dense(96, activation='relu'))"
   ]
  },
  {
   "cell_type": "code",
   "execution_count": 26,
   "metadata": {},
   "outputs": [],
   "source": [
    "model.add(Dropout(0.25)) "
   ]
  },
  {
   "cell_type": "code",
   "execution_count": 27,
   "metadata": {},
   "outputs": [],
   "source": [
    "model.add(Dense(2, activation='softmax'))"
   ]
  },
  {
   "cell_type": "markdown",
   "metadata": {},
   "source": [
    "Adam Optimization"
   ]
  },
  {
   "cell_type": "code",
   "execution_count": 28,
   "metadata": {},
   "outputs": [],
   "source": [
    "adam = Adam()"
   ]
  },
  {
   "cell_type": "code",
   "execution_count": 29,
   "metadata": {},
   "outputs": [],
   "source": [
    "model.compile(loss='categorical_crossentropy', optimizer=adam, metrics=['accuracy'])"
   ]
  },
  {
   "cell_type": "markdown",
   "metadata": {},
   "source": [
    "Aby sa uložil model s najlepším výsledkom:"
   ]
  },
  {
   "cell_type": "code",
   "execution_count": 30,
   "metadata": {},
   "outputs": [],
   "source": [
    "saved_model = \"model_7_3.hdf5\"\n",
    "checkpoint = ModelCheckpoint(saved_model, monitor='val_accuracy', verbose=1, save_best_only=True, mode='max')"
   ]
  },
  {
   "cell_type": "markdown",
   "metadata": {},
   "source": [
    "test loss je chyba klasifikácie (FN + FP) / súčet všetkých\n",
    "\n",
    "test accuracy je úspešnosť klasifikácie (TP + TN) / súčet všetkých"
   ]
  },
  {
   "cell_type": "code",
   "execution_count": 31,
   "metadata": {},
   "outputs": [
    {
     "name": "stdout",
     "output_type": "stream",
     "text": [
      "WARNING:tensorflow:From C:\\Users\\motuz\\Anaconda3\\lib\\site-packages\\keras\\backend\\tensorflow_backend.py:422: The name tf.global_variables is deprecated. Please use tf.compat.v1.global_variables instead.\n",
      "\n",
      "Train on 33244 samples, validate on 14248 samples\n",
      "Epoch 1/20\n",
      "33244/33244 [==============================] - 1809s 54ms/step - loss: 0.3457 - accuracy: 0.8452 - val_loss: 0.2056 - val_accuracy: 0.9294\n",
      "\n",
      "Epoch 00001: val_accuracy improved from -inf to 0.92939, saving model to model_4.hdf5\n",
      "Epoch 2/20\n",
      "33244/33244 [==============================] - 1606s 48ms/step - loss: 0.2139 - accuracy: 0.9201 - val_loss: 0.2243 - val_accuracy: 0.9116\n",
      "\n",
      "Epoch 00002: val_accuracy did not improve from 0.92939\n",
      "Epoch 3/20\n",
      "33244/33244 [==============================] - 1587s 48ms/step - loss: 0.1765 - accuracy: 0.9363 - val_loss: 0.1952 - val_accuracy: 0.8997\n",
      "\n",
      "Epoch 00003: val_accuracy did not improve from 0.92939\n",
      "Epoch 4/20\n",
      "33244/33244 [==============================] - 1588s 48ms/step - loss: 0.1625 - accuracy: 0.9434 - val_loss: 0.1628 - val_accuracy: 0.9406\n",
      "\n",
      "Epoch 00004: val_accuracy improved from 0.92939 to 0.94062, saving model to model_4.hdf5\n",
      "Epoch 5/20\n",
      "33244/33244 [==============================] - 1568s 47ms/step - loss: 0.1147 - accuracy: 0.9624 - val_loss: 0.1034 - val_accuracy: 0.9688\n",
      "\n",
      "Epoch 00005: val_accuracy improved from 0.94062 to 0.96884, saving model to model_4.hdf5\n",
      "Epoch 6/20\n",
      "33244/33244 [==============================] - 1568s 47ms/step - loss: 0.1077 - accuracy: 0.9652 - val_loss: 0.0961 - val_accuracy: 0.9689\n",
      "\n",
      "Epoch 00006: val_accuracy improved from 0.96884 to 0.96891, saving model to model_4.hdf5\n",
      "Epoch 7/20\n",
      "33244/33244 [==============================] - 1555s 47ms/step - loss: 0.0906 - accuracy: 0.9716 - val_loss: 0.0842 - val_accuracy: 0.9769\n",
      "\n",
      "Epoch 00007: val_accuracy improved from 0.96891 to 0.97691, saving model to model_4.hdf5\n",
      "Epoch 8/20\n",
      "33244/33244 [==============================] - 1564s 47ms/step - loss: 0.0730 - accuracy: 0.9771 - val_loss: 0.1063 - val_accuracy: 0.9710\n",
      "\n",
      "Epoch 00008: val_accuracy did not improve from 0.97691\n",
      "Epoch 9/20\n",
      "33244/33244 [==============================] - 1557s 47ms/step - loss: 0.0635 - accuracy: 0.9796 - val_loss: 0.0944 - val_accuracy: 0.9769\n",
      "\n",
      "Epoch 00009: val_accuracy did not improve from 0.97691\n",
      "Epoch 10/20\n",
      "33244/33244 [==============================] - 1553s 47ms/step - loss: 0.0594 - accuracy: 0.9807 - val_loss: 0.1081 - val_accuracy: 0.9700\n",
      "\n",
      "Epoch 00010: val_accuracy did not improve from 0.97691\n",
      "Epoch 11/20\n",
      "33244/33244 [==============================] - 1555s 47ms/step - loss: 0.0529 - accuracy: 0.9837 - val_loss: 0.0907 - val_accuracy: 0.9754\n",
      "\n",
      "Epoch 00011: val_accuracy did not improve from 0.97691\n",
      "Epoch 12/20\n",
      "33244/33244 [==============================] - 1556s 47ms/step - loss: 0.0539 - accuracy: 0.9828 - val_loss: 0.0931 - val_accuracy: 0.9773\n",
      "\n",
      "Epoch 00012: val_accuracy improved from 0.97691 to 0.97733, saving model to model_4.hdf5\n",
      "Epoch 13/20\n",
      "33244/33244 [==============================] - 1557s 47ms/step - loss: 0.0372 - accuracy: 0.9877 - val_loss: 0.0818 - val_accuracy: 0.9810\n",
      "\n",
      "Epoch 00013: val_accuracy improved from 0.97733 to 0.98098, saving model to model_4.hdf5\n",
      "Epoch 14/20\n",
      "33244/33244 [==============================] - 1553s 47ms/step - loss: 0.0400 - accuracy: 0.9871 - val_loss: 0.1269 - val_accuracy: 0.9700\n",
      "\n",
      "Epoch 00014: val_accuracy did not improve from 0.98098\n",
      "Epoch 15/20\n",
      "33244/33244 [==============================] - 1652s 50ms/step - loss: 0.0341 - accuracy: 0.9883 - val_loss: 0.1237 - val_accuracy: 0.9747\n",
      "\n",
      "Epoch 00015: val_accuracy did not improve from 0.98098\n",
      "Epoch 16/20\n",
      "33244/33244 [==============================] - 1704s 51ms/step - loss: 0.0243 - accuracy: 0.9916 - val_loss: 0.1203 - val_accuracy: 0.9754\n",
      "\n",
      "Epoch 00016: val_accuracy did not improve from 0.98098\n",
      "Epoch 17/20\n",
      "33244/33244 [==============================] - 1557s 47ms/step - loss: 0.0293 - accuracy: 0.9902 - val_loss: 0.0985 - val_accuracy: 0.9786\n",
      "\n",
      "Epoch 00017: val_accuracy did not improve from 0.98098\n",
      "Epoch 18/20\n",
      "33244/33244 [==============================] - 1590s 48ms/step - loss: 0.0178 - accuracy: 0.9938 - val_loss: 0.1063 - val_accuracy: 0.9804\n",
      "\n",
      "Epoch 00018: val_accuracy did not improve from 0.98098\n",
      "Epoch 19/20\n",
      "33244/33244 [==============================] - 1582s 48ms/step - loss: 0.0154 - accuracy: 0.9951 - val_loss: 0.1274 - val_accuracy: 0.9754\n",
      "\n",
      "Epoch 00019: val_accuracy did not improve from 0.98098\n",
      "Epoch 20/20\n",
      "33244/33244 [==============================] - 1565s 47ms/step - loss: 0.0279 - accuracy: 0.9912 - val_loss: 0.1361 - val_accuracy: 0.9721\n",
      "\n",
      "Epoch 00020: val_accuracy did not improve from 0.98098\n"
     ]
    }
   ],
   "source": [
    "f = model.fit(x_train, y_train, epochs=20, batch_size=128, validation_data=(x_test, y_test), callbacks=[checkpoint])"
   ]
  },
  {
   "cell_type": "markdown",
   "metadata": {},
   "source": [
    "Načítanie modelu"
   ]
  },
  {
   "cell_type": "code",
   "execution_count": 34,
   "metadata": {},
   "outputs": [
    {
     "name": "stdout",
     "output_type": "stream",
     "text": [
      "Loading model....\n"
     ]
    }
   ],
   "source": [
    "print(\"Loading model....\")\n",
    "model = load_model('model_7_3.hdf5')"
   ]
  },
  {
   "cell_type": "markdown",
   "metadata": {},
   "source": [
    "Vyhodnotenie test loss a accuracy"
   ]
  },
  {
   "cell_type": "code",
   "execution_count": 40,
   "metadata": {},
   "outputs": [
    {
     "name": "stdout",
     "output_type": "stream",
     "text": [
      "Test loss: 0.02440297023264682\n",
      "Test accuracy: 0.9909757971763611\n"
     ]
    }
   ],
   "source": [
    "#na trénovacej množine \n",
    "score = model.evaluate(x_train, y_train, verbose=0) \n",
    "print('Test loss:', score[0])\n",
    "print('Test accuracy:', score[1])"
   ]
  },
  {
   "cell_type": "code",
   "execution_count": 41,
   "metadata": {},
   "outputs": [
    {
     "name": "stdout",
     "output_type": "stream",
     "text": [
      "Test loss: 0.08178553220754252\n",
      "Test accuracy: 0.9809798002243042\n"
     ]
    }
   ],
   "source": [
    "#na testovacej množine\n",
    "score1 = model.evaluate(x_test, y_test, verbose=0)\n",
    "print('Test loss:', score1[0])\n",
    "print('Test accuracy:', score1[1])"
   ]
  },
  {
   "cell_type": "markdown",
   "metadata": {},
   "source": [
    "Predikcia"
   ]
  },
  {
   "cell_type": "code",
   "execution_count": 36,
   "metadata": {},
   "outputs": [],
   "source": [
    "y_pred = model.predict(x_test)\n",
    "prediction_int = np.zeros_like(y_pred)\n",
    "prediction_int[y_pred > 0.5] = 1"
   ]
  },
  {
   "cell_type": "markdown",
   "metadata": {},
   "source": [
    "Confusion Matrix"
   ]
  },
  {
   "cell_type": "code",
   "execution_count": 37,
   "metadata": {},
   "outputs": [],
   "source": [
    "matrix = metrics.confusion_matrix(y_test.argmax(axis=1), y_pred.argmax(axis=1))"
   ]
  },
  {
   "cell_type": "code",
   "execution_count": 38,
   "metadata": {},
   "outputs": [
    {
     "name": "stdout",
     "output_type": "stream",
     "text": [
      "[[7095   57]\n",
      " [ 214 6882]]\n"
     ]
    }
   ],
   "source": [
    "# TN / FN\n",
    "# FP / TP\n",
    "print(matrix)"
   ]
  },
  {
   "cell_type": "markdown",
   "metadata": {},
   "source": [
    "Classification Report"
   ]
  },
  {
   "cell_type": "code",
   "execution_count": 39,
   "metadata": {},
   "outputs": [
    {
     "name": "stdout",
     "output_type": "stream",
     "text": [
      "              precision    recall  f1-score   support\n",
      "\n",
      "           0       0.97      0.99      0.98      7152\n",
      "           1       0.99      0.97      0.98      7096\n",
      "\n",
      "   micro avg       0.98      0.98      0.98     14248\n",
      "   macro avg       0.98      0.98      0.98     14248\n",
      "weighted avg       0.98      0.98      0.98     14248\n",
      " samples avg       0.98      0.98      0.98     14248\n",
      "\n"
     ]
    }
   ],
   "source": [
    "print(classification_report(y_test, prediction_int))"
   ]
  },
  {
   "cell_type": "code",
   "execution_count": 35,
   "metadata": {},
   "outputs": [
    {
     "name": "stdout",
     "output_type": "stream",
     "text": [
      "Model: \"sequential_1\"\n",
      "_________________________________________________________________\n",
      "Layer (type)                 Output Shape              Param #   \n",
      "=================================================================\n",
      "zero_padding2d_1 (ZeroPaddin (None, 130, 130, 1)       0         \n",
      "_________________________________________________________________\n",
      "conv2d_1 (Conv2D)            (None, 128, 128, 64)      640       \n",
      "_________________________________________________________________\n",
      "max_pooling2d_1 (MaxPooling2 (None, 63, 63, 64)        0         \n",
      "_________________________________________________________________\n",
      "conv2d_2 (Conv2D)            (None, 63, 63, 64)        102464    \n",
      "_________________________________________________________________\n",
      "max_pooling2d_2 (MaxPooling2 (None, 31, 31, 64)        0         \n",
      "_________________________________________________________________\n",
      "conv2d_3 (Conv2D)            (None, 31, 31, 64)        36928     \n",
      "_________________________________________________________________\n",
      "conv2d_4 (Conv2D)            (None, 31, 31, 64)        36928     \n",
      "_________________________________________________________________\n",
      "max_pooling2d_3 (MaxPooling2 (None, 15, 15, 64)        0         \n",
      "_________________________________________________________________\n",
      "flatten_1 (Flatten)          (None, 14400)             0         \n",
      "_________________________________________________________________\n",
      "dense_1 (Dense)              (None, 96)                1382496   \n",
      "_________________________________________________________________\n",
      "dropout_1 (Dropout)          (None, 96)                0         \n",
      "_________________________________________________________________\n",
      "dense_2 (Dense)              (None, 96)                9312      \n",
      "_________________________________________________________________\n",
      "dropout_2 (Dropout)          (None, 96)                0         \n",
      "_________________________________________________________________\n",
      "dense_3 (Dense)              (None, 2)                 194       \n",
      "=================================================================\n",
      "Total params: 1,568,962\n",
      "Trainable params: 1,568,962\n",
      "Non-trainable params: 0\n",
      "_________________________________________________________________\n"
     ]
    }
   ],
   "source": [
    "model.summary() "
   ]
  }
 ],
 "metadata": {
  "kernelspec": {
   "display_name": "Python 3",
   "language": "python",
   "name": "python3"
  },
  "language_info": {
   "codemirror_mode": {
    "name": "ipython",
    "version": 3
   },
   "file_extension": ".py",
   "mimetype": "text/x-python",
   "name": "python",
   "nbconvert_exporter": "python",
   "pygments_lexer": "ipython3",
   "version": "3.7.3"
  }
 },
 "nbformat": 4,
 "nbformat_minor": 4
}
