{
 "cells": [
  {
   "cell_type": "markdown",
   "metadata": {},
   "source": [
    "# Weights & Biases optimalizácia\n",
    "\n",
    "Súbor: wandb_optimalizacia.ipynb\n",
    "\n",
    "Program: Hospodárska informatika\n",
    "\n",
    "Vypracovala:  Veronika Motúzová \n",
    "\n",
    "Bakalárska práca: Metódy hlbokého učenia pre detekciu meteorov v astronomických snímkach\n",
    "\n",
    "Vedúci bakalárskej práce: doc. Ing. Peter Butka, PhD.\n",
    "\n",
    "Konzultant: Ing. Viera Maslej Krešňáková\n",
    "\n",
    "výsledky: https://wandb.ai/motuziik/model_optimization"
   ]
  },
  {
   "cell_type": "code",
   "execution_count": 2,
   "metadata": {},
   "outputs": [],
   "source": [
    "import numpy as np\n",
    "import pandas as pd\n",
    "import matplotlib.pyplot as plt\n",
    "import tensorflow as tf\n",
    "from tensorflow import keras\n",
    "from tensorflow.keras import backend as K\n",
    "from tensorflow.keras.models import Sequential, load_model, Model\n",
    "from tensorflow.keras.layers import Activation\n",
    "from tensorflow.keras.layers import Dense, Flatten\n",
    "from tensorflow.keras.metrics import categorical_crossentropy\n",
    "from tensorflow.keras.layers import Dropout, Flatten, Conv2D, MaxPool2D, BatchNormalization, AveragePooling2D, GlobalAveragePooling2D,ZeroPadding2D\n",
    "from tensorflow.keras.utils import to_categorical\n",
    "from tensorflow.keras.optimizers import Adam\n",
    "from tensorflow.keras.preprocessing.image import ImageDataGenerator\n",
    "import array\n",
    "from sklearn.metrics import confusion_matrix, classification_report\n",
    "import itertools \n",
    "from sklearn import metrics\n",
    "from tensorflow.keras.callbacks import ModelCheckpoint \n",
    "from sklearn.model_selection import train_test_split\n",
    "from wandb.keras import WandbCallback\n",
    "import wandb"
   ]
  },
  {
   "cell_type": "code",
   "execution_count": 3,
   "metadata": {},
   "outputs": [
    {
     "name": "stdout",
     "output_type": "stream",
     "text": [
      "\u001b[34m\u001b[1mwandb\u001b[0m: Currently logged in as: \u001b[33mmotuziik\u001b[0m (use `wandb login --relogin` to force relogin)\n"
     ]
    }
   ],
   "source": [
    "!wandb login"
   ]
  },
  {
   "cell_type": "markdown",
   "metadata": {},
   "source": [
    "Načítanie a rozdelenie dát"
   ]
  },
  {
   "cell_type": "code",
   "execution_count": 4,
   "metadata": {},
   "outputs": [],
   "source": [
    "train = np.load('../data/data_final_train.npz')\n",
    "test = np.load('../data/data_final_test.npz')\n",
    "x_train = train['train_data'].reshape(train['train_data'].shape[0], 128, 128, 1)\n",
    "x_test = test['test_data'].reshape(test['test_data'].shape[0], 128, 128, 1)\n",
    "x_train = x_train.astype('float32')\n",
    "x_test = x_test.astype('float32')\n",
    "y_train = to_categorical(train['train_targets'], 2)\n",
    "y_test = to_categorical(test['test_targets'], 2)\n",
    "X = np.concatenate([x_train,x_test])\n",
    "Y = np.concatenate([y_train,y_test])\n",
    "x_tr, x_test, y_tr, y_test = train_test_split(X,Y,test_size=0.2)\n",
    "x_train, x_val, y_train, y_val = train_test_split(x_tr, y_tr, test_size=0.2)"
   ]
  },
  {
   "cell_type": "code",
   "execution_count": 5,
   "metadata": {},
   "outputs": [
    {
     "name": "stdout",
     "output_type": "stream",
     "text": [
      "(30394, 128, 128, 1)\n",
      "(9499, 128, 128, 1)\n",
      "(7599, 128, 128, 1)\n",
      "(30394, 2)\n",
      "(9499, 2)\n",
      "(7599, 2)\n"
     ]
    }
   ],
   "source": [
    "print(x_train.shape)\n",
    "print(x_test.shape)\n",
    "print(x_val.shape)\n",
    "print(y_train.shape)\n",
    "print(y_test.shape)\n",
    "print(y_val.shape)"
   ]
  },
  {
   "cell_type": "markdown",
   "metadata": {},
   "source": [
    "#### Sweep file"
   ]
  },
  {
   "cell_type": "code",
   "execution_count": 6,
   "metadata": {},
   "outputs": [
    {
     "name": "stderr",
     "output_type": "stream",
     "text": [
      "Failed to detect the name of this notebook, you can set it manually with the WANDB_NOTEBOOK_NAME environment variable to enable code saving.\n"
     ]
    },
    {
     "name": "stdout",
     "output_type": "stream",
     "text": [
      "Create sweep with ID: 83eceyoz\n",
      "Sweep URL: https://wandb.ai/motuziik/model_optimization/sweeps/83eceyoz\n"
     ]
    }
   ],
   "source": [
    "sweep_config = {\n",
    "    \"name\": \"model_1\",\n",
    "    \"method\": \"grid\",\n",
    "    \"metric\": {\"name\": \"val_acc\", \"goal\": \"maximize\"}\n",
    "}\n",
    "\n",
    "parameters_dict = {\n",
    "    'optimizer': {'values': ['adam','SGD','RMSprop']},\n",
    "    'batch_size': {'values': [128, 64]},\n",
    "    'dropout': {'values': [0.25, 0.2, 0.15]},\n",
    "    'activation': {'values': ['relu', 'tanh']},\n",
    "    }\n",
    "    \n",
    "sweep_config['parameters'] = parameters_dict\n",
    "\n",
    "sweep_id = wandb.sweep(sweep_config, entity = \"motuziik\", project = \"model_optimization\")"
   ]
  },
  {
   "cell_type": "code",
   "execution_count": 7,
   "metadata": {},
   "outputs": [
    {
     "data": {
      "text/plain": [
       "{'optimizer': {'values': ['adam', 'SGD', 'RMSprop']},\n",
       " 'batch_size': {'values': [128, 64]},\n",
       " 'dropout': {'values': [0.25, 0.2, 0.15]},\n",
       " 'activation': {'values': ['relu', 'tanh']}}"
      ]
     },
     "execution_count": 7,
     "metadata": {},
     "output_type": "execute_result"
    }
   ],
   "source": [
    "sweep_config['parameters']"
   ]
  },
  {
   "cell_type": "code",
   "execution_count": 8,
   "metadata": {},
   "outputs": [
    {
     "data": {
      "text/plain": [
       "<function wandb.wandb_controller.sweep(sweep, entity=None, project=None)>"
      ]
     },
     "execution_count": 8,
     "metadata": {},
     "output_type": "execute_result"
    }
   ],
   "source": [
    "wandb.sweep"
   ]
  },
  {
   "cell_type": "code",
   "execution_count": 9,
   "metadata": {},
   "outputs": [],
   "source": [
    "def train():\n",
    "\n",
    "    config_defaults = {\n",
    "        'batch_size': 128,\n",
    "        'optimizer': 'adam',\n",
    "        'dropout': 0.25,\n",
    "        'activation': 'relu',\n",
    "     }\n",
    "\n",
    "    # Initialize a new wandb run\n",
    "    wandb.init(config=config_defaults)\n",
    "    \n",
    "    config = wandb.config\n",
    "    \n",
    "    model = Sequential()\n",
    "    model.add(ZeroPadding2D((1,1),input_shape=(128, 128,1)))\n",
    "    model.add(Conv2D(64, 3, strides=1, activation=config.activation)) \n",
    "    model.add(MaxPool2D(pool_size = 3, strides = 2))\n",
    "    model.add(Conv2D(64, 5, strides=1, padding='same', activation=config.activation))\n",
    "    model.add(MaxPool2D(pool_size = 3, strides = 2))\n",
    "    model.add(Conv2D(64, 3, strides=1, padding='same', activation=config.activation)) \n",
    "    model.add(Conv2D(64, 3, strides=1, padding='same', activation=config.activation))\n",
    "    model.add(MaxPool2D(pool_size = 3, strides = 2))\n",
    "    model.add(Flatten())\n",
    "    model.add(Dense(96, activation=config.activation))\n",
    "    model.add(Dropout(config.dropout)) \n",
    "    model.add(Dense(96, activation=config.activation))\n",
    "    model.add(Dropout(config.dropout)) \n",
    "    model.add(Dense(2, activation='softmax'))\n",
    "    \n",
    "    model.compile(loss = 'categorical_crossentropy', optimizer = config.optimizer, metrics = ['accuracy'])\n",
    "    \n",
    "    model.fit(x_train, y_train, validation_data=(x_val, y_val) , epochs = 15, batch_size = config.batch_size, callbacks=[WandbCallback(validation_data=(x_val, y_val))]) "
   ]
  },
  {
   "cell_type": "markdown",
   "metadata": {},
   "source": [
    "### sweep"
   ]
  },
  {
   "cell_type": "code",
   "execution_count": 10,
   "metadata": {},
   "outputs": [
    {
     "name": "stderr",
     "output_type": "stream",
     "text": [
      "\u001b[34m\u001b[1mwandb\u001b[0m: Agent Starting Run: fuwqm1xu with config:\n",
      "\u001b[34m\u001b[1mwandb\u001b[0m: \tactivation: relu\n",
      "\u001b[34m\u001b[1mwandb\u001b[0m: \tbatch_size: 128\n",
      "\u001b[34m\u001b[1mwandb\u001b[0m: \tdropout: 0.25\n",
      "\u001b[34m\u001b[1mwandb\u001b[0m: \toptimizer: adam\n",
      "Failed to detect the name of this notebook, you can set it manually with the WANDB_NOTEBOOK_NAME environment variable to enable code saving.\n",
      "\u001b[34m\u001b[1mwandb\u001b[0m: Currently logged in as: \u001b[33mmotuziik\u001b[0m (use `wandb login --relogin` to force relogin)\n"
     ]
    },
    {
     "data": {
      "text/html": [
       "\n",
       "                Tracking run with wandb version 0.10.27<br/>\n",
       "                Syncing run <strong style=\"color:#cdcd00\">amber-sweep-1</strong> to <a href=\"https://wandb.ai\" target=\"_blank\">Weights & Biases</a> <a href=\"https://docs.wandb.com/integrations/jupyter.html\" target=\"_blank\">(Documentation)</a>.<br/>\n",
       "                Project page: <a href=\"https://wandb.ai/motuziik/model_optimization\" target=\"_blank\">https://wandb.ai/motuziik/model_optimization</a><br/>\n",
       "                Sweep page: <a href=\"https://wandb.ai/motuziik/model_optimization/sweeps/83eceyoz\" target=\"_blank\">https://wandb.ai/motuziik/model_optimization/sweeps/83eceyoz</a><br/>\n",
       "Run page: <a href=\"https://wandb.ai/motuziik/model_optimization/runs/fuwqm1xu\" target=\"_blank\">https://wandb.ai/motuziik/model_optimization/runs/fuwqm1xu</a><br/>\n",
       "                Run data is saved locally in <code>/home/jovyan/work/wandb/run-20210426_105240-fuwqm1xu</code><br/><br/>\n",
       "            "
      ],
      "text/plain": [
       "<IPython.core.display.HTML object>"
      ]
     },
     "metadata": {},
     "output_type": "display_data"
    },
    {
     "name": "stdout",
     "output_type": "stream",
     "text": [
      "Epoch 1/15\n",
      "  2/238 [..............................] - ETA: 23s - loss: 0.7214 - accuracy: 0.4688WARNING:tensorflow:Callbacks method `on_train_batch_end` is slow compared to the batch time (batch time: 0.0755s vs `on_train_batch_end` time: 0.1232s). Check your callbacks.\n",
      "238/238 [==============================] - 53s 221ms/step - loss: 0.3858 - accuracy: 0.8217 - val_loss: 0.2466 - val_accuracy: 0.8988\n",
      "Epoch 2/15\n",
      "238/238 [==============================] - 51s 215ms/step - loss: 0.2327 - accuracy: 0.9091 - val_loss: 0.2041 - val_accuracy: 0.9228\n",
      "Epoch 3/15\n",
      "238/238 [==============================] - 51s 216ms/step - loss: 0.1752 - accuracy: 0.9395 - val_loss: 0.1393 - val_accuracy: 0.9507\n",
      "Epoch 4/15\n",
      "238/238 [==============================] - 51s 214ms/step - loss: 0.1556 - accuracy: 0.9460 - val_loss: 0.1778 - val_accuracy: 0.9346\n",
      "Epoch 5/15\n",
      "238/238 [==============================] - 51s 215ms/step - loss: 0.1247 - accuracy: 0.9597 - val_loss: 0.0947 - val_accuracy: 0.9687\n",
      "Epoch 6/15\n",
      "238/238 [==============================] - 51s 215ms/step - loss: 0.1008 - accuracy: 0.9674 - val_loss: 0.0944 - val_accuracy: 0.9705\n",
      "Epoch 7/15\n",
      "238/238 [==============================] - 51s 215ms/step - loss: 0.0861 - accuracy: 0.9730 - val_loss: 0.0807 - val_accuracy: 0.9745\n",
      "Epoch 8/15\n",
      "238/238 [==============================] - 51s 214ms/step - loss: 0.0731 - accuracy: 0.9771 - val_loss: 0.0922 - val_accuracy: 0.9704\n",
      "Epoch 9/15\n",
      "238/238 [==============================] - 51s 215ms/step - loss: 0.0691 - accuracy: 0.9785 - val_loss: 0.0715 - val_accuracy: 0.9770\n",
      "Epoch 10/15\n",
      "238/238 [==============================] - 51s 214ms/step - loss: 0.0681 - accuracy: 0.9778 - val_loss: 0.0996 - val_accuracy: 0.9691\n",
      "Epoch 11/15\n",
      "238/238 [==============================] - 51s 214ms/step - loss: 0.0575 - accuracy: 0.9822 - val_loss: 0.0957 - val_accuracy: 0.9707\n",
      "Epoch 12/15\n",
      "238/238 [==============================] - 51s 214ms/step - loss: 0.0528 - accuracy: 0.9831 - val_loss: 0.0872 - val_accuracy: 0.9724\n",
      "Epoch 13/15\n",
      "238/238 [==============================] - 51s 214ms/step - loss: 0.0432 - accuracy: 0.9865 - val_loss: 0.1328 - val_accuracy: 0.9653\n",
      "Epoch 14/15\n",
      "238/238 [==============================] - 51s 214ms/step - loss: 0.0601 - accuracy: 0.9799 - val_loss: 0.0916 - val_accuracy: 0.9726\n",
      "Epoch 15/15\n",
      "238/238 [==============================] - 51s 214ms/step - loss: 0.0374 - accuracy: 0.9881 - val_loss: 0.1257 - val_accuracy: 0.9712\n"
     ]
    },
    {
     "data": {
      "text/html": [
       "<br/>Waiting for W&B process to finish, PID 424<br/>Program ended successfully."
      ],
      "text/plain": [
       "<IPython.core.display.HTML object>"
      ]
     },
     "metadata": {},
     "output_type": "display_data"
    },
    {
     "data": {
      "application/vnd.jupyter.widget-view+json": {
       "model_id": "",
       "version_major": 2,
       "version_minor": 0
      },
      "text/plain": [
       "VBox(children=(Label(value=' 18.03MB of 18.03MB uploaded (0.00MB deduped)\\r'), FloatProgress(value=1.0, max=1.…"
      ]
     },
     "metadata": {},
     "output_type": "display_data"
    },
    {
     "data": {
      "text/html": [
       "Find user logs for this run at: <code>/home/jovyan/work/wandb/run-20210426_105240-fuwqm1xu/logs/debug.log</code>"
      ],
      "text/plain": [
       "<IPython.core.display.HTML object>"
      ]
     },
     "metadata": {},
     "output_type": "display_data"
    },
    {
     "data": {
      "text/html": [
       "Find internal logs for this run at: <code>/home/jovyan/work/wandb/run-20210426_105240-fuwqm1xu/logs/debug-internal.log</code>"
      ],
      "text/plain": [
       "<IPython.core.display.HTML object>"
      ]
     },
     "metadata": {},
     "output_type": "display_data"
    },
    {
     "data": {
      "text/html": [
       "<h3>Run summary:</h3><br/><style>\n",
       "    table.wandb td:nth-child(1) { padding: 0 10px; text-align: right }\n",
       "    </style><table class=\"wandb\">\n",
       "<tr><td>epoch</td><td>14</td></tr><tr><td>loss</td><td>0.0374</td></tr><tr><td>accuracy</td><td>0.98809</td></tr><tr><td>val_loss</td><td>0.12573</td></tr><tr><td>val_accuracy</td><td>0.97118</td></tr><tr><td>_runtime</td><td>781</td></tr><tr><td>_timestamp</td><td>1619435141</td></tr><tr><td>_step</td><td>14</td></tr><tr><td>best_val_loss</td><td>0.07154</td></tr><tr><td>best_epoch</td><td>8</td></tr></table>"
      ],
      "text/plain": [
       "<IPython.core.display.HTML object>"
      ]
     },
     "metadata": {},
     "output_type": "display_data"
    },
    {
     "data": {
      "text/html": [
       "<h3>Run history:</h3><br/><style>\n",
       "    table.wandb td:nth-child(1) { padding: 0 10px; text-align: right }\n",
       "    </style><table class=\"wandb\">\n",
       "<tr><td>epoch</td><td>▁▁▂▃▃▃▄▅▅▅▆▇▇▇█</td></tr><tr><td>loss</td><td>█▅▄▃▃▂▂▂▂▂▁▁▁▁▁</td></tr><tr><td>accuracy</td><td>▁▅▆▆▇▇▇████████</td></tr><tr><td>val_loss</td><td>█▆▄▅▂▂▁▂▁▂▂▂▃▂▃</td></tr><tr><td>val_accuracy</td><td>▁▃▆▄▇▇█▇█▇▇█▇█▇</td></tr><tr><td>_runtime</td><td>▁▁▂▃▃▄▄▅▅▆▆▇▇██</td></tr><tr><td>_timestamp</td><td>▁▁▂▃▃▄▄▅▅▆▆▇▇██</td></tr><tr><td>_step</td><td>▁▁▂▃▃▃▄▅▅▅▆▇▇▇█</td></tr></table><br/>"
      ],
      "text/plain": [
       "<IPython.core.display.HTML object>"
      ]
     },
     "metadata": {},
     "output_type": "display_data"
    },
    {
     "data": {
      "text/html": [
       "Synced 5 W&B file(s), 1 media file(s), 0 artifact file(s) and 1 other file(s)"
      ],
      "text/plain": [
       "<IPython.core.display.HTML object>"
      ]
     },
     "metadata": {},
     "output_type": "display_data"
    },
    {
     "data": {
      "text/html": [
       "\n",
       "                    <br/>Synced <strong style=\"color:#cdcd00\">amber-sweep-1</strong>: <a href=\"https://wandb.ai/motuziik/model_optimization/runs/fuwqm1xu\" target=\"_blank\">https://wandb.ai/motuziik/model_optimization/runs/fuwqm1xu</a><br/>\n",
       "                "
      ],
      "text/plain": [
       "<IPython.core.display.HTML object>"
      ]
     },
     "metadata": {},
     "output_type": "display_data"
    },
    {
     "name": "stderr",
     "output_type": "stream",
     "text": [
      "\u001b[34m\u001b[1mwandb\u001b[0m: Agent Starting Run: c2xw2yio with config:\n",
      "\u001b[34m\u001b[1mwandb\u001b[0m: \tactivation: relu\n",
      "\u001b[34m\u001b[1mwandb\u001b[0m: \tbatch_size: 128\n",
      "\u001b[34m\u001b[1mwandb\u001b[0m: \tdropout: 0.25\n",
      "\u001b[34m\u001b[1mwandb\u001b[0m: \toptimizer: SGD\n",
      "Failed to detect the name of this notebook, you can set it manually with the WANDB_NOTEBOOK_NAME environment variable to enable code saving.\n"
     ]
    },
    {
     "data": {
      "text/html": [
       "\n",
       "                Tracking run with wandb version 0.10.27<br/>\n",
       "                Syncing run <strong style=\"color:#cdcd00\">stellar-sweep-2</strong> to <a href=\"https://wandb.ai\" target=\"_blank\">Weights & Biases</a> <a href=\"https://docs.wandb.com/integrations/jupyter.html\" target=\"_blank\">(Documentation)</a>.<br/>\n",
       "                Project page: <a href=\"https://wandb.ai/motuziik/model_optimization\" target=\"_blank\">https://wandb.ai/motuziik/model_optimization</a><br/>\n",
       "                Sweep page: <a href=\"https://wandb.ai/motuziik/model_optimization/sweeps/83eceyoz\" target=\"_blank\">https://wandb.ai/motuziik/model_optimization/sweeps/83eceyoz</a><br/>\n",
       "Run page: <a href=\"https://wandb.ai/motuziik/model_optimization/runs/c2xw2yio\" target=\"_blank\">https://wandb.ai/motuziik/model_optimization/runs/c2xw2yio</a><br/>\n",
       "                Run data is saved locally in <code>/home/jovyan/work/wandb/run-20210426_110546-c2xw2yio</code><br/><br/>\n",
       "            "
      ],
      "text/plain": [
       "<IPython.core.display.HTML object>"
      ]
     },
     "metadata": {},
     "output_type": "display_data"
    },
    {
     "name": "stdout",
     "output_type": "stream",
     "text": [
      "Epoch 1/15\n",
      "  2/238 [..............................] - ETA: 23s - loss: 0.6926 - accuracy: 0.5156WARNING:tensorflow:Callbacks method `on_train_batch_end` is slow compared to the batch time (batch time: 0.0736s vs `on_train_batch_end` time: 0.1268s). Check your callbacks.\n",
      "238/238 [==============================] - 52s 217ms/step - loss: 0.6803 - accuracy: 0.5750 - val_loss: 0.6553 - val_accuracy: 0.6082\n",
      "Epoch 2/15\n",
      "238/238 [==============================] - 51s 215ms/step - loss: 0.6088 - accuracy: 0.6358 - val_loss: 0.5363 - val_accuracy: 0.7242\n",
      "Epoch 3/15\n",
      "238/238 [==============================] - 51s 214ms/step - loss: 0.4683 - accuracy: 0.7725 - val_loss: 0.4294 - val_accuracy: 0.7977\n",
      "Epoch 4/15\n",
      "238/238 [==============================] - 51s 214ms/step - loss: 0.4232 - accuracy: 0.7978 - val_loss: 0.4083 - val_accuracy: 0.8062\n",
      "Epoch 5/15\n",
      "238/238 [==============================] - 51s 215ms/step - loss: 0.3989 - accuracy: 0.8097 - val_loss: 0.3938 - val_accuracy: 0.8183\n",
      "Epoch 6/15\n",
      "238/238 [==============================] - 51s 214ms/step - loss: 0.3866 - accuracy: 0.8155 - val_loss: 0.3685 - val_accuracy: 0.8247\n",
      "Epoch 7/15\n",
      "238/238 [==============================] - 51s 215ms/step - loss: 0.3775 - accuracy: 0.8216 - val_loss: 0.3526 - val_accuracy: 0.8350\n",
      "Epoch 8/15\n",
      "238/238 [==============================] - 51s 214ms/step - loss: 0.3718 - accuracy: 0.8264 - val_loss: 0.3571 - val_accuracy: 0.8343\n",
      "Epoch 9/15\n",
      "238/238 [==============================] - 51s 215ms/step - loss: 0.3668 - accuracy: 0.8309 - val_loss: 0.3569 - val_accuracy: 0.8321\n",
      "Epoch 10/15\n",
      "238/238 [==============================] - 51s 214ms/step - loss: 0.3632 - accuracy: 0.8336 - val_loss: 0.3528 - val_accuracy: 0.8356\n",
      "Epoch 11/15\n",
      "238/238 [==============================] - 51s 215ms/step - loss: 0.3561 - accuracy: 0.8346 - val_loss: 0.3431 - val_accuracy: 0.8409\n",
      "Epoch 12/15\n",
      "238/238 [==============================] - 51s 215ms/step - loss: 0.3471 - accuracy: 0.8409 - val_loss: 0.3454 - val_accuracy: 0.8380\n",
      "Epoch 13/15\n",
      "238/238 [==============================] - 51s 215ms/step - loss: 0.3417 - accuracy: 0.8440 - val_loss: 0.3277 - val_accuracy: 0.8488\n",
      "Epoch 14/15\n",
      "238/238 [==============================] - 51s 215ms/step - loss: 0.3401 - accuracy: 0.8431 - val_loss: 0.3291 - val_accuracy: 0.8483\n",
      "Epoch 15/15\n",
      "238/238 [==============================] - 51s 215ms/step - loss: 0.3299 - accuracy: 0.8504 - val_loss: 0.5148 - val_accuracy: 0.6676\n"
     ]
    },
    {
     "data": {
      "text/html": [
       "<br/>Waiting for W&B process to finish, PID 585<br/>Program ended successfully."
      ],
      "text/plain": [
       "<IPython.core.display.HTML object>"
      ]
     },
     "metadata": {},
     "output_type": "display_data"
    },
    {
     "data": {
      "application/vnd.jupyter.widget-view+json": {
       "model_id": "",
       "version_major": 2,
       "version_minor": 0
      },
      "text/plain": [
       "VBox(children=(Label(value=' 6.03MB of 6.03MB uploaded (0.00MB deduped)\\r'), FloatProgress(value=1.0, max=1.0)…"
      ]
     },
     "metadata": {},
     "output_type": "display_data"
    },
    {
     "data": {
      "text/html": [
       "Find user logs for this run at: <code>/home/jovyan/work/wandb/run-20210426_110546-c2xw2yio/logs/debug.log</code>"
      ],
      "text/plain": [
       "<IPython.core.display.HTML object>"
      ]
     },
     "metadata": {},
     "output_type": "display_data"
    },
    {
     "data": {
      "text/html": [
       "Find internal logs for this run at: <code>/home/jovyan/work/wandb/run-20210426_110546-c2xw2yio/logs/debug-internal.log</code>"
      ],
      "text/plain": [
       "<IPython.core.display.HTML object>"
      ]
     },
     "metadata": {},
     "output_type": "display_data"
    },
    {
     "data": {
      "text/html": [
       "<h3>Run summary:</h3><br/><style>\n",
       "    table.wandb td:nth-child(1) { padding: 0 10px; text-align: right }\n",
       "    </style><table class=\"wandb\">\n",
       "<tr><td>epoch</td><td>14</td></tr><tr><td>loss</td><td>0.32987</td></tr><tr><td>accuracy</td><td>0.85043</td></tr><tr><td>val_loss</td><td>0.5148</td></tr><tr><td>val_accuracy</td><td>0.66759</td></tr><tr><td>_runtime</td><td>775</td></tr><tr><td>_timestamp</td><td>1619435921</td></tr><tr><td>_step</td><td>14</td></tr><tr><td>best_val_loss</td><td>0.32773</td></tr><tr><td>best_epoch</td><td>12</td></tr></table>"
      ],
      "text/plain": [
       "<IPython.core.display.HTML object>"
      ]
     },
     "metadata": {},
     "output_type": "display_data"
    },
    {
     "data": {
      "text/html": [
       "<h3>Run history:</h3><br/><style>\n",
       "    table.wandb td:nth-child(1) { padding: 0 10px; text-align: right }\n",
       "    </style><table class=\"wandb\">\n",
       "<tr><td>epoch</td><td>▁▁▂▃▃▃▄▅▅▅▆▇▇▇█</td></tr><tr><td>loss</td><td>█▇▄▃▂▂▂▂▂▂▂▁▁▁▁</td></tr><tr><td>accuracy</td><td>▁▃▆▇▇▇▇▇███████</td></tr><tr><td>val_loss</td><td>█▅▃▃▂▂▂▂▂▂▁▁▁▁▅</td></tr><tr><td>val_accuracy</td><td>▁▄▇▇▇▇████████▃</td></tr><tr><td>_runtime</td><td>▁▁▂▃▃▃▄▅▅▆▆▆▇██</td></tr><tr><td>_timestamp</td><td>▁▁▂▃▃▃▄▅▅▆▆▆▇██</td></tr><tr><td>_step</td><td>▁▁▂▃▃▃▄▅▅▅▆▇▇▇█</td></tr></table><br/>"
      ],
      "text/plain": [
       "<IPython.core.display.HTML object>"
      ]
     },
     "metadata": {},
     "output_type": "display_data"
    },
    {
     "data": {
      "text/html": [
       "Synced 5 W&B file(s), 1 media file(s), 0 artifact file(s) and 1 other file(s)"
      ],
      "text/plain": [
       "<IPython.core.display.HTML object>"
      ]
     },
     "metadata": {},
     "output_type": "display_data"
    },
    {
     "data": {
      "text/html": [
       "\n",
       "                    <br/>Synced <strong style=\"color:#cdcd00\">stellar-sweep-2</strong>: <a href=\"https://wandb.ai/motuziik/model_optimization/runs/c2xw2yio\" target=\"_blank\">https://wandb.ai/motuziik/model_optimization/runs/c2xw2yio</a><br/>\n",
       "                "
      ],
      "text/plain": [
       "<IPython.core.display.HTML object>"
      ]
     },
     "metadata": {},
     "output_type": "display_data"
    },
    {
     "name": "stderr",
     "output_type": "stream",
     "text": [
      "\u001b[34m\u001b[1mwandb\u001b[0m: Agent Starting Run: lotgb2ep with config:\n",
      "\u001b[34m\u001b[1mwandb\u001b[0m: \tactivation: relu\n",
      "\u001b[34m\u001b[1mwandb\u001b[0m: \tbatch_size: 128\n",
      "\u001b[34m\u001b[1mwandb\u001b[0m: \tdropout: 0.25\n",
      "\u001b[34m\u001b[1mwandb\u001b[0m: \toptimizer: RMSprop\n",
      "Failed to detect the name of this notebook, you can set it manually with the WANDB_NOTEBOOK_NAME environment variable to enable code saving.\n"
     ]
    },
    {
     "data": {
      "text/html": [
       "\n",
       "                Tracking run with wandb version 0.10.27<br/>\n",
       "                Syncing run <strong style=\"color:#cdcd00\">rosy-sweep-3</strong> to <a href=\"https://wandb.ai\" target=\"_blank\">Weights & Biases</a> <a href=\"https://docs.wandb.com/integrations/jupyter.html\" target=\"_blank\">(Documentation)</a>.<br/>\n",
       "                Project page: <a href=\"https://wandb.ai/motuziik/model_optimization\" target=\"_blank\">https://wandb.ai/motuziik/model_optimization</a><br/>\n",
       "                Sweep page: <a href=\"https://wandb.ai/motuziik/model_optimization/sweeps/83eceyoz\" target=\"_blank\">https://wandb.ai/motuziik/model_optimization/sweeps/83eceyoz</a><br/>\n",
       "Run page: <a href=\"https://wandb.ai/motuziik/model_optimization/runs/lotgb2ep\" target=\"_blank\">https://wandb.ai/motuziik/model_optimization/runs/lotgb2ep</a><br/>\n",
       "                Run data is saved locally in <code>/home/jovyan/work/wandb/run-20210426_111846-lotgb2ep</code><br/><br/>\n",
       "            "
      ],
      "text/plain": [
       "<IPython.core.display.HTML object>"
      ]
     },
     "metadata": {},
     "output_type": "display_data"
    },
    {
     "name": "stdout",
     "output_type": "stream",
     "text": [
      "Epoch 1/15\n",
      "  2/238 [..............................] - ETA: 23s - loss: 0.8771 - accuracy: 0.5078WARNING:tensorflow:Callbacks method `on_train_batch_end` is slow compared to the batch time (batch time: 0.0767s vs `on_train_batch_end` time: 0.1241s). Check your callbacks.\n",
      "238/238 [==============================] - 52s 218ms/step - loss: 0.4282 - accuracy: 0.8114 - val_loss: 0.2374 - val_accuracy: 0.9116\n",
      "Epoch 2/15\n",
      "238/238 [==============================] - 52s 217ms/step - loss: 0.2531 - accuracy: 0.9048 - val_loss: 0.1670 - val_accuracy: 0.9462\n",
      "Epoch 3/15\n",
      "238/238 [==============================] - 51s 216ms/step - loss: 0.1822 - accuracy: 0.9402 - val_loss: 0.1896 - val_accuracy: 0.9410\n",
      "Epoch 4/15\n",
      "238/238 [==============================] - 52s 217ms/step - loss: 0.1513 - accuracy: 0.9511 - val_loss: 0.1110 - val_accuracy: 0.9658\n",
      "Epoch 5/15\n",
      "238/238 [==============================] - 51s 216ms/step - loss: 0.1234 - accuracy: 0.9635 - val_loss: 0.1123 - val_accuracy: 0.9638\n",
      "Epoch 6/15\n",
      "238/238 [==============================] - 52s 217ms/step - loss: 0.1139 - accuracy: 0.9664 - val_loss: 0.1059 - val_accuracy: 0.9672\n",
      "Epoch 7/15\n",
      "238/238 [==============================] - 51s 216ms/step - loss: 0.1103 - accuracy: 0.9662 - val_loss: 0.1261 - val_accuracy: 0.9618\n",
      "Epoch 8/15\n",
      "238/238 [==============================] - 51s 216ms/step - loss: 0.0906 - accuracy: 0.9738 - val_loss: 0.1747 - val_accuracy: 0.9205\n",
      "Epoch 9/15\n",
      "238/238 [==============================] - 51s 216ms/step - loss: 0.0853 - accuracy: 0.9738 - val_loss: 0.2328 - val_accuracy: 0.9097\n",
      "Epoch 10/15\n",
      "238/238 [==============================] - 52s 217ms/step - loss: 0.0792 - accuracy: 0.9769 - val_loss: 0.0759 - val_accuracy: 0.9764\n",
      "Epoch 11/15\n",
      "238/238 [==============================] - 51s 216ms/step - loss: 0.0741 - accuracy: 0.9783 - val_loss: 0.0817 - val_accuracy: 0.9767\n",
      "Epoch 12/15\n",
      "238/238 [==============================] - 51s 216ms/step - loss: 0.0728 - accuracy: 0.9796 - val_loss: 0.1688 - val_accuracy: 0.9642\n",
      "Epoch 13/15\n",
      "238/238 [==============================] - 51s 216ms/step - loss: 0.0692 - accuracy: 0.9794 - val_loss: 0.2018 - val_accuracy: 0.9476\n",
      "Epoch 14/15\n",
      "238/238 [==============================] - 51s 216ms/step - loss: 0.0699 - accuracy: 0.9819 - val_loss: 0.1244 - val_accuracy: 0.9625\n",
      "Epoch 15/15\n",
      "238/238 [==============================] - 51s 216ms/step - loss: 0.0619 - accuracy: 0.9818 - val_loss: 0.0906 - val_accuracy: 0.9775\n"
     ]
    },
    {
     "data": {
      "text/html": [
       "<br/>Waiting for W&B process to finish, PID 682<br/>Program ended successfully."
      ],
      "text/plain": [
       "<IPython.core.display.HTML object>"
      ]
     },
     "metadata": {},
     "output_type": "display_data"
    },
    {
     "data": {
      "application/vnd.jupyter.widget-view+json": {
       "model_id": "",
       "version_major": 2,
       "version_minor": 0
      },
      "text/plain": [
       "VBox(children=(Label(value=' 12.04MB of 12.04MB uploaded (0.00MB deduped)\\r'), FloatProgress(value=1.0, max=1.…"
      ]
     },
     "metadata": {},
     "output_type": "display_data"
    },
    {
     "data": {
      "text/html": [
       "Find user logs for this run at: <code>/home/jovyan/work/wandb/run-20210426_111846-lotgb2ep/logs/debug.log</code>"
      ],
      "text/plain": [
       "<IPython.core.display.HTML object>"
      ]
     },
     "metadata": {},
     "output_type": "display_data"
    },
    {
     "data": {
      "text/html": [
       "Find internal logs for this run at: <code>/home/jovyan/work/wandb/run-20210426_111846-lotgb2ep/logs/debug-internal.log</code>"
      ],
      "text/plain": [
       "<IPython.core.display.HTML object>"
      ]
     },
     "metadata": {},
     "output_type": "display_data"
    },
    {
     "data": {
      "text/html": [
       "<h3>Run summary:</h3><br/><style>\n",
       "    table.wandb td:nth-child(1) { padding: 0 10px; text-align: right }\n",
       "    </style><table class=\"wandb\">\n",
       "<tr><td>epoch</td><td>14</td></tr><tr><td>loss</td><td>0.06191</td></tr><tr><td>accuracy</td><td>0.98184</td></tr><tr><td>val_loss</td><td>0.09057</td></tr><tr><td>val_accuracy</td><td>0.9775</td></tr><tr><td>_runtime</td><td>781</td></tr><tr><td>_timestamp</td><td>1619436707</td></tr><tr><td>_step</td><td>14</td></tr><tr><td>best_val_loss</td><td>0.07586</td></tr><tr><td>best_epoch</td><td>9</td></tr></table>"
      ],
      "text/plain": [
       "<IPython.core.display.HTML object>"
      ]
     },
     "metadata": {},
     "output_type": "display_data"
    },
    {
     "data": {
      "text/html": [
       "<h3>Run history:</h3><br/><style>\n",
       "    table.wandb td:nth-child(1) { padding: 0 10px; text-align: right }\n",
       "    </style><table class=\"wandb\">\n",
       "<tr><td>epoch</td><td>▁▁▂▃▃▃▄▅▅▅▆▇▇▇█</td></tr><tr><td>loss</td><td>█▅▃▃▂▂▂▂▁▁▁▁▁▁▁</td></tr><tr><td>accuracy</td><td>▁▅▆▇▇▇▇████████</td></tr><tr><td>val_loss</td><td>█▅▆▃▃▂▃▅█▁▁▅▆▃▂</td></tr><tr><td>val_accuracy</td><td>▁▅▄▇▇▇▆▂▁██▇▅▆█</td></tr><tr><td>_runtime</td><td>▁▂▂▃▃▄▄▅▅▆▆▇▇██</td></tr><tr><td>_timestamp</td><td>▁▂▂▃▃▄▄▅▅▆▆▇▇██</td></tr><tr><td>_step</td><td>▁▁▂▃▃▃▄▅▅▅▆▇▇▇█</td></tr></table><br/>"
      ],
      "text/plain": [
       "<IPython.core.display.HTML object>"
      ]
     },
     "metadata": {},
     "output_type": "display_data"
    },
    {
     "data": {
      "text/html": [
       "Synced 5 W&B file(s), 1 media file(s), 0 artifact file(s) and 1 other file(s)"
      ],
      "text/plain": [
       "<IPython.core.display.HTML object>"
      ]
     },
     "metadata": {},
     "output_type": "display_data"
    },
    {
     "data": {
      "text/html": [
       "\n",
       "                    <br/>Synced <strong style=\"color:#cdcd00\">rosy-sweep-3</strong>: <a href=\"https://wandb.ai/motuziik/model_optimization/runs/lotgb2ep\" target=\"_blank\">https://wandb.ai/motuziik/model_optimization/runs/lotgb2ep</a><br/>\n",
       "                "
      ],
      "text/plain": [
       "<IPython.core.display.HTML object>"
      ]
     },
     "metadata": {},
     "output_type": "display_data"
    },
    {
     "name": "stderr",
     "output_type": "stream",
     "text": [
      "\u001b[34m\u001b[1mwandb\u001b[0m: Agent Starting Run: kwp7oe1v with config:\n",
      "\u001b[34m\u001b[1mwandb\u001b[0m: \tactivation: relu\n",
      "\u001b[34m\u001b[1mwandb\u001b[0m: \tbatch_size: 128\n",
      "\u001b[34m\u001b[1mwandb\u001b[0m: \tdropout: 0.2\n",
      "\u001b[34m\u001b[1mwandb\u001b[0m: \toptimizer: adam\n",
      "Failed to detect the name of this notebook, you can set it manually with the WANDB_NOTEBOOK_NAME environment variable to enable code saving.\n"
     ]
    },
    {
     "data": {
      "text/html": [
       "\n",
       "                Tracking run with wandb version 0.10.27<br/>\n",
       "                Syncing run <strong style=\"color:#cdcd00\">logical-sweep-4</strong> to <a href=\"https://wandb.ai\" target=\"_blank\">Weights & Biases</a> <a href=\"https://docs.wandb.com/integrations/jupyter.html\" target=\"_blank\">(Documentation)</a>.<br/>\n",
       "                Project page: <a href=\"https://wandb.ai/motuziik/model_optimization\" target=\"_blank\">https://wandb.ai/motuziik/model_optimization</a><br/>\n",
       "                Sweep page: <a href=\"https://wandb.ai/motuziik/model_optimization/sweeps/83eceyoz\" target=\"_blank\">https://wandb.ai/motuziik/model_optimization/sweeps/83eceyoz</a><br/>\n",
       "Run page: <a href=\"https://wandb.ai/motuziik/model_optimization/runs/kwp7oe1v\" target=\"_blank\">https://wandb.ai/motuziik/model_optimization/runs/kwp7oe1v</a><br/>\n",
       "                Run data is saved locally in <code>/home/jovyan/work/wandb/run-20210426_113150-kwp7oe1v</code><br/><br/>\n",
       "            "
      ],
      "text/plain": [
       "<IPython.core.display.HTML object>"
      ]
     },
     "metadata": {},
     "output_type": "display_data"
    },
    {
     "name": "stdout",
     "output_type": "stream",
     "text": [
      "Epoch 1/15\n",
      "  2/238 [..............................] - ETA: 23s - loss: 0.6929 - accuracy: 0.5117WARNING:tensorflow:Callbacks method `on_train_batch_end` is slow compared to the batch time (batch time: 0.0752s vs `on_train_batch_end` time: 0.1236s). Check your callbacks.\n",
      "238/238 [==============================] - 52s 217ms/step - loss: 0.3462 - accuracy: 0.8445 - val_loss: 0.2391 - val_accuracy: 0.9117\n",
      "Epoch 2/15\n",
      "238/238 [==============================] - 51s 215ms/step - loss: 0.2299 - accuracy: 0.9115 - val_loss: 0.2346 - val_accuracy: 0.9109\n",
      "Epoch 3/15\n",
      "238/238 [==============================] - 51s 215ms/step - loss: 0.1742 - accuracy: 0.9375 - val_loss: 0.1381 - val_accuracy: 0.9542\n",
      "Epoch 4/15\n",
      "238/238 [==============================] - 51s 216ms/step - loss: 0.1277 - accuracy: 0.9576 - val_loss: 0.1298 - val_accuracy: 0.9576\n",
      "Epoch 5/15\n",
      "238/238 [==============================] - 51s 215ms/step - loss: 0.1147 - accuracy: 0.9618 - val_loss: 0.1112 - val_accuracy: 0.9703\n",
      "Epoch 6/15\n",
      "238/238 [==============================] - 51s 215ms/step - loss: 0.0926 - accuracy: 0.9718 - val_loss: 0.0928 - val_accuracy: 0.9705\n",
      "Epoch 7/15\n",
      "238/238 [==============================] - 51s 215ms/step - loss: 0.0808 - accuracy: 0.9752 - val_loss: 0.0852 - val_accuracy: 0.9745\n",
      "Epoch 8/15\n",
      "238/238 [==============================] - 51s 214ms/step - loss: 0.0739 - accuracy: 0.9772 - val_loss: 0.0876 - val_accuracy: 0.9722\n",
      "Epoch 9/15\n",
      "238/238 [==============================] - 51s 214ms/step - loss: 0.0682 - accuracy: 0.9789 - val_loss: 0.1113 - val_accuracy: 0.9638\n",
      "Epoch 10/15\n",
      "238/238 [==============================] - 51s 214ms/step - loss: 0.0655 - accuracy: 0.9779 - val_loss: 0.0994 - val_accuracy: 0.9743\n",
      "Epoch 11/15\n",
      "238/238 [==============================] - 51s 214ms/step - loss: 0.0485 - accuracy: 0.9848 - val_loss: 0.0985 - val_accuracy: 0.9718\n",
      "Epoch 12/15\n",
      "238/238 [==============================] - 51s 214ms/step - loss: 0.0474 - accuracy: 0.9852 - val_loss: 0.0915 - val_accuracy: 0.9733\n",
      "Epoch 13/15\n",
      "238/238 [==============================] - 51s 214ms/step - loss: 0.0491 - accuracy: 0.9847 - val_loss: 0.1086 - val_accuracy: 0.9754\n",
      "Epoch 14/15\n",
      "238/238 [==============================] - 51s 213ms/step - loss: 0.0287 - accuracy: 0.9903 - val_loss: 0.1056 - val_accuracy: 0.9749\n",
      "Epoch 15/15\n",
      "238/238 [==============================] - 51s 213ms/step - loss: 0.0375 - accuracy: 0.9871 - val_loss: 0.1003 - val_accuracy: 0.9750\n"
     ]
    },
    {
     "data": {
      "text/html": [
       "<br/>Waiting for W&B process to finish, PID 779<br/>Program ended successfully."
      ],
      "text/plain": [
       "<IPython.core.display.HTML object>"
      ]
     },
     "metadata": {},
     "output_type": "display_data"
    },
    {
     "data": {
      "application/vnd.jupyter.widget-view+json": {
       "model_id": "",
       "version_major": 2,
       "version_minor": 0
      },
      "text/plain": [
       "VBox(children=(Label(value=' 18.03MB of 18.03MB uploaded (0.00MB deduped)\\r'), FloatProgress(value=1.0, max=1.…"
      ]
     },
     "metadata": {},
     "output_type": "display_data"
    },
    {
     "data": {
      "text/html": [
       "Find user logs for this run at: <code>/home/jovyan/work/wandb/run-20210426_113150-kwp7oe1v/logs/debug.log</code>"
      ],
      "text/plain": [
       "<IPython.core.display.HTML object>"
      ]
     },
     "metadata": {},
     "output_type": "display_data"
    },
    {
     "data": {
      "text/html": [
       "Find internal logs for this run at: <code>/home/jovyan/work/wandb/run-20210426_113150-kwp7oe1v/logs/debug-internal.log</code>"
      ],
      "text/plain": [
       "<IPython.core.display.HTML object>"
      ]
     },
     "metadata": {},
     "output_type": "display_data"
    },
    {
     "data": {
      "text/html": [
       "<h3>Run summary:</h3><br/><style>\n",
       "    table.wandb td:nth-child(1) { padding: 0 10px; text-align: right }\n",
       "    </style><table class=\"wandb\">\n",
       "<tr><td>epoch</td><td>14</td></tr><tr><td>loss</td><td>0.03746</td></tr><tr><td>accuracy</td><td>0.9871</td></tr><tr><td>val_loss</td><td>0.10031</td></tr><tr><td>val_accuracy</td><td>0.975</td></tr><tr><td>_runtime</td><td>775</td></tr><tr><td>_timestamp</td><td>1619437485</td></tr><tr><td>_step</td><td>14</td></tr><tr><td>best_val_loss</td><td>0.08522</td></tr><tr><td>best_epoch</td><td>6</td></tr></table>"
      ],
      "text/plain": [
       "<IPython.core.display.HTML object>"
      ]
     },
     "metadata": {},
     "output_type": "display_data"
    },
    {
     "data": {
      "text/html": [
       "<h3>Run history:</h3><br/><style>\n",
       "    table.wandb td:nth-child(1) { padding: 0 10px; text-align: right }\n",
       "    </style><table class=\"wandb\">\n",
       "<tr><td>epoch</td><td>▁▁▂▃▃▃▄▅▅▅▆▇▇▇█</td></tr><tr><td>loss</td><td>█▅▄▃▃▂▂▂▂▂▁▁▁▁▁</td></tr><tr><td>accuracy</td><td>▁▄▅▆▇▇▇▇▇▇█████</td></tr><tr><td>val_loss</td><td>██▃▃▂▁▁▁▂▂▂▁▂▂▂</td></tr><tr><td>val_accuracy</td><td>▁▁▆▆▇▇██▇██████</td></tr><tr><td>_runtime</td><td>▁▂▂▃▃▄▄▅▅▆▆▇▇██</td></tr><tr><td>_timestamp</td><td>▁▂▂▃▃▄▄▅▅▆▆▇▇██</td></tr><tr><td>_step</td><td>▁▁▂▃▃▃▄▅▅▅▆▇▇▇█</td></tr></table><br/>"
      ],
      "text/plain": [
       "<IPython.core.display.HTML object>"
      ]
     },
     "metadata": {},
     "output_type": "display_data"
    },
    {
     "data": {
      "text/html": [
       "Synced 5 W&B file(s), 1 media file(s), 0 artifact file(s) and 1 other file(s)"
      ],
      "text/plain": [
       "<IPython.core.display.HTML object>"
      ]
     },
     "metadata": {},
     "output_type": "display_data"
    },
    {
     "data": {
      "text/html": [
       "\n",
       "                    <br/>Synced <strong style=\"color:#cdcd00\">logical-sweep-4</strong>: <a href=\"https://wandb.ai/motuziik/model_optimization/runs/kwp7oe1v\" target=\"_blank\">https://wandb.ai/motuziik/model_optimization/runs/kwp7oe1v</a><br/>\n",
       "                "
      ],
      "text/plain": [
       "<IPython.core.display.HTML object>"
      ]
     },
     "metadata": {},
     "output_type": "display_data"
    },
    {
     "name": "stderr",
     "output_type": "stream",
     "text": [
      "\u001b[34m\u001b[1mwandb\u001b[0m: Agent Starting Run: l7nkjhxx with config:\n",
      "\u001b[34m\u001b[1mwandb\u001b[0m: \tactivation: relu\n",
      "\u001b[34m\u001b[1mwandb\u001b[0m: \tbatch_size: 128\n",
      "\u001b[34m\u001b[1mwandb\u001b[0m: \tdropout: 0.2\n",
      "\u001b[34m\u001b[1mwandb\u001b[0m: \toptimizer: SGD\n",
      "Failed to detect the name of this notebook, you can set it manually with the WANDB_NOTEBOOK_NAME environment variable to enable code saving.\n"
     ]
    },
    {
     "data": {
      "text/html": [
       "\n",
       "                Tracking run with wandb version 0.10.27<br/>\n",
       "                Syncing run <strong style=\"color:#cdcd00\">sweepy-sweep-5</strong> to <a href=\"https://wandb.ai\" target=\"_blank\">Weights & Biases</a> <a href=\"https://docs.wandb.com/integrations/jupyter.html\" target=\"_blank\">(Documentation)</a>.<br/>\n",
       "                Project page: <a href=\"https://wandb.ai/motuziik/model_optimization\" target=\"_blank\">https://wandb.ai/motuziik/model_optimization</a><br/>\n",
       "                Sweep page: <a href=\"https://wandb.ai/motuziik/model_optimization/sweeps/83eceyoz\" target=\"_blank\">https://wandb.ai/motuziik/model_optimization/sweeps/83eceyoz</a><br/>\n",
       "Run page: <a href=\"https://wandb.ai/motuziik/model_optimization/runs/l7nkjhxx\" target=\"_blank\">https://wandb.ai/motuziik/model_optimization/runs/l7nkjhxx</a><br/>\n",
       "                Run data is saved locally in <code>/home/jovyan/work/wandb/run-20210426_114450-l7nkjhxx</code><br/><br/>\n",
       "            "
      ],
      "text/plain": [
       "<IPython.core.display.HTML object>"
      ]
     },
     "metadata": {},
     "output_type": "display_data"
    },
    {
     "name": "stdout",
     "output_type": "stream",
     "text": [
      "Epoch 1/15\n",
      "  2/238 [..............................] - ETA: 23s - loss: 0.6931 - accuracy: 0.4883WARNING:tensorflow:Callbacks method `on_train_batch_end` is slow compared to the batch time (batch time: 0.0738s vs `on_train_batch_end` time: 0.1247s). Check your callbacks.\n",
      "238/238 [==============================] - 52s 217ms/step - loss: 0.6788 - accuracy: 0.5765 - val_loss: 0.6502 - val_accuracy: 0.6189\n",
      "Epoch 2/15\n",
      "238/238 [==============================] - 51s 215ms/step - loss: 0.5841 - accuracy: 0.6637 - val_loss: 0.4772 - val_accuracy: 0.7752\n",
      "Epoch 3/15\n",
      "238/238 [==============================] - 51s 215ms/step - loss: 0.4564 - accuracy: 0.7931 - val_loss: 0.4247 - val_accuracy: 0.8159\n",
      "Epoch 4/15\n",
      "238/238 [==============================] - 51s 215ms/step - loss: 0.4313 - accuracy: 0.8077 - val_loss: 0.3977 - val_accuracy: 0.8297\n",
      "Epoch 5/15\n",
      "238/238 [==============================] - 51s 215ms/step - loss: 0.4088 - accuracy: 0.8139 - val_loss: 0.3834 - val_accuracy: 0.8266\n",
      "Epoch 6/15\n",
      "238/238 [==============================] - 51s 215ms/step - loss: 0.3891 - accuracy: 0.8184 - val_loss: 0.4049 - val_accuracy: 0.8050\n",
      "Epoch 7/15\n",
      "238/238 [==============================] - 51s 215ms/step - loss: 0.3708 - accuracy: 0.8283 - val_loss: 0.3786 - val_accuracy: 0.8247\n",
      "Epoch 8/15\n",
      "238/238 [==============================] - 51s 215ms/step - loss: 0.3608 - accuracy: 0.8328 - val_loss: 0.3331 - val_accuracy: 0.8451\n",
      "Epoch 9/15\n",
      "238/238 [==============================] - 51s 215ms/step - loss: 0.3489 - accuracy: 0.8400 - val_loss: 0.3293 - val_accuracy: 0.8502\n",
      "Epoch 10/15\n",
      "238/238 [==============================] - 51s 216ms/step - loss: 0.3508 - accuracy: 0.8376 - val_loss: 0.3262 - val_accuracy: 0.8488\n",
      "Epoch 11/15\n",
      "238/238 [==============================] - 51s 215ms/step - loss: 0.3350 - accuracy: 0.8483 - val_loss: 0.3188 - val_accuracy: 0.8551\n",
      "Epoch 12/15\n",
      "238/238 [==============================] - 51s 215ms/step - loss: 0.3357 - accuracy: 0.8453 - val_loss: 0.3339 - val_accuracy: 0.8500\n",
      "Epoch 13/15\n",
      "238/238 [==============================] - 51s 215ms/step - loss: 0.3270 - accuracy: 0.8497 - val_loss: 0.3164 - val_accuracy: 0.8545\n",
      "Epoch 14/15\n",
      "238/238 [==============================] - 51s 215ms/step - loss: 0.3171 - accuracy: 0.8573 - val_loss: 0.3226 - val_accuracy: 0.8534\n",
      "Epoch 15/15\n",
      "238/238 [==============================] - 51s 215ms/step - loss: 0.3122 - accuracy: 0.8589 - val_loss: 0.3152 - val_accuracy: 0.8548\n"
     ]
    },
    {
     "data": {
      "text/html": [
       "<br/>Waiting for W&B process to finish, PID 876<br/>Program ended successfully."
      ],
      "text/plain": [
       "<IPython.core.display.HTML object>"
      ]
     },
     "metadata": {},
     "output_type": "display_data"
    },
    {
     "data": {
      "application/vnd.jupyter.widget-view+json": {
       "model_id": "",
       "version_major": 2,
       "version_minor": 0
      },
      "text/plain": [
       "VBox(children=(Label(value=' 6.03MB of 6.03MB uploaded (0.00MB deduped)\\r'), FloatProgress(value=1.0, max=1.0)…"
      ]
     },
     "metadata": {},
     "output_type": "display_data"
    },
    {
     "data": {
      "text/html": [
       "Find user logs for this run at: <code>/home/jovyan/work/wandb/run-20210426_114450-l7nkjhxx/logs/debug.log</code>"
      ],
      "text/plain": [
       "<IPython.core.display.HTML object>"
      ]
     },
     "metadata": {},
     "output_type": "display_data"
    },
    {
     "data": {
      "text/html": [
       "Find internal logs for this run at: <code>/home/jovyan/work/wandb/run-20210426_114450-l7nkjhxx/logs/debug-internal.log</code>"
      ],
      "text/plain": [
       "<IPython.core.display.HTML object>"
      ]
     },
     "metadata": {},
     "output_type": "display_data"
    },
    {
     "data": {
      "text/html": [
       "<h3>Run summary:</h3><br/><style>\n",
       "    table.wandb td:nth-child(1) { padding: 0 10px; text-align: right }\n",
       "    </style><table class=\"wandb\">\n",
       "<tr><td>epoch</td><td>14</td></tr><tr><td>loss</td><td>0.3122</td></tr><tr><td>accuracy</td><td>0.85892</td></tr><tr><td>val_loss</td><td>0.31517</td></tr><tr><td>val_accuracy</td><td>0.85485</td></tr><tr><td>_runtime</td><td>777</td></tr><tr><td>_timestamp</td><td>1619438267</td></tr><tr><td>_step</td><td>14</td></tr><tr><td>best_val_loss</td><td>0.31517</td></tr><tr><td>best_epoch</td><td>14</td></tr></table>"
      ],
      "text/plain": [
       "<IPython.core.display.HTML object>"
      ]
     },
     "metadata": {},
     "output_type": "display_data"
    },
    {
     "data": {
      "text/html": [
       "<h3>Run history:</h3><br/><style>\n",
       "    table.wandb td:nth-child(1) { padding: 0 10px; text-align: right }\n",
       "    </style><table class=\"wandb\">\n",
       "<tr><td>epoch</td><td>▁▁▂▃▃▃▄▅▅▅▆▇▇▇█</td></tr><tr><td>loss</td><td>█▆▄▃▃▂▂▂▂▂▁▁▁▁▁</td></tr><tr><td>accuracy</td><td>▁▃▆▇▇▇▇▇█▇█████</td></tr><tr><td>val_loss</td><td>█▄▃▃▂▃▂▁▁▁▁▁▁▁▁</td></tr><tr><td>val_accuracy</td><td>▁▆▇▇▇▇▇████████</td></tr><tr><td>_runtime</td><td>▁▁▂▂▃▄▄▄▅▅▆▇▇██</td></tr><tr><td>_timestamp</td><td>▁▁▂▂▃▄▄▄▅▅▆▇▇██</td></tr><tr><td>_step</td><td>▁▁▂▃▃▃▄▅▅▅▆▇▇▇█</td></tr></table><br/>"
      ],
      "text/plain": [
       "<IPython.core.display.HTML object>"
      ]
     },
     "metadata": {},
     "output_type": "display_data"
    },
    {
     "data": {
      "text/html": [
       "Synced 5 W&B file(s), 1 media file(s), 0 artifact file(s) and 1 other file(s)"
      ],
      "text/plain": [
       "<IPython.core.display.HTML object>"
      ]
     },
     "metadata": {},
     "output_type": "display_data"
    },
    {
     "data": {
      "text/html": [
       "\n",
       "                    <br/>Synced <strong style=\"color:#cdcd00\">sweepy-sweep-5</strong>: <a href=\"https://wandb.ai/motuziik/model_optimization/runs/l7nkjhxx\" target=\"_blank\">https://wandb.ai/motuziik/model_optimization/runs/l7nkjhxx</a><br/>\n",
       "                "
      ],
      "text/plain": [
       "<IPython.core.display.HTML object>"
      ]
     },
     "metadata": {},
     "output_type": "display_data"
    },
    {
     "name": "stderr",
     "output_type": "stream",
     "text": [
      "\u001b[34m\u001b[1mwandb\u001b[0m: Agent Starting Run: qgl5mq7j with config:\n",
      "\u001b[34m\u001b[1mwandb\u001b[0m: \tactivation: relu\n",
      "\u001b[34m\u001b[1mwandb\u001b[0m: \tbatch_size: 128\n",
      "\u001b[34m\u001b[1mwandb\u001b[0m: \tdropout: 0.2\n",
      "\u001b[34m\u001b[1mwandb\u001b[0m: \toptimizer: RMSprop\n",
      "Failed to detect the name of this notebook, you can set it manually with the WANDB_NOTEBOOK_NAME environment variable to enable code saving.\n"
     ]
    },
    {
     "data": {
      "text/html": [
       "\n",
       "                Tracking run with wandb version 0.10.27<br/>\n",
       "                Syncing run <strong style=\"color:#cdcd00\">bumbling-sweep-6</strong> to <a href=\"https://wandb.ai\" target=\"_blank\">Weights & Biases</a> <a href=\"https://docs.wandb.com/integrations/jupyter.html\" target=\"_blank\">(Documentation)</a>.<br/>\n",
       "                Project page: <a href=\"https://wandb.ai/motuziik/model_optimization\" target=\"_blank\">https://wandb.ai/motuziik/model_optimization</a><br/>\n",
       "                Sweep page: <a href=\"https://wandb.ai/motuziik/model_optimization/sweeps/83eceyoz\" target=\"_blank\">https://wandb.ai/motuziik/model_optimization/sweeps/83eceyoz</a><br/>\n",
       "Run page: <a href=\"https://wandb.ai/motuziik/model_optimization/runs/qgl5mq7j\" target=\"_blank\">https://wandb.ai/motuziik/model_optimization/runs/qgl5mq7j</a><br/>\n",
       "                Run data is saved locally in <code>/home/jovyan/work/wandb/run-20210426_115752-qgl5mq7j</code><br/><br/>\n",
       "            "
      ],
      "text/plain": [
       "<IPython.core.display.HTML object>"
      ]
     },
     "metadata": {},
     "output_type": "display_data"
    },
    {
     "name": "stdout",
     "output_type": "stream",
     "text": [
      "Epoch 1/15\n",
      "  2/238 [..............................] - ETA: 23s - loss: 1.0212 - accuracy: 0.4727WARNING:tensorflow:Callbacks method `on_train_batch_end` is slow compared to the batch time (batch time: 0.0766s vs `on_train_batch_end` time: 0.1237s). Check your callbacks.\n",
      "238/238 [==============================] - 52s 218ms/step - loss: 0.4255 - accuracy: 0.8028 - val_loss: 0.2462 - val_accuracy: 0.9125\n",
      "Epoch 2/15\n",
      "238/238 [==============================] - 52s 217ms/step - loss: 0.2295 - accuracy: 0.9153 - val_loss: 0.2088 - val_accuracy: 0.9285\n",
      "Epoch 3/15\n",
      "238/238 [==============================] - 52s 217ms/step - loss: 0.1700 - accuracy: 0.9426 - val_loss: 0.1409 - val_accuracy: 0.9554\n",
      "Epoch 4/15\n",
      "238/238 [==============================] - 51s 216ms/step - loss: 0.1373 - accuracy: 0.9561 - val_loss: 0.1508 - val_accuracy: 0.9478\n",
      "Epoch 5/15\n",
      "238/238 [==============================] - 52s 217ms/step - loss: 0.1156 - accuracy: 0.9652 - val_loss: 0.1080 - val_accuracy: 0.9688\n",
      "Epoch 6/15\n",
      "238/238 [==============================] - 52s 217ms/step - loss: 0.1081 - accuracy: 0.9678 - val_loss: 0.1024 - val_accuracy: 0.9700\n",
      "Epoch 7/15\n",
      "238/238 [==============================] - 52s 217ms/step - loss: 0.0989 - accuracy: 0.9708 - val_loss: 0.0913 - val_accuracy: 0.9734\n",
      "Epoch 8/15\n",
      "238/238 [==============================] - 51s 216ms/step - loss: 0.0868 - accuracy: 0.9752 - val_loss: 0.1029 - val_accuracy: 0.9699\n",
      "Epoch 9/15\n",
      "238/238 [==============================] - 52s 217ms/step - loss: 0.0822 - accuracy: 0.9766 - val_loss: 0.0869 - val_accuracy: 0.9724\n",
      "Epoch 10/15\n",
      "238/238 [==============================] - 51s 216ms/step - loss: 0.1738 - accuracy: 0.9782 - val_loss: 0.1576 - val_accuracy: 0.9491\n",
      "Epoch 11/15\n",
      "238/238 [==============================] - 52s 217ms/step - loss: 0.0725 - accuracy: 0.9795 - val_loss: 0.0772 - val_accuracy: 0.9775\n",
      "Epoch 12/15\n",
      "238/238 [==============================] - 51s 216ms/step - loss: 0.0688 - accuracy: 0.9808 - val_loss: 0.0875 - val_accuracy: 0.9746\n",
      "Epoch 13/15\n",
      "238/238 [==============================] - 52s 217ms/step - loss: 0.0658 - accuracy: 0.9810 - val_loss: 0.0726 - val_accuracy: 0.9795\n",
      "Epoch 14/15\n",
      "238/238 [==============================] - 51s 216ms/step - loss: 0.0591 - accuracy: 0.9824 - val_loss: 0.1394 - val_accuracy: 0.9597\n",
      "Epoch 15/15\n",
      "238/238 [==============================] - 51s 216ms/step - loss: 0.0612 - accuracy: 0.9834 - val_loss: 0.0845 - val_accuracy: 0.9775\n"
     ]
    },
    {
     "data": {
      "text/html": [
       "<br/>Waiting for W&B process to finish, PID 973<br/>Program ended successfully."
      ],
      "text/plain": [
       "<IPython.core.display.HTML object>"
      ]
     },
     "metadata": {},
     "output_type": "display_data"
    },
    {
     "data": {
      "application/vnd.jupyter.widget-view+json": {
       "model_id": "",
       "version_major": 2,
       "version_minor": 0
      },
      "text/plain": [
       "VBox(children=(Label(value=' 12.04MB of 12.04MB uploaded (0.00MB deduped)\\r'), FloatProgress(value=1.0, max=1.…"
      ]
     },
     "metadata": {},
     "output_type": "display_data"
    },
    {
     "data": {
      "text/html": [
       "Find user logs for this run at: <code>/home/jovyan/work/wandb/run-20210426_115752-qgl5mq7j/logs/debug.log</code>"
      ],
      "text/plain": [
       "<IPython.core.display.HTML object>"
      ]
     },
     "metadata": {},
     "output_type": "display_data"
    },
    {
     "data": {
      "text/html": [
       "Find internal logs for this run at: <code>/home/jovyan/work/wandb/run-20210426_115752-qgl5mq7j/logs/debug-internal.log</code>"
      ],
      "text/plain": [
       "<IPython.core.display.HTML object>"
      ]
     },
     "metadata": {},
     "output_type": "display_data"
    },
    {
     "data": {
      "text/html": [
       "<h3>Run summary:</h3><br/><style>\n",
       "    table.wandb td:nth-child(1) { padding: 0 10px; text-align: right }\n",
       "    </style><table class=\"wandb\">\n",
       "<tr><td>epoch</td><td>14</td></tr><tr><td>loss</td><td>0.06121</td></tr><tr><td>accuracy</td><td>0.98342</td></tr><tr><td>val_loss</td><td>0.08446</td></tr><tr><td>val_accuracy</td><td>0.9775</td></tr><tr><td>_runtime</td><td>782</td></tr><tr><td>_timestamp</td><td>1619439054</td></tr><tr><td>_step</td><td>14</td></tr><tr><td>best_val_loss</td><td>0.07255</td></tr><tr><td>best_epoch</td><td>12</td></tr></table>"
      ],
      "text/plain": [
       "<IPython.core.display.HTML object>"
      ]
     },
     "metadata": {},
     "output_type": "display_data"
    },
    {
     "data": {
      "text/html": [
       "<h3>Run history:</h3><br/><style>\n",
       "    table.wandb td:nth-child(1) { padding: 0 10px; text-align: right }\n",
       "    </style><table class=\"wandb\">\n",
       "<tr><td>epoch</td><td>▁▁▂▃▃▃▄▅▅▅▆▇▇▇█</td></tr><tr><td>loss</td><td>█▄▃▂▂▂▂▂▁▃▁▁▁▁▁</td></tr><tr><td>accuracy</td><td>▁▅▆▇▇▇█████████</td></tr><tr><td>val_loss</td><td>█▆▄▄▂▂▂▂▂▄▁▂▁▄▁</td></tr><tr><td>val_accuracy</td><td>▁▃▅▅▇▇▇▇▇▅█▇█▆█</td></tr><tr><td>_runtime</td><td>▁▁▂▂▃▄▄▅▅▆▆▇▇▇█</td></tr><tr><td>_timestamp</td><td>▁▁▂▂▃▄▄▅▅▆▆▇▇▇█</td></tr><tr><td>_step</td><td>▁▁▂▃▃▃▄▅▅▅▆▇▇▇█</td></tr></table><br/>"
      ],
      "text/plain": [
       "<IPython.core.display.HTML object>"
      ]
     },
     "metadata": {},
     "output_type": "display_data"
    },
    {
     "data": {
      "text/html": [
       "Synced 5 W&B file(s), 1 media file(s), 0 artifact file(s) and 1 other file(s)"
      ],
      "text/plain": [
       "<IPython.core.display.HTML object>"
      ]
     },
     "metadata": {},
     "output_type": "display_data"
    },
    {
     "data": {
      "text/html": [
       "\n",
       "                    <br/>Synced <strong style=\"color:#cdcd00\">bumbling-sweep-6</strong>: <a href=\"https://wandb.ai/motuziik/model_optimization/runs/qgl5mq7j\" target=\"_blank\">https://wandb.ai/motuziik/model_optimization/runs/qgl5mq7j</a><br/>\n",
       "                "
      ],
      "text/plain": [
       "<IPython.core.display.HTML object>"
      ]
     },
     "metadata": {},
     "output_type": "display_data"
    },
    {
     "name": "stderr",
     "output_type": "stream",
     "text": [
      "\u001b[34m\u001b[1mwandb\u001b[0m: Agent Starting Run: 9fk8d4yf with config:\n",
      "\u001b[34m\u001b[1mwandb\u001b[0m: \tactivation: relu\n",
      "\u001b[34m\u001b[1mwandb\u001b[0m: \tbatch_size: 128\n",
      "\u001b[34m\u001b[1mwandb\u001b[0m: \tdropout: 0.15\n",
      "\u001b[34m\u001b[1mwandb\u001b[0m: \toptimizer: adam\n",
      "Failed to detect the name of this notebook, you can set it manually with the WANDB_NOTEBOOK_NAME environment variable to enable code saving.\n"
     ]
    },
    {
     "data": {
      "text/html": [
       "\n",
       "                Tracking run with wandb version 0.10.27<br/>\n",
       "                Syncing run <strong style=\"color:#cdcd00\">dainty-sweep-7</strong> to <a href=\"https://wandb.ai\" target=\"_blank\">Weights & Biases</a> <a href=\"https://docs.wandb.com/integrations/jupyter.html\" target=\"_blank\">(Documentation)</a>.<br/>\n",
       "                Project page: <a href=\"https://wandb.ai/motuziik/model_optimization\" target=\"_blank\">https://wandb.ai/motuziik/model_optimization</a><br/>\n",
       "                Sweep page: <a href=\"https://wandb.ai/motuziik/model_optimization/sweeps/83eceyoz\" target=\"_blank\">https://wandb.ai/motuziik/model_optimization/sweeps/83eceyoz</a><br/>\n",
       "Run page: <a href=\"https://wandb.ai/motuziik/model_optimization/runs/9fk8d4yf\" target=\"_blank\">https://wandb.ai/motuziik/model_optimization/runs/9fk8d4yf</a><br/>\n",
       "                Run data is saved locally in <code>/home/jovyan/work/wandb/run-20210426_121058-9fk8d4yf</code><br/><br/>\n",
       "            "
      ],
      "text/plain": [
       "<IPython.core.display.HTML object>"
      ]
     },
     "metadata": {},
     "output_type": "display_data"
    },
    {
     "name": "stdout",
     "output_type": "stream",
     "text": [
      "Epoch 1/15\n",
      "  2/238 [..............................] - ETA: 23s - loss: 0.6879 - accuracy: 0.5039WARNING:tensorflow:Callbacks method `on_train_batch_end` is slow compared to the batch time (batch time: 0.0751s vs `on_train_batch_end` time: 0.1231s). Check your callbacks.\n",
      "238/238 [==============================] - 51s 216ms/step - loss: 0.3389 - accuracy: 0.8458 - val_loss: 0.2038 - val_accuracy: 0.9243\n",
      "Epoch 2/15\n",
      "238/238 [==============================] - 51s 214ms/step - loss: 0.2606 - accuracy: 0.8957 - val_loss: 0.2168 - val_accuracy: 0.9185\n",
      "Epoch 3/15\n",
      "238/238 [==============================] - 51s 216ms/step - loss: 0.1957 - accuracy: 0.9271 - val_loss: 0.1443 - val_accuracy: 0.9475\n",
      "Epoch 4/15\n",
      "238/238 [==============================] - 51s 216ms/step - loss: 0.1333 - accuracy: 0.9550 - val_loss: 0.1278 - val_accuracy: 0.9557\n",
      "Epoch 5/15\n",
      "238/238 [==============================] - 51s 215ms/step - loss: 0.1194 - accuracy: 0.9594 - val_loss: 0.1202 - val_accuracy: 0.9607\n",
      "Epoch 6/15\n",
      "238/238 [==============================] - 51s 216ms/step - loss: 0.0984 - accuracy: 0.9685 - val_loss: 0.1044 - val_accuracy: 0.9683\n",
      "Epoch 7/15\n",
      "238/238 [==============================] - 51s 214ms/step - loss: 0.0892 - accuracy: 0.9715 - val_loss: 0.1127 - val_accuracy: 0.9643\n",
      "Epoch 8/15\n",
      "238/238 [==============================] - 51s 215ms/step - loss: 0.0785 - accuracy: 0.9739 - val_loss: 0.1016 - val_accuracy: 0.9705\n",
      "Epoch 9/15\n",
      "238/238 [==============================] - 51s 215ms/step - loss: 0.0652 - accuracy: 0.9791 - val_loss: 0.1011 - val_accuracy: 0.9709\n",
      "Epoch 10/15\n",
      "238/238 [==============================] - 51s 214ms/step - loss: 0.0547 - accuracy: 0.9821 - val_loss: 0.1161 - val_accuracy: 0.9660\n",
      "Epoch 11/15\n",
      "238/238 [==============================] - 51s 214ms/step - loss: 0.0502 - accuracy: 0.9827 - val_loss: 0.1164 - val_accuracy: 0.9710\n",
      "Epoch 12/15\n",
      "238/238 [==============================] - 51s 214ms/step - loss: 0.0468 - accuracy: 0.9840 - val_loss: 0.1165 - val_accuracy: 0.9738\n",
      "Epoch 13/15\n",
      "238/238 [==============================] - 51s 214ms/step - loss: 0.0385 - accuracy: 0.9873 - val_loss: 0.1310 - val_accuracy: 0.9720\n",
      "Epoch 14/15\n",
      "238/238 [==============================] - 51s 214ms/step - loss: 0.0356 - accuracy: 0.9878 - val_loss: 0.1691 - val_accuracy: 0.9642\n",
      "Epoch 15/15\n",
      "238/238 [==============================] - 51s 214ms/step - loss: 0.0306 - accuracy: 0.9893 - val_loss: 0.1285 - val_accuracy: 0.9649\n"
     ]
    },
    {
     "data": {
      "text/html": [
       "<br/>Waiting for W&B process to finish, PID 1070<br/>Program ended successfully."
      ],
      "text/plain": [
       "<IPython.core.display.HTML object>"
      ]
     },
     "metadata": {},
     "output_type": "display_data"
    },
    {
     "data": {
      "application/vnd.jupyter.widget-view+json": {
       "model_id": "",
       "version_major": 2,
       "version_minor": 0
      },
      "text/plain": [
       "VBox(children=(Label(value=' 18.03MB of 18.03MB uploaded (0.00MB deduped)\\r'), FloatProgress(value=1.0, max=1.…"
      ]
     },
     "metadata": {},
     "output_type": "display_data"
    },
    {
     "data": {
      "text/html": [
       "Find user logs for this run at: <code>/home/jovyan/work/wandb/run-20210426_121058-9fk8d4yf/logs/debug.log</code>"
      ],
      "text/plain": [
       "<IPython.core.display.HTML object>"
      ]
     },
     "metadata": {},
     "output_type": "display_data"
    },
    {
     "data": {
      "text/html": [
       "Find internal logs for this run at: <code>/home/jovyan/work/wandb/run-20210426_121058-9fk8d4yf/logs/debug-internal.log</code>"
      ],
      "text/plain": [
       "<IPython.core.display.HTML object>"
      ]
     },
     "metadata": {},
     "output_type": "display_data"
    },
    {
     "data": {
      "text/html": [
       "<h3>Run summary:</h3><br/><style>\n",
       "    table.wandb td:nth-child(1) { padding: 0 10px; text-align: right }\n",
       "    </style><table class=\"wandb\">\n",
       "<tr><td>epoch</td><td>14</td></tr><tr><td>loss</td><td>0.03058</td></tr><tr><td>accuracy</td><td>0.98934</td></tr><tr><td>val_loss</td><td>0.12847</td></tr><tr><td>val_accuracy</td><td>0.96486</td></tr><tr><td>_runtime</td><td>775</td></tr><tr><td>_timestamp</td><td>1619439834</td></tr><tr><td>_step</td><td>14</td></tr><tr><td>best_val_loss</td><td>0.10109</td></tr><tr><td>best_epoch</td><td>8</td></tr></table>"
      ],
      "text/plain": [
       "<IPython.core.display.HTML object>"
      ]
     },
     "metadata": {},
     "output_type": "display_data"
    },
    {
     "data": {
      "text/html": [
       "<h3>Run history:</h3><br/><style>\n",
       "    table.wandb td:nth-child(1) { padding: 0 10px; text-align: right }\n",
       "    </style><table class=\"wandb\">\n",
       "<tr><td>epoch</td><td>▁▁▂▃▃▃▄▅▅▅▆▇▇▇█</td></tr><tr><td>loss</td><td>█▆▅▃▃▃▂▂▂▂▁▁▁▁▁</td></tr><tr><td>accuracy</td><td>▁▃▅▆▇▇▇▇███████</td></tr><tr><td>val_loss</td><td>▇█▄▃▂▁▂▁▁▂▂▂▃▅▃</td></tr><tr><td>val_accuracy</td><td>▂▁▅▆▆▇▇██▇███▇▇</td></tr><tr><td>_runtime</td><td>▁▂▂▂▃▄▄▅▅▆▆▇▇▇█</td></tr><tr><td>_timestamp</td><td>▁▂▂▂▃▄▄▅▅▆▆▇▇▇█</td></tr><tr><td>_step</td><td>▁▁▂▃▃▃▄▅▅▅▆▇▇▇█</td></tr></table><br/>"
      ],
      "text/plain": [
       "<IPython.core.display.HTML object>"
      ]
     },
     "metadata": {},
     "output_type": "display_data"
    },
    {
     "data": {
      "text/html": [
       "Synced 5 W&B file(s), 1 media file(s), 0 artifact file(s) and 1 other file(s)"
      ],
      "text/plain": [
       "<IPython.core.display.HTML object>"
      ]
     },
     "metadata": {},
     "output_type": "display_data"
    },
    {
     "data": {
      "text/html": [
       "\n",
       "                    <br/>Synced <strong style=\"color:#cdcd00\">dainty-sweep-7</strong>: <a href=\"https://wandb.ai/motuziik/model_optimization/runs/9fk8d4yf\" target=\"_blank\">https://wandb.ai/motuziik/model_optimization/runs/9fk8d4yf</a><br/>\n",
       "                "
      ],
      "text/plain": [
       "<IPython.core.display.HTML object>"
      ]
     },
     "metadata": {},
     "output_type": "display_data"
    },
    {
     "name": "stderr",
     "output_type": "stream",
     "text": [
      "\u001b[34m\u001b[1mwandb\u001b[0m: Agent Starting Run: l9tbibbk with config:\n",
      "\u001b[34m\u001b[1mwandb\u001b[0m: \tactivation: relu\n",
      "\u001b[34m\u001b[1mwandb\u001b[0m: \tbatch_size: 128\n",
      "\u001b[34m\u001b[1mwandb\u001b[0m: \tdropout: 0.15\n",
      "\u001b[34m\u001b[1mwandb\u001b[0m: \toptimizer: SGD\n",
      "Failed to detect the name of this notebook, you can set it manually with the WANDB_NOTEBOOK_NAME environment variable to enable code saving.\n"
     ]
    },
    {
     "data": {
      "text/html": [
       "\n",
       "                Tracking run with wandb version 0.10.27<br/>\n",
       "                Syncing run <strong style=\"color:#cdcd00\">zesty-sweep-8</strong> to <a href=\"https://wandb.ai\" target=\"_blank\">Weights & Biases</a> <a href=\"https://docs.wandb.com/integrations/jupyter.html\" target=\"_blank\">(Documentation)</a>.<br/>\n",
       "                Project page: <a href=\"https://wandb.ai/motuziik/model_optimization\" target=\"_blank\">https://wandb.ai/motuziik/model_optimization</a><br/>\n",
       "                Sweep page: <a href=\"https://wandb.ai/motuziik/model_optimization/sweeps/83eceyoz\" target=\"_blank\">https://wandb.ai/motuziik/model_optimization/sweeps/83eceyoz</a><br/>\n",
       "Run page: <a href=\"https://wandb.ai/motuziik/model_optimization/runs/l9tbibbk\" target=\"_blank\">https://wandb.ai/motuziik/model_optimization/runs/l9tbibbk</a><br/>\n",
       "                Run data is saved locally in <code>/home/jovyan/work/wandb/run-20210426_122358-l9tbibbk</code><br/><br/>\n",
       "            "
      ],
      "text/plain": [
       "<IPython.core.display.HTML object>"
      ]
     },
     "metadata": {},
     "output_type": "display_data"
    },
    {
     "name": "stdout",
     "output_type": "stream",
     "text": [
      "Epoch 1/15\n",
      "  2/238 [..............................] - ETA: 23s - loss: 0.6932 - accuracy: 0.4883WARNING:tensorflow:Callbacks method `on_train_batch_end` is slow compared to the batch time (batch time: 0.0749s vs `on_train_batch_end` time: 0.1252s). Check your callbacks.\n",
      "238/238 [==============================] - 52s 217ms/step - loss: 0.6782 - accuracy: 0.5673 - val_loss: 0.6485 - val_accuracy: 0.6194\n",
      "Epoch 2/15\n",
      "238/238 [==============================] - 51s 215ms/step - loss: 0.6197 - accuracy: 0.6281 - val_loss: 0.5739 - val_accuracy: 0.6530\n",
      "Epoch 3/15\n",
      "238/238 [==============================] - 51s 214ms/step - loss: 0.5115 - accuracy: 0.7394 - val_loss: 0.4577 - val_accuracy: 0.8035\n",
      "Epoch 4/15\n",
      "238/238 [==============================] - 51s 214ms/step - loss: 0.4471 - accuracy: 0.8033 - val_loss: 0.5201 - val_accuracy: 0.7502\n",
      "Epoch 5/15\n",
      "238/238 [==============================] - 51s 214ms/step - loss: 0.4250 - accuracy: 0.8129 - val_loss: 0.4700 - val_accuracy: 0.7869\n",
      "Epoch 6/15\n",
      "238/238 [==============================] - 51s 215ms/step - loss: 0.4008 - accuracy: 0.8240 - val_loss: 0.4103 - val_accuracy: 0.8162\n",
      "Epoch 7/15\n",
      "238/238 [==============================] - 51s 215ms/step - loss: 0.3859 - accuracy: 0.8243 - val_loss: 0.3855 - val_accuracy: 0.8223\n",
      "Epoch 8/15\n",
      "238/238 [==============================] - 51s 215ms/step - loss: 0.3709 - accuracy: 0.8266 - val_loss: 0.3586 - val_accuracy: 0.8352\n",
      "Epoch 9/15\n",
      "238/238 [==============================] - 51s 214ms/step - loss: 0.3588 - accuracy: 0.8344 - val_loss: 0.3634 - val_accuracy: 0.8295\n",
      "Epoch 10/15\n",
      "238/238 [==============================] - 51s 215ms/step - loss: 0.3542 - accuracy: 0.8360 - val_loss: 0.3385 - val_accuracy: 0.8437\n",
      "Epoch 11/15\n",
      "238/238 [==============================] - 51s 215ms/step - loss: 0.3424 - accuracy: 0.8416 - val_loss: 0.4151 - val_accuracy: 0.8019\n",
      "Epoch 12/15\n",
      "238/238 [==============================] - 51s 215ms/step - loss: 0.3342 - accuracy: 0.8465 - val_loss: 0.3101 - val_accuracy: 0.8572\n",
      "Epoch 13/15\n",
      "238/238 [==============================] - 51s 215ms/step - loss: 0.3261 - accuracy: 0.8497 - val_loss: 0.2953 - val_accuracy: 0.8656\n",
      "Epoch 14/15\n",
      "238/238 [==============================] - 51s 215ms/step - loss: 0.3171 - accuracy: 0.8560 - val_loss: 0.3053 - val_accuracy: 0.8638\n",
      "Epoch 15/15\n",
      "238/238 [==============================] - 51s 215ms/step - loss: 0.3102 - accuracy: 0.8586 - val_loss: 0.3768 - val_accuracy: 0.8200\n"
     ]
    },
    {
     "data": {
      "text/html": [
       "<br/>Waiting for W&B process to finish, PID 1167<br/>Program ended successfully."
      ],
      "text/plain": [
       "<IPython.core.display.HTML object>"
      ]
     },
     "metadata": {},
     "output_type": "display_data"
    },
    {
     "data": {
      "application/vnd.jupyter.widget-view+json": {
       "model_id": "",
       "version_major": 2,
       "version_minor": 0
      },
      "text/plain": [
       "VBox(children=(Label(value=' 6.03MB of 6.03MB uploaded (0.00MB deduped)\\r'), FloatProgress(value=1.0, max=1.0)…"
      ]
     },
     "metadata": {},
     "output_type": "display_data"
    },
    {
     "data": {
      "text/html": [
       "Find user logs for this run at: <code>/home/jovyan/work/wandb/run-20210426_122358-l9tbibbk/logs/debug.log</code>"
      ],
      "text/plain": [
       "<IPython.core.display.HTML object>"
      ]
     },
     "metadata": {},
     "output_type": "display_data"
    },
    {
     "data": {
      "text/html": [
       "Find internal logs for this run at: <code>/home/jovyan/work/wandb/run-20210426_122358-l9tbibbk/logs/debug-internal.log</code>"
      ],
      "text/plain": [
       "<IPython.core.display.HTML object>"
      ]
     },
     "metadata": {},
     "output_type": "display_data"
    },
    {
     "data": {
      "text/html": [
       "<h3>Run summary:</h3><br/><style>\n",
       "    table.wandb td:nth-child(1) { padding: 0 10px; text-align: right }\n",
       "    </style><table class=\"wandb\">\n",
       "<tr><td>epoch</td><td>14</td></tr><tr><td>loss</td><td>0.31025</td></tr><tr><td>accuracy</td><td>0.85862</td></tr><tr><td>val_loss</td><td>0.37682</td></tr><tr><td>val_accuracy</td><td>0.81998</td></tr><tr><td>_runtime</td><td>775</td></tr><tr><td>_timestamp</td><td>1619440613</td></tr><tr><td>_step</td><td>14</td></tr><tr><td>best_val_loss</td><td>0.29527</td></tr><tr><td>best_epoch</td><td>12</td></tr></table>"
      ],
      "text/plain": [
       "<IPython.core.display.HTML object>"
      ]
     },
     "metadata": {},
     "output_type": "display_data"
    },
    {
     "data": {
      "text/html": [
       "<h3>Run history:</h3><br/><style>\n",
       "    table.wandb td:nth-child(1) { padding: 0 10px; text-align: right }\n",
       "    </style><table class=\"wandb\">\n",
       "<tr><td>epoch</td><td>▁▁▂▃▃▃▄▅▅▅▆▇▇▇█</td></tr><tr><td>loss</td><td>█▇▅▄▃▃▂▂▂▂▂▁▁▁▁</td></tr><tr><td>accuracy</td><td>▁▂▅▇▇▇▇▇▇▇█████</td></tr><tr><td>val_loss</td><td>█▇▄▅▄▃▃▂▂▂▃▁▁▁▃</td></tr><tr><td>val_accuracy</td><td>▁▂▆▅▆▇▇▇▇▇▆███▇</td></tr><tr><td>_runtime</td><td>▁▁▂▃▃▃▄▅▅▅▆▆▇██</td></tr><tr><td>_timestamp</td><td>▁▁▂▃▃▃▄▅▅▅▆▆▇██</td></tr><tr><td>_step</td><td>▁▁▂▃▃▃▄▅▅▅▆▇▇▇█</td></tr></table><br/>"
      ],
      "text/plain": [
       "<IPython.core.display.HTML object>"
      ]
     },
     "metadata": {},
     "output_type": "display_data"
    },
    {
     "data": {
      "text/html": [
       "Synced 5 W&B file(s), 1 media file(s), 0 artifact file(s) and 1 other file(s)"
      ],
      "text/plain": [
       "<IPython.core.display.HTML object>"
      ]
     },
     "metadata": {},
     "output_type": "display_data"
    },
    {
     "data": {
      "text/html": [
       "\n",
       "                    <br/>Synced <strong style=\"color:#cdcd00\">zesty-sweep-8</strong>: <a href=\"https://wandb.ai/motuziik/model_optimization/runs/l9tbibbk\" target=\"_blank\">https://wandb.ai/motuziik/model_optimization/runs/l9tbibbk</a><br/>\n",
       "                "
      ],
      "text/plain": [
       "<IPython.core.display.HTML object>"
      ]
     },
     "metadata": {},
     "output_type": "display_data"
    },
    {
     "name": "stderr",
     "output_type": "stream",
     "text": [
      "\u001b[34m\u001b[1mwandb\u001b[0m: Agent Starting Run: ukijl4yj with config:\n",
      "\u001b[34m\u001b[1mwandb\u001b[0m: \tactivation: relu\n",
      "\u001b[34m\u001b[1mwandb\u001b[0m: \tbatch_size: 128\n",
      "\u001b[34m\u001b[1mwandb\u001b[0m: \tdropout: 0.15\n",
      "\u001b[34m\u001b[1mwandb\u001b[0m: \toptimizer: RMSprop\n",
      "Failed to detect the name of this notebook, you can set it manually with the WANDB_NOTEBOOK_NAME environment variable to enable code saving.\n"
     ]
    },
    {
     "data": {
      "text/html": [
       "\n",
       "                Tracking run with wandb version 0.10.27<br/>\n",
       "                Syncing run <strong style=\"color:#cdcd00\">eager-sweep-9</strong> to <a href=\"https://wandb.ai\" target=\"_blank\">Weights & Biases</a> <a href=\"https://docs.wandb.com/integrations/jupyter.html\" target=\"_blank\">(Documentation)</a>.<br/>\n",
       "                Project page: <a href=\"https://wandb.ai/motuziik/model_optimization\" target=\"_blank\">https://wandb.ai/motuziik/model_optimization</a><br/>\n",
       "                Sweep page: <a href=\"https://wandb.ai/motuziik/model_optimization/sweeps/83eceyoz\" target=\"_blank\">https://wandb.ai/motuziik/model_optimization/sweeps/83eceyoz</a><br/>\n",
       "Run page: <a href=\"https://wandb.ai/motuziik/model_optimization/runs/ukijl4yj\" target=\"_blank\">https://wandb.ai/motuziik/model_optimization/runs/ukijl4yj</a><br/>\n",
       "                Run data is saved locally in <code>/home/jovyan/work/wandb/run-20210426_123658-ukijl4yj</code><br/><br/>\n",
       "            "
      ],
      "text/plain": [
       "<IPython.core.display.HTML object>"
      ]
     },
     "metadata": {},
     "output_type": "display_data"
    },
    {
     "name": "stdout",
     "output_type": "stream",
     "text": [
      "Epoch 1/15\n",
      "  2/238 [..............................] - ETA: 23s - loss: 0.7104 - accuracy: 0.4922WARNING:tensorflow:Callbacks method `on_train_batch_end` is slow compared to the batch time (batch time: 0.0767s vs `on_train_batch_end` time: 0.1233s). Check your callbacks.\n",
      "238/238 [==============================] - 52s 217ms/step - loss: 0.3953 - accuracy: 0.8160 - val_loss: 0.4174 - val_accuracy: 0.8656\n",
      "Epoch 2/15\n",
      "238/238 [==============================] - 52s 216ms/step - loss: 0.2490 - accuracy: 0.9093 - val_loss: 0.2034 - val_accuracy: 0.9251\n",
      "Epoch 3/15\n",
      "238/238 [==============================] - 52s 216ms/step - loss: 0.1691 - accuracy: 0.9404 - val_loss: 0.2000 - val_accuracy: 0.9395\n",
      "Epoch 4/15\n",
      "238/238 [==============================] - 52s 217ms/step - loss: 0.1338 - accuracy: 0.9575 - val_loss: 0.1303 - val_accuracy: 0.9592\n",
      "Epoch 5/15\n",
      "238/238 [==============================] - 52s 217ms/step - loss: 0.1097 - accuracy: 0.9651 - val_loss: 0.1219 - val_accuracy: 0.9595\n",
      "Epoch 6/15\n",
      "238/238 [==============================] - 52s 217ms/step - loss: 0.1007 - accuracy: 0.9691 - val_loss: 0.0887 - val_accuracy: 0.9703\n",
      "Epoch 7/15\n",
      "238/238 [==============================] - 51s 216ms/step - loss: 0.0853 - accuracy: 0.9759 - val_loss: 0.2285 - val_accuracy: 0.9281\n",
      "Epoch 8/15\n",
      "238/238 [==============================] - 51s 216ms/step - loss: 0.0793 - accuracy: 0.9767 - val_loss: 0.1601 - val_accuracy: 0.9634\n",
      "Epoch 9/15\n",
      "238/238 [==============================] - 51s 216ms/step - loss: 0.0742 - accuracy: 0.9784 - val_loss: 0.1274 - val_accuracy: 0.9634\n",
      "Epoch 10/15\n",
      "238/238 [==============================] - 52s 217ms/step - loss: 0.0711 - accuracy: 0.9788 - val_loss: 0.0814 - val_accuracy: 0.9774\n",
      "Epoch 11/15\n",
      "238/238 [==============================] - 51s 216ms/step - loss: 0.0596 - accuracy: 0.9819 - val_loss: 0.1470 - val_accuracy: 0.9559\n",
      "Epoch 12/15\n",
      "238/238 [==============================] - 51s 215ms/step - loss: 0.0576 - accuracy: 0.9831 - val_loss: 0.3444 - val_accuracy: 0.8493\n",
      "Epoch 13/15\n",
      "238/238 [==============================] - 51s 216ms/step - loss: 0.0553 - accuracy: 0.9838 - val_loss: 0.0992 - val_accuracy: 0.9788\n",
      "Epoch 14/15\n",
      "238/238 [==============================] - 51s 216ms/step - loss: 0.0510 - accuracy: 0.9853 - val_loss: 0.1066 - val_accuracy: 0.9733\n",
      "Epoch 15/15\n",
      "238/238 [==============================] - 51s 216ms/step - loss: 0.0488 - accuracy: 0.9860 - val_loss: 0.0897 - val_accuracy: 0.9822\n"
     ]
    },
    {
     "data": {
      "text/html": [
       "<br/>Waiting for W&B process to finish, PID 1264<br/>Program ended successfully."
      ],
      "text/plain": [
       "<IPython.core.display.HTML object>"
      ]
     },
     "metadata": {},
     "output_type": "display_data"
    },
    {
     "data": {
      "application/vnd.jupyter.widget-view+json": {
       "model_id": "",
       "version_major": 2,
       "version_minor": 0
      },
      "text/plain": [
       "VBox(children=(Label(value=' 12.04MB of 12.04MB uploaded (0.00MB deduped)\\r'), FloatProgress(value=1.0, max=1.…"
      ]
     },
     "metadata": {},
     "output_type": "display_data"
    },
    {
     "data": {
      "text/html": [
       "Find user logs for this run at: <code>/home/jovyan/work/wandb/run-20210426_123658-ukijl4yj/logs/debug.log</code>"
      ],
      "text/plain": [
       "<IPython.core.display.HTML object>"
      ]
     },
     "metadata": {},
     "output_type": "display_data"
    },
    {
     "data": {
      "text/html": [
       "Find internal logs for this run at: <code>/home/jovyan/work/wandb/run-20210426_123658-ukijl4yj/logs/debug-internal.log</code>"
      ],
      "text/plain": [
       "<IPython.core.display.HTML object>"
      ]
     },
     "metadata": {},
     "output_type": "display_data"
    },
    {
     "data": {
      "text/html": [
       "<h3>Run summary:</h3><br/><style>\n",
       "    table.wandb td:nth-child(1) { padding: 0 10px; text-align: right }\n",
       "    </style><table class=\"wandb\">\n",
       "<tr><td>epoch</td><td>14</td></tr><tr><td>loss</td><td>0.04881</td></tr><tr><td>accuracy</td><td>0.98602</td></tr><tr><td>val_loss</td><td>0.08972</td></tr><tr><td>val_accuracy</td><td>0.98223</td></tr><tr><td>_runtime</td><td>781</td></tr><tr><td>_timestamp</td><td>1619441399</td></tr><tr><td>_step</td><td>14</td></tr><tr><td>best_val_loss</td><td>0.08137</td></tr><tr><td>best_epoch</td><td>9</td></tr></table>"
      ],
      "text/plain": [
       "<IPython.core.display.HTML object>"
      ]
     },
     "metadata": {},
     "output_type": "display_data"
    },
    {
     "data": {
      "text/html": [
       "<h3>Run history:</h3><br/><style>\n",
       "    table.wandb td:nth-child(1) { padding: 0 10px; text-align: right }\n",
       "    </style><table class=\"wandb\">\n",
       "<tr><td>epoch</td><td>▁▁▂▃▃▃▄▅▅▅▆▇▇▇█</td></tr><tr><td>loss</td><td>█▅▃▃▂▂▂▂▂▁▁▁▁▁▁</td></tr><tr><td>accuracy</td><td>▁▅▆▇▇▇█████████</td></tr><tr><td>val_loss</td><td>█▄▃▂▂▁▄▃▂▁▂▆▁▂▁</td></tr><tr><td>val_accuracy</td><td>▂▅▆▇▇▇▅▇▇█▇▁███</td></tr><tr><td>_runtime</td><td>▁▁▂▃▃▃▄▅▅▆▆▆▇▇█</td></tr><tr><td>_timestamp</td><td>▁▁▂▃▃▃▄▅▅▆▆▆▇▇█</td></tr><tr><td>_step</td><td>▁▁▂▃▃▃▄▅▅▅▆▇▇▇█</td></tr></table><br/>"
      ],
      "text/plain": [
       "<IPython.core.display.HTML object>"
      ]
     },
     "metadata": {},
     "output_type": "display_data"
    },
    {
     "data": {
      "text/html": [
       "Synced 5 W&B file(s), 1 media file(s), 0 artifact file(s) and 1 other file(s)"
      ],
      "text/plain": [
       "<IPython.core.display.HTML object>"
      ]
     },
     "metadata": {},
     "output_type": "display_data"
    },
    {
     "data": {
      "text/html": [
       "\n",
       "                    <br/>Synced <strong style=\"color:#cdcd00\">eager-sweep-9</strong>: <a href=\"https://wandb.ai/motuziik/model_optimization/runs/ukijl4yj\" target=\"_blank\">https://wandb.ai/motuziik/model_optimization/runs/ukijl4yj</a><br/>\n",
       "                "
      ],
      "text/plain": [
       "<IPython.core.display.HTML object>"
      ]
     },
     "metadata": {},
     "output_type": "display_data"
    },
    {
     "name": "stderr",
     "output_type": "stream",
     "text": [
      "\u001b[34m\u001b[1mwandb\u001b[0m: Agent Starting Run: p349i4u6 with config:\n",
      "\u001b[34m\u001b[1mwandb\u001b[0m: \tactivation: relu\n",
      "\u001b[34m\u001b[1mwandb\u001b[0m: \tbatch_size: 64\n",
      "\u001b[34m\u001b[1mwandb\u001b[0m: \tdropout: 0.25\n",
      "\u001b[34m\u001b[1mwandb\u001b[0m: \toptimizer: adam\n",
      "Failed to detect the name of this notebook, you can set it manually with the WANDB_NOTEBOOK_NAME environment variable to enable code saving.\n"
     ]
    },
    {
     "data": {
      "text/html": [
       "\n",
       "                Tracking run with wandb version 0.10.27<br/>\n",
       "                Syncing run <strong style=\"color:#cdcd00\">sunny-sweep-10</strong> to <a href=\"https://wandb.ai\" target=\"_blank\">Weights & Biases</a> <a href=\"https://docs.wandb.com/integrations/jupyter.html\" target=\"_blank\">(Documentation)</a>.<br/>\n",
       "                Project page: <a href=\"https://wandb.ai/motuziik/model_optimization\" target=\"_blank\">https://wandb.ai/motuziik/model_optimization</a><br/>\n",
       "                Sweep page: <a href=\"https://wandb.ai/motuziik/model_optimization/sweeps/83eceyoz\" target=\"_blank\">https://wandb.ai/motuziik/model_optimization/sweeps/83eceyoz</a><br/>\n",
       "Run page: <a href=\"https://wandb.ai/motuziik/model_optimization/runs/p349i4u6\" target=\"_blank\">https://wandb.ai/motuziik/model_optimization/runs/p349i4u6</a><br/>\n",
       "                Run data is saved locally in <code>/home/jovyan/work/wandb/run-20210426_125003-p349i4u6</code><br/><br/>\n",
       "            "
      ],
      "text/plain": [
       "<IPython.core.display.HTML object>"
      ]
     },
     "metadata": {},
     "output_type": "display_data"
    },
    {
     "name": "stdout",
     "output_type": "stream",
     "text": [
      "Epoch 1/15\n",
      "475/475 [==============================] - 54s 113ms/step - loss: 0.3174 - accuracy: 0.8664 - val_loss: 0.2031 - val_accuracy: 0.9264\n",
      "Epoch 2/15\n",
      "475/475 [==============================] - 53s 112ms/step - loss: 0.1754 - accuracy: 0.9390 - val_loss: 0.1308 - val_accuracy: 0.9547\n",
      "Epoch 3/15\n",
      "475/475 [==============================] - 53s 112ms/step - loss: 0.1482 - accuracy: 0.9495 - val_loss: 0.2362 - val_accuracy: 0.9371\n",
      "Epoch 4/15\n",
      "475/475 [==============================] - 53s 112ms/step - loss: 0.1251 - accuracy: 0.9601 - val_loss: 0.1082 - val_accuracy: 0.9703\n",
      "Epoch 5/15\n",
      "475/475 [==============================] - 53s 112ms/step - loss: 0.1004 - accuracy: 0.9684 - val_loss: 0.1212 - val_accuracy: 0.9683\n",
      "Epoch 6/15\n",
      "475/475 [==============================] - 53s 112ms/step - loss: 0.0900 - accuracy: 0.9727 - val_loss: 0.0807 - val_accuracy: 0.9733\n",
      "Epoch 7/15\n",
      "475/475 [==============================] - 53s 112ms/step - loss: 0.0772 - accuracy: 0.9763 - val_loss: 0.0947 - val_accuracy: 0.9716\n",
      "Epoch 8/15\n",
      "475/475 [==============================] - 53s 112ms/step - loss: 0.0732 - accuracy: 0.9784 - val_loss: 0.0880 - val_accuracy: 0.9751\n",
      "Epoch 9/15\n",
      "475/475 [==============================] - 53s 112ms/step - loss: 0.0633 - accuracy: 0.9813 - val_loss: 0.1016 - val_accuracy: 0.9709\n",
      "Epoch 10/15\n",
      "475/475 [==============================] - 53s 111ms/step - loss: 0.0552 - accuracy: 0.9831 - val_loss: 0.0855 - val_accuracy: 0.9762\n",
      "Epoch 11/15\n",
      "475/475 [==============================] - 53s 111ms/step - loss: 0.0529 - accuracy: 0.9829 - val_loss: 0.0811 - val_accuracy: 0.9771\n",
      "Epoch 12/15\n",
      "475/475 [==============================] - 53s 112ms/step - loss: 0.0470 - accuracy: 0.9857 - val_loss: 0.0939 - val_accuracy: 0.9742\n",
      "Epoch 13/15\n",
      "475/475 [==============================] - 53s 111ms/step - loss: 0.0344 - accuracy: 0.9890 - val_loss: 0.1015 - val_accuracy: 0.9770\n",
      "Epoch 14/15\n",
      "475/475 [==============================] - 53s 111ms/step - loss: 0.0364 - accuracy: 0.9884 - val_loss: 0.1002 - val_accuracy: 0.9749\n",
      "Epoch 15/15\n",
      "475/475 [==============================] - 53s 111ms/step - loss: 0.0266 - accuracy: 0.9914 - val_loss: 0.1098 - val_accuracy: 0.9770\n"
     ]
    },
    {
     "data": {
      "text/html": [
       "<br/>Waiting for W&B process to finish, PID 1361<br/>Program ended successfully."
      ],
      "text/plain": [
       "<IPython.core.display.HTML object>"
      ]
     },
     "metadata": {},
     "output_type": "display_data"
    },
    {
     "data": {
      "application/vnd.jupyter.widget-view+json": {
       "model_id": "",
       "version_major": 2,
       "version_minor": 0
      },
      "text/plain": [
       "VBox(children=(Label(value=' 18.03MB of 18.03MB uploaded (0.00MB deduped)\\r'), FloatProgress(value=1.0, max=1.…"
      ]
     },
     "metadata": {},
     "output_type": "display_data"
    },
    {
     "data": {
      "text/html": [
       "Find user logs for this run at: <code>/home/jovyan/work/wandb/run-20210426_125003-p349i4u6/logs/debug.log</code>"
      ],
      "text/plain": [
       "<IPython.core.display.HTML object>"
      ]
     },
     "metadata": {},
     "output_type": "display_data"
    },
    {
     "data": {
      "text/html": [
       "Find internal logs for this run at: <code>/home/jovyan/work/wandb/run-20210426_125003-p349i4u6/logs/debug-internal.log</code>"
      ],
      "text/plain": [
       "<IPython.core.display.HTML object>"
      ]
     },
     "metadata": {},
     "output_type": "display_data"
    },
    {
     "data": {
      "text/html": [
       "<h3>Run summary:</h3><br/><style>\n",
       "    table.wandb td:nth-child(1) { padding: 0 10px; text-align: right }\n",
       "    </style><table class=\"wandb\">\n",
       "<tr><td>epoch</td><td>14</td></tr><tr><td>loss</td><td>0.02657</td></tr><tr><td>accuracy</td><td>0.99141</td></tr><tr><td>val_loss</td><td>0.10975</td></tr><tr><td>val_accuracy</td><td>0.97697</td></tr><tr><td>_runtime</td><td>805</td></tr><tr><td>_timestamp</td><td>1619442208</td></tr><tr><td>_step</td><td>14</td></tr><tr><td>best_val_loss</td><td>0.08072</td></tr><tr><td>best_epoch</td><td>5</td></tr></table>"
      ],
      "text/plain": [
       "<IPython.core.display.HTML object>"
      ]
     },
     "metadata": {},
     "output_type": "display_data"
    },
    {
     "data": {
      "text/html": [
       "<h3>Run history:</h3><br/><style>\n",
       "    table.wandb td:nth-child(1) { padding: 0 10px; text-align: right }\n",
       "    </style><table class=\"wandb\">\n",
       "<tr><td>epoch</td><td>▁▁▂▃▃▃▄▅▅▅▆▇▇▇█</td></tr><tr><td>loss</td><td>█▅▄▃▃▃▂▂▂▂▂▁▁▁▁</td></tr><tr><td>accuracy</td><td>▁▅▆▆▇▇▇▇▇██████</td></tr><tr><td>val_loss</td><td>▇▃█▂▃▁▂▁▂▁▁▂▂▂▂</td></tr><tr><td>val_accuracy</td><td>▁▅▂▇▇▇▇█▇██████</td></tr><tr><td>_runtime</td><td>▁▁▂▃▃▄▄▅▅▆▆▇▇██</td></tr><tr><td>_timestamp</td><td>▁▁▂▃▃▄▄▅▅▆▆▇▇██</td></tr><tr><td>_step</td><td>▁▁▂▃▃▃▄▅▅▅▆▇▇▇█</td></tr></table><br/>"
      ],
      "text/plain": [
       "<IPython.core.display.HTML object>"
      ]
     },
     "metadata": {},
     "output_type": "display_data"
    },
    {
     "data": {
      "text/html": [
       "Synced 5 W&B file(s), 1 media file(s), 0 artifact file(s) and 1 other file(s)"
      ],
      "text/plain": [
       "<IPython.core.display.HTML object>"
      ]
     },
     "metadata": {},
     "output_type": "display_data"
    },
    {
     "data": {
      "text/html": [
       "\n",
       "                    <br/>Synced <strong style=\"color:#cdcd00\">sunny-sweep-10</strong>: <a href=\"https://wandb.ai/motuziik/model_optimization/runs/p349i4u6\" target=\"_blank\">https://wandb.ai/motuziik/model_optimization/runs/p349i4u6</a><br/>\n",
       "                "
      ],
      "text/plain": [
       "<IPython.core.display.HTML object>"
      ]
     },
     "metadata": {},
     "output_type": "display_data"
    },
    {
     "name": "stderr",
     "output_type": "stream",
     "text": [
      "\u001b[34m\u001b[1mwandb\u001b[0m: Agent Starting Run: 4m5cotfh with config:\n",
      "\u001b[34m\u001b[1mwandb\u001b[0m: \tactivation: relu\n",
      "\u001b[34m\u001b[1mwandb\u001b[0m: \tbatch_size: 64\n",
      "\u001b[34m\u001b[1mwandb\u001b[0m: \tdropout: 0.25\n",
      "\u001b[34m\u001b[1mwandb\u001b[0m: \toptimizer: SGD\n",
      "Failed to detect the name of this notebook, you can set it manually with the WANDB_NOTEBOOK_NAME environment variable to enable code saving.\n"
     ]
    },
    {
     "data": {
      "text/html": [
       "\n",
       "                Tracking run with wandb version 0.10.27<br/>\n",
       "                Syncing run <strong style=\"color:#cdcd00\">astral-sweep-11</strong> to <a href=\"https://wandb.ai\" target=\"_blank\">Weights & Biases</a> <a href=\"https://docs.wandb.com/integrations/jupyter.html\" target=\"_blank\">(Documentation)</a>.<br/>\n",
       "                Project page: <a href=\"https://wandb.ai/motuziik/model_optimization\" target=\"_blank\">https://wandb.ai/motuziik/model_optimization</a><br/>\n",
       "                Sweep page: <a href=\"https://wandb.ai/motuziik/model_optimization/sweeps/83eceyoz\" target=\"_blank\">https://wandb.ai/motuziik/model_optimization/sweeps/83eceyoz</a><br/>\n",
       "Run page: <a href=\"https://wandb.ai/motuziik/model_optimization/runs/4m5cotfh\" target=\"_blank\">https://wandb.ai/motuziik/model_optimization/runs/4m5cotfh</a><br/>\n",
       "                Run data is saved locally in <code>/home/jovyan/work/wandb/run-20210426_130333-4m5cotfh</code><br/><br/>\n",
       "            "
      ],
      "text/plain": [
       "<IPython.core.display.HTML object>"
      ]
     },
     "metadata": {},
     "output_type": "display_data"
    },
    {
     "name": "stdout",
     "output_type": "stream",
     "text": [
      "Epoch 1/15\n",
      "475/475 [==============================] - 54s 113ms/step - loss: 0.6291 - accuracy: 0.6016 - val_loss: 0.5149 - val_accuracy: 0.7015\n",
      "Epoch 2/15\n",
      "475/475 [==============================] - 53s 112ms/step - loss: 0.4589 - accuracy: 0.7827 - val_loss: 0.4222 - val_accuracy: 0.8200\n",
      "Epoch 3/15\n",
      "475/475 [==============================] - 53s 112ms/step - loss: 0.4220 - accuracy: 0.8104 - val_loss: 0.3907 - val_accuracy: 0.8302\n",
      "Epoch 4/15\n",
      "475/475 [==============================] - 53s 112ms/step - loss: 0.3960 - accuracy: 0.8216 - val_loss: 0.3769 - val_accuracy: 0.8339\n",
      "Epoch 5/15\n",
      "475/475 [==============================] - 53s 112ms/step - loss: 0.3784 - accuracy: 0.8262 - val_loss: 0.3491 - val_accuracy: 0.8385\n",
      "Epoch 6/15\n",
      "475/475 [==============================] - 53s 112ms/step - loss: 0.3563 - accuracy: 0.8348 - val_loss: 0.3522 - val_accuracy: 0.8389\n",
      "Epoch 7/15\n",
      "475/475 [==============================] - 53s 112ms/step - loss: 0.3409 - accuracy: 0.8444 - val_loss: 0.3305 - val_accuracy: 0.8435\n",
      "Epoch 8/15\n",
      "475/475 [==============================] - 53s 112ms/step - loss: 0.3242 - accuracy: 0.8516 - val_loss: 0.3301 - val_accuracy: 0.8472\n",
      "Epoch 9/15\n",
      "475/475 [==============================] - 53s 113ms/step - loss: 0.3125 - accuracy: 0.8613 - val_loss: 0.2854 - val_accuracy: 0.8730\n",
      "Epoch 10/15\n",
      "475/475 [==============================] - 53s 113ms/step - loss: 0.3037 - accuracy: 0.8647 - val_loss: 0.2781 - val_accuracy: 0.8809\n",
      "Epoch 11/15\n",
      "475/475 [==============================] - 53s 112ms/step - loss: 0.2878 - accuracy: 0.8764 - val_loss: 0.2597 - val_accuracy: 0.8891\n",
      "Epoch 12/15\n",
      "475/475 [==============================] - 53s 112ms/step - loss: 0.2732 - accuracy: 0.8855 - val_loss: 0.2490 - val_accuracy: 0.8960\n",
      "Epoch 13/15\n",
      "475/475 [==============================] - 53s 113ms/step - loss: 0.2652 - accuracy: 0.8894 - val_loss: 0.2405 - val_accuracy: 0.9022\n",
      "Epoch 14/15\n",
      "475/475 [==============================] - 53s 112ms/step - loss: 0.2544 - accuracy: 0.8954 - val_loss: 0.2363 - val_accuracy: 0.9022\n",
      "Epoch 15/15\n",
      "475/475 [==============================] - 53s 113ms/step - loss: 0.2463 - accuracy: 0.8983 - val_loss: 0.2144 - val_accuracy: 0.9168\n"
     ]
    },
    {
     "data": {
      "text/html": [
       "<br/>Waiting for W&B process to finish, PID 1458<br/>Program ended successfully."
      ],
      "text/plain": [
       "<IPython.core.display.HTML object>"
      ]
     },
     "metadata": {},
     "output_type": "display_data"
    },
    {
     "data": {
      "application/vnd.jupyter.widget-view+json": {
       "model_id": "",
       "version_major": 2,
       "version_minor": 0
      },
      "text/plain": [
       "VBox(children=(Label(value=' 6.03MB of 6.03MB uploaded (0.00MB deduped)\\r'), FloatProgress(value=1.0, max=1.0)…"
      ]
     },
     "metadata": {},
     "output_type": "display_data"
    },
    {
     "data": {
      "text/html": [
       "Find user logs for this run at: <code>/home/jovyan/work/wandb/run-20210426_130333-4m5cotfh/logs/debug.log</code>"
      ],
      "text/plain": [
       "<IPython.core.display.HTML object>"
      ]
     },
     "metadata": {},
     "output_type": "display_data"
    },
    {
     "data": {
      "text/html": [
       "Find internal logs for this run at: <code>/home/jovyan/work/wandb/run-20210426_130333-4m5cotfh/logs/debug-internal.log</code>"
      ],
      "text/plain": [
       "<IPython.core.display.HTML object>"
      ]
     },
     "metadata": {},
     "output_type": "display_data"
    },
    {
     "data": {
      "text/html": [
       "<h3>Run summary:</h3><br/><style>\n",
       "    table.wandb td:nth-child(1) { padding: 0 10px; text-align: right }\n",
       "    </style><table class=\"wandb\">\n",
       "<tr><td>epoch</td><td>14</td></tr><tr><td>loss</td><td>0.2463</td></tr><tr><td>accuracy</td><td>0.89834</td></tr><tr><td>val_loss</td><td>0.21438</td></tr><tr><td>val_accuracy</td><td>0.91683</td></tr><tr><td>_runtime</td><td>808</td></tr><tr><td>_timestamp</td><td>1619443021</td></tr><tr><td>_step</td><td>14</td></tr><tr><td>best_val_loss</td><td>0.21438</td></tr><tr><td>best_epoch</td><td>14</td></tr></table>"
      ],
      "text/plain": [
       "<IPython.core.display.HTML object>"
      ]
     },
     "metadata": {},
     "output_type": "display_data"
    },
    {
     "data": {
      "text/html": [
       "<h3>Run history:</h3><br/><style>\n",
       "    table.wandb td:nth-child(1) { padding: 0 10px; text-align: right }\n",
       "    </style><table class=\"wandb\">\n",
       "<tr><td>epoch</td><td>▁▁▂▃▃▃▄▅▅▅▆▇▇▇█</td></tr><tr><td>loss</td><td>█▅▄▄▃▃▃▂▂▂▂▁▁▁▁</td></tr><tr><td>accuracy</td><td>▁▅▆▆▆▇▇▇▇▇▇████</td></tr><tr><td>val_loss</td><td>█▆▅▅▄▄▄▄▃▂▂▂▂▂▁</td></tr><tr><td>val_accuracy</td><td>▁▅▅▅▅▅▆▆▇▇▇▇███</td></tr><tr><td>_runtime</td><td>▁▁▂▂▃▃▄▄▅▅▆▆▇▇█</td></tr><tr><td>_timestamp</td><td>▁▁▂▂▃▃▄▄▅▅▆▆▇▇█</td></tr><tr><td>_step</td><td>▁▁▂▃▃▃▄▅▅▅▆▇▇▇█</td></tr></table><br/>"
      ],
      "text/plain": [
       "<IPython.core.display.HTML object>"
      ]
     },
     "metadata": {},
     "output_type": "display_data"
    },
    {
     "data": {
      "text/html": [
       "Synced 5 W&B file(s), 1 media file(s), 0 artifact file(s) and 1 other file(s)"
      ],
      "text/plain": [
       "<IPython.core.display.HTML object>"
      ]
     },
     "metadata": {},
     "output_type": "display_data"
    },
    {
     "data": {
      "text/html": [
       "\n",
       "                    <br/>Synced <strong style=\"color:#cdcd00\">astral-sweep-11</strong>: <a href=\"https://wandb.ai/motuziik/model_optimization/runs/4m5cotfh\" target=\"_blank\">https://wandb.ai/motuziik/model_optimization/runs/4m5cotfh</a><br/>\n",
       "                "
      ],
      "text/plain": [
       "<IPython.core.display.HTML object>"
      ]
     },
     "metadata": {},
     "output_type": "display_data"
    },
    {
     "name": "stderr",
     "output_type": "stream",
     "text": [
      "\u001b[34m\u001b[1mwandb\u001b[0m: Agent Starting Run: 1bl8f1zl with config:\n",
      "\u001b[34m\u001b[1mwandb\u001b[0m: \tactivation: relu\n",
      "\u001b[34m\u001b[1mwandb\u001b[0m: \tbatch_size: 64\n",
      "\u001b[34m\u001b[1mwandb\u001b[0m: \tdropout: 0.25\n",
      "\u001b[34m\u001b[1mwandb\u001b[0m: \toptimizer: RMSprop\n",
      "Failed to detect the name of this notebook, you can set it manually with the WANDB_NOTEBOOK_NAME environment variable to enable code saving.\n"
     ]
    },
    {
     "data": {
      "text/html": [
       "\n",
       "                Tracking run with wandb version 0.10.27<br/>\n",
       "                Syncing run <strong style=\"color:#cdcd00\">atomic-sweep-12</strong> to <a href=\"https://wandb.ai\" target=\"_blank\">Weights & Biases</a> <a href=\"https://docs.wandb.com/integrations/jupyter.html\" target=\"_blank\">(Documentation)</a>.<br/>\n",
       "                Project page: <a href=\"https://wandb.ai/motuziik/model_optimization\" target=\"_blank\">https://wandb.ai/motuziik/model_optimization</a><br/>\n",
       "                Sweep page: <a href=\"https://wandb.ai/motuziik/model_optimization/sweeps/83eceyoz\" target=\"_blank\">https://wandb.ai/motuziik/model_optimization/sweeps/83eceyoz</a><br/>\n",
       "Run page: <a href=\"https://wandb.ai/motuziik/model_optimization/runs/1bl8f1zl\" target=\"_blank\">https://wandb.ai/motuziik/model_optimization/runs/1bl8f1zl</a><br/>\n",
       "                Run data is saved locally in <code>/home/jovyan/work/wandb/run-20210426_131705-1bl8f1zl</code><br/><br/>\n",
       "            "
      ],
      "text/plain": [
       "<IPython.core.display.HTML object>"
      ]
     },
     "metadata": {},
     "output_type": "display_data"
    },
    {
     "name": "stdout",
     "output_type": "stream",
     "text": [
      "Epoch 1/15\n",
      "475/475 [==============================] - 55s 115ms/step - loss: 0.3372 - accuracy: 0.8578 - val_loss: 0.2162 - val_accuracy: 0.9189\n",
      "Epoch 2/15\n",
      "475/475 [==============================] - 54s 114ms/step - loss: 0.1800 - accuracy: 0.9408 - val_loss: 0.1492 - val_accuracy: 0.9487\n",
      "Epoch 3/15\n",
      "475/475 [==============================] - 54s 114ms/step - loss: 0.1449 - accuracy: 0.9577 - val_loss: 0.1457 - val_accuracy: 0.9568\n",
      "Epoch 4/15\n",
      "475/475 [==============================] - 54s 114ms/step - loss: 0.1245 - accuracy: 0.9657 - val_loss: 0.1058 - val_accuracy: 0.9689\n",
      "Epoch 5/15\n",
      "475/475 [==============================] - 54s 114ms/step - loss: 0.1080 - accuracy: 0.9693 - val_loss: 0.1142 - val_accuracy: 0.9701\n",
      "Epoch 6/15\n",
      "475/475 [==============================] - 54s 114ms/step - loss: 0.1031 - accuracy: 0.9717 - val_loss: 0.1023 - val_accuracy: 0.9703\n",
      "Epoch 7/15\n",
      "475/475 [==============================] - 54s 114ms/step - loss: 0.0947 - accuracy: 0.9729 - val_loss: 0.0785 - val_accuracy: 0.9758\n",
      "Epoch 8/15\n",
      "475/475 [==============================] - 54s 114ms/step - loss: 0.0910 - accuracy: 0.9749 - val_loss: 0.1010 - val_accuracy: 0.9720\n",
      "Epoch 9/15\n",
      "475/475 [==============================] - 54s 113ms/step - loss: 0.0980 - accuracy: 0.9757 - val_loss: 0.0839 - val_accuracy: 0.9776\n",
      "Epoch 10/15\n",
      "475/475 [==============================] - 54s 114ms/step - loss: 0.0841 - accuracy: 0.9775 - val_loss: 0.1155 - val_accuracy: 0.9757\n",
      "Epoch 11/15\n",
      "475/475 [==============================] - 54s 113ms/step - loss: 0.1140 - accuracy: 0.9784 - val_loss: 0.0895 - val_accuracy: 0.9770\n",
      "Epoch 12/15\n",
      "475/475 [==============================] - 54s 114ms/step - loss: 0.0813 - accuracy: 0.9793 - val_loss: 0.0766 - val_accuracy: 0.9780\n",
      "Epoch 13/15\n",
      "475/475 [==============================] - 54s 113ms/step - loss: 0.0732 - accuracy: 0.9807 - val_loss: 0.1088 - val_accuracy: 0.9709\n",
      "Epoch 14/15\n",
      "475/475 [==============================] - 54s 113ms/step - loss: 0.4971 - accuracy: 0.9804 - val_loss: 0.0796 - val_accuracy: 0.9793\n",
      "Epoch 15/15\n",
      "475/475 [==============================] - 54s 114ms/step - loss: 0.0783 - accuracy: 0.9808 - val_loss: 0.0712 - val_accuracy: 0.9780\n"
     ]
    },
    {
     "data": {
      "text/html": [
       "<br/>Waiting for W&B process to finish, PID 1555<br/>Program ended successfully."
      ],
      "text/plain": [
       "<IPython.core.display.HTML object>"
      ]
     },
     "metadata": {},
     "output_type": "display_data"
    },
    {
     "data": {
      "application/vnd.jupyter.widget-view+json": {
       "model_id": "",
       "version_major": 2,
       "version_minor": 0
      },
      "text/plain": [
       "VBox(children=(Label(value=' 12.04MB of 12.04MB uploaded (0.00MB deduped)\\r'), FloatProgress(value=1.0, max=1.…"
      ]
     },
     "metadata": {},
     "output_type": "display_data"
    },
    {
     "data": {
      "text/html": [
       "Find user logs for this run at: <code>/home/jovyan/work/wandb/run-20210426_131705-1bl8f1zl/logs/debug.log</code>"
      ],
      "text/plain": [
       "<IPython.core.display.HTML object>"
      ]
     },
     "metadata": {},
     "output_type": "display_data"
    },
    {
     "data": {
      "text/html": [
       "Find internal logs for this run at: <code>/home/jovyan/work/wandb/run-20210426_131705-1bl8f1zl/logs/debug-internal.log</code>"
      ],
      "text/plain": [
       "<IPython.core.display.HTML object>"
      ]
     },
     "metadata": {},
     "output_type": "display_data"
    },
    {
     "data": {
      "text/html": [
       "<h3>Run summary:</h3><br/><style>\n",
       "    table.wandb td:nth-child(1) { padding: 0 10px; text-align: right }\n",
       "    </style><table class=\"wandb\">\n",
       "<tr><td>epoch</td><td>14</td></tr><tr><td>loss</td><td>0.07833</td></tr><tr><td>accuracy</td><td>0.98075</td></tr><tr><td>val_loss</td><td>0.07123</td></tr><tr><td>val_accuracy</td><td>0.97802</td></tr><tr><td>_runtime</td><td>818</td></tr><tr><td>_timestamp</td><td>1619443843</td></tr><tr><td>_step</td><td>14</td></tr><tr><td>best_val_loss</td><td>0.07123</td></tr><tr><td>best_epoch</td><td>14</td></tr></table>"
      ],
      "text/plain": [
       "<IPython.core.display.HTML object>"
      ]
     },
     "metadata": {},
     "output_type": "display_data"
    },
    {
     "data": {
      "text/html": [
       "<h3>Run history:</h3><br/><style>\n",
       "    table.wandb td:nth-child(1) { padding: 0 10px; text-align: right }\n",
       "    </style><table class=\"wandb\">\n",
       "<tr><td>epoch</td><td>▁▁▂▃▃▃▄▅▅▅▆▇▇▇█</td></tr><tr><td>loss</td><td>▅▃▂▂▂▁▁▁▁▁▂▁▁█▁</td></tr><tr><td>accuracy</td><td>▁▆▇▇▇▇█████████</td></tr><tr><td>val_loss</td><td>█▅▅▃▃▃▁▂▂▃▂▁▃▁▁</td></tr><tr><td>val_accuracy</td><td>▁▄▅▇▇▇█▇████▇██</td></tr><tr><td>_runtime</td><td>▁▂▂▃▃▄▄▅▅▆▆▇▇██</td></tr><tr><td>_timestamp</td><td>▁▂▂▃▃▄▄▅▅▆▆▇▇██</td></tr><tr><td>_step</td><td>▁▁▂▃▃▃▄▅▅▅▆▇▇▇█</td></tr></table><br/>"
      ],
      "text/plain": [
       "<IPython.core.display.HTML object>"
      ]
     },
     "metadata": {},
     "output_type": "display_data"
    },
    {
     "data": {
      "text/html": [
       "Synced 5 W&B file(s), 1 media file(s), 0 artifact file(s) and 1 other file(s)"
      ],
      "text/plain": [
       "<IPython.core.display.HTML object>"
      ]
     },
     "metadata": {},
     "output_type": "display_data"
    },
    {
     "data": {
      "text/html": [
       "\n",
       "                    <br/>Synced <strong style=\"color:#cdcd00\">atomic-sweep-12</strong>: <a href=\"https://wandb.ai/motuziik/model_optimization/runs/1bl8f1zl\" target=\"_blank\">https://wandb.ai/motuziik/model_optimization/runs/1bl8f1zl</a><br/>\n",
       "                "
      ],
      "text/plain": [
       "<IPython.core.display.HTML object>"
      ]
     },
     "metadata": {},
     "output_type": "display_data"
    },
    {
     "name": "stderr",
     "output_type": "stream",
     "text": [
      "\u001b[34m\u001b[1mwandb\u001b[0m: Agent Starting Run: ey8zbm0z with config:\n",
      "\u001b[34m\u001b[1mwandb\u001b[0m: \tactivation: relu\n",
      "\u001b[34m\u001b[1mwandb\u001b[0m: \tbatch_size: 64\n",
      "\u001b[34m\u001b[1mwandb\u001b[0m: \tdropout: 0.2\n",
      "\u001b[34m\u001b[1mwandb\u001b[0m: \toptimizer: adam\n",
      "Failed to detect the name of this notebook, you can set it manually with the WANDB_NOTEBOOK_NAME environment variable to enable code saving.\n"
     ]
    },
    {
     "data": {
      "text/html": [
       "\n",
       "                Tracking run with wandb version 0.10.27<br/>\n",
       "                Syncing run <strong style=\"color:#cdcd00\">bumbling-sweep-13</strong> to <a href=\"https://wandb.ai\" target=\"_blank\">Weights & Biases</a> <a href=\"https://docs.wandb.com/integrations/jupyter.html\" target=\"_blank\">(Documentation)</a>.<br/>\n",
       "                Project page: <a href=\"https://wandb.ai/motuziik/model_optimization\" target=\"_blank\">https://wandb.ai/motuziik/model_optimization</a><br/>\n",
       "                Sweep page: <a href=\"https://wandb.ai/motuziik/model_optimization/sweeps/83eceyoz\" target=\"_blank\">https://wandb.ai/motuziik/model_optimization/sweeps/83eceyoz</a><br/>\n",
       "Run page: <a href=\"https://wandb.ai/motuziik/model_optimization/runs/ey8zbm0z\" target=\"_blank\">https://wandb.ai/motuziik/model_optimization/runs/ey8zbm0z</a><br/>\n",
       "                Run data is saved locally in <code>/home/jovyan/work/wandb/run-20210426_133048-ey8zbm0z</code><br/><br/>\n",
       "            "
      ],
      "text/plain": [
       "<IPython.core.display.HTML object>"
      ]
     },
     "metadata": {},
     "output_type": "display_data"
    },
    {
     "name": "stdout",
     "output_type": "stream",
     "text": [
      "Epoch 1/15\n",
      "475/475 [==============================] - 54s 113ms/step - loss: 0.3313 - accuracy: 0.8548 - val_loss: 0.2593 - val_accuracy: 0.9067\n",
      "Epoch 2/15\n",
      "475/475 [==============================] - 53s 113ms/step - loss: 0.1983 - accuracy: 0.9273 - val_loss: 0.2510 - val_accuracy: 0.8942\n",
      "Epoch 3/15\n",
      "475/475 [==============================] - 53s 113ms/step - loss: 0.1833 - accuracy: 0.9331 - val_loss: 0.1325 - val_accuracy: 0.9537\n",
      "Epoch 4/15\n",
      "475/475 [==============================] - 53s 113ms/step - loss: 0.1233 - accuracy: 0.9590 - val_loss: 0.1021 - val_accuracy: 0.9699\n",
      "Epoch 5/15\n",
      "475/475 [==============================] - 53s 113ms/step - loss: 0.1025 - accuracy: 0.9681 - val_loss: 0.0997 - val_accuracy: 0.9683\n",
      "Epoch 6/15\n",
      "475/475 [==============================] - 53s 112ms/step - loss: 0.0937 - accuracy: 0.9701 - val_loss: 0.1094 - val_accuracy: 0.9679\n",
      "Epoch 7/15\n",
      "475/475 [==============================] - 53s 113ms/step - loss: 0.0801 - accuracy: 0.9750 - val_loss: 0.0921 - val_accuracy: 0.9728\n",
      "Epoch 8/15\n",
      "475/475 [==============================] - 53s 112ms/step - loss: 0.0714 - accuracy: 0.9777 - val_loss: 0.0836 - val_accuracy: 0.9733\n",
      "Epoch 9/15\n",
      "475/475 [==============================] - 53s 112ms/step - loss: 0.0635 - accuracy: 0.9787 - val_loss: 0.1125 - val_accuracy: 0.9682\n",
      "Epoch 10/15\n",
      "475/475 [==============================] - 53s 112ms/step - loss: 0.0498 - accuracy: 0.9833 - val_loss: 0.0937 - val_accuracy: 0.9742\n",
      "Epoch 11/15\n",
      "475/475 [==============================] - 53s 112ms/step - loss: 0.0422 - accuracy: 0.9863 - val_loss: 0.0995 - val_accuracy: 0.9712\n",
      "Epoch 12/15\n",
      "475/475 [==============================] - 53s 112ms/step - loss: 0.0361 - accuracy: 0.9878 - val_loss: 0.1106 - val_accuracy: 0.9733\n",
      "Epoch 13/15\n",
      "475/475 [==============================] - 53s 111ms/step - loss: 0.0321 - accuracy: 0.9888 - val_loss: 0.1007 - val_accuracy: 0.9695\n",
      "Epoch 14/15\n",
      "475/475 [==============================] - 53s 111ms/step - loss: 0.0350 - accuracy: 0.9898 - val_loss: 0.1106 - val_accuracy: 0.9749\n",
      "Epoch 15/15\n",
      "475/475 [==============================] - 53s 112ms/step - loss: 0.0303 - accuracy: 0.9904 - val_loss: 0.1096 - val_accuracy: 0.9717\n"
     ]
    },
    {
     "data": {
      "text/html": [
       "<br/>Waiting for W&B process to finish, PID 1652<br/>Program ended successfully."
      ],
      "text/plain": [
       "<IPython.core.display.HTML object>"
      ]
     },
     "metadata": {},
     "output_type": "display_data"
    },
    {
     "data": {
      "application/vnd.jupyter.widget-view+json": {
       "model_id": "",
       "version_major": 2,
       "version_minor": 0
      },
      "text/plain": [
       "VBox(children=(Label(value=' 18.03MB of 18.03MB uploaded (0.00MB deduped)\\r'), FloatProgress(value=1.0, max=1.…"
      ]
     },
     "metadata": {},
     "output_type": "display_data"
    },
    {
     "data": {
      "text/html": [
       "Find user logs for this run at: <code>/home/jovyan/work/wandb/run-20210426_133048-ey8zbm0z/logs/debug.log</code>"
      ],
      "text/plain": [
       "<IPython.core.display.HTML object>"
      ]
     },
     "metadata": {},
     "output_type": "display_data"
    },
    {
     "data": {
      "text/html": [
       "Find internal logs for this run at: <code>/home/jovyan/work/wandb/run-20210426_133048-ey8zbm0z/logs/debug-internal.log</code>"
      ],
      "text/plain": [
       "<IPython.core.display.HTML object>"
      ]
     },
     "metadata": {},
     "output_type": "display_data"
    },
    {
     "data": {
      "text/html": [
       "<h3>Run summary:</h3><br/><style>\n",
       "    table.wandb td:nth-child(1) { padding: 0 10px; text-align: right }\n",
       "    </style><table class=\"wandb\">\n",
       "<tr><td>epoch</td><td>14</td></tr><tr><td>loss</td><td>0.0303</td></tr><tr><td>accuracy</td><td>0.99039</td></tr><tr><td>val_loss</td><td>0.10957</td></tr><tr><td>val_accuracy</td><td>0.97171</td></tr><tr><td>_runtime</td><td>806</td></tr><tr><td>_timestamp</td><td>1619444654</td></tr><tr><td>_step</td><td>14</td></tr><tr><td>best_val_loss</td><td>0.08357</td></tr><tr><td>best_epoch</td><td>7</td></tr></table>"
      ],
      "text/plain": [
       "<IPython.core.display.HTML object>"
      ]
     },
     "metadata": {},
     "output_type": "display_data"
    },
    {
     "data": {
      "text/html": [
       "<h3>Run history:</h3><br/><style>\n",
       "    table.wandb td:nth-child(1) { padding: 0 10px; text-align: right }\n",
       "    </style><table class=\"wandb\">\n",
       "<tr><td>epoch</td><td>▁▁▂▃▃▃▄▅▅▅▆▇▇▇█</td></tr><tr><td>loss</td><td>█▅▅▃▃▂▂▂▂▁▁▁▁▁▁</td></tr><tr><td>accuracy</td><td>▁▅▅▆▇▇▇▇▇██████</td></tr><tr><td>val_loss</td><td>██▃▂▂▂▁▁▂▁▂▂▂▂▂</td></tr><tr><td>val_accuracy</td><td>▂▁▆█▇▇██▇██████</td></tr><tr><td>_runtime</td><td>▁▁▂▂▃▄▄▅▅▆▆▇▇██</td></tr><tr><td>_timestamp</td><td>▁▁▂▂▃▄▄▅▅▆▆▇▇██</td></tr><tr><td>_step</td><td>▁▁▂▃▃▃▄▅▅▅▆▇▇▇█</td></tr></table><br/>"
      ],
      "text/plain": [
       "<IPython.core.display.HTML object>"
      ]
     },
     "metadata": {},
     "output_type": "display_data"
    },
    {
     "data": {
      "text/html": [
       "Synced 5 W&B file(s), 1 media file(s), 0 artifact file(s) and 1 other file(s)"
      ],
      "text/plain": [
       "<IPython.core.display.HTML object>"
      ]
     },
     "metadata": {},
     "output_type": "display_data"
    },
    {
     "data": {
      "text/html": [
       "\n",
       "                    <br/>Synced <strong style=\"color:#cdcd00\">bumbling-sweep-13</strong>: <a href=\"https://wandb.ai/motuziik/model_optimization/runs/ey8zbm0z\" target=\"_blank\">https://wandb.ai/motuziik/model_optimization/runs/ey8zbm0z</a><br/>\n",
       "                "
      ],
      "text/plain": [
       "<IPython.core.display.HTML object>"
      ]
     },
     "metadata": {},
     "output_type": "display_data"
    },
    {
     "name": "stderr",
     "output_type": "stream",
     "text": [
      "\u001b[34m\u001b[1mwandb\u001b[0m: Agent Starting Run: 2qlro30x with config:\n",
      "\u001b[34m\u001b[1mwandb\u001b[0m: \tactivation: relu\n",
      "\u001b[34m\u001b[1mwandb\u001b[0m: \tbatch_size: 64\n",
      "\u001b[34m\u001b[1mwandb\u001b[0m: \tdropout: 0.2\n",
      "\u001b[34m\u001b[1mwandb\u001b[0m: \toptimizer: SGD\n",
      "Failed to detect the name of this notebook, you can set it manually with the WANDB_NOTEBOOK_NAME environment variable to enable code saving.\n"
     ]
    },
    {
     "data": {
      "text/html": [
       "\n",
       "                Tracking run with wandb version 0.10.27<br/>\n",
       "                Syncing run <strong style=\"color:#cdcd00\">ancient-sweep-14</strong> to <a href=\"https://wandb.ai\" target=\"_blank\">Weights & Biases</a> <a href=\"https://docs.wandb.com/integrations/jupyter.html\" target=\"_blank\">(Documentation)</a>.<br/>\n",
       "                Project page: <a href=\"https://wandb.ai/motuziik/model_optimization\" target=\"_blank\">https://wandb.ai/motuziik/model_optimization</a><br/>\n",
       "                Sweep page: <a href=\"https://wandb.ai/motuziik/model_optimization/sweeps/83eceyoz\" target=\"_blank\">https://wandb.ai/motuziik/model_optimization/sweeps/83eceyoz</a><br/>\n",
       "Run page: <a href=\"https://wandb.ai/motuziik/model_optimization/runs/2qlro30x\" target=\"_blank\">https://wandb.ai/motuziik/model_optimization/runs/2qlro30x</a><br/>\n",
       "                Run data is saved locally in <code>/home/jovyan/work/wandb/run-20210426_134418-2qlro30x</code><br/><br/>\n",
       "            "
      ],
      "text/plain": [
       "<IPython.core.display.HTML object>"
      ]
     },
     "metadata": {},
     "output_type": "display_data"
    },
    {
     "name": "stdout",
     "output_type": "stream",
     "text": [
      "Epoch 1/15\n",
      "475/475 [==============================] - 54s 113ms/step - loss: 0.6155 - accuracy: 0.6196 - val_loss: 0.4479 - val_accuracy: 0.7631\n",
      "Epoch 2/15\n",
      "475/475 [==============================] - 53s 112ms/step - loss: 0.4205 - accuracy: 0.7973 - val_loss: 0.3842 - val_accuracy: 0.8160\n",
      "Epoch 3/15\n",
      "475/475 [==============================] - 53s 112ms/step - loss: 0.3876 - accuracy: 0.8198 - val_loss: 0.3666 - val_accuracy: 0.8279\n",
      "Epoch 4/15\n",
      "475/475 [==============================] - 53s 112ms/step - loss: 0.3777 - accuracy: 0.8254 - val_loss: 0.3501 - val_accuracy: 0.8355\n",
      "Epoch 5/15\n",
      "475/475 [==============================] - 53s 112ms/step - loss: 0.3640 - accuracy: 0.8326 - val_loss: 0.3383 - val_accuracy: 0.8393\n",
      "Epoch 6/15\n",
      "475/475 [==============================] - 53s 112ms/step - loss: 0.3550 - accuracy: 0.8391 - val_loss: 0.3434 - val_accuracy: 0.8379\n",
      "Epoch 7/15\n",
      "475/475 [==============================] - 53s 112ms/step - loss: 0.3453 - accuracy: 0.8430 - val_loss: 0.3310 - val_accuracy: 0.8425\n",
      "Epoch 8/15\n",
      "475/475 [==============================] - 53s 112ms/step - loss: 0.3394 - accuracy: 0.8454 - val_loss: 0.3241 - val_accuracy: 0.8509\n",
      "Epoch 9/15\n",
      "475/475 [==============================] - 53s 112ms/step - loss: 0.3282 - accuracy: 0.8527 - val_loss: 0.4066 - val_accuracy: 0.8254\n",
      "Epoch 10/15\n",
      "475/475 [==============================] - 53s 112ms/step - loss: 0.3240 - accuracy: 0.8546 - val_loss: 0.3103 - val_accuracy: 0.8564\n",
      "Epoch 11/15\n",
      "475/475 [==============================] - 53s 112ms/step - loss: 0.3119 - accuracy: 0.8594 - val_loss: 0.3093 - val_accuracy: 0.8577\n",
      "Epoch 12/15\n",
      "475/475 [==============================] - 53s 112ms/step - loss: 0.3033 - accuracy: 0.8650 - val_loss: 0.2939 - val_accuracy: 0.8674\n",
      "Epoch 13/15\n",
      "475/475 [==============================] - 53s 112ms/step - loss: 0.2960 - accuracy: 0.8703 - val_loss: 0.2846 - val_accuracy: 0.8730\n",
      "Epoch 14/15\n",
      "475/475 [==============================] - 53s 112ms/step - loss: 0.2826 - accuracy: 0.8775 - val_loss: 0.2721 - val_accuracy: 0.8809\n",
      "Epoch 15/15\n",
      "475/475 [==============================] - 53s 112ms/step - loss: 0.2717 - accuracy: 0.8853 - val_loss: 0.2556 - val_accuracy: 0.8906\n"
     ]
    },
    {
     "data": {
      "text/html": [
       "<br/>Waiting for W&B process to finish, PID 1749<br/>Program ended successfully."
      ],
      "text/plain": [
       "<IPython.core.display.HTML object>"
      ]
     },
     "metadata": {},
     "output_type": "display_data"
    },
    {
     "data": {
      "application/vnd.jupyter.widget-view+json": {
       "model_id": "",
       "version_major": 2,
       "version_minor": 0
      },
      "text/plain": [
       "VBox(children=(Label(value=' 6.03MB of 6.03MB uploaded (0.00MB deduped)\\r'), FloatProgress(value=1.0, max=1.0)…"
      ]
     },
     "metadata": {},
     "output_type": "display_data"
    },
    {
     "data": {
      "text/html": [
       "Find user logs for this run at: <code>/home/jovyan/work/wandb/run-20210426_134418-2qlro30x/logs/debug.log</code>"
      ],
      "text/plain": [
       "<IPython.core.display.HTML object>"
      ]
     },
     "metadata": {},
     "output_type": "display_data"
    },
    {
     "data": {
      "text/html": [
       "Find internal logs for this run at: <code>/home/jovyan/work/wandb/run-20210426_134418-2qlro30x/logs/debug-internal.log</code>"
      ],
      "text/plain": [
       "<IPython.core.display.HTML object>"
      ]
     },
     "metadata": {},
     "output_type": "display_data"
    },
    {
     "data": {
      "text/html": [
       "<h3>Run summary:</h3><br/><style>\n",
       "    table.wandb td:nth-child(1) { padding: 0 10px; text-align: right }\n",
       "    </style><table class=\"wandb\">\n",
       "<tr><td>epoch</td><td>14</td></tr><tr><td>loss</td><td>0.27168</td></tr><tr><td>accuracy</td><td>0.88527</td></tr><tr><td>val_loss</td><td>0.25555</td></tr><tr><td>val_accuracy</td><td>0.89064</td></tr><tr><td>_runtime</td><td>808</td></tr><tr><td>_timestamp</td><td>1619445466</td></tr><tr><td>_step</td><td>14</td></tr><tr><td>best_val_loss</td><td>0.25555</td></tr><tr><td>best_epoch</td><td>14</td></tr></table>"
      ],
      "text/plain": [
       "<IPython.core.display.HTML object>"
      ]
     },
     "metadata": {},
     "output_type": "display_data"
    },
    {
     "data": {
      "text/html": [
       "<h3>Run history:</h3><br/><style>\n",
       "    table.wandb td:nth-child(1) { padding: 0 10px; text-align: right }\n",
       "    </style><table class=\"wandb\">\n",
       "<tr><td>epoch</td><td>▁▁▂▃▃▃▄▅▅▅▆▇▇▇█</td></tr><tr><td>loss</td><td>█▄▃▃▃▃▂▂▂▂▂▂▁▁▁</td></tr><tr><td>accuracy</td><td>▁▆▆▆▇▇▇▇▇▇▇▇███</td></tr><tr><td>val_loss</td><td>█▆▅▄▄▄▄▃▆▃▃▂▂▂▁</td></tr><tr><td>val_accuracy</td><td>▁▄▅▅▅▅▅▆▄▆▆▇▇▇█</td></tr><tr><td>_runtime</td><td>▁▁▂▂▃▃▄▄▅▅▆▆▇▇█</td></tr><tr><td>_timestamp</td><td>▁▁▂▂▃▃▄▄▅▅▆▆▇▇█</td></tr><tr><td>_step</td><td>▁▁▂▃▃▃▄▅▅▅▆▇▇▇█</td></tr></table><br/>"
      ],
      "text/plain": [
       "<IPython.core.display.HTML object>"
      ]
     },
     "metadata": {},
     "output_type": "display_data"
    },
    {
     "data": {
      "text/html": [
       "Synced 5 W&B file(s), 1 media file(s), 0 artifact file(s) and 1 other file(s)"
      ],
      "text/plain": [
       "<IPython.core.display.HTML object>"
      ]
     },
     "metadata": {},
     "output_type": "display_data"
    },
    {
     "data": {
      "text/html": [
       "\n",
       "                    <br/>Synced <strong style=\"color:#cdcd00\">ancient-sweep-14</strong>: <a href=\"https://wandb.ai/motuziik/model_optimization/runs/2qlro30x\" target=\"_blank\">https://wandb.ai/motuziik/model_optimization/runs/2qlro30x</a><br/>\n",
       "                "
      ],
      "text/plain": [
       "<IPython.core.display.HTML object>"
      ]
     },
     "metadata": {},
     "output_type": "display_data"
    },
    {
     "name": "stderr",
     "output_type": "stream",
     "text": [
      "\u001b[34m\u001b[1mwandb\u001b[0m: Agent Starting Run: nui4m2fw with config:\n",
      "\u001b[34m\u001b[1mwandb\u001b[0m: \tactivation: relu\n",
      "\u001b[34m\u001b[1mwandb\u001b[0m: \tbatch_size: 64\n",
      "\u001b[34m\u001b[1mwandb\u001b[0m: \tdropout: 0.2\n",
      "\u001b[34m\u001b[1mwandb\u001b[0m: \toptimizer: RMSprop\n",
      "Failed to detect the name of this notebook, you can set it manually with the WANDB_NOTEBOOK_NAME environment variable to enable code saving.\n"
     ]
    },
    {
     "data": {
      "text/html": [
       "\n",
       "                Tracking run with wandb version 0.10.27<br/>\n",
       "                Syncing run <strong style=\"color:#cdcd00\">hearty-sweep-15</strong> to <a href=\"https://wandb.ai\" target=\"_blank\">Weights & Biases</a> <a href=\"https://docs.wandb.com/integrations/jupyter.html\" target=\"_blank\">(Documentation)</a>.<br/>\n",
       "                Project page: <a href=\"https://wandb.ai/motuziik/model_optimization\" target=\"_blank\">https://wandb.ai/motuziik/model_optimization</a><br/>\n",
       "                Sweep page: <a href=\"https://wandb.ai/motuziik/model_optimization/sweeps/83eceyoz\" target=\"_blank\">https://wandb.ai/motuziik/model_optimization/sweeps/83eceyoz</a><br/>\n",
       "Run page: <a href=\"https://wandb.ai/motuziik/model_optimization/runs/nui4m2fw\" target=\"_blank\">https://wandb.ai/motuziik/model_optimization/runs/nui4m2fw</a><br/>\n",
       "                Run data is saved locally in <code>/home/jovyan/work/wandb/run-20210426_135750-nui4m2fw</code><br/><br/>\n",
       "            "
      ],
      "text/plain": [
       "<IPython.core.display.HTML object>"
      ]
     },
     "metadata": {},
     "output_type": "display_data"
    },
    {
     "name": "stdout",
     "output_type": "stream",
     "text": [
      "Epoch 1/15\n",
      "475/475 [==============================] - 55s 115ms/step - loss: 0.3533 - accuracy: 0.8518 - val_loss: 0.2104 - val_accuracy: 0.9220\n",
      "Epoch 2/15\n",
      "475/475 [==============================] - 54s 114ms/step - loss: 0.1941 - accuracy: 0.9329 - val_loss: 0.1828 - val_accuracy: 0.9385\n",
      "Epoch 3/15\n",
      "475/475 [==============================] - 54s 114ms/step - loss: 0.1553 - accuracy: 0.9526 - val_loss: 0.1196 - val_accuracy: 0.9633\n",
      "Epoch 4/15\n",
      "475/475 [==============================] - 54s 114ms/step - loss: 0.1245 - accuracy: 0.9618 - val_loss: 0.1332 - val_accuracy: 0.9579\n",
      "Epoch 5/15\n",
      "475/475 [==============================] - 54s 114ms/step - loss: 0.1129 - accuracy: 0.9671 - val_loss: 0.1130 - val_accuracy: 0.9693\n",
      "Epoch 6/15\n",
      "475/475 [==============================] - 54s 114ms/step - loss: 0.1037 - accuracy: 0.9701 - val_loss: 0.1171 - val_accuracy: 0.9716\n",
      "Epoch 7/15\n",
      "475/475 [==============================] - 54s 114ms/step - loss: 0.0995 - accuracy: 0.9723 - val_loss: 0.0878 - val_accuracy: 0.9760\n",
      "Epoch 8/15\n",
      "475/475 [==============================] - 54s 114ms/step - loss: 0.0896 - accuracy: 0.9744 - val_loss: 0.0827 - val_accuracy: 0.9776\n",
      "Epoch 9/15\n",
      "475/475 [==============================] - 54s 114ms/step - loss: 0.0811 - accuracy: 0.9773 - val_loss: 0.1029 - val_accuracy: 0.9733\n",
      "Epoch 10/15\n",
      "475/475 [==============================] - 54s 114ms/step - loss: 0.0817 - accuracy: 0.9775 - val_loss: 0.0987 - val_accuracy: 0.9763\n",
      "Epoch 11/15\n",
      "475/475 [==============================] - 54s 114ms/step - loss: 0.0777 - accuracy: 0.9785 - val_loss: 0.0815 - val_accuracy: 0.9768\n",
      "Epoch 12/15\n",
      "475/475 [==============================] - 54s 114ms/step - loss: 0.0764 - accuracy: 0.9793 - val_loss: 0.1165 - val_accuracy: 0.9734\n",
      "Epoch 13/15\n",
      "475/475 [==============================] - 54s 114ms/step - loss: 0.0782 - accuracy: 0.9798 - val_loss: 0.0864 - val_accuracy: 0.9772\n",
      "Epoch 14/15\n",
      "475/475 [==============================] - 54s 114ms/step - loss: 0.0770 - accuracy: 0.9810 - val_loss: 0.1140 - val_accuracy: 0.9754\n",
      "Epoch 15/15\n",
      "475/475 [==============================] - 54s 114ms/step - loss: 0.0779 - accuracy: 0.9809 - val_loss: 0.1081 - val_accuracy: 0.9703\n"
     ]
    },
    {
     "data": {
      "text/html": [
       "<br/>Waiting for W&B process to finish, PID 1846<br/>Program ended successfully."
      ],
      "text/plain": [
       "<IPython.core.display.HTML object>"
      ]
     },
     "metadata": {},
     "output_type": "display_data"
    },
    {
     "data": {
      "application/vnd.jupyter.widget-view+json": {
       "model_id": "",
       "version_major": 2,
       "version_minor": 0
      },
      "text/plain": [
       "VBox(children=(Label(value=' 12.04MB of 12.04MB uploaded (0.00MB deduped)\\r'), FloatProgress(value=1.0, max=1.…"
      ]
     },
     "metadata": {},
     "output_type": "display_data"
    },
    {
     "data": {
      "text/html": [
       "Find user logs for this run at: <code>/home/jovyan/work/wandb/run-20210426_135750-nui4m2fw/logs/debug.log</code>"
      ],
      "text/plain": [
       "<IPython.core.display.HTML object>"
      ]
     },
     "metadata": {},
     "output_type": "display_data"
    },
    {
     "data": {
      "text/html": [
       "Find internal logs for this run at: <code>/home/jovyan/work/wandb/run-20210426_135750-nui4m2fw/logs/debug-internal.log</code>"
      ],
      "text/plain": [
       "<IPython.core.display.HTML object>"
      ]
     },
     "metadata": {},
     "output_type": "display_data"
    },
    {
     "data": {
      "text/html": [
       "<h3>Run summary:</h3><br/><style>\n",
       "    table.wandb td:nth-child(1) { padding: 0 10px; text-align: right }\n",
       "    </style><table class=\"wandb\">\n",
       "<tr><td>epoch</td><td>14</td></tr><tr><td>loss</td><td>0.07789</td></tr><tr><td>accuracy</td><td>0.98092</td></tr><tr><td>val_loss</td><td>0.10806</td></tr><tr><td>val_accuracy</td><td>0.97026</td></tr><tr><td>_runtime</td><td>819</td></tr><tr><td>_timestamp</td><td>1619446289</td></tr><tr><td>_step</td><td>14</td></tr><tr><td>best_val_loss</td><td>0.0815</td></tr><tr><td>best_epoch</td><td>10</td></tr></table>"
      ],
      "text/plain": [
       "<IPython.core.display.HTML object>"
      ]
     },
     "metadata": {},
     "output_type": "display_data"
    },
    {
     "data": {
      "text/html": [
       "<h3>Run history:</h3><br/><style>\n",
       "    table.wandb td:nth-child(1) { padding: 0 10px; text-align: right }\n",
       "    </style><table class=\"wandb\">\n",
       "<tr><td>epoch</td><td>▁▁▂▃▃▃▄▅▅▅▆▇▇▇█</td></tr><tr><td>loss</td><td>█▄▃▂▂▂▂▁▁▁▁▁▁▁▁</td></tr><tr><td>accuracy</td><td>▁▅▆▇▇▇█████████</td></tr><tr><td>val_loss</td><td>█▆▃▄▃▃▁▁▂▂▁▃▁▃▂</td></tr><tr><td>val_accuracy</td><td>▁▃▆▆▇▇██▇██▇██▇</td></tr><tr><td>_runtime</td><td>▁▁▂▃▃▄▄▅▅▆▆▇▇██</td></tr><tr><td>_timestamp</td><td>▁▁▂▃▃▄▄▅▅▆▆▇▇██</td></tr><tr><td>_step</td><td>▁▁▂▃▃▃▄▅▅▅▆▇▇▇█</td></tr></table><br/>"
      ],
      "text/plain": [
       "<IPython.core.display.HTML object>"
      ]
     },
     "metadata": {},
     "output_type": "display_data"
    },
    {
     "data": {
      "text/html": [
       "Synced 5 W&B file(s), 1 media file(s), 0 artifact file(s) and 1 other file(s)"
      ],
      "text/plain": [
       "<IPython.core.display.HTML object>"
      ]
     },
     "metadata": {},
     "output_type": "display_data"
    },
    {
     "data": {
      "text/html": [
       "\n",
       "                    <br/>Synced <strong style=\"color:#cdcd00\">hearty-sweep-15</strong>: <a href=\"https://wandb.ai/motuziik/model_optimization/runs/nui4m2fw\" target=\"_blank\">https://wandb.ai/motuziik/model_optimization/runs/nui4m2fw</a><br/>\n",
       "                "
      ],
      "text/plain": [
       "<IPython.core.display.HTML object>"
      ]
     },
     "metadata": {},
     "output_type": "display_data"
    },
    {
     "name": "stderr",
     "output_type": "stream",
     "text": [
      "\u001b[34m\u001b[1mwandb\u001b[0m: Agent Starting Run: 70vzz9zq with config:\n",
      "\u001b[34m\u001b[1mwandb\u001b[0m: \tactivation: relu\n",
      "\u001b[34m\u001b[1mwandb\u001b[0m: \tbatch_size: 64\n",
      "\u001b[34m\u001b[1mwandb\u001b[0m: \tdropout: 0.15\n",
      "\u001b[34m\u001b[1mwandb\u001b[0m: \toptimizer: adam\n",
      "Failed to detect the name of this notebook, you can set it manually with the WANDB_NOTEBOOK_NAME environment variable to enable code saving.\n"
     ]
    },
    {
     "data": {
      "text/html": [
       "\n",
       "                Tracking run with wandb version 0.10.27<br/>\n",
       "                Syncing run <strong style=\"color:#cdcd00\">fallen-sweep-16</strong> to <a href=\"https://wandb.ai\" target=\"_blank\">Weights & Biases</a> <a href=\"https://docs.wandb.com/integrations/jupyter.html\" target=\"_blank\">(Documentation)</a>.<br/>\n",
       "                Project page: <a href=\"https://wandb.ai/motuziik/model_optimization\" target=\"_blank\">https://wandb.ai/motuziik/model_optimization</a><br/>\n",
       "                Sweep page: <a href=\"https://wandb.ai/motuziik/model_optimization/sweeps/83eceyoz\" target=\"_blank\">https://wandb.ai/motuziik/model_optimization/sweeps/83eceyoz</a><br/>\n",
       "Run page: <a href=\"https://wandb.ai/motuziik/model_optimization/runs/70vzz9zq\" target=\"_blank\">https://wandb.ai/motuziik/model_optimization/runs/70vzz9zq</a><br/>\n",
       "                Run data is saved locally in <code>/home/jovyan/work/wandb/run-20210426_141134-70vzz9zq</code><br/><br/>\n",
       "            "
      ],
      "text/plain": [
       "<IPython.core.display.HTML object>"
      ]
     },
     "metadata": {},
     "output_type": "display_data"
    },
    {
     "name": "stdout",
     "output_type": "stream",
     "text": [
      "Epoch 1/15\n",
      "475/475 [==============================] - 54s 113ms/step - loss: 0.3526 - accuracy: 0.8445 - val_loss: 0.2590 - val_accuracy: 0.8913\n",
      "Epoch 2/15\n",
      "475/475 [==============================] - 53s 112ms/step - loss: 0.2005 - accuracy: 0.9277 - val_loss: 0.1870 - val_accuracy: 0.9467\n",
      "Epoch 3/15\n",
      "475/475 [==============================] - 53s 112ms/step - loss: 0.1589 - accuracy: 0.9455 - val_loss: 0.1419 - val_accuracy: 0.9534\n",
      "Epoch 4/15\n",
      "475/475 [==============================] - 53s 112ms/step - loss: 0.1291 - accuracy: 0.9580 - val_loss: 0.1050 - val_accuracy: 0.9668\n",
      "Epoch 5/15\n",
      "475/475 [==============================] - 53s 112ms/step - loss: 0.0952 - accuracy: 0.9694 - val_loss: 0.0937 - val_accuracy: 0.9710\n",
      "Epoch 6/15\n",
      "475/475 [==============================] - 53s 112ms/step - loss: 0.0817 - accuracy: 0.9752 - val_loss: 0.0993 - val_accuracy: 0.9672\n",
      "Epoch 7/15\n",
      "475/475 [==============================] - 53s 112ms/step - loss: 0.0837 - accuracy: 0.9734 - val_loss: 0.1237 - val_accuracy: 0.9600\n",
      "Epoch 8/15\n",
      "475/475 [==============================] - 53s 111ms/step - loss: 0.0657 - accuracy: 0.9792 - val_loss: 0.0964 - val_accuracy: 0.9729\n",
      "Epoch 9/15\n",
      "475/475 [==============================] - 53s 112ms/step - loss: 0.0549 - accuracy: 0.9824 - val_loss: 0.0931 - val_accuracy: 0.9766\n",
      "Epoch 10/15\n",
      "475/475 [==============================] - 53s 112ms/step - loss: 0.0502 - accuracy: 0.9836 - val_loss: 0.1020 - val_accuracy: 0.9718\n",
      "Epoch 11/15\n",
      "475/475 [==============================] - 53s 111ms/step - loss: 0.0439 - accuracy: 0.9855 - val_loss: 0.1143 - val_accuracy: 0.9735\n",
      "Epoch 12/15\n",
      "475/475 [==============================] - 53s 111ms/step - loss: 0.0343 - accuracy: 0.9885 - val_loss: 0.1137 - val_accuracy: 0.9699\n",
      "Epoch 13/15\n",
      "475/475 [==============================] - 53s 111ms/step - loss: 0.0365 - accuracy: 0.9876 - val_loss: 0.1090 - val_accuracy: 0.9755\n",
      "Epoch 14/15\n",
      "475/475 [==============================] - 53s 111ms/step - loss: 0.0385 - accuracy: 0.9876 - val_loss: 0.1051 - val_accuracy: 0.9712\n",
      "Epoch 15/15\n",
      "475/475 [==============================] - 53s 111ms/step - loss: 0.0192 - accuracy: 0.9934 - val_loss: 0.1257 - val_accuracy: 0.9692\n"
     ]
    },
    {
     "data": {
      "text/html": [
       "<br/>Waiting for W&B process to finish, PID 1943<br/>Program ended successfully."
      ],
      "text/plain": [
       "<IPython.core.display.HTML object>"
      ]
     },
     "metadata": {},
     "output_type": "display_data"
    },
    {
     "data": {
      "application/vnd.jupyter.widget-view+json": {
       "model_id": "",
       "version_major": 2,
       "version_minor": 0
      },
      "text/plain": [
       "VBox(children=(Label(value=' 18.03MB of 18.03MB uploaded (0.00MB deduped)\\r'), FloatProgress(value=1.0, max=1.…"
      ]
     },
     "metadata": {},
     "output_type": "display_data"
    },
    {
     "data": {
      "text/html": [
       "Find user logs for this run at: <code>/home/jovyan/work/wandb/run-20210426_141134-70vzz9zq/logs/debug.log</code>"
      ],
      "text/plain": [
       "<IPython.core.display.HTML object>"
      ]
     },
     "metadata": {},
     "output_type": "display_data"
    },
    {
     "data": {
      "text/html": [
       "Find internal logs for this run at: <code>/home/jovyan/work/wandb/run-20210426_141134-70vzz9zq/logs/debug-internal.log</code>"
      ],
      "text/plain": [
       "<IPython.core.display.HTML object>"
      ]
     },
     "metadata": {},
     "output_type": "display_data"
    },
    {
     "data": {
      "text/html": [
       "<h3>Run summary:</h3><br/><style>\n",
       "    table.wandb td:nth-child(1) { padding: 0 10px; text-align: right }\n",
       "    </style><table class=\"wandb\">\n",
       "<tr><td>epoch</td><td>14</td></tr><tr><td>loss</td><td>0.01922</td></tr><tr><td>accuracy</td><td>0.99335</td></tr><tr><td>val_loss</td><td>0.12567</td></tr><tr><td>val_accuracy</td><td>0.96921</td></tr><tr><td>_runtime</td><td>803</td></tr><tr><td>_timestamp</td><td>1619447097</td></tr><tr><td>_step</td><td>14</td></tr><tr><td>best_val_loss</td><td>0.09306</td></tr><tr><td>best_epoch</td><td>8</td></tr></table>"
      ],
      "text/plain": [
       "<IPython.core.display.HTML object>"
      ]
     },
     "metadata": {},
     "output_type": "display_data"
    },
    {
     "data": {
      "text/html": [
       "<h3>Run history:</h3><br/><style>\n",
       "    table.wandb td:nth-child(1) { padding: 0 10px; text-align: right }\n",
       "    </style><table class=\"wandb\">\n",
       "<tr><td>epoch</td><td>▁▁▂▃▃▃▄▅▅▅▆▇▇▇█</td></tr><tr><td>loss</td><td>█▅▄▃▃▂▂▂▂▂▂▁▁▁▁</td></tr><tr><td>accuracy</td><td>▁▅▆▆▇▇▇▇▇██████</td></tr><tr><td>val_loss</td><td>█▅▃▂▁▁▂▁▁▁▂▂▂▂▂</td></tr><tr><td>val_accuracy</td><td>▁▆▆▇█▇▇████▇██▇</td></tr><tr><td>_runtime</td><td>▁▁▂▃▃▄▄▅▅▆▆▇▇██</td></tr><tr><td>_timestamp</td><td>▁▁▂▃▃▄▄▅▅▆▆▇▇██</td></tr><tr><td>_step</td><td>▁▁▂▃▃▃▄▅▅▅▆▇▇▇█</td></tr></table><br/>"
      ],
      "text/plain": [
       "<IPython.core.display.HTML object>"
      ]
     },
     "metadata": {},
     "output_type": "display_data"
    },
    {
     "data": {
      "text/html": [
       "Synced 5 W&B file(s), 1 media file(s), 0 artifact file(s) and 1 other file(s)"
      ],
      "text/plain": [
       "<IPython.core.display.HTML object>"
      ]
     },
     "metadata": {},
     "output_type": "display_data"
    },
    {
     "data": {
      "text/html": [
       "\n",
       "                    <br/>Synced <strong style=\"color:#cdcd00\">fallen-sweep-16</strong>: <a href=\"https://wandb.ai/motuziik/model_optimization/runs/70vzz9zq\" target=\"_blank\">https://wandb.ai/motuziik/model_optimization/runs/70vzz9zq</a><br/>\n",
       "                "
      ],
      "text/plain": [
       "<IPython.core.display.HTML object>"
      ]
     },
     "metadata": {},
     "output_type": "display_data"
    },
    {
     "name": "stderr",
     "output_type": "stream",
     "text": [
      "\u001b[34m\u001b[1mwandb\u001b[0m: Agent Starting Run: 2wduz44z with config:\n",
      "\u001b[34m\u001b[1mwandb\u001b[0m: \tactivation: relu\n",
      "\u001b[34m\u001b[1mwandb\u001b[0m: \tbatch_size: 64\n",
      "\u001b[34m\u001b[1mwandb\u001b[0m: \tdropout: 0.15\n",
      "\u001b[34m\u001b[1mwandb\u001b[0m: \toptimizer: SGD\n",
      "Failed to detect the name of this notebook, you can set it manually with the WANDB_NOTEBOOK_NAME environment variable to enable code saving.\n"
     ]
    },
    {
     "data": {
      "text/html": [
       "\n",
       "                Tracking run with wandb version 0.10.27<br/>\n",
       "                Syncing run <strong style=\"color:#cdcd00\">legendary-sweep-17</strong> to <a href=\"https://wandb.ai\" target=\"_blank\">Weights & Biases</a> <a href=\"https://docs.wandb.com/integrations/jupyter.html\" target=\"_blank\">(Documentation)</a>.<br/>\n",
       "                Project page: <a href=\"https://wandb.ai/motuziik/model_optimization\" target=\"_blank\">https://wandb.ai/motuziik/model_optimization</a><br/>\n",
       "                Sweep page: <a href=\"https://wandb.ai/motuziik/model_optimization/sweeps/83eceyoz\" target=\"_blank\">https://wandb.ai/motuziik/model_optimization/sweeps/83eceyoz</a><br/>\n",
       "Run page: <a href=\"https://wandb.ai/motuziik/model_optimization/runs/2wduz44z\" target=\"_blank\">https://wandb.ai/motuziik/model_optimization/runs/2wduz44z</a><br/>\n",
       "                Run data is saved locally in <code>/home/jovyan/work/wandb/run-20210426_142502-2wduz44z</code><br/><br/>\n",
       "            "
      ],
      "text/plain": [
       "<IPython.core.display.HTML object>"
      ]
     },
     "metadata": {},
     "output_type": "display_data"
    },
    {
     "name": "stdout",
     "output_type": "stream",
     "text": [
      "Epoch 1/15\n",
      "475/475 [==============================] - 54s 113ms/step - loss: 0.6297 - accuracy: 0.6010 - val_loss: 0.5000 - val_accuracy: 0.7360\n",
      "Epoch 2/15\n",
      "475/475 [==============================] - 53s 112ms/step - loss: 0.4334 - accuracy: 0.7881 - val_loss: 0.4265 - val_accuracy: 0.7967\n",
      "Epoch 3/15\n",
      "475/475 [==============================] - 53s 112ms/step - loss: 0.3860 - accuracy: 0.8184 - val_loss: 0.3736 - val_accuracy: 0.8225\n",
      "Epoch 4/15\n",
      "475/475 [==============================] - 53s 112ms/step - loss: 0.3687 - accuracy: 0.8274 - val_loss: 0.3483 - val_accuracy: 0.8350\n",
      "Epoch 5/15\n",
      "475/475 [==============================] - 53s 112ms/step - loss: 0.3546 - accuracy: 0.8347 - val_loss: 0.3496 - val_accuracy: 0.8416\n",
      "Epoch 6/15\n",
      "475/475 [==============================] - 53s 112ms/step - loss: 0.3425 - accuracy: 0.8422 - val_loss: 0.3297 - val_accuracy: 0.8481\n",
      "Epoch 7/15\n",
      "475/475 [==============================] - 53s 112ms/step - loss: 0.3338 - accuracy: 0.8478 - val_loss: 0.3254 - val_accuracy: 0.8512\n",
      "Epoch 8/15\n",
      "475/475 [==============================] - 53s 112ms/step - loss: 0.3222 - accuracy: 0.8549 - val_loss: 0.3024 - val_accuracy: 0.8627\n",
      "Epoch 9/15\n",
      "475/475 [==============================] - 53s 112ms/step - loss: 0.3117 - accuracy: 0.8590 - val_loss: 0.3001 - val_accuracy: 0.8620\n",
      "Epoch 10/15\n",
      "475/475 [==============================] - 53s 112ms/step - loss: 0.2991 - accuracy: 0.8664 - val_loss: 0.2860 - val_accuracy: 0.8727\n",
      "Epoch 11/15\n",
      "475/475 [==============================] - 53s 112ms/step - loss: 0.2908 - accuracy: 0.8711 - val_loss: 0.2933 - val_accuracy: 0.8720\n",
      "Epoch 12/15\n",
      "475/475 [==============================] - 53s 112ms/step - loss: 0.2818 - accuracy: 0.8766 - val_loss: 0.2639 - val_accuracy: 0.8834\n",
      "Epoch 13/15\n",
      "475/475 [==============================] - 53s 112ms/step - loss: 0.2754 - accuracy: 0.8788 - val_loss: 0.2626 - val_accuracy: 0.8851\n",
      "Epoch 14/15\n",
      "475/475 [==============================] - 53s 112ms/step - loss: 0.2672 - accuracy: 0.8837 - val_loss: 0.2654 - val_accuracy: 0.8872\n",
      "Epoch 15/15\n",
      "475/475 [==============================] - 53s 112ms/step - loss: 0.2604 - accuracy: 0.8887 - val_loss: 0.2503 - val_accuracy: 0.8933\n"
     ]
    },
    {
     "data": {
      "text/html": [
       "<br/>Waiting for W&B process to finish, PID 2040<br/>Program ended successfully."
      ],
      "text/plain": [
       "<IPython.core.display.HTML object>"
      ]
     },
     "metadata": {},
     "output_type": "display_data"
    },
    {
     "data": {
      "application/vnd.jupyter.widget-view+json": {
       "model_id": "",
       "version_major": 2,
       "version_minor": 0
      },
      "text/plain": [
       "VBox(children=(Label(value=' 6.03MB of 6.03MB uploaded (0.00MB deduped)\\r'), FloatProgress(value=1.0, max=1.0)…"
      ]
     },
     "metadata": {},
     "output_type": "display_data"
    },
    {
     "data": {
      "text/html": [
       "Find user logs for this run at: <code>/home/jovyan/work/wandb/run-20210426_142502-2wduz44z/logs/debug.log</code>"
      ],
      "text/plain": [
       "<IPython.core.display.HTML object>"
      ]
     },
     "metadata": {},
     "output_type": "display_data"
    },
    {
     "data": {
      "text/html": [
       "Find internal logs for this run at: <code>/home/jovyan/work/wandb/run-20210426_142502-2wduz44z/logs/debug-internal.log</code>"
      ],
      "text/plain": [
       "<IPython.core.display.HTML object>"
      ]
     },
     "metadata": {},
     "output_type": "display_data"
    },
    {
     "data": {
      "text/html": [
       "<h3>Run summary:</h3><br/><style>\n",
       "    table.wandb td:nth-child(1) { padding: 0 10px; text-align: right }\n",
       "    </style><table class=\"wandb\">\n",
       "<tr><td>epoch</td><td>14</td></tr><tr><td>loss</td><td>0.26036</td></tr><tr><td>accuracy</td><td>0.8887</td></tr><tr><td>val_loss</td><td>0.25032</td></tr><tr><td>val_accuracy</td><td>0.89328</td></tr><tr><td>_runtime</td><td>807</td></tr><tr><td>_timestamp</td><td>1619447910</td></tr><tr><td>_step</td><td>14</td></tr><tr><td>best_val_loss</td><td>0.25032</td></tr><tr><td>best_epoch</td><td>14</td></tr></table>"
      ],
      "text/plain": [
       "<IPython.core.display.HTML object>"
      ]
     },
     "metadata": {},
     "output_type": "display_data"
    },
    {
     "data": {
      "text/html": [
       "<h3>Run history:</h3><br/><style>\n",
       "    table.wandb td:nth-child(1) { padding: 0 10px; text-align: right }\n",
       "    </style><table class=\"wandb\">\n",
       "<tr><td>epoch</td><td>▁▁▂▃▃▃▄▅▅▅▆▇▇▇█</td></tr><tr><td>loss</td><td>█▄▃▃▃▃▂▂▂▂▂▁▁▁▁</td></tr><tr><td>accuracy</td><td>▁▆▆▇▇▇▇▇▇▇█████</td></tr><tr><td>val_loss</td><td>█▆▄▄▄▃▃▂▂▂▂▁▁▁▁</td></tr><tr><td>val_accuracy</td><td>▁▄▅▅▆▆▆▇▇▇▇████</td></tr><tr><td>_runtime</td><td>▁▂▂▃▃▄▄▅▅▆▆▆▇▇█</td></tr><tr><td>_timestamp</td><td>▁▂▂▃▃▄▄▅▅▆▆▆▇▇█</td></tr><tr><td>_step</td><td>▁▁▂▃▃▃▄▅▅▅▆▇▇▇█</td></tr></table><br/>"
      ],
      "text/plain": [
       "<IPython.core.display.HTML object>"
      ]
     },
     "metadata": {},
     "output_type": "display_data"
    },
    {
     "data": {
      "text/html": [
       "Synced 5 W&B file(s), 1 media file(s), 0 artifact file(s) and 1 other file(s)"
      ],
      "text/plain": [
       "<IPython.core.display.HTML object>"
      ]
     },
     "metadata": {},
     "output_type": "display_data"
    },
    {
     "data": {
      "text/html": [
       "\n",
       "                    <br/>Synced <strong style=\"color:#cdcd00\">legendary-sweep-17</strong>: <a href=\"https://wandb.ai/motuziik/model_optimization/runs/2wduz44z\" target=\"_blank\">https://wandb.ai/motuziik/model_optimization/runs/2wduz44z</a><br/>\n",
       "                "
      ],
      "text/plain": [
       "<IPython.core.display.HTML object>"
      ]
     },
     "metadata": {},
     "output_type": "display_data"
    },
    {
     "name": "stderr",
     "output_type": "stream",
     "text": [
      "\u001b[34m\u001b[1mwandb\u001b[0m: Agent Starting Run: ff7rums2 with config:\n",
      "\u001b[34m\u001b[1mwandb\u001b[0m: \tactivation: relu\n",
      "\u001b[34m\u001b[1mwandb\u001b[0m: \tbatch_size: 64\n",
      "\u001b[34m\u001b[1mwandb\u001b[0m: \tdropout: 0.15\n",
      "\u001b[34m\u001b[1mwandb\u001b[0m: \toptimizer: RMSprop\n",
      "Failed to detect the name of this notebook, you can set it manually with the WANDB_NOTEBOOK_NAME environment variable to enable code saving.\n"
     ]
    },
    {
     "data": {
      "text/html": [
       "\n",
       "                Tracking run with wandb version 0.10.27<br/>\n",
       "                Syncing run <strong style=\"color:#cdcd00\">misty-sweep-18</strong> to <a href=\"https://wandb.ai\" target=\"_blank\">Weights & Biases</a> <a href=\"https://docs.wandb.com/integrations/jupyter.html\" target=\"_blank\">(Documentation)</a>.<br/>\n",
       "                Project page: <a href=\"https://wandb.ai/motuziik/model_optimization\" target=\"_blank\">https://wandb.ai/motuziik/model_optimization</a><br/>\n",
       "                Sweep page: <a href=\"https://wandb.ai/motuziik/model_optimization/sweeps/83eceyoz\" target=\"_blank\">https://wandb.ai/motuziik/model_optimization/sweeps/83eceyoz</a><br/>\n",
       "Run page: <a href=\"https://wandb.ai/motuziik/model_optimization/runs/ff7rums2\" target=\"_blank\">https://wandb.ai/motuziik/model_optimization/runs/ff7rums2</a><br/>\n",
       "                Run data is saved locally in <code>/home/jovyan/work/wandb/run-20210426_143834-ff7rums2</code><br/><br/>\n",
       "            "
      ],
      "text/plain": [
       "<IPython.core.display.HTML object>"
      ]
     },
     "metadata": {},
     "output_type": "display_data"
    },
    {
     "name": "stdout",
     "output_type": "stream",
     "text": [
      "Epoch 1/15\n",
      "475/475 [==============================] - 55s 115ms/step - loss: 0.3531 - accuracy: 0.8467 - val_loss: 0.2027 - val_accuracy: 0.9275\n",
      "Epoch 2/15\n",
      "475/475 [==============================] - 54s 114ms/step - loss: 0.2155 - accuracy: 0.9294 - val_loss: 0.1359 - val_accuracy: 0.9568\n",
      "Epoch 3/15\n",
      "475/475 [==============================] - 54s 114ms/step - loss: 0.1542 - accuracy: 0.9523 - val_loss: 0.1094 - val_accuracy: 0.9662\n",
      "Epoch 4/15\n",
      "475/475 [==============================] - 54s 114ms/step - loss: 0.1252 - accuracy: 0.9628 - val_loss: 0.1350 - val_accuracy: 0.9603\n",
      "Epoch 5/15\n",
      "475/475 [==============================] - 54s 114ms/step - loss: 0.1165 - accuracy: 0.9683 - val_loss: 0.1024 - val_accuracy: 0.9721\n",
      "Epoch 6/15\n",
      "475/475 [==============================] - 54s 114ms/step - loss: 0.0971 - accuracy: 0.9725 - val_loss: 0.0973 - val_accuracy: 0.9705\n",
      "Epoch 7/15\n",
      "475/475 [==============================] - 54s 113ms/step - loss: 0.0914 - accuracy: 0.9747 - val_loss: 0.1116 - val_accuracy: 0.9725\n",
      "Epoch 8/15\n",
      "475/475 [==============================] - 54s 114ms/step - loss: 0.0905 - accuracy: 0.9751 - val_loss: 0.0824 - val_accuracy: 0.9738\n",
      "Epoch 9/15\n",
      "475/475 [==============================] - 54s 114ms/step - loss: 0.0829 - accuracy: 0.9776 - val_loss: 0.0830 - val_accuracy: 0.9745\n",
      "Epoch 10/15\n",
      "475/475 [==============================] - 54s 113ms/step - loss: 0.0814 - accuracy: 0.9784 - val_loss: 0.0922 - val_accuracy: 0.9772\n",
      "Epoch 11/15\n",
      "475/475 [==============================] - 54s 113ms/step - loss: 0.0839 - accuracy: 0.9797 - val_loss: 0.0972 - val_accuracy: 0.9724\n",
      "Epoch 12/15\n",
      "475/475 [==============================] - 54s 114ms/step - loss: 0.0802 - accuracy: 0.9802 - val_loss: 0.1029 - val_accuracy: 0.9745\n",
      "Epoch 13/15\n",
      "475/475 [==============================] - 54s 114ms/step - loss: 0.0781 - accuracy: 0.9814 - val_loss: 0.1084 - val_accuracy: 0.9770\n",
      "Epoch 14/15\n",
      "475/475 [==============================] - 54s 114ms/step - loss: 0.0676 - accuracy: 0.9815 - val_loss: 0.0822 - val_accuracy: 0.9795\n",
      "Epoch 15/15\n",
      "475/475 [==============================] - 54s 114ms/step - loss: 0.0736 - accuracy: 0.9818 - val_loss: 0.1112 - val_accuracy: 0.9735\n"
     ]
    },
    {
     "data": {
      "text/html": [
       "<br/>Waiting for W&B process to finish, PID 2137<br/>Program ended successfully."
      ],
      "text/plain": [
       "<IPython.core.display.HTML object>"
      ]
     },
     "metadata": {},
     "output_type": "display_data"
    },
    {
     "data": {
      "application/vnd.jupyter.widget-view+json": {
       "model_id": "",
       "version_major": 2,
       "version_minor": 0
      },
      "text/plain": [
       "VBox(children=(Label(value=' 12.04MB of 12.04MB uploaded (0.00MB deduped)\\r'), FloatProgress(value=1.0, max=1.…"
      ]
     },
     "metadata": {},
     "output_type": "display_data"
    },
    {
     "data": {
      "text/html": [
       "Find user logs for this run at: <code>/home/jovyan/work/wandb/run-20210426_143834-ff7rums2/logs/debug.log</code>"
      ],
      "text/plain": [
       "<IPython.core.display.HTML object>"
      ]
     },
     "metadata": {},
     "output_type": "display_data"
    },
    {
     "data": {
      "text/html": [
       "Find internal logs for this run at: <code>/home/jovyan/work/wandb/run-20210426_143834-ff7rums2/logs/debug-internal.log</code>"
      ],
      "text/plain": [
       "<IPython.core.display.HTML object>"
      ]
     },
     "metadata": {},
     "output_type": "display_data"
    },
    {
     "data": {
      "text/html": [
       "<h3>Run summary:</h3><br/><style>\n",
       "    table.wandb td:nth-child(1) { padding: 0 10px; text-align: right }\n",
       "    </style><table class=\"wandb\">\n",
       "<tr><td>epoch</td><td>14</td></tr><tr><td>loss</td><td>0.07362</td></tr><tr><td>accuracy</td><td>0.98184</td></tr><tr><td>val_loss</td><td>0.11124</td></tr><tr><td>val_accuracy</td><td>0.97355</td></tr><tr><td>_runtime</td><td>819</td></tr><tr><td>_timestamp</td><td>1619448733</td></tr><tr><td>_step</td><td>14</td></tr><tr><td>best_val_loss</td><td>0.08218</td></tr><tr><td>best_epoch</td><td>13</td></tr></table>"
      ],
      "text/plain": [
       "<IPython.core.display.HTML object>"
      ]
     },
     "metadata": {},
     "output_type": "display_data"
    },
    {
     "data": {
      "text/html": [
       "<h3>Run history:</h3><br/><style>\n",
       "    table.wandb td:nth-child(1) { padding: 0 10px; text-align: right }\n",
       "    </style><table class=\"wandb\">\n",
       "<tr><td>epoch</td><td>▁▁▂▃▃▃▄▅▅▅▆▇▇▇█</td></tr><tr><td>loss</td><td>█▅▃▂▂▂▂▂▁▁▁▁▁▁▁</td></tr><tr><td>accuracy</td><td>▁▅▆▇▇██████████</td></tr><tr><td>val_loss</td><td>█▄▃▄▂▂▃▁▁▂▂▂▃▁▃</td></tr><tr><td>val_accuracy</td><td>▁▅▆▅▇▇▇▇▇█▇▇██▇</td></tr><tr><td>_runtime</td><td>▁▁▂▃▃▃▄▅▅▆▆▆▇▇█</td></tr><tr><td>_timestamp</td><td>▁▁▂▃▃▃▄▅▅▆▆▆▇▇█</td></tr><tr><td>_step</td><td>▁▁▂▃▃▃▄▅▅▅▆▇▇▇█</td></tr></table><br/>"
      ],
      "text/plain": [
       "<IPython.core.display.HTML object>"
      ]
     },
     "metadata": {},
     "output_type": "display_data"
    },
    {
     "data": {
      "text/html": [
       "Synced 5 W&B file(s), 1 media file(s), 0 artifact file(s) and 1 other file(s)"
      ],
      "text/plain": [
       "<IPython.core.display.HTML object>"
      ]
     },
     "metadata": {},
     "output_type": "display_data"
    },
    {
     "data": {
      "text/html": [
       "\n",
       "                    <br/>Synced <strong style=\"color:#cdcd00\">misty-sweep-18</strong>: <a href=\"https://wandb.ai/motuziik/model_optimization/runs/ff7rums2\" target=\"_blank\">https://wandb.ai/motuziik/model_optimization/runs/ff7rums2</a><br/>\n",
       "                "
      ],
      "text/plain": [
       "<IPython.core.display.HTML object>"
      ]
     },
     "metadata": {},
     "output_type": "display_data"
    },
    {
     "name": "stderr",
     "output_type": "stream",
     "text": [
      "\u001b[34m\u001b[1mwandb\u001b[0m: Agent Starting Run: 9myjsarz with config:\n",
      "\u001b[34m\u001b[1mwandb\u001b[0m: \tactivation: tanh\n",
      "\u001b[34m\u001b[1mwandb\u001b[0m: \tbatch_size: 128\n",
      "\u001b[34m\u001b[1mwandb\u001b[0m: \tdropout: 0.25\n",
      "\u001b[34m\u001b[1mwandb\u001b[0m: \toptimizer: adam\n",
      "Failed to detect the name of this notebook, you can set it manually with the WANDB_NOTEBOOK_NAME environment variable to enable code saving.\n"
     ]
    },
    {
     "data": {
      "text/html": [
       "\n",
       "                Tracking run with wandb version 0.10.27<br/>\n",
       "                Syncing run <strong style=\"color:#cdcd00\">solar-sweep-19</strong> to <a href=\"https://wandb.ai\" target=\"_blank\">Weights & Biases</a> <a href=\"https://docs.wandb.com/integrations/jupyter.html\" target=\"_blank\">(Documentation)</a>.<br/>\n",
       "                Project page: <a href=\"https://wandb.ai/motuziik/model_optimization\" target=\"_blank\">https://wandb.ai/motuziik/model_optimization</a><br/>\n",
       "                Sweep page: <a href=\"https://wandb.ai/motuziik/model_optimization/sweeps/83eceyoz\" target=\"_blank\">https://wandb.ai/motuziik/model_optimization/sweeps/83eceyoz</a><br/>\n",
       "Run page: <a href=\"https://wandb.ai/motuziik/model_optimization/runs/9myjsarz\" target=\"_blank\">https://wandb.ai/motuziik/model_optimization/runs/9myjsarz</a><br/>\n",
       "                Run data is saved locally in <code>/home/jovyan/work/wandb/run-20210426_145217-9myjsarz</code><br/><br/>\n",
       "            "
      ],
      "text/plain": [
       "<IPython.core.display.HTML object>"
      ]
     },
     "metadata": {},
     "output_type": "display_data"
    },
    {
     "name": "stdout",
     "output_type": "stream",
     "text": [
      "Epoch 1/15\n",
      "  2/238 [..............................] - ETA: 24s - loss: 0.9876 - accuracy: 0.5469WARNING:tensorflow:Callbacks method `on_train_batch_end` is slow compared to the batch time (batch time: 0.0799s vs `on_train_batch_end` time: 0.1255s). Check your callbacks.\n",
      "238/238 [==============================] - 54s 226ms/step - loss: 0.3599 - accuracy: 0.8369 - val_loss: 0.4023 - val_accuracy: 0.7615\n",
      "Epoch 2/15\n",
      "238/238 [==============================] - 53s 223ms/step - loss: 0.2341 - accuracy: 0.9010 - val_loss: 0.1788 - val_accuracy: 0.9268\n",
      "Epoch 3/15\n",
      "238/238 [==============================] - 53s 223ms/step - loss: 0.1600 - accuracy: 0.9386 - val_loss: 0.1417 - val_accuracy: 0.9451\n",
      "Epoch 4/15\n",
      "238/238 [==============================] - 53s 223ms/step - loss: 0.1400 - accuracy: 0.9466 - val_loss: 0.1288 - val_accuracy: 0.9484\n",
      "Epoch 5/15\n",
      "238/238 [==============================] - 53s 223ms/step - loss: 0.1229 - accuracy: 0.9539 - val_loss: 0.1136 - val_accuracy: 0.9595\n",
      "Epoch 6/15\n",
      "238/238 [==============================] - 53s 222ms/step - loss: 0.1049 - accuracy: 0.9611 - val_loss: 0.1157 - val_accuracy: 0.9533\n",
      "Epoch 7/15\n",
      "238/238 [==============================] - 53s 223ms/step - loss: 0.0988 - accuracy: 0.9638 - val_loss: 0.1060 - val_accuracy: 0.9614\n",
      "Epoch 8/15\n",
      "238/238 [==============================] - 53s 222ms/step - loss: 0.0821 - accuracy: 0.9710 - val_loss: 0.1094 - val_accuracy: 0.9625\n",
      "Epoch 9/15\n",
      "238/238 [==============================] - 53s 223ms/step - loss: 0.0859 - accuracy: 0.9682 - val_loss: 0.1033 - val_accuracy: 0.9629\n",
      "Epoch 10/15\n",
      "238/238 [==============================] - 53s 223ms/step - loss: 0.0705 - accuracy: 0.9734 - val_loss: 0.1001 - val_accuracy: 0.9651\n",
      "Epoch 11/15\n",
      "238/238 [==============================] - 53s 222ms/step - loss: 0.0622 - accuracy: 0.9769 - val_loss: 0.1127 - val_accuracy: 0.9646\n",
      "Epoch 12/15\n",
      "238/238 [==============================] - 53s 223ms/step - loss: 0.0600 - accuracy: 0.9783 - val_loss: 0.0994 - val_accuracy: 0.9655\n",
      "Epoch 13/15\n",
      "238/238 [==============================] - 53s 223ms/step - loss: 0.0622 - accuracy: 0.9771 - val_loss: 0.0988 - val_accuracy: 0.9650\n",
      "Epoch 14/15\n",
      "238/238 [==============================] - 53s 222ms/step - loss: 0.0492 - accuracy: 0.9813 - val_loss: 0.1247 - val_accuracy: 0.9663\n",
      "Epoch 15/15\n",
      "238/238 [==============================] - 53s 222ms/step - loss: 0.0656 - accuracy: 0.9758 - val_loss: 0.1141 - val_accuracy: 0.9676\n"
     ]
    },
    {
     "data": {
      "text/html": [
       "<br/>Waiting for W&B process to finish, PID 2234<br/>Program ended successfully."
      ],
      "text/plain": [
       "<IPython.core.display.HTML object>"
      ]
     },
     "metadata": {},
     "output_type": "display_data"
    },
    {
     "data": {
      "application/vnd.jupyter.widget-view+json": {
       "model_id": "",
       "version_major": 2,
       "version_minor": 0
      },
      "text/plain": [
       "VBox(children=(Label(value=' 18.03MB of 18.03MB uploaded (0.00MB deduped)\\r'), FloatProgress(value=1.0, max=1.…"
      ]
     },
     "metadata": {},
     "output_type": "display_data"
    },
    {
     "data": {
      "text/html": [
       "Find user logs for this run at: <code>/home/jovyan/work/wandb/run-20210426_145217-9myjsarz/logs/debug.log</code>"
      ],
      "text/plain": [
       "<IPython.core.display.HTML object>"
      ]
     },
     "metadata": {},
     "output_type": "display_data"
    },
    {
     "data": {
      "text/html": [
       "Find internal logs for this run at: <code>/home/jovyan/work/wandb/run-20210426_145217-9myjsarz/logs/debug-internal.log</code>"
      ],
      "text/plain": [
       "<IPython.core.display.HTML object>"
      ]
     },
     "metadata": {},
     "output_type": "display_data"
    },
    {
     "data": {
      "text/html": [
       "<h3>Run summary:</h3><br/><style>\n",
       "    table.wandb td:nth-child(1) { padding: 0 10px; text-align: right }\n",
       "    </style><table class=\"wandb\">\n",
       "<tr><td>epoch</td><td>14</td></tr><tr><td>loss</td><td>0.06556</td></tr><tr><td>accuracy</td><td>0.97582</td></tr><tr><td>val_loss</td><td>0.11413</td></tr><tr><td>val_accuracy</td><td>0.96763</td></tr><tr><td>_runtime</td><td>804</td></tr><tr><td>_timestamp</td><td>1619449541</td></tr><tr><td>_step</td><td>14</td></tr><tr><td>best_val_loss</td><td>0.0988</td></tr><tr><td>best_epoch</td><td>12</td></tr></table>"
      ],
      "text/plain": [
       "<IPython.core.display.HTML object>"
      ]
     },
     "metadata": {},
     "output_type": "display_data"
    },
    {
     "data": {
      "text/html": [
       "<h3>Run history:</h3><br/><style>\n",
       "    table.wandb td:nth-child(1) { padding: 0 10px; text-align: right }\n",
       "    </style><table class=\"wandb\">\n",
       "<tr><td>epoch</td><td>▁▁▂▃▃▃▄▅▅▅▆▇▇▇█</td></tr><tr><td>loss</td><td>█▅▃▃▃▂▂▂▂▁▁▁▁▁▁</td></tr><tr><td>accuracy</td><td>▁▄▆▆▇▇▇▇▇██████</td></tr><tr><td>val_loss</td><td>█▃▂▂▁▁▁▁▁▁▁▁▁▂▁</td></tr><tr><td>val_accuracy</td><td>▁▇▇▇███████████</td></tr><tr><td>_runtime</td><td>▁▂▂▃▃▄▄▅▅▆▆▇▇██</td></tr><tr><td>_timestamp</td><td>▁▂▂▃▃▄▄▅▅▆▆▇▇██</td></tr><tr><td>_step</td><td>▁▁▂▃▃▃▄▅▅▅▆▇▇▇█</td></tr></table><br/>"
      ],
      "text/plain": [
       "<IPython.core.display.HTML object>"
      ]
     },
     "metadata": {},
     "output_type": "display_data"
    },
    {
     "data": {
      "text/html": [
       "Synced 5 W&B file(s), 1 media file(s), 0 artifact file(s) and 1 other file(s)"
      ],
      "text/plain": [
       "<IPython.core.display.HTML object>"
      ]
     },
     "metadata": {},
     "output_type": "display_data"
    },
    {
     "data": {
      "text/html": [
       "\n",
       "                    <br/>Synced <strong style=\"color:#cdcd00\">solar-sweep-19</strong>: <a href=\"https://wandb.ai/motuziik/model_optimization/runs/9myjsarz\" target=\"_blank\">https://wandb.ai/motuziik/model_optimization/runs/9myjsarz</a><br/>\n",
       "                "
      ],
      "text/plain": [
       "<IPython.core.display.HTML object>"
      ]
     },
     "metadata": {},
     "output_type": "display_data"
    },
    {
     "name": "stderr",
     "output_type": "stream",
     "text": [
      "\u001b[34m\u001b[1mwandb\u001b[0m: Agent Starting Run: q24frxhs with config:\n",
      "\u001b[34m\u001b[1mwandb\u001b[0m: \tactivation: tanh\n",
      "\u001b[34m\u001b[1mwandb\u001b[0m: \tbatch_size: 128\n",
      "\u001b[34m\u001b[1mwandb\u001b[0m: \tdropout: 0.25\n",
      "\u001b[34m\u001b[1mwandb\u001b[0m: \toptimizer: SGD\n",
      "Failed to detect the name of this notebook, you can set it manually with the WANDB_NOTEBOOK_NAME environment variable to enable code saving.\n"
     ]
    },
    {
     "data": {
      "text/html": [
       "\n",
       "                Tracking run with wandb version 0.10.27<br/>\n",
       "                Syncing run <strong style=\"color:#cdcd00\">swept-sweep-20</strong> to <a href=\"https://wandb.ai\" target=\"_blank\">Weights & Biases</a> <a href=\"https://docs.wandb.com/integrations/jupyter.html\" target=\"_blank\">(Documentation)</a>.<br/>\n",
       "                Project page: <a href=\"https://wandb.ai/motuziik/model_optimization\" target=\"_blank\">https://wandb.ai/motuziik/model_optimization</a><br/>\n",
       "                Sweep page: <a href=\"https://wandb.ai/motuziik/model_optimization/sweeps/83eceyoz\" target=\"_blank\">https://wandb.ai/motuziik/model_optimization/sweeps/83eceyoz</a><br/>\n",
       "Run page: <a href=\"https://wandb.ai/motuziik/model_optimization/runs/q24frxhs\" target=\"_blank\">https://wandb.ai/motuziik/model_optimization/runs/q24frxhs</a><br/>\n",
       "                Run data is saved locally in <code>/home/jovyan/work/wandb/run-20210426_150546-q24frxhs</code><br/><br/>\n",
       "            "
      ],
      "text/plain": [
       "<IPython.core.display.HTML object>"
      ]
     },
     "metadata": {},
     "output_type": "display_data"
    },
    {
     "name": "stdout",
     "output_type": "stream",
     "text": [
      "Epoch 1/15\n",
      "  2/238 [..............................] - ETA: 24s - loss: 0.6881 - accuracy: 0.5117WARNING:tensorflow:Callbacks method `on_train_batch_end` is slow compared to the batch time (batch time: 0.0821s vs `on_train_batch_end` time: 0.1253s). Check your callbacks.\n",
      "238/238 [==============================] - 53s 224ms/step - loss: 0.5807 - accuracy: 0.6660 - val_loss: 0.4234 - val_accuracy: 0.8106\n",
      "Epoch 2/15\n",
      "238/238 [==============================] - 53s 222ms/step - loss: 0.4037 - accuracy: 0.8041 - val_loss: 0.3684 - val_accuracy: 0.8171\n",
      "Epoch 3/15\n",
      "238/238 [==============================] - 53s 222ms/step - loss: 0.3669 - accuracy: 0.8279 - val_loss: 0.3432 - val_accuracy: 0.8395\n",
      "Epoch 4/15\n",
      "238/238 [==============================] - 53s 222ms/step - loss: 0.3702 - accuracy: 0.8357 - val_loss: 0.3406 - val_accuracy: 0.8417\n",
      "Epoch 5/15\n",
      "238/238 [==============================] - 53s 222ms/step - loss: 0.3984 - accuracy: 0.8219 - val_loss: 0.3369 - val_accuracy: 0.8417\n",
      "Epoch 6/15\n",
      "238/238 [==============================] - 53s 221ms/step - loss: 0.3321 - accuracy: 0.8480 - val_loss: 0.3385 - val_accuracy: 0.8484\n",
      "Epoch 7/15\n",
      "238/238 [==============================] - 53s 222ms/step - loss: 0.3261 - accuracy: 0.8524 - val_loss: 0.3629 - val_accuracy: 0.8458\n",
      "Epoch 8/15\n",
      "238/238 [==============================] - 53s 221ms/step - loss: 0.3211 - accuracy: 0.8543 - val_loss: 0.3747 - val_accuracy: 0.8416\n",
      "Epoch 9/15\n",
      "238/238 [==============================] - 53s 222ms/step - loss: 0.3461 - accuracy: 0.8457 - val_loss: 0.3217 - val_accuracy: 0.8543\n",
      "Epoch 10/15\n",
      "238/238 [==============================] - 53s 222ms/step - loss: 0.3106 - accuracy: 0.8602 - val_loss: 0.3053 - val_accuracy: 0.8609\n",
      "Epoch 11/15\n",
      "238/238 [==============================] - 53s 221ms/step - loss: 0.3053 - accuracy: 0.8626 - val_loss: 0.3139 - val_accuracy: 0.8627\n",
      "Epoch 12/15\n",
      "238/238 [==============================] - 53s 221ms/step - loss: 0.2979 - accuracy: 0.8643 - val_loss: 0.3144 - val_accuracy: 0.8618\n",
      "Epoch 13/15\n",
      "238/238 [==============================] - 53s 221ms/step - loss: 0.3056 - accuracy: 0.8660 - val_loss: 0.3202 - val_accuracy: 0.8439\n",
      "Epoch 14/15\n",
      "238/238 [==============================] - 53s 222ms/step - loss: 0.2910 - accuracy: 0.8706 - val_loss: 0.3028 - val_accuracy: 0.8567\n",
      "Epoch 15/15\n",
      "238/238 [==============================] - 53s 222ms/step - loss: 0.3444 - accuracy: 0.8436 - val_loss: 0.2957 - val_accuracy: 0.8697\n"
     ]
    },
    {
     "data": {
      "text/html": [
       "<br/>Waiting for W&B process to finish, PID 2331<br/>Program ended successfully."
      ],
      "text/plain": [
       "<IPython.core.display.HTML object>"
      ]
     },
     "metadata": {},
     "output_type": "display_data"
    },
    {
     "data": {
      "application/vnd.jupyter.widget-view+json": {
       "model_id": "",
       "version_major": 2,
       "version_minor": 0
      },
      "text/plain": [
       "VBox(children=(Label(value=' 6.03MB of 6.03MB uploaded (0.00MB deduped)\\r'), FloatProgress(value=1.0, max=1.0)…"
      ]
     },
     "metadata": {},
     "output_type": "display_data"
    },
    {
     "data": {
      "text/html": [
       "Find user logs for this run at: <code>/home/jovyan/work/wandb/run-20210426_150546-q24frxhs/logs/debug.log</code>"
      ],
      "text/plain": [
       "<IPython.core.display.HTML object>"
      ]
     },
     "metadata": {},
     "output_type": "display_data"
    },
    {
     "data": {
      "text/html": [
       "Find internal logs for this run at: <code>/home/jovyan/work/wandb/run-20210426_150546-q24frxhs/logs/debug-internal.log</code>"
      ],
      "text/plain": [
       "<IPython.core.display.HTML object>"
      ]
     },
     "metadata": {},
     "output_type": "display_data"
    },
    {
     "data": {
      "text/html": [
       "<h3>Run summary:</h3><br/><style>\n",
       "    table.wandb td:nth-child(1) { padding: 0 10px; text-align: right }\n",
       "    </style><table class=\"wandb\">\n",
       "<tr><td>epoch</td><td>14</td></tr><tr><td>loss</td><td>0.34435</td></tr><tr><td>accuracy</td><td>0.84355</td></tr><tr><td>val_loss</td><td>0.2957</td></tr><tr><td>val_accuracy</td><td>0.86972</td></tr><tr><td>_runtime</td><td>800</td></tr><tr><td>_timestamp</td><td>1619450346</td></tr><tr><td>_step</td><td>14</td></tr><tr><td>best_val_loss</td><td>0.2957</td></tr><tr><td>best_epoch</td><td>14</td></tr></table>"
      ],
      "text/plain": [
       "<IPython.core.display.HTML object>"
      ]
     },
     "metadata": {},
     "output_type": "display_data"
    },
    {
     "data": {
      "text/html": [
       "<h3>Run history:</h3><br/><style>\n",
       "    table.wandb td:nth-child(1) { padding: 0 10px; text-align: right }\n",
       "    </style><table class=\"wandb\">\n",
       "<tr><td>epoch</td><td>▁▁▂▃▃▃▄▅▅▅▆▇▇▇█</td></tr><tr><td>loss</td><td>█▄▃▃▄▂▂▂▂▁▁▁▁▁▂</td></tr><tr><td>accuracy</td><td>▁▆▇▇▆▇▇▇▇█████▇</td></tr><tr><td>val_loss</td><td>█▅▄▃▃▃▅▅▂▂▂▂▂▁▁</td></tr><tr><td>val_accuracy</td><td>▁▂▄▅▅▅▅▅▆▇▇▇▅▆█</td></tr><tr><td>_runtime</td><td>▁▁▂▃▃▄▄▅▅▅▆▇▇▇█</td></tr><tr><td>_timestamp</td><td>▁▁▂▃▃▄▄▅▅▅▆▇▇▇█</td></tr><tr><td>_step</td><td>▁▁▂▃▃▃▄▅▅▅▆▇▇▇█</td></tr></table><br/>"
      ],
      "text/plain": [
       "<IPython.core.display.HTML object>"
      ]
     },
     "metadata": {},
     "output_type": "display_data"
    },
    {
     "data": {
      "text/html": [
       "Synced 5 W&B file(s), 1 media file(s), 0 artifact file(s) and 1 other file(s)"
      ],
      "text/plain": [
       "<IPython.core.display.HTML object>"
      ]
     },
     "metadata": {},
     "output_type": "display_data"
    },
    {
     "data": {
      "text/html": [
       "\n",
       "                    <br/>Synced <strong style=\"color:#cdcd00\">swept-sweep-20</strong>: <a href=\"https://wandb.ai/motuziik/model_optimization/runs/q24frxhs\" target=\"_blank\">https://wandb.ai/motuziik/model_optimization/runs/q24frxhs</a><br/>\n",
       "                "
      ],
      "text/plain": [
       "<IPython.core.display.HTML object>"
      ]
     },
     "metadata": {},
     "output_type": "display_data"
    },
    {
     "name": "stderr",
     "output_type": "stream",
     "text": [
      "\u001b[34m\u001b[1mwandb\u001b[0m: Agent Starting Run: be1sqygp with config:\n",
      "\u001b[34m\u001b[1mwandb\u001b[0m: \tactivation: tanh\n",
      "\u001b[34m\u001b[1mwandb\u001b[0m: \tbatch_size: 128\n",
      "\u001b[34m\u001b[1mwandb\u001b[0m: \tdropout: 0.25\n",
      "\u001b[34m\u001b[1mwandb\u001b[0m: \toptimizer: RMSprop\n",
      "Failed to detect the name of this notebook, you can set it manually with the WANDB_NOTEBOOK_NAME environment variable to enable code saving.\n"
     ]
    },
    {
     "data": {
      "text/html": [
       "\n",
       "                Tracking run with wandb version 0.10.27<br/>\n",
       "                Syncing run <strong style=\"color:#cdcd00\">denim-sweep-21</strong> to <a href=\"https://wandb.ai\" target=\"_blank\">Weights & Biases</a> <a href=\"https://docs.wandb.com/integrations/jupyter.html\" target=\"_blank\">(Documentation)</a>.<br/>\n",
       "                Project page: <a href=\"https://wandb.ai/motuziik/model_optimization\" target=\"_blank\">https://wandb.ai/motuziik/model_optimization</a><br/>\n",
       "                Sweep page: <a href=\"https://wandb.ai/motuziik/model_optimization/sweeps/83eceyoz\" target=\"_blank\">https://wandb.ai/motuziik/model_optimization/sweeps/83eceyoz</a><br/>\n",
       "Run page: <a href=\"https://wandb.ai/motuziik/model_optimization/runs/be1sqygp\" target=\"_blank\">https://wandb.ai/motuziik/model_optimization/runs/be1sqygp</a><br/>\n",
       "                Run data is saved locally in <code>/home/jovyan/work/wandb/run-20210426_151911-be1sqygp</code><br/><br/>\n",
       "            "
      ],
      "text/plain": [
       "<IPython.core.display.HTML object>"
      ]
     },
     "metadata": {},
     "output_type": "display_data"
    },
    {
     "name": "stdout",
     "output_type": "stream",
     "text": [
      "Epoch 1/15\n",
      "238/238 [==============================] - 54s 226ms/step - loss: 0.5392 - accuracy: 0.7270 - val_loss: 0.5904 - val_accuracy: 0.6956\n",
      "Epoch 2/15\n",
      "238/238 [==============================] - 53s 224ms/step - loss: 0.3757 - accuracy: 0.8321 - val_loss: 0.3249 - val_accuracy: 0.8550\n",
      "Epoch 3/15\n",
      "238/238 [==============================] - 53s 224ms/step - loss: 0.3377 - accuracy: 0.8500 - val_loss: 0.3431 - val_accuracy: 0.8538\n",
      "Epoch 4/15\n",
      "238/238 [==============================] - 53s 224ms/step - loss: 0.3022 - accuracy: 0.8734 - val_loss: 0.2387 - val_accuracy: 0.8999\n",
      "Epoch 5/15\n",
      "238/238 [==============================] - 53s 224ms/step - loss: 0.2541 - accuracy: 0.8979 - val_loss: 0.2251 - val_accuracy: 0.9092\n",
      "Epoch 6/15\n",
      "238/238 [==============================] - 53s 225ms/step - loss: 0.2168 - accuracy: 0.9167 - val_loss: 0.1745 - val_accuracy: 0.9360\n",
      "Epoch 7/15\n",
      "238/238 [==============================] - 53s 224ms/step - loss: 0.1906 - accuracy: 0.9287 - val_loss: 0.2403 - val_accuracy: 0.9254\n",
      "Epoch 8/15\n",
      "238/238 [==============================] - 53s 224ms/step - loss: 0.1704 - accuracy: 0.9376 - val_loss: 0.1415 - val_accuracy: 0.9458\n",
      "Epoch 9/15\n",
      "238/238 [==============================] - 53s 224ms/step - loss: 0.1552 - accuracy: 0.9432 - val_loss: 0.1537 - val_accuracy: 0.9484\n",
      "Epoch 10/15\n",
      "238/238 [==============================] - 53s 224ms/step - loss: 0.1489 - accuracy: 0.9468 - val_loss: 0.1839 - val_accuracy: 0.9272\n",
      "Epoch 11/15\n",
      "238/238 [==============================] - 53s 224ms/step - loss: 0.1366 - accuracy: 0.9506 - val_loss: 0.1235 - val_accuracy: 0.9559\n",
      "Epoch 12/15\n",
      "238/238 [==============================] - 53s 224ms/step - loss: 0.1308 - accuracy: 0.9532 - val_loss: 0.1331 - val_accuracy: 0.9521\n",
      "Epoch 13/15\n",
      "238/238 [==============================] - 53s 224ms/step - loss: 0.1239 - accuracy: 0.9570 - val_loss: 0.1271 - val_accuracy: 0.9541\n",
      "Epoch 14/15\n",
      "238/238 [==============================] - 53s 224ms/step - loss: 0.1157 - accuracy: 0.9601 - val_loss: 0.1122 - val_accuracy: 0.9596\n",
      "Epoch 15/15\n",
      "238/238 [==============================] - 53s 224ms/step - loss: 0.1120 - accuracy: 0.9600 - val_loss: 0.1117 - val_accuracy: 0.9632\n"
     ]
    },
    {
     "data": {
      "text/html": [
       "<br/>Waiting for W&B process to finish, PID 2428<br/>Program ended successfully."
      ],
      "text/plain": [
       "<IPython.core.display.HTML object>"
      ]
     },
     "metadata": {},
     "output_type": "display_data"
    },
    {
     "data": {
      "application/vnd.jupyter.widget-view+json": {
       "model_id": "",
       "version_major": 2,
       "version_minor": 0
      },
      "text/plain": [
       "VBox(children=(Label(value=' 12.04MB of 12.04MB uploaded (0.00MB deduped)\\r'), FloatProgress(value=1.0, max=1.…"
      ]
     },
     "metadata": {},
     "output_type": "display_data"
    },
    {
     "data": {
      "text/html": [
       "Find user logs for this run at: <code>/home/jovyan/work/wandb/run-20210426_151911-be1sqygp/logs/debug.log</code>"
      ],
      "text/plain": [
       "<IPython.core.display.HTML object>"
      ]
     },
     "metadata": {},
     "output_type": "display_data"
    },
    {
     "data": {
      "text/html": [
       "Find internal logs for this run at: <code>/home/jovyan/work/wandb/run-20210426_151911-be1sqygp/logs/debug-internal.log</code>"
      ],
      "text/plain": [
       "<IPython.core.display.HTML object>"
      ]
     },
     "metadata": {},
     "output_type": "display_data"
    },
    {
     "data": {
      "text/html": [
       "<h3>Run summary:</h3><br/><style>\n",
       "    table.wandb td:nth-child(1) { padding: 0 10px; text-align: right }\n",
       "    </style><table class=\"wandb\">\n",
       "<tr><td>epoch</td><td>14</td></tr><tr><td>loss</td><td>0.11201</td></tr><tr><td>accuracy</td><td>0.95996</td></tr><tr><td>val_loss</td><td>0.11172</td></tr><tr><td>val_accuracy</td><td>0.96315</td></tr><tr><td>_runtime</td><td>810</td></tr><tr><td>_timestamp</td><td>1619451161</td></tr><tr><td>_step</td><td>14</td></tr><tr><td>best_val_loss</td><td>0.11172</td></tr><tr><td>best_epoch</td><td>14</td></tr></table>"
      ],
      "text/plain": [
       "<IPython.core.display.HTML object>"
      ]
     },
     "metadata": {},
     "output_type": "display_data"
    },
    {
     "data": {
      "text/html": [
       "<h3>Run history:</h3><br/><style>\n",
       "    table.wandb td:nth-child(1) { padding: 0 10px; text-align: right }\n",
       "    </style><table class=\"wandb\">\n",
       "<tr><td>epoch</td><td>▁▁▂▃▃▃▄▅▅▅▆▇▇▇█</td></tr><tr><td>loss</td><td>█▅▅▄▃▃▂▂▂▂▁▁▁▁▁</td></tr><tr><td>accuracy</td><td>▁▄▅▅▆▇▇▇▇██████</td></tr><tr><td>val_loss</td><td>█▄▄▃▃▂▃▁▂▂▁▁▁▁▁</td></tr><tr><td>val_accuracy</td><td>▁▅▅▆▇▇▇██▇█████</td></tr><tr><td>_runtime</td><td>▁▁▂▂▃▄▄▅▅▆▆▇▇██</td></tr><tr><td>_timestamp</td><td>▁▁▂▂▃▄▄▅▅▆▆▇▇██</td></tr><tr><td>_step</td><td>▁▁▂▃▃▃▄▅▅▅▆▇▇▇█</td></tr></table><br/>"
      ],
      "text/plain": [
       "<IPython.core.display.HTML object>"
      ]
     },
     "metadata": {},
     "output_type": "display_data"
    },
    {
     "data": {
      "text/html": [
       "Synced 5 W&B file(s), 1 media file(s), 0 artifact file(s) and 1 other file(s)"
      ],
      "text/plain": [
       "<IPython.core.display.HTML object>"
      ]
     },
     "metadata": {},
     "output_type": "display_data"
    },
    {
     "data": {
      "text/html": [
       "\n",
       "                    <br/>Synced <strong style=\"color:#cdcd00\">denim-sweep-21</strong>: <a href=\"https://wandb.ai/motuziik/model_optimization/runs/be1sqygp\" target=\"_blank\">https://wandb.ai/motuziik/model_optimization/runs/be1sqygp</a><br/>\n",
       "                "
      ],
      "text/plain": [
       "<IPython.core.display.HTML object>"
      ]
     },
     "metadata": {},
     "output_type": "display_data"
    },
    {
     "name": "stderr",
     "output_type": "stream",
     "text": [
      "\u001b[34m\u001b[1mwandb\u001b[0m: Agent Starting Run: 01ttz90n with config:\n",
      "\u001b[34m\u001b[1mwandb\u001b[0m: \tactivation: tanh\n",
      "\u001b[34m\u001b[1mwandb\u001b[0m: \tbatch_size: 128\n",
      "\u001b[34m\u001b[1mwandb\u001b[0m: \tdropout: 0.2\n",
      "\u001b[34m\u001b[1mwandb\u001b[0m: \toptimizer: adam\n",
      "Failed to detect the name of this notebook, you can set it manually with the WANDB_NOTEBOOK_NAME environment variable to enable code saving.\n"
     ]
    },
    {
     "data": {
      "text/html": [
       "\n",
       "                Tracking run with wandb version 0.10.27<br/>\n",
       "                Syncing run <strong style=\"color:#cdcd00\">fast-sweep-22</strong> to <a href=\"https://wandb.ai\" target=\"_blank\">Weights & Biases</a> <a href=\"https://docs.wandb.com/integrations/jupyter.html\" target=\"_blank\">(Documentation)</a>.<br/>\n",
       "                Project page: <a href=\"https://wandb.ai/motuziik/model_optimization\" target=\"_blank\">https://wandb.ai/motuziik/model_optimization</a><br/>\n",
       "                Sweep page: <a href=\"https://wandb.ai/motuziik/model_optimization/sweeps/83eceyoz\" target=\"_blank\">https://wandb.ai/motuziik/model_optimization/sweeps/83eceyoz</a><br/>\n",
       "Run page: <a href=\"https://wandb.ai/motuziik/model_optimization/runs/01ttz90n\" target=\"_blank\">https://wandb.ai/motuziik/model_optimization/runs/01ttz90n</a><br/>\n",
       "                Run data is saved locally in <code>/home/jovyan/work/wandb/run-20210426_153246-01ttz90n</code><br/><br/>\n",
       "            "
      ],
      "text/plain": [
       "<IPython.core.display.HTML object>"
      ]
     },
     "metadata": {},
     "output_type": "display_data"
    },
    {
     "name": "stdout",
     "output_type": "stream",
     "text": [
      "Epoch 1/15\n",
      "  2/238 [..............................] - ETA: 24s - loss: 0.7818 - accuracy: 0.4961WARNING:tensorflow:Callbacks method `on_train_batch_end` is slow compared to the batch time (batch time: 0.0818s vs `on_train_batch_end` time: 0.1252s). Check your callbacks.\n",
      "238/238 [==============================] - 53s 225ms/step - loss: 0.3572 - accuracy: 0.8367 - val_loss: 0.2619 - val_accuracy: 0.8872\n",
      "Epoch 2/15\n",
      "238/238 [==============================] - 53s 223ms/step - loss: 0.2531 - accuracy: 0.8917 - val_loss: 0.2004 - val_accuracy: 0.9233\n",
      "Epoch 3/15\n",
      "238/238 [==============================] - 53s 223ms/step - loss: 0.1701 - accuracy: 0.9345 - val_loss: 0.1446 - val_accuracy: 0.9450\n",
      "Epoch 4/15\n",
      "238/238 [==============================] - 53s 222ms/step - loss: 0.1365 - accuracy: 0.9489 - val_loss: 0.1524 - val_accuracy: 0.9467\n",
      "Epoch 5/15\n",
      "238/238 [==============================] - 53s 222ms/step - loss: 0.1165 - accuracy: 0.9560 - val_loss: 0.1517 - val_accuracy: 0.9422\n",
      "Epoch 6/15\n",
      "238/238 [==============================] - 53s 222ms/step - loss: 0.1096 - accuracy: 0.9578 - val_loss: 0.1593 - val_accuracy: 0.9488\n",
      "Epoch 7/15\n",
      "238/238 [==============================] - 53s 223ms/step - loss: 0.0951 - accuracy: 0.9651 - val_loss: 0.1079 - val_accuracy: 0.9635\n",
      "Epoch 8/15\n",
      "238/238 [==============================] - 53s 222ms/step - loss: 0.0873 - accuracy: 0.9680 - val_loss: 0.1205 - val_accuracy: 0.9613\n",
      "Epoch 9/15\n",
      "238/238 [==============================] - 53s 222ms/step - loss: 0.0815 - accuracy: 0.9699 - val_loss: 0.1191 - val_accuracy: 0.9567\n",
      "Epoch 10/15\n",
      "238/238 [==============================] - 53s 223ms/step - loss: 0.0782 - accuracy: 0.9704 - val_loss: 0.0961 - val_accuracy: 0.9658\n",
      "Epoch 11/15\n",
      "238/238 [==============================] - 53s 222ms/step - loss: 0.0674 - accuracy: 0.9753 - val_loss: 0.1041 - val_accuracy: 0.9628\n",
      "Epoch 12/15\n",
      "238/238 [==============================] - 53s 222ms/step - loss: 0.0674 - accuracy: 0.9759 - val_loss: 0.1170 - val_accuracy: 0.9564\n",
      "Epoch 13/15\n",
      "238/238 [==============================] - 53s 222ms/step - loss: 0.0681 - accuracy: 0.9745 - val_loss: 0.1086 - val_accuracy: 0.9593\n",
      "Epoch 14/15\n",
      "238/238 [==============================] - 53s 222ms/step - loss: 0.0563 - accuracy: 0.9794 - val_loss: 0.1107 - val_accuracy: 0.9618\n",
      "Epoch 15/15\n",
      "238/238 [==============================] - 53s 222ms/step - loss: 0.0587 - accuracy: 0.9781 - val_loss: 0.1221 - val_accuracy: 0.9628\n"
     ]
    },
    {
     "data": {
      "text/html": [
       "<br/>Waiting for W&B process to finish, PID 2525<br/>Program ended successfully."
      ],
      "text/plain": [
       "<IPython.core.display.HTML object>"
      ]
     },
     "metadata": {},
     "output_type": "display_data"
    },
    {
     "data": {
      "application/vnd.jupyter.widget-view+json": {
       "model_id": "",
       "version_major": 2,
       "version_minor": 0
      },
      "text/plain": [
       "VBox(children=(Label(value=' 18.03MB of 18.03MB uploaded (0.00MB deduped)\\r'), FloatProgress(value=1.0, max=1.…"
      ]
     },
     "metadata": {},
     "output_type": "display_data"
    },
    {
     "data": {
      "text/html": [
       "Find user logs for this run at: <code>/home/jovyan/work/wandb/run-20210426_153246-01ttz90n/logs/debug.log</code>"
      ],
      "text/plain": [
       "<IPython.core.display.HTML object>"
      ]
     },
     "metadata": {},
     "output_type": "display_data"
    },
    {
     "data": {
      "text/html": [
       "Find internal logs for this run at: <code>/home/jovyan/work/wandb/run-20210426_153246-01ttz90n/logs/debug-internal.log</code>"
      ],
      "text/plain": [
       "<IPython.core.display.HTML object>"
      ]
     },
     "metadata": {},
     "output_type": "display_data"
    },
    {
     "data": {
      "text/html": [
       "<h3>Run summary:</h3><br/><style>\n",
       "    table.wandb td:nth-child(1) { padding: 0 10px; text-align: right }\n",
       "    </style><table class=\"wandb\">\n",
       "<tr><td>epoch</td><td>14</td></tr><tr><td>loss</td><td>0.05874</td></tr><tr><td>accuracy</td><td>0.97809</td></tr><tr><td>val_loss</td><td>0.12215</td></tr><tr><td>val_accuracy</td><td>0.96276</td></tr><tr><td>_runtime</td><td>802</td></tr><tr><td>_timestamp</td><td>1619451968</td></tr><tr><td>_step</td><td>14</td></tr><tr><td>best_val_loss</td><td>0.09606</td></tr><tr><td>best_epoch</td><td>9</td></tr></table>"
      ],
      "text/plain": [
       "<IPython.core.display.HTML object>"
      ]
     },
     "metadata": {},
     "output_type": "display_data"
    },
    {
     "data": {
      "text/html": [
       "<h3>Run history:</h3><br/><style>\n",
       "    table.wandb td:nth-child(1) { padding: 0 10px; text-align: right }\n",
       "    </style><table class=\"wandb\">\n",
       "<tr><td>epoch</td><td>▁▁▂▃▃▃▄▅▅▅▆▇▇▇█</td></tr><tr><td>loss</td><td>█▆▄▃▂▂▂▂▂▂▁▁▁▁▁</td></tr><tr><td>accuracy</td><td>▁▄▆▇▇▇▇▇███████</td></tr><tr><td>val_loss</td><td>█▅▃▃▃▄▁▂▂▁▁▂▂▂▂</td></tr><tr><td>val_accuracy</td><td>▁▄▆▆▆▆██▇██▇▇██</td></tr><tr><td>_runtime</td><td>▁▁▂▂▃▃▄▅▅▆▆▇▇██</td></tr><tr><td>_timestamp</td><td>▁▁▂▂▃▃▄▅▅▆▆▇▇██</td></tr><tr><td>_step</td><td>▁▁▂▃▃▃▄▅▅▅▆▇▇▇█</td></tr></table><br/>"
      ],
      "text/plain": [
       "<IPython.core.display.HTML object>"
      ]
     },
     "metadata": {},
     "output_type": "display_data"
    },
    {
     "data": {
      "text/html": [
       "Synced 5 W&B file(s), 1 media file(s), 0 artifact file(s) and 1 other file(s)"
      ],
      "text/plain": [
       "<IPython.core.display.HTML object>"
      ]
     },
     "metadata": {},
     "output_type": "display_data"
    },
    {
     "data": {
      "text/html": [
       "\n",
       "                    <br/>Synced <strong style=\"color:#cdcd00\">fast-sweep-22</strong>: <a href=\"https://wandb.ai/motuziik/model_optimization/runs/01ttz90n\" target=\"_blank\">https://wandb.ai/motuziik/model_optimization/runs/01ttz90n</a><br/>\n",
       "                "
      ],
      "text/plain": [
       "<IPython.core.display.HTML object>"
      ]
     },
     "metadata": {},
     "output_type": "display_data"
    },
    {
     "name": "stderr",
     "output_type": "stream",
     "text": [
      "\u001b[34m\u001b[1mwandb\u001b[0m: Agent Starting Run: s9swuc0g with config:\n",
      "\u001b[34m\u001b[1mwandb\u001b[0m: \tactivation: tanh\n",
      "\u001b[34m\u001b[1mwandb\u001b[0m: \tbatch_size: 128\n",
      "\u001b[34m\u001b[1mwandb\u001b[0m: \tdropout: 0.2\n",
      "\u001b[34m\u001b[1mwandb\u001b[0m: \toptimizer: SGD\n",
      "Failed to detect the name of this notebook, you can set it manually with the WANDB_NOTEBOOK_NAME environment variable to enable code saving.\n"
     ]
    },
    {
     "data": {
      "text/html": [
       "\n",
       "                Tracking run with wandb version 0.10.27<br/>\n",
       "                Syncing run <strong style=\"color:#cdcd00\">worthy-sweep-23</strong> to <a href=\"https://wandb.ai\" target=\"_blank\">Weights & Biases</a> <a href=\"https://docs.wandb.com/integrations/jupyter.html\" target=\"_blank\">(Documentation)</a>.<br/>\n",
       "                Project page: <a href=\"https://wandb.ai/motuziik/model_optimization\" target=\"_blank\">https://wandb.ai/motuziik/model_optimization</a><br/>\n",
       "                Sweep page: <a href=\"https://wandb.ai/motuziik/model_optimization/sweeps/83eceyoz\" target=\"_blank\">https://wandb.ai/motuziik/model_optimization/sweeps/83eceyoz</a><br/>\n",
       "Run page: <a href=\"https://wandb.ai/motuziik/model_optimization/runs/s9swuc0g\" target=\"_blank\">https://wandb.ai/motuziik/model_optimization/runs/s9swuc0g</a><br/>\n",
       "                Run data is saved locally in <code>/home/jovyan/work/wandb/run-20210426_154613-s9swuc0g</code><br/><br/>\n",
       "            "
      ],
      "text/plain": [
       "<IPython.core.display.HTML object>"
      ]
     },
     "metadata": {},
     "output_type": "display_data"
    },
    {
     "name": "stdout",
     "output_type": "stream",
     "text": [
      "Epoch 1/15\n",
      "  2/238 [..............................] - ETA: 24s - loss: 0.6983 - accuracy: 0.4648WARNING:tensorflow:Callbacks method `on_train_batch_end` is slow compared to the batch time (batch time: 0.0815s vs `on_train_batch_end` time: 0.1250s). Check your callbacks.\n",
      "238/238 [==============================] - 53s 224ms/step - loss: 0.5899 - accuracy: 0.6604 - val_loss: 0.4514 - val_accuracy: 0.7789\n",
      "Epoch 2/15\n",
      "238/238 [==============================] - 53s 221ms/step - loss: 0.4100 - accuracy: 0.8040 - val_loss: 0.5561 - val_accuracy: 0.7797\n",
      "Epoch 3/15\n",
      "238/238 [==============================] - 53s 222ms/step - loss: 0.3651 - accuracy: 0.8300 - val_loss: 0.3519 - val_accuracy: 0.8412\n",
      "Epoch 4/15\n",
      "238/238 [==============================] - 53s 222ms/step - loss: 0.3480 - accuracy: 0.8381 - val_loss: 0.3367 - val_accuracy: 0.8483\n",
      "Epoch 5/15\n",
      "238/238 [==============================] - 53s 221ms/step - loss: 0.3371 - accuracy: 0.8439 - val_loss: 0.3694 - val_accuracy: 0.8460\n",
      "Epoch 6/15\n",
      "238/238 [==============================] - 53s 221ms/step - loss: 0.3285 - accuracy: 0.8503 - val_loss: 0.3420 - val_accuracy: 0.8409\n",
      "Epoch 7/15\n",
      "238/238 [==============================] - 53s 222ms/step - loss: 0.3826 - accuracy: 0.8255 - val_loss: 0.3310 - val_accuracy: 0.8470\n",
      "Epoch 8/15\n",
      "238/238 [==============================] - 53s 222ms/step - loss: 0.3201 - accuracy: 0.8530 - val_loss: 0.3189 - val_accuracy: 0.8520\n",
      "Epoch 9/15\n",
      "238/238 [==============================] - 53s 222ms/step - loss: 0.3170 - accuracy: 0.8563 - val_loss: 0.3110 - val_accuracy: 0.8566\n",
      "Epoch 10/15\n",
      "238/238 [==============================] - 53s 221ms/step - loss: 0.3096 - accuracy: 0.8599 - val_loss: 0.3144 - val_accuracy: 0.8609\n",
      "Epoch 11/15\n",
      "238/238 [==============================] - 53s 222ms/step - loss: 0.3443 - accuracy: 0.8443 - val_loss: 0.3208 - val_accuracy: 0.8481\n",
      "Epoch 12/15\n",
      "238/238 [==============================] - 53s 222ms/step - loss: 0.3072 - accuracy: 0.8603 - val_loss: 0.3643 - val_accuracy: 0.8066\n",
      "Epoch 13/15\n",
      "238/238 [==============================] - 53s 222ms/step - loss: 0.3174 - accuracy: 0.8557 - val_loss: 0.2921 - val_accuracy: 0.8701\n",
      "Epoch 14/15\n",
      "238/238 [==============================] - 53s 222ms/step - loss: 0.2924 - accuracy: 0.8675 - val_loss: 0.2871 - val_accuracy: 0.8752\n",
      "Epoch 15/15\n",
      "238/238 [==============================] - 53s 221ms/step - loss: 0.3165 - accuracy: 0.8574 - val_loss: 0.2888 - val_accuracy: 0.8746\n"
     ]
    },
    {
     "data": {
      "text/html": [
       "<br/>Waiting for W&B process to finish, PID 2622<br/>Program ended successfully."
      ],
      "text/plain": [
       "<IPython.core.display.HTML object>"
      ]
     },
     "metadata": {},
     "output_type": "display_data"
    },
    {
     "data": {
      "application/vnd.jupyter.widget-view+json": {
       "model_id": "",
       "version_major": 2,
       "version_minor": 0
      },
      "text/plain": [
       "VBox(children=(Label(value=' 6.03MB of 6.03MB uploaded (0.00MB deduped)\\r'), FloatProgress(value=1.0, max=1.0)…"
      ]
     },
     "metadata": {},
     "output_type": "display_data"
    },
    {
     "data": {
      "text/html": [
       "Find user logs for this run at: <code>/home/jovyan/work/wandb/run-20210426_154613-s9swuc0g/logs/debug.log</code>"
      ],
      "text/plain": [
       "<IPython.core.display.HTML object>"
      ]
     },
     "metadata": {},
     "output_type": "display_data"
    },
    {
     "data": {
      "text/html": [
       "Find internal logs for this run at: <code>/home/jovyan/work/wandb/run-20210426_154613-s9swuc0g/logs/debug-internal.log</code>"
      ],
      "text/plain": [
       "<IPython.core.display.HTML object>"
      ]
     },
     "metadata": {},
     "output_type": "display_data"
    },
    {
     "data": {
      "text/html": [
       "<h3>Run summary:</h3><br/><style>\n",
       "    table.wandb td:nth-child(1) { padding: 0 10px; text-align: right }\n",
       "    </style><table class=\"wandb\">\n",
       "<tr><td>epoch</td><td>14</td></tr><tr><td>loss</td><td>0.31649</td></tr><tr><td>accuracy</td><td>0.85737</td></tr><tr><td>val_loss</td><td>0.28878</td></tr><tr><td>val_accuracy</td><td>0.87459</td></tr><tr><td>_runtime</td><td>800</td></tr><tr><td>_timestamp</td><td>1619452773</td></tr><tr><td>_step</td><td>14</td></tr><tr><td>best_val_loss</td><td>0.28709</td></tr><tr><td>best_epoch</td><td>13</td></tr></table>"
      ],
      "text/plain": [
       "<IPython.core.display.HTML object>"
      ]
     },
     "metadata": {},
     "output_type": "display_data"
    },
    {
     "data": {
      "text/html": [
       "<h3>Run history:</h3><br/><style>\n",
       "    table.wandb td:nth-child(1) { padding: 0 10px; text-align: right }\n",
       "    </style><table class=\"wandb\">\n",
       "<tr><td>epoch</td><td>▁▁▂▃▃▃▄▅▅▅▆▇▇▇█</td></tr><tr><td>loss</td><td>█▄▃▂▂▂▃▂▂▁▂▁▂▁▂</td></tr><tr><td>accuracy</td><td>▁▆▇▇▇▇▇███▇████</td></tr><tr><td>val_loss</td><td>▅█▃▂▃▂▂▂▂▂▂▃▁▁▁</td></tr><tr><td>val_accuracy</td><td>▁▁▆▆▆▆▆▆▇▇▆▃███</td></tr><tr><td>_runtime</td><td>▁▁▂▃▃▃▄▅▅▆▆▇▇▇█</td></tr><tr><td>_timestamp</td><td>▁▁▂▃▃▃▄▅▅▆▆▇▇▇█</td></tr><tr><td>_step</td><td>▁▁▂▃▃▃▄▅▅▅▆▇▇▇█</td></tr></table><br/>"
      ],
      "text/plain": [
       "<IPython.core.display.HTML object>"
      ]
     },
     "metadata": {},
     "output_type": "display_data"
    },
    {
     "data": {
      "text/html": [
       "Synced 5 W&B file(s), 1 media file(s), 0 artifact file(s) and 1 other file(s)"
      ],
      "text/plain": [
       "<IPython.core.display.HTML object>"
      ]
     },
     "metadata": {},
     "output_type": "display_data"
    },
    {
     "data": {
      "text/html": [
       "\n",
       "                    <br/>Synced <strong style=\"color:#cdcd00\">worthy-sweep-23</strong>: <a href=\"https://wandb.ai/motuziik/model_optimization/runs/s9swuc0g\" target=\"_blank\">https://wandb.ai/motuziik/model_optimization/runs/s9swuc0g</a><br/>\n",
       "                "
      ],
      "text/plain": [
       "<IPython.core.display.HTML object>"
      ]
     },
     "metadata": {},
     "output_type": "display_data"
    },
    {
     "name": "stderr",
     "output_type": "stream",
     "text": [
      "\u001b[34m\u001b[1mwandb\u001b[0m: Agent Starting Run: 1fzn1ceh with config:\n",
      "\u001b[34m\u001b[1mwandb\u001b[0m: \tactivation: tanh\n",
      "\u001b[34m\u001b[1mwandb\u001b[0m: \tbatch_size: 128\n",
      "\u001b[34m\u001b[1mwandb\u001b[0m: \tdropout: 0.2\n",
      "\u001b[34m\u001b[1mwandb\u001b[0m: \toptimizer: RMSprop\n",
      "Failed to detect the name of this notebook, you can set it manually with the WANDB_NOTEBOOK_NAME environment variable to enable code saving.\n"
     ]
    },
    {
     "data": {
      "text/html": [
       "\n",
       "                Tracking run with wandb version 0.10.27<br/>\n",
       "                Syncing run <strong style=\"color:#cdcd00\">resilient-sweep-24</strong> to <a href=\"https://wandb.ai\" target=\"_blank\">Weights & Biases</a> <a href=\"https://docs.wandb.com/integrations/jupyter.html\" target=\"_blank\">(Documentation)</a>.<br/>\n",
       "                Project page: <a href=\"https://wandb.ai/motuziik/model_optimization\" target=\"_blank\">https://wandb.ai/motuziik/model_optimization</a><br/>\n",
       "                Sweep page: <a href=\"https://wandb.ai/motuziik/model_optimization/sweeps/83eceyoz\" target=\"_blank\">https://wandb.ai/motuziik/model_optimization/sweeps/83eceyoz</a><br/>\n",
       "Run page: <a href=\"https://wandb.ai/motuziik/model_optimization/runs/1fzn1ceh\" target=\"_blank\">https://wandb.ai/motuziik/model_optimization/runs/1fzn1ceh</a><br/>\n",
       "                Run data is saved locally in <code>/home/jovyan/work/wandb/run-20210426_155938-1fzn1ceh</code><br/><br/>\n",
       "            "
      ],
      "text/plain": [
       "<IPython.core.display.HTML object>"
      ]
     },
     "metadata": {},
     "output_type": "display_data"
    },
    {
     "name": "stdout",
     "output_type": "stream",
     "text": [
      "Epoch 1/15\n",
      "  2/238 [..............................] - ETA: 24s - loss: 1.3408 - accuracy: 0.4727WARNING:tensorflow:Callbacks method `on_train_batch_end` is slow compared to the batch time (batch time: 0.0811s vs `on_train_batch_end` time: 0.1259s). Check your callbacks.\n",
      "238/238 [==============================] - 54s 226ms/step - loss: 0.5309 - accuracy: 0.7469 - val_loss: 0.3522 - val_accuracy: 0.8464\n",
      "Epoch 2/15\n",
      "238/238 [==============================] - 53s 224ms/step - loss: 0.3608 - accuracy: 0.8388 - val_loss: 0.3700 - val_accuracy: 0.8362\n",
      "Epoch 3/15\n",
      "238/238 [==============================] - 53s 224ms/step - loss: 0.3169 - accuracy: 0.8612 - val_loss: 0.3103 - val_accuracy: 0.8573\n",
      "Epoch 4/15\n",
      "238/238 [==============================] - 53s 224ms/step - loss: 0.2706 - accuracy: 0.8888 - val_loss: 0.2645 - val_accuracy: 0.8767\n",
      "Epoch 5/15\n",
      "238/238 [==============================] - 53s 224ms/step - loss: 0.2189 - accuracy: 0.9145 - val_loss: 0.1826 - val_accuracy: 0.9313\n",
      "Epoch 6/15\n",
      "238/238 [==============================] - 53s 224ms/step - loss: 0.1854 - accuracy: 0.9312 - val_loss: 0.1836 - val_accuracy: 0.9392\n",
      "Epoch 7/15\n",
      "238/238 [==============================] - 53s 224ms/step - loss: 0.1601 - accuracy: 0.9421 - val_loss: 0.2210 - val_accuracy: 0.9296\n",
      "Epoch 8/15\n",
      "238/238 [==============================] - 53s 224ms/step - loss: 0.1459 - accuracy: 0.9486 - val_loss: 0.1456 - val_accuracy: 0.9491\n",
      "Epoch 9/15\n",
      "238/238 [==============================] - 53s 224ms/step - loss: 0.1360 - accuracy: 0.9517 - val_loss: 0.1429 - val_accuracy: 0.9545\n",
      "Epoch 10/15\n",
      "238/238 [==============================] - 53s 224ms/step - loss: 0.1230 - accuracy: 0.9571 - val_loss: 0.1407 - val_accuracy: 0.9503\n",
      "Epoch 11/15\n",
      "238/238 [==============================] - 53s 224ms/step - loss: 0.1196 - accuracy: 0.9580 - val_loss: 0.1115 - val_accuracy: 0.9620\n",
      "Epoch 12/15\n",
      "238/238 [==============================] - 53s 223ms/step - loss: 0.1053 - accuracy: 0.9636 - val_loss: 0.1859 - val_accuracy: 0.9268\n",
      "Epoch 13/15\n",
      "238/238 [==============================] - 53s 223ms/step - loss: 0.1029 - accuracy: 0.9643 - val_loss: 0.1122 - val_accuracy: 0.9651\n",
      "Epoch 14/15\n",
      "238/238 [==============================] - 53s 224ms/step - loss: 0.0946 - accuracy: 0.9668 - val_loss: 0.1094 - val_accuracy: 0.9657\n",
      "Epoch 15/15\n",
      "238/238 [==============================] - 53s 224ms/step - loss: 0.0889 - accuracy: 0.9693 - val_loss: 0.1134 - val_accuracy: 0.9647\n"
     ]
    },
    {
     "data": {
      "text/html": [
       "<br/>Waiting for W&B process to finish, PID 2719<br/>Program ended successfully."
      ],
      "text/plain": [
       "<IPython.core.display.HTML object>"
      ]
     },
     "metadata": {},
     "output_type": "display_data"
    },
    {
     "data": {
      "application/vnd.jupyter.widget-view+json": {
       "model_id": "",
       "version_major": 2,
       "version_minor": 0
      },
      "text/plain": [
       "VBox(children=(Label(value=' 12.04MB of 12.04MB uploaded (0.00MB deduped)\\r'), FloatProgress(value=1.0, max=1.…"
      ]
     },
     "metadata": {},
     "output_type": "display_data"
    },
    {
     "data": {
      "text/html": [
       "Find user logs for this run at: <code>/home/jovyan/work/wandb/run-20210426_155938-1fzn1ceh/logs/debug.log</code>"
      ],
      "text/plain": [
       "<IPython.core.display.HTML object>"
      ]
     },
     "metadata": {},
     "output_type": "display_data"
    },
    {
     "data": {
      "text/html": [
       "Find internal logs for this run at: <code>/home/jovyan/work/wandb/run-20210426_155938-1fzn1ceh/logs/debug-internal.log</code>"
      ],
      "text/plain": [
       "<IPython.core.display.HTML object>"
      ]
     },
     "metadata": {},
     "output_type": "display_data"
    },
    {
     "data": {
      "text/html": [
       "<h3>Run summary:</h3><br/><style>\n",
       "    table.wandb td:nth-child(1) { padding: 0 10px; text-align: right }\n",
       "    </style><table class=\"wandb\">\n",
       "<tr><td>epoch</td><td>14</td></tr><tr><td>loss</td><td>0.08892</td></tr><tr><td>accuracy</td><td>0.9693</td></tr><tr><td>val_loss</td><td>0.11341</td></tr><tr><td>val_accuracy</td><td>0.96473</td></tr><tr><td>_runtime</td><td>809</td></tr><tr><td>_timestamp</td><td>1619453587</td></tr><tr><td>_step</td><td>14</td></tr><tr><td>best_val_loss</td><td>0.10939</td></tr><tr><td>best_epoch</td><td>13</td></tr></table>"
      ],
      "text/plain": [
       "<IPython.core.display.HTML object>"
      ]
     },
     "metadata": {},
     "output_type": "display_data"
    },
    {
     "data": {
      "text/html": [
       "<h3>Run history:</h3><br/><style>\n",
       "    table.wandb td:nth-child(1) { padding: 0 10px; text-align: right }\n",
       "    </style><table class=\"wandb\">\n",
       "<tr><td>epoch</td><td>▁▁▂▃▃▃▄▅▅▅▆▇▇▇█</td></tr><tr><td>loss</td><td>█▅▅▄▃▃▂▂▂▂▁▁▁▁▁</td></tr><tr><td>accuracy</td><td>▁▄▅▅▆▇▇▇▇██████</td></tr><tr><td>val_loss</td><td>██▆▅▃▃▄▂▂▂▁▃▁▁▁</td></tr><tr><td>val_accuracy</td><td>▂▁▂▃▆▇▆▇▇▇█▆███</td></tr><tr><td>_runtime</td><td>▁▂▂▃▃▄▄▅▅▅▆▇▇██</td></tr><tr><td>_timestamp</td><td>▁▂▂▃▃▄▄▅▅▅▆▇▇██</td></tr><tr><td>_step</td><td>▁▁▂▃▃▃▄▅▅▅▆▇▇▇█</td></tr></table><br/>"
      ],
      "text/plain": [
       "<IPython.core.display.HTML object>"
      ]
     },
     "metadata": {},
     "output_type": "display_data"
    },
    {
     "data": {
      "text/html": [
       "Synced 5 W&B file(s), 1 media file(s), 0 artifact file(s) and 1 other file(s)"
      ],
      "text/plain": [
       "<IPython.core.display.HTML object>"
      ]
     },
     "metadata": {},
     "output_type": "display_data"
    },
    {
     "data": {
      "text/html": [
       "\n",
       "                    <br/>Synced <strong style=\"color:#cdcd00\">resilient-sweep-24</strong>: <a href=\"https://wandb.ai/motuziik/model_optimization/runs/1fzn1ceh\" target=\"_blank\">https://wandb.ai/motuziik/model_optimization/runs/1fzn1ceh</a><br/>\n",
       "                "
      ],
      "text/plain": [
       "<IPython.core.display.HTML object>"
      ]
     },
     "metadata": {},
     "output_type": "display_data"
    },
    {
     "name": "stderr",
     "output_type": "stream",
     "text": [
      "\u001b[34m\u001b[1mwandb\u001b[0m: Agent Starting Run: hdpi27tf with config:\n",
      "\u001b[34m\u001b[1mwandb\u001b[0m: \tactivation: tanh\n",
      "\u001b[34m\u001b[1mwandb\u001b[0m: \tbatch_size: 128\n",
      "\u001b[34m\u001b[1mwandb\u001b[0m: \tdropout: 0.15\n",
      "\u001b[34m\u001b[1mwandb\u001b[0m: \toptimizer: adam\n",
      "Failed to detect the name of this notebook, you can set it manually with the WANDB_NOTEBOOK_NAME environment variable to enable code saving.\n"
     ]
    },
    {
     "data": {
      "text/html": [
       "\n",
       "                Tracking run with wandb version 0.10.27<br/>\n",
       "                Syncing run <strong style=\"color:#cdcd00\">super-sweep-25</strong> to <a href=\"https://wandb.ai\" target=\"_blank\">Weights & Biases</a> <a href=\"https://docs.wandb.com/integrations/jupyter.html\" target=\"_blank\">(Documentation)</a>.<br/>\n",
       "                Project page: <a href=\"https://wandb.ai/motuziik/model_optimization\" target=\"_blank\">https://wandb.ai/motuziik/model_optimization</a><br/>\n",
       "                Sweep page: <a href=\"https://wandb.ai/motuziik/model_optimization/sweeps/83eceyoz\" target=\"_blank\">https://wandb.ai/motuziik/model_optimization/sweeps/83eceyoz</a><br/>\n",
       "Run page: <a href=\"https://wandb.ai/motuziik/model_optimization/runs/hdpi27tf\" target=\"_blank\">https://wandb.ai/motuziik/model_optimization/runs/hdpi27tf</a><br/>\n",
       "                Run data is saved locally in <code>/home/jovyan/work/wandb/run-20210426_161312-hdpi27tf</code><br/><br/>\n",
       "            "
      ],
      "text/plain": [
       "<IPython.core.display.HTML object>"
      ]
     },
     "metadata": {},
     "output_type": "display_data"
    },
    {
     "name": "stdout",
     "output_type": "stream",
     "text": [
      "Epoch 1/15\n",
      "  2/238 [..............................] - ETA: 24s - loss: 0.6648 - accuracy: 0.5625WARNING:tensorflow:Callbacks method `on_train_batch_end` is slow compared to the batch time (batch time: 0.0818s vs `on_train_batch_end` time: 0.1239s). Check your callbacks.\n",
      "238/238 [==============================] - 53s 225ms/step - loss: 0.3803 - accuracy: 0.8233 - val_loss: 0.3281 - val_accuracy: 0.8577\n",
      "Epoch 2/15\n",
      "238/238 [==============================] - 53s 223ms/step - loss: 0.2897 - accuracy: 0.8744 - val_loss: 0.2399 - val_accuracy: 0.8958\n",
      "Epoch 3/15\n",
      "238/238 [==============================] - 53s 223ms/step - loss: 0.1993 - accuracy: 0.9195 - val_loss: 0.2112 - val_accuracy: 0.9204\n",
      "Epoch 4/15\n",
      "238/238 [==============================] - 53s 223ms/step - loss: 0.1591 - accuracy: 0.9394 - val_loss: 0.1731 - val_accuracy: 0.9374\n",
      "Epoch 5/15\n",
      "238/238 [==============================] - 53s 223ms/step - loss: 0.1364 - accuracy: 0.9476 - val_loss: 0.1548 - val_accuracy: 0.9439\n",
      "Epoch 6/15\n",
      "238/238 [==============================] - 53s 222ms/step - loss: 0.1191 - accuracy: 0.9558 - val_loss: 0.1916 - val_accuracy: 0.8970\n",
      "Epoch 7/15\n",
      "238/238 [==============================] - 53s 223ms/step - loss: 0.1143 - accuracy: 0.9576 - val_loss: 0.1083 - val_accuracy: 0.9609\n",
      "Epoch 8/15\n",
      "238/238 [==============================] - 53s 222ms/step - loss: 0.0936 - accuracy: 0.9657 - val_loss: 0.1200 - val_accuracy: 0.9609\n",
      "Epoch 9/15\n",
      "238/238 [==============================] - 53s 223ms/step - loss: 0.0912 - accuracy: 0.9658 - val_loss: 0.1044 - val_accuracy: 0.9649\n",
      "Epoch 10/15\n",
      "238/238 [==============================] - 53s 223ms/step - loss: 0.0851 - accuracy: 0.9681 - val_loss: 0.0974 - val_accuracy: 0.9649\n",
      "Epoch 11/15\n",
      "238/238 [==============================] - 53s 222ms/step - loss: 0.0709 - accuracy: 0.9750 - val_loss: 0.2661 - val_accuracy: 0.9088\n",
      "Epoch 12/15\n",
      "238/238 [==============================] - 53s 222ms/step - loss: 0.0822 - accuracy: 0.9699 - val_loss: 0.1078 - val_accuracy: 0.9629\n",
      "Epoch 13/15\n",
      "238/238 [==============================] - 53s 222ms/step - loss: 0.0732 - accuracy: 0.9728 - val_loss: 0.1190 - val_accuracy: 0.9643\n",
      "Epoch 14/15\n",
      "238/238 [==============================] - 53s 222ms/step - loss: 0.0708 - accuracy: 0.9741 - val_loss: 0.1295 - val_accuracy: 0.9610\n",
      "Epoch 15/15\n",
      "238/238 [==============================] - 53s 222ms/step - loss: 0.0588 - accuracy: 0.9798 - val_loss: 0.1167 - val_accuracy: 0.9635\n"
     ]
    },
    {
     "data": {
      "text/html": [
       "<br/>Waiting for W&B process to finish, PID 2816<br/>Program ended successfully."
      ],
      "text/plain": [
       "<IPython.core.display.HTML object>"
      ]
     },
     "metadata": {},
     "output_type": "display_data"
    },
    {
     "data": {
      "application/vnd.jupyter.widget-view+json": {
       "model_id": "",
       "version_major": 2,
       "version_minor": 0
      },
      "text/plain": [
       "VBox(children=(Label(value=' 18.03MB of 18.03MB uploaded (0.00MB deduped)\\r'), FloatProgress(value=1.0, max=1.…"
      ]
     },
     "metadata": {},
     "output_type": "display_data"
    },
    {
     "data": {
      "text/html": [
       "Find user logs for this run at: <code>/home/jovyan/work/wandb/run-20210426_161312-hdpi27tf/logs/debug.log</code>"
      ],
      "text/plain": [
       "<IPython.core.display.HTML object>"
      ]
     },
     "metadata": {},
     "output_type": "display_data"
    },
    {
     "data": {
      "text/html": [
       "Find internal logs for this run at: <code>/home/jovyan/work/wandb/run-20210426_161312-hdpi27tf/logs/debug-internal.log</code>"
      ],
      "text/plain": [
       "<IPython.core.display.HTML object>"
      ]
     },
     "metadata": {},
     "output_type": "display_data"
    },
    {
     "data": {
      "text/html": [
       "<h3>Run summary:</h3><br/><style>\n",
       "    table.wandb td:nth-child(1) { padding: 0 10px; text-align: right }\n",
       "    </style><table class=\"wandb\">\n",
       "<tr><td>epoch</td><td>14</td></tr><tr><td>loss</td><td>0.05882</td></tr><tr><td>accuracy</td><td>0.97977</td></tr><tr><td>val_loss</td><td>0.11666</td></tr><tr><td>val_accuracy</td><td>0.96355</td></tr><tr><td>_runtime</td><td>803</td></tr><tr><td>_timestamp</td><td>1619454395</td></tr><tr><td>_step</td><td>14</td></tr><tr><td>best_val_loss</td><td>0.0974</td></tr><tr><td>best_epoch</td><td>9</td></tr></table>"
      ],
      "text/plain": [
       "<IPython.core.display.HTML object>"
      ]
     },
     "metadata": {},
     "output_type": "display_data"
    },
    {
     "data": {
      "text/html": [
       "<h3>Run history:</h3><br/><style>\n",
       "    table.wandb td:nth-child(1) { padding: 0 10px; text-align: right }\n",
       "    </style><table class=\"wandb\">\n",
       "<tr><td>epoch</td><td>▁▁▂▃▃▃▄▅▅▅▆▇▇▇█</td></tr><tr><td>loss</td><td>█▆▄▃▃▂▂▂▂▂▁▂▁▁▁</td></tr><tr><td>accuracy</td><td>▁▃▅▆▇▇▇▇▇▇█████</td></tr><tr><td>val_loss</td><td>█▅▄▃▃▄▁▂▁▁▆▁▂▂▂</td></tr><tr><td>val_accuracy</td><td>▁▃▅▆▇▄████▄████</td></tr><tr><td>_runtime</td><td>▁▁▂▂▃▄▄▅▅▅▆▇▇██</td></tr><tr><td>_timestamp</td><td>▁▁▂▂▃▄▄▅▅▅▆▇▇██</td></tr><tr><td>_step</td><td>▁▁▂▃▃▃▄▅▅▅▆▇▇▇█</td></tr></table><br/>"
      ],
      "text/plain": [
       "<IPython.core.display.HTML object>"
      ]
     },
     "metadata": {},
     "output_type": "display_data"
    },
    {
     "data": {
      "text/html": [
       "Synced 5 W&B file(s), 1 media file(s), 0 artifact file(s) and 1 other file(s)"
      ],
      "text/plain": [
       "<IPython.core.display.HTML object>"
      ]
     },
     "metadata": {},
     "output_type": "display_data"
    },
    {
     "data": {
      "text/html": [
       "\n",
       "                    <br/>Synced <strong style=\"color:#cdcd00\">super-sweep-25</strong>: <a href=\"https://wandb.ai/motuziik/model_optimization/runs/hdpi27tf\" target=\"_blank\">https://wandb.ai/motuziik/model_optimization/runs/hdpi27tf</a><br/>\n",
       "                "
      ],
      "text/plain": [
       "<IPython.core.display.HTML object>"
      ]
     },
     "metadata": {},
     "output_type": "display_data"
    },
    {
     "name": "stderr",
     "output_type": "stream",
     "text": [
      "\u001b[34m\u001b[1mwandb\u001b[0m: Agent Starting Run: n3a5e2s9 with config:\n",
      "\u001b[34m\u001b[1mwandb\u001b[0m: \tactivation: tanh\n",
      "\u001b[34m\u001b[1mwandb\u001b[0m: \tbatch_size: 128\n",
      "\u001b[34m\u001b[1mwandb\u001b[0m: \tdropout: 0.15\n",
      "\u001b[34m\u001b[1mwandb\u001b[0m: \toptimizer: SGD\n",
      "Failed to detect the name of this notebook, you can set it manually with the WANDB_NOTEBOOK_NAME environment variable to enable code saving.\n"
     ]
    },
    {
     "data": {
      "text/html": [
       "\n",
       "                Tracking run with wandb version 0.10.27<br/>\n",
       "                Syncing run <strong style=\"color:#cdcd00\">autumn-sweep-26</strong> to <a href=\"https://wandb.ai\" target=\"_blank\">Weights & Biases</a> <a href=\"https://docs.wandb.com/integrations/jupyter.html\" target=\"_blank\">(Documentation)</a>.<br/>\n",
       "                Project page: <a href=\"https://wandb.ai/motuziik/model_optimization\" target=\"_blank\">https://wandb.ai/motuziik/model_optimization</a><br/>\n",
       "                Sweep page: <a href=\"https://wandb.ai/motuziik/model_optimization/sweeps/83eceyoz\" target=\"_blank\">https://wandb.ai/motuziik/model_optimization/sweeps/83eceyoz</a><br/>\n",
       "Run page: <a href=\"https://wandb.ai/motuziik/model_optimization/runs/n3a5e2s9\" target=\"_blank\">https://wandb.ai/motuziik/model_optimization/runs/n3a5e2s9</a><br/>\n",
       "                Run data is saved locally in <code>/home/jovyan/work/wandb/run-20210426_162639-n3a5e2s9</code><br/><br/>\n",
       "            "
      ],
      "text/plain": [
       "<IPython.core.display.HTML object>"
      ]
     },
     "metadata": {},
     "output_type": "display_data"
    },
    {
     "name": "stdout",
     "output_type": "stream",
     "text": [
      "Epoch 1/15\n",
      "  2/238 [..............................] - ETA: 24s - loss: 0.6898 - accuracy: 0.4609WARNING:tensorflow:Callbacks method `on_train_batch_end` is slow compared to the batch time (batch time: 0.0818s vs `on_train_batch_end` time: 0.1250s). Check your callbacks.\n",
      "238/238 [==============================] - 54s 227ms/step - loss: 0.6100 - accuracy: 0.6421 - val_loss: 0.4987 - val_accuracy: 0.7634\n",
      "Epoch 2/15\n",
      "238/238 [==============================] - 53s 222ms/step - loss: 0.4174 - accuracy: 0.7985 - val_loss: 0.4235 - val_accuracy: 0.7942\n",
      "Epoch 3/15\n",
      "238/238 [==============================] - 53s 222ms/step - loss: 0.3874 - accuracy: 0.8284 - val_loss: 0.3494 - val_accuracy: 0.8431\n",
      "Epoch 4/15\n",
      "238/238 [==============================] - 53s 221ms/step - loss: 0.3393 - accuracy: 0.8417 - val_loss: 0.3545 - val_accuracy: 0.8442\n",
      "Epoch 5/15\n",
      "238/238 [==============================] - 53s 222ms/step - loss: 0.3301 - accuracy: 0.8491 - val_loss: 0.3266 - val_accuracy: 0.8483\n",
      "Epoch 6/15\n",
      "238/238 [==============================] - 53s 222ms/step - loss: 0.3237 - accuracy: 0.8536 - val_loss: 0.3228 - val_accuracy: 0.8554\n",
      "Epoch 7/15\n",
      "238/238 [==============================] - 53s 221ms/step - loss: 0.3488 - accuracy: 0.8408 - val_loss: 0.3522 - val_accuracy: 0.8289\n",
      "Epoch 8/15\n",
      "238/238 [==============================] - 53s 221ms/step - loss: 0.3221 - accuracy: 0.8508 - val_loss: 0.4391 - val_accuracy: 0.8287\n",
      "Epoch 9/15\n",
      "238/238 [==============================] - 53s 222ms/step - loss: 0.3118 - accuracy: 0.8598 - val_loss: 0.3107 - val_accuracy: 0.8651\n",
      "Epoch 10/15\n",
      "238/238 [==============================] - 53s 221ms/step - loss: 0.3111 - accuracy: 0.8610 - val_loss: 0.3489 - val_accuracy: 0.8273\n",
      "Epoch 11/15\n",
      "238/238 [==============================] - 53s 222ms/step - loss: 0.3167 - accuracy: 0.8568 - val_loss: 0.3049 - val_accuracy: 0.8651\n",
      "Epoch 12/15\n",
      "238/238 [==============================] - 53s 222ms/step - loss: 0.3055 - accuracy: 0.8612 - val_loss: 0.2997 - val_accuracy: 0.8688\n",
      "Epoch 13/15\n",
      "238/238 [==============================] - 53s 222ms/step - loss: 0.3009 - accuracy: 0.8650 - val_loss: 0.3607 - val_accuracy: 0.8475\n",
      "Epoch 14/15\n",
      "238/238 [==============================] - 53s 222ms/step - loss: 0.2882 - accuracy: 0.8747 - val_loss: 0.2824 - val_accuracy: 0.8749\n",
      "Epoch 15/15\n",
      "238/238 [==============================] - 53s 222ms/step - loss: 0.2975 - accuracy: 0.8679 - val_loss: 0.2791 - val_accuracy: 0.8770\n"
     ]
    },
    {
     "data": {
      "text/html": [
       "<br/>Waiting for W&B process to finish, PID 2913<br/>Program ended successfully."
      ],
      "text/plain": [
       "<IPython.core.display.HTML object>"
      ]
     },
     "metadata": {},
     "output_type": "display_data"
    },
    {
     "data": {
      "application/vnd.jupyter.widget-view+json": {
       "model_id": "",
       "version_major": 2,
       "version_minor": 0
      },
      "text/plain": [
       "VBox(children=(Label(value=' 6.03MB of 6.03MB uploaded (0.00MB deduped)\\r'), FloatProgress(value=1.0, max=1.0)…"
      ]
     },
     "metadata": {},
     "output_type": "display_data"
    },
    {
     "data": {
      "text/html": [
       "Find user logs for this run at: <code>/home/jovyan/work/wandb/run-20210426_162639-n3a5e2s9/logs/debug.log</code>"
      ],
      "text/plain": [
       "<IPython.core.display.HTML object>"
      ]
     },
     "metadata": {},
     "output_type": "display_data"
    },
    {
     "data": {
      "text/html": [
       "Find internal logs for this run at: <code>/home/jovyan/work/wandb/run-20210426_162639-n3a5e2s9/logs/debug-internal.log</code>"
      ],
      "text/plain": [
       "<IPython.core.display.HTML object>"
      ]
     },
     "metadata": {},
     "output_type": "display_data"
    },
    {
     "data": {
      "text/html": [
       "<h3>Run summary:</h3><br/><style>\n",
       "    table.wandb td:nth-child(1) { padding: 0 10px; text-align: right }\n",
       "    </style><table class=\"wandb\">\n",
       "<tr><td>epoch</td><td>14</td></tr><tr><td>loss</td><td>0.29746</td></tr><tr><td>accuracy</td><td>0.86787</td></tr><tr><td>val_loss</td><td>0.27906</td></tr><tr><td>val_accuracy</td><td>0.87696</td></tr><tr><td>_runtime</td><td>802</td></tr><tr><td>_timestamp</td><td>1619455201</td></tr><tr><td>_step</td><td>14</td></tr><tr><td>best_val_loss</td><td>0.27906</td></tr><tr><td>best_epoch</td><td>14</td></tr></table>"
      ],
      "text/plain": [
       "<IPython.core.display.HTML object>"
      ]
     },
     "metadata": {},
     "output_type": "display_data"
    },
    {
     "data": {
      "text/html": [
       "<h3>Run history:</h3><br/><style>\n",
       "    table.wandb td:nth-child(1) { padding: 0 10px; text-align: right }\n",
       "    </style><table class=\"wandb\">\n",
       "<tr><td>epoch</td><td>▁▁▂▃▃▃▄▅▅▅▆▇▇▇█</td></tr><tr><td>loss</td><td>█▄▃▂▂▂▂▂▂▁▂▁▁▁▁</td></tr><tr><td>accuracy</td><td>▁▆▇▇▇▇▇▇██▇████</td></tr><tr><td>val_loss</td><td>█▆▃▃▃▂▃▆▂▃▂▂▄▁▁</td></tr><tr><td>val_accuracy</td><td>▁▃▆▆▆▇▅▅▇▅▇▇▆██</td></tr><tr><td>_runtime</td><td>▁▁▂▃▃▃▄▅▅▅▆▇▇▇█</td></tr><tr><td>_timestamp</td><td>▁▁▂▃▃▃▄▅▅▅▆▇▇▇█</td></tr><tr><td>_step</td><td>▁▁▂▃▃▃▄▅▅▅▆▇▇▇█</td></tr></table><br/>"
      ],
      "text/plain": [
       "<IPython.core.display.HTML object>"
      ]
     },
     "metadata": {},
     "output_type": "display_data"
    },
    {
     "data": {
      "text/html": [
       "Synced 5 W&B file(s), 1 media file(s), 0 artifact file(s) and 1 other file(s)"
      ],
      "text/plain": [
       "<IPython.core.display.HTML object>"
      ]
     },
     "metadata": {},
     "output_type": "display_data"
    },
    {
     "data": {
      "text/html": [
       "\n",
       "                    <br/>Synced <strong style=\"color:#cdcd00\">autumn-sweep-26</strong>: <a href=\"https://wandb.ai/motuziik/model_optimization/runs/n3a5e2s9\" target=\"_blank\">https://wandb.ai/motuziik/model_optimization/runs/n3a5e2s9</a><br/>\n",
       "                "
      ],
      "text/plain": [
       "<IPython.core.display.HTML object>"
      ]
     },
     "metadata": {},
     "output_type": "display_data"
    },
    {
     "name": "stderr",
     "output_type": "stream",
     "text": [
      "\u001b[34m\u001b[1mwandb\u001b[0m: Agent Starting Run: ybnn28c8 with config:\n",
      "\u001b[34m\u001b[1mwandb\u001b[0m: \tactivation: tanh\n",
      "\u001b[34m\u001b[1mwandb\u001b[0m: \tbatch_size: 128\n",
      "\u001b[34m\u001b[1mwandb\u001b[0m: \tdropout: 0.15\n",
      "\u001b[34m\u001b[1mwandb\u001b[0m: \toptimizer: RMSprop\n",
      "Failed to detect the name of this notebook, you can set it manually with the WANDB_NOTEBOOK_NAME environment variable to enable code saving.\n"
     ]
    },
    {
     "data": {
      "text/html": [
       "\n",
       "                Tracking run with wandb version 0.10.27<br/>\n",
       "                Syncing run <strong style=\"color:#cdcd00\">neat-sweep-27</strong> to <a href=\"https://wandb.ai\" target=\"_blank\">Weights & Biases</a> <a href=\"https://docs.wandb.com/integrations/jupyter.html\" target=\"_blank\">(Documentation)</a>.<br/>\n",
       "                Project page: <a href=\"https://wandb.ai/motuziik/model_optimization\" target=\"_blank\">https://wandb.ai/motuziik/model_optimization</a><br/>\n",
       "                Sweep page: <a href=\"https://wandb.ai/motuziik/model_optimization/sweeps/83eceyoz\" target=\"_blank\">https://wandb.ai/motuziik/model_optimization/sweeps/83eceyoz</a><br/>\n",
       "Run page: <a href=\"https://wandb.ai/motuziik/model_optimization/runs/ybnn28c8\" target=\"_blank\">https://wandb.ai/motuziik/model_optimization/runs/ybnn28c8</a><br/>\n",
       "                Run data is saved locally in <code>/home/jovyan/work/wandb/run-20210426_164007-ybnn28c8</code><br/><br/>\n",
       "            "
      ],
      "text/plain": [
       "<IPython.core.display.HTML object>"
      ]
     },
     "metadata": {},
     "output_type": "display_data"
    },
    {
     "name": "stdout",
     "output_type": "stream",
     "text": [
      "Epoch 1/15\n",
      "238/238 [==============================] - 54s 226ms/step - loss: 0.4823 - accuracy: 0.7681 - val_loss: 0.4087 - val_accuracy: 0.8234\n",
      "Epoch 2/15\n",
      "238/238 [==============================] - 53s 225ms/step - loss: 0.3517 - accuracy: 0.8425 - val_loss: 0.3782 - val_accuracy: 0.8346\n",
      "Epoch 3/15\n",
      "238/238 [==============================] - 53s 223ms/step - loss: 0.3049 - accuracy: 0.8683 - val_loss: 0.4360 - val_accuracy: 0.8629\n",
      "Epoch 4/15\n",
      "238/238 [==============================] - 53s 225ms/step - loss: 0.2670 - accuracy: 0.8881 - val_loss: 0.2006 - val_accuracy: 0.9210\n",
      "Epoch 5/15\n",
      "238/238 [==============================] - 53s 225ms/step - loss: 0.2150 - accuracy: 0.9154 - val_loss: 0.1609 - val_accuracy: 0.9437\n",
      "Epoch 6/15\n",
      "238/238 [==============================] - 53s 224ms/step - loss: 0.1753 - accuracy: 0.9360 - val_loss: 0.2069 - val_accuracy: 0.9296\n",
      "Epoch 7/15\n",
      "238/238 [==============================] - 53s 225ms/step - loss: 0.1544 - accuracy: 0.9434 - val_loss: 0.1294 - val_accuracy: 0.9539\n",
      "Epoch 8/15\n",
      "238/238 [==============================] - 53s 224ms/step - loss: 0.1416 - accuracy: 0.9498 - val_loss: 0.1367 - val_accuracy: 0.9547\n",
      "Epoch 9/15\n",
      "238/238 [==============================] - 53s 224ms/step - loss: 0.1288 - accuracy: 0.9536 - val_loss: 0.1506 - val_accuracy: 0.9524\n",
      "Epoch 10/15\n",
      "238/238 [==============================] - 53s 224ms/step - loss: 0.1238 - accuracy: 0.9559 - val_loss: 0.1601 - val_accuracy: 0.9438\n",
      "Epoch 11/15\n",
      "238/238 [==============================] - 53s 224ms/step - loss: 0.1171 - accuracy: 0.9595 - val_loss: 0.1616 - val_accuracy: 0.9483\n",
      "Epoch 12/15\n",
      "238/238 [==============================] - 53s 224ms/step - loss: 0.1125 - accuracy: 0.9609 - val_loss: 0.1074 - val_accuracy: 0.9618\n",
      "Epoch 13/15\n",
      "238/238 [==============================] - 53s 224ms/step - loss: 0.1030 - accuracy: 0.9632 - val_loss: 0.1314 - val_accuracy: 0.9543\n",
      "Epoch 14/15\n",
      "238/238 [==============================] - 53s 224ms/step - loss: 0.0961 - accuracy: 0.9667 - val_loss: 0.1191 - val_accuracy: 0.9608\n",
      "Epoch 15/15\n",
      "238/238 [==============================] - 53s 224ms/step - loss: 0.0896 - accuracy: 0.9685 - val_loss: 0.1245 - val_accuracy: 0.9614\n"
     ]
    },
    {
     "data": {
      "text/html": [
       "<br/>Waiting for W&B process to finish, PID 3010<br/>Program ended successfully."
      ],
      "text/plain": [
       "<IPython.core.display.HTML object>"
      ]
     },
     "metadata": {},
     "output_type": "display_data"
    },
    {
     "data": {
      "application/vnd.jupyter.widget-view+json": {
       "model_id": "",
       "version_major": 2,
       "version_minor": 0
      },
      "text/plain": [
       "VBox(children=(Label(value=' 12.04MB of 12.04MB uploaded (0.00MB deduped)\\r'), FloatProgress(value=1.0, max=1.…"
      ]
     },
     "metadata": {},
     "output_type": "display_data"
    },
    {
     "data": {
      "text/html": [
       "Find user logs for this run at: <code>/home/jovyan/work/wandb/run-20210426_164007-ybnn28c8/logs/debug.log</code>"
      ],
      "text/plain": [
       "<IPython.core.display.HTML object>"
      ]
     },
     "metadata": {},
     "output_type": "display_data"
    },
    {
     "data": {
      "text/html": [
       "Find internal logs for this run at: <code>/home/jovyan/work/wandb/run-20210426_164007-ybnn28c8/logs/debug-internal.log</code>"
      ],
      "text/plain": [
       "<IPython.core.display.HTML object>"
      ]
     },
     "metadata": {},
     "output_type": "display_data"
    },
    {
     "data": {
      "text/html": [
       "<h3>Run summary:</h3><br/><style>\n",
       "    table.wandb td:nth-child(1) { padding: 0 10px; text-align: right }\n",
       "    </style><table class=\"wandb\">\n",
       "<tr><td>epoch</td><td>14</td></tr><tr><td>loss</td><td>0.08962</td></tr><tr><td>accuracy</td><td>0.96848</td></tr><tr><td>val_loss</td><td>0.12449</td></tr><tr><td>val_accuracy</td><td>0.96144</td></tr><tr><td>_runtime</td><td>808</td></tr><tr><td>_timestamp</td><td>1619456015</td></tr><tr><td>_step</td><td>14</td></tr><tr><td>best_val_loss</td><td>0.10742</td></tr><tr><td>best_epoch</td><td>11</td></tr></table>"
      ],
      "text/plain": [
       "<IPython.core.display.HTML object>"
      ]
     },
     "metadata": {},
     "output_type": "display_data"
    },
    {
     "data": {
      "text/html": [
       "<h3>Run history:</h3><br/><style>\n",
       "    table.wandb td:nth-child(1) { padding: 0 10px; text-align: right }\n",
       "    </style><table class=\"wandb\">\n",
       "<tr><td>epoch</td><td>▁▁▂▃▃▃▄▅▅▅▆▇▇▇█</td></tr><tr><td>loss</td><td>█▆▅▄▃▃▂▂▂▂▁▁▁▁▁</td></tr><tr><td>accuracy</td><td>▁▄▄▅▆▇▇▇▇██████</td></tr><tr><td>val_loss</td><td>▇▇█▃▂▃▁▂▂▂▂▁▂▁▁</td></tr><tr><td>val_accuracy</td><td>▁▂▃▆▇▆███▇▇████</td></tr><tr><td>_runtime</td><td>▁▂▂▃▃▄▄▅▅▆▆▇▇██</td></tr><tr><td>_timestamp</td><td>▁▂▂▃▃▄▄▅▅▆▆▇▇██</td></tr><tr><td>_step</td><td>▁▁▂▃▃▃▄▅▅▅▆▇▇▇█</td></tr></table><br/>"
      ],
      "text/plain": [
       "<IPython.core.display.HTML object>"
      ]
     },
     "metadata": {},
     "output_type": "display_data"
    },
    {
     "data": {
      "text/html": [
       "Synced 5 W&B file(s), 1 media file(s), 0 artifact file(s) and 1 other file(s)"
      ],
      "text/plain": [
       "<IPython.core.display.HTML object>"
      ]
     },
     "metadata": {},
     "output_type": "display_data"
    },
    {
     "data": {
      "text/html": [
       "\n",
       "                    <br/>Synced <strong style=\"color:#cdcd00\">neat-sweep-27</strong>: <a href=\"https://wandb.ai/motuziik/model_optimization/runs/ybnn28c8\" target=\"_blank\">https://wandb.ai/motuziik/model_optimization/runs/ybnn28c8</a><br/>\n",
       "                "
      ],
      "text/plain": [
       "<IPython.core.display.HTML object>"
      ]
     },
     "metadata": {},
     "output_type": "display_data"
    },
    {
     "name": "stderr",
     "output_type": "stream",
     "text": [
      "\u001b[34m\u001b[1mwandb\u001b[0m: Agent Starting Run: melnl2wz with config:\n",
      "\u001b[34m\u001b[1mwandb\u001b[0m: \tactivation: tanh\n",
      "\u001b[34m\u001b[1mwandb\u001b[0m: \tbatch_size: 64\n",
      "\u001b[34m\u001b[1mwandb\u001b[0m: \tdropout: 0.25\n",
      "\u001b[34m\u001b[1mwandb\u001b[0m: \toptimizer: adam\n",
      "Failed to detect the name of this notebook, you can set it manually with the WANDB_NOTEBOOK_NAME environment variable to enable code saving.\n"
     ]
    },
    {
     "data": {
      "text/html": [
       "\n",
       "                Tracking run with wandb version 0.10.27<br/>\n",
       "                Syncing run <strong style=\"color:#cdcd00\">pious-sweep-28</strong> to <a href=\"https://wandb.ai\" target=\"_blank\">Weights & Biases</a> <a href=\"https://docs.wandb.com/integrations/jupyter.html\" target=\"_blank\">(Documentation)</a>.<br/>\n",
       "                Project page: <a href=\"https://wandb.ai/motuziik/model_optimization\" target=\"_blank\">https://wandb.ai/motuziik/model_optimization</a><br/>\n",
       "                Sweep page: <a href=\"https://wandb.ai/motuziik/model_optimization/sweeps/83eceyoz\" target=\"_blank\">https://wandb.ai/motuziik/model_optimization/sweeps/83eceyoz</a><br/>\n",
       "Run page: <a href=\"https://wandb.ai/motuziik/model_optimization/runs/melnl2wz\" target=\"_blank\">https://wandb.ai/motuziik/model_optimization/runs/melnl2wz</a><br/>\n",
       "                Run data is saved locally in <code>/home/jovyan/work/wandb/run-20210426_165341-melnl2wz</code><br/><br/>\n",
       "            "
      ],
      "text/plain": [
       "<IPython.core.display.HTML object>"
      ]
     },
     "metadata": {},
     "output_type": "display_data"
    },
    {
     "name": "stdout",
     "output_type": "stream",
     "text": [
      "Epoch 1/15\n",
      "475/475 [==============================] - 56s 117ms/step - loss: 0.3541 - accuracy: 0.8412 - val_loss: 0.2071 - val_accuracy: 0.9196\n",
      "Epoch 2/15\n",
      "475/475 [==============================] - 55s 117ms/step - loss: 0.2092 - accuracy: 0.9168 - val_loss: 0.1479 - val_accuracy: 0.9413\n",
      "Epoch 3/15\n",
      "475/475 [==============================] - 55s 116ms/step - loss: 0.1538 - accuracy: 0.9408 - val_loss: 0.1332 - val_accuracy: 0.9485\n",
      "Epoch 4/15\n",
      "475/475 [==============================] - 55s 116ms/step - loss: 0.1407 - accuracy: 0.9486 - val_loss: 0.1884 - val_accuracy: 0.9438\n",
      "Epoch 5/15\n",
      "475/475 [==============================] - 55s 117ms/step - loss: 0.1237 - accuracy: 0.9553 - val_loss: 0.1205 - val_accuracy: 0.9607\n",
      "Epoch 6/15\n",
      "475/475 [==============================] - 55s 116ms/step - loss: 0.1196 - accuracy: 0.9547 - val_loss: 0.1454 - val_accuracy: 0.9517\n",
      "Epoch 7/15\n",
      "475/475 [==============================] - 55s 116ms/step - loss: 0.1219 - accuracy: 0.9555 - val_loss: 0.1210 - val_accuracy: 0.9550\n",
      "Epoch 8/15\n",
      "475/475 [==============================] - 55s 116ms/step - loss: 0.1223 - accuracy: 0.9559 - val_loss: 0.1317 - val_accuracy: 0.9579\n",
      "Epoch 9/15\n",
      "475/475 [==============================] - 55s 116ms/step - loss: 0.1323 - accuracy: 0.9503 - val_loss: 0.1854 - val_accuracy: 0.9270\n",
      "Epoch 10/15\n",
      "475/475 [==============================] - 55s 116ms/step - loss: 0.1355 - accuracy: 0.9500 - val_loss: 0.1386 - val_accuracy: 0.9525\n",
      "Epoch 11/15\n",
      "475/475 [==============================] - 55s 117ms/step - loss: 0.1204 - accuracy: 0.9565 - val_loss: 0.1061 - val_accuracy: 0.9637\n",
      "Epoch 12/15\n",
      "475/475 [==============================] - 55s 116ms/step - loss: 0.1223 - accuracy: 0.9546 - val_loss: 0.1256 - val_accuracy: 0.9568\n",
      "Epoch 13/15\n",
      "475/475 [==============================] - 55s 116ms/step - loss: 0.1430 - accuracy: 0.9460 - val_loss: 0.1393 - val_accuracy: 0.9510\n",
      "Epoch 14/15\n",
      "475/475 [==============================] - 55s 116ms/step - loss: 0.1390 - accuracy: 0.9489 - val_loss: 0.1520 - val_accuracy: 0.9384\n",
      "Epoch 15/15\n",
      "475/475 [==============================] - 55s 116ms/step - loss: 0.1388 - accuracy: 0.9491 - val_loss: 0.1546 - val_accuracy: 0.9389\n"
     ]
    },
    {
     "data": {
      "text/html": [
       "<br/>Waiting for W&B process to finish, PID 3107<br/>Program ended successfully."
      ],
      "text/plain": [
       "<IPython.core.display.HTML object>"
      ]
     },
     "metadata": {},
     "output_type": "display_data"
    },
    {
     "data": {
      "application/vnd.jupyter.widget-view+json": {
       "model_id": "",
       "version_major": 2,
       "version_minor": 0
      },
      "text/plain": [
       "VBox(children=(Label(value=' 18.03MB of 18.03MB uploaded (0.00MB deduped)\\r'), FloatProgress(value=1.0, max=1.…"
      ]
     },
     "metadata": {},
     "output_type": "display_data"
    },
    {
     "data": {
      "text/html": [
       "Find user logs for this run at: <code>/home/jovyan/work/wandb/run-20210426_165341-melnl2wz/logs/debug.log</code>"
      ],
      "text/plain": [
       "<IPython.core.display.HTML object>"
      ]
     },
     "metadata": {},
     "output_type": "display_data"
    },
    {
     "data": {
      "text/html": [
       "Find internal logs for this run at: <code>/home/jovyan/work/wandb/run-20210426_165341-melnl2wz/logs/debug-internal.log</code>"
      ],
      "text/plain": [
       "<IPython.core.display.HTML object>"
      ]
     },
     "metadata": {},
     "output_type": "display_data"
    },
    {
     "data": {
      "text/html": [
       "<h3>Run summary:</h3><br/><style>\n",
       "    table.wandb td:nth-child(1) { padding: 0 10px; text-align: right }\n",
       "    </style><table class=\"wandb\">\n",
       "<tr><td>epoch</td><td>14</td></tr><tr><td>loss</td><td>0.1388</td></tr><tr><td>accuracy</td><td>0.94907</td></tr><tr><td>val_loss</td><td>0.1546</td></tr><tr><td>val_accuracy</td><td>0.93894</td></tr><tr><td>_runtime</td><td>835</td></tr><tr><td>_timestamp</td><td>1619456856</td></tr><tr><td>_step</td><td>14</td></tr><tr><td>best_val_loss</td><td>0.10613</td></tr><tr><td>best_epoch</td><td>10</td></tr></table>"
      ],
      "text/plain": [
       "<IPython.core.display.HTML object>"
      ]
     },
     "metadata": {},
     "output_type": "display_data"
    },
    {
     "data": {
      "text/html": [
       "<h3>Run history:</h3><br/><style>\n",
       "    table.wandb td:nth-child(1) { padding: 0 10px; text-align: right }\n",
       "    </style><table class=\"wandb\">\n",
       "<tr><td>epoch</td><td>▁▁▂▃▃▃▄▅▅▅▆▇▇▇█</td></tr><tr><td>loss</td><td>█▄▂▂▁▁▁▁▁▁▁▁▂▂▂</td></tr><tr><td>accuracy</td><td>▁▆▇█████████▇██</td></tr><tr><td>val_loss</td><td>█▄▃▇▂▄▂▃▇▃▁▂▃▄▄</td></tr><tr><td>val_accuracy</td><td>▁▄▆▅█▆▇▇▂▆█▇▆▄▄</td></tr><tr><td>_runtime</td><td>▁▁▂▃▃▄▄▄▅▆▆▇▇██</td></tr><tr><td>_timestamp</td><td>▁▁▂▃▃▄▄▄▅▆▆▇▇██</td></tr><tr><td>_step</td><td>▁▁▂▃▃▃▄▅▅▅▆▇▇▇█</td></tr></table><br/>"
      ],
      "text/plain": [
       "<IPython.core.display.HTML object>"
      ]
     },
     "metadata": {},
     "output_type": "display_data"
    },
    {
     "data": {
      "text/html": [
       "Synced 5 W&B file(s), 1 media file(s), 0 artifact file(s) and 1 other file(s)"
      ],
      "text/plain": [
       "<IPython.core.display.HTML object>"
      ]
     },
     "metadata": {},
     "output_type": "display_data"
    },
    {
     "data": {
      "text/html": [
       "\n",
       "                    <br/>Synced <strong style=\"color:#cdcd00\">pious-sweep-28</strong>: <a href=\"https://wandb.ai/motuziik/model_optimization/runs/melnl2wz\" target=\"_blank\">https://wandb.ai/motuziik/model_optimization/runs/melnl2wz</a><br/>\n",
       "                "
      ],
      "text/plain": [
       "<IPython.core.display.HTML object>"
      ]
     },
     "metadata": {},
     "output_type": "display_data"
    },
    {
     "name": "stderr",
     "output_type": "stream",
     "text": [
      "\u001b[34m\u001b[1mwandb\u001b[0m: Agent Starting Run: rr338rcl with config:\n",
      "\u001b[34m\u001b[1mwandb\u001b[0m: \tactivation: tanh\n",
      "\u001b[34m\u001b[1mwandb\u001b[0m: \tbatch_size: 64\n",
      "\u001b[34m\u001b[1mwandb\u001b[0m: \tdropout: 0.25\n",
      "\u001b[34m\u001b[1mwandb\u001b[0m: \toptimizer: SGD\n",
      "Failed to detect the name of this notebook, you can set it manually with the WANDB_NOTEBOOK_NAME environment variable to enable code saving.\n"
     ]
    },
    {
     "data": {
      "text/html": [
       "\n",
       "                Tracking run with wandb version 0.10.27<br/>\n",
       "                Syncing run <strong style=\"color:#cdcd00\">misunderstood-sweep-29</strong> to <a href=\"https://wandb.ai\" target=\"_blank\">Weights & Biases</a> <a href=\"https://docs.wandb.com/integrations/jupyter.html\" target=\"_blank\">(Documentation)</a>.<br/>\n",
       "                Project page: <a href=\"https://wandb.ai/motuziik/model_optimization\" target=\"_blank\">https://wandb.ai/motuziik/model_optimization</a><br/>\n",
       "                Sweep page: <a href=\"https://wandb.ai/motuziik/model_optimization/sweeps/83eceyoz\" target=\"_blank\">https://wandb.ai/motuziik/model_optimization/sweeps/83eceyoz</a><br/>\n",
       "Run page: <a href=\"https://wandb.ai/motuziik/model_optimization/runs/rr338rcl\" target=\"_blank\">https://wandb.ai/motuziik/model_optimization/runs/rr338rcl</a><br/>\n",
       "                Run data is saved locally in <code>/home/jovyan/work/wandb/run-20210426_170742-rr338rcl</code><br/><br/>\n",
       "            "
      ],
      "text/plain": [
       "<IPython.core.display.HTML object>"
      ]
     },
     "metadata": {},
     "output_type": "display_data"
    },
    {
     "name": "stdout",
     "output_type": "stream",
     "text": [
      "Epoch 1/15\n",
      "475/475 [==============================] - 56s 117ms/step - loss: 0.4866 - accuracy: 0.7449 - val_loss: 0.3767 - val_accuracy: 0.8371\n",
      "Epoch 2/15\n",
      "475/475 [==============================] - 55s 116ms/step - loss: 0.3721 - accuracy: 0.8295 - val_loss: 0.3471 - val_accuracy: 0.8450\n",
      "Epoch 3/15\n",
      "475/475 [==============================] - 55s 116ms/step - loss: 0.3428 - accuracy: 0.8433 - val_loss: 0.3297 - val_accuracy: 0.8548\n",
      "Epoch 4/15\n",
      "475/475 [==============================] - 55s 116ms/step - loss: 0.3255 - accuracy: 0.8516 - val_loss: 0.3220 - val_accuracy: 0.8530\n",
      "Epoch 5/15\n",
      "475/475 [==============================] - 55s 116ms/step - loss: 0.3179 - accuracy: 0.8566 - val_loss: 0.3093 - val_accuracy: 0.8602\n",
      "Epoch 6/15\n",
      "475/475 [==============================] - 55s 116ms/step - loss: 0.3702 - accuracy: 0.8257 - val_loss: 0.3083 - val_accuracy: 0.8581\n",
      "Epoch 7/15\n",
      "475/475 [==============================] - 55s 116ms/step - loss: 0.3198 - accuracy: 0.8562 - val_loss: 0.2939 - val_accuracy: 0.8696\n",
      "Epoch 8/15\n",
      "475/475 [==============================] - 55s 116ms/step - loss: 0.3100 - accuracy: 0.8608 - val_loss: 0.2809 - val_accuracy: 0.8745\n",
      "Epoch 9/15\n",
      "475/475 [==============================] - 55s 116ms/step - loss: 0.3018 - accuracy: 0.8650 - val_loss: 0.2934 - val_accuracy: 0.8741\n",
      "Epoch 10/15\n",
      "475/475 [==============================] - 55s 116ms/step - loss: 0.2867 - accuracy: 0.8736 - val_loss: 0.3203 - val_accuracy: 0.8683\n",
      "Epoch 11/15\n",
      "475/475 [==============================] - 55s 116ms/step - loss: 0.2902 - accuracy: 0.8732 - val_loss: 0.2590 - val_accuracy: 0.8863\n",
      "Epoch 12/15\n",
      "475/475 [==============================] - 55s 116ms/step - loss: 0.3055 - accuracy: 0.8613 - val_loss: 0.3222 - val_accuracy: 0.8334\n",
      "Epoch 13/15\n",
      "475/475 [==============================] - 55s 116ms/step - loss: 0.2633 - accuracy: 0.8866 - val_loss: 0.2409 - val_accuracy: 0.8949\n",
      "Epoch 14/15\n",
      "475/475 [==============================] - 55s 116ms/step - loss: 0.2636 - accuracy: 0.8864 - val_loss: 0.2390 - val_accuracy: 0.8999\n",
      "Epoch 15/15\n",
      "475/475 [==============================] - 55s 116ms/step - loss: 0.2520 - accuracy: 0.8932 - val_loss: 0.2385 - val_accuracy: 0.9017\n"
     ]
    },
    {
     "data": {
      "text/html": [
       "<br/>Waiting for W&B process to finish, PID 3204<br/>Program ended successfully."
      ],
      "text/plain": [
       "<IPython.core.display.HTML object>"
      ]
     },
     "metadata": {},
     "output_type": "display_data"
    },
    {
     "data": {
      "application/vnd.jupyter.widget-view+json": {
       "model_id": "",
       "version_major": 2,
       "version_minor": 0
      },
      "text/plain": [
       "VBox(children=(Label(value=' 6.03MB of 6.03MB uploaded (0.00MB deduped)\\r'), FloatProgress(value=1.0, max=1.0)…"
      ]
     },
     "metadata": {},
     "output_type": "display_data"
    },
    {
     "data": {
      "text/html": [
       "Find user logs for this run at: <code>/home/jovyan/work/wandb/run-20210426_170742-rr338rcl/logs/debug.log</code>"
      ],
      "text/plain": [
       "<IPython.core.display.HTML object>"
      ]
     },
     "metadata": {},
     "output_type": "display_data"
    },
    {
     "data": {
      "text/html": [
       "Find internal logs for this run at: <code>/home/jovyan/work/wandb/run-20210426_170742-rr338rcl/logs/debug-internal.log</code>"
      ],
      "text/plain": [
       "<IPython.core.display.HTML object>"
      ]
     },
     "metadata": {},
     "output_type": "display_data"
    },
    {
     "data": {
      "text/html": [
       "<h3>Run summary:</h3><br/><style>\n",
       "    table.wandb td:nth-child(1) { padding: 0 10px; text-align: right }\n",
       "    </style><table class=\"wandb\">\n",
       "<tr><td>epoch</td><td>14</td></tr><tr><td>loss</td><td>0.25197</td></tr><tr><td>accuracy</td><td>0.89317</td></tr><tr><td>val_loss</td><td>0.2385</td></tr><tr><td>val_accuracy</td><td>0.9017</td></tr><tr><td>_runtime</td><td>833</td></tr><tr><td>_timestamp</td><td>1619457695</td></tr><tr><td>_step</td><td>14</td></tr><tr><td>best_val_loss</td><td>0.2385</td></tr><tr><td>best_epoch</td><td>14</td></tr></table>"
      ],
      "text/plain": [
       "<IPython.core.display.HTML object>"
      ]
     },
     "metadata": {},
     "output_type": "display_data"
    },
    {
     "data": {
      "text/html": [
       "<h3>Run history:</h3><br/><style>\n",
       "    table.wandb td:nth-child(1) { padding: 0 10px; text-align: right }\n",
       "    </style><table class=\"wandb\">\n",
       "<tr><td>epoch</td><td>▁▁▂▃▃▃▄▅▅▅▆▇▇▇█</td></tr><tr><td>loss</td><td>█▅▄▃▃▅▃▃▂▂▂▃▁▁▁</td></tr><tr><td>accuracy</td><td>▁▅▆▆▆▅▆▆▇▇▇▆███</td></tr><tr><td>val_loss</td><td>█▆▆▅▅▅▄▃▄▅▂▅▁▁▁</td></tr><tr><td>val_accuracy</td><td>▁▂▃▃▄▄▅▅▅▅▆▁▇██</td></tr><tr><td>_runtime</td><td>▁▁▂▂▃▄▄▄▅▅▆▇▇██</td></tr><tr><td>_timestamp</td><td>▁▁▂▂▃▄▄▄▅▅▆▇▇██</td></tr><tr><td>_step</td><td>▁▁▂▃▃▃▄▅▅▅▆▇▇▇█</td></tr></table><br/>"
      ],
      "text/plain": [
       "<IPython.core.display.HTML object>"
      ]
     },
     "metadata": {},
     "output_type": "display_data"
    },
    {
     "data": {
      "text/html": [
       "Synced 5 W&B file(s), 1 media file(s), 0 artifact file(s) and 1 other file(s)"
      ],
      "text/plain": [
       "<IPython.core.display.HTML object>"
      ]
     },
     "metadata": {},
     "output_type": "display_data"
    },
    {
     "data": {
      "text/html": [
       "\n",
       "                    <br/>Synced <strong style=\"color:#cdcd00\">misunderstood-sweep-29</strong>: <a href=\"https://wandb.ai/motuziik/model_optimization/runs/rr338rcl\" target=\"_blank\">https://wandb.ai/motuziik/model_optimization/runs/rr338rcl</a><br/>\n",
       "                "
      ],
      "text/plain": [
       "<IPython.core.display.HTML object>"
      ]
     },
     "metadata": {},
     "output_type": "display_data"
    },
    {
     "name": "stderr",
     "output_type": "stream",
     "text": [
      "\u001b[34m\u001b[1mwandb\u001b[0m: Agent Starting Run: 0t9osbxx with config:\n",
      "\u001b[34m\u001b[1mwandb\u001b[0m: \tactivation: tanh\n",
      "\u001b[34m\u001b[1mwandb\u001b[0m: \tbatch_size: 64\n",
      "\u001b[34m\u001b[1mwandb\u001b[0m: \tdropout: 0.25\n",
      "\u001b[34m\u001b[1mwandb\u001b[0m: \toptimizer: RMSprop\n",
      "Failed to detect the name of this notebook, you can set it manually with the WANDB_NOTEBOOK_NAME environment variable to enable code saving.\n"
     ]
    },
    {
     "data": {
      "text/html": [
       "\n",
       "                Tracking run with wandb version 0.10.27<br/>\n",
       "                Syncing run <strong style=\"color:#cdcd00\">wise-sweep-30</strong> to <a href=\"https://wandb.ai\" target=\"_blank\">Weights & Biases</a> <a href=\"https://docs.wandb.com/integrations/jupyter.html\" target=\"_blank\">(Documentation)</a>.<br/>\n",
       "                Project page: <a href=\"https://wandb.ai/motuziik/model_optimization\" target=\"_blank\">https://wandb.ai/motuziik/model_optimization</a><br/>\n",
       "                Sweep page: <a href=\"https://wandb.ai/motuziik/model_optimization/sweeps/83eceyoz\" target=\"_blank\">https://wandb.ai/motuziik/model_optimization/sweeps/83eceyoz</a><br/>\n",
       "Run page: <a href=\"https://wandb.ai/motuziik/model_optimization/runs/0t9osbxx\" target=\"_blank\">https://wandb.ai/motuziik/model_optimization/runs/0t9osbxx</a><br/>\n",
       "                Run data is saved locally in <code>/home/jovyan/work/wandb/run-20210426_172139-0t9osbxx</code><br/><br/>\n",
       "            "
      ],
      "text/plain": [
       "<IPython.core.display.HTML object>"
      ]
     },
     "metadata": {},
     "output_type": "display_data"
    },
    {
     "name": "stdout",
     "output_type": "stream",
     "text": [
      "Epoch 1/15\n",
      "475/475 [==============================] - 57s 119ms/step - loss: 0.4756 - accuracy: 0.7771 - val_loss: 0.3422 - val_accuracy: 0.8498\n",
      "Epoch 2/15\n",
      "475/475 [==============================] - 56s 118ms/step - loss: 0.3279 - accuracy: 0.8566 - val_loss: 0.2383 - val_accuracy: 0.8975\n",
      "Epoch 3/15\n",
      "475/475 [==============================] - 56s 118ms/step - loss: 0.2539 - accuracy: 0.8981 - val_loss: 0.1976 - val_accuracy: 0.9237\n",
      "Epoch 4/15\n",
      "475/475 [==============================] - 56s 118ms/step - loss: 0.2245 - accuracy: 0.9143 - val_loss: 0.2122 - val_accuracy: 0.9204\n",
      "Epoch 5/15\n",
      "475/475 [==============================] - 56s 118ms/step - loss: 0.2024 - accuracy: 0.9240 - val_loss: 0.1683 - val_accuracy: 0.9392\n",
      "Epoch 6/15\n",
      "475/475 [==============================] - 56s 118ms/step - loss: 0.1854 - accuracy: 0.9322 - val_loss: 0.1336 - val_accuracy: 0.9521\n",
      "Epoch 7/15\n",
      "475/475 [==============================] - 56s 118ms/step - loss: 0.1663 - accuracy: 0.9421 - val_loss: 0.2040 - val_accuracy: 0.9297\n",
      "Epoch 8/15\n",
      "475/475 [==============================] - 56s 118ms/step - loss: 0.1542 - accuracy: 0.9445 - val_loss: 0.1873 - val_accuracy: 0.9314\n",
      "Epoch 9/15\n",
      "475/475 [==============================] - 56s 118ms/step - loss: 0.1431 - accuracy: 0.9490 - val_loss: 0.1437 - val_accuracy: 0.9496\n",
      "Epoch 10/15\n",
      "475/475 [==============================] - 56s 118ms/step - loss: 0.1409 - accuracy: 0.9506 - val_loss: 0.1189 - val_accuracy: 0.9576\n",
      "Epoch 11/15\n",
      "475/475 [==============================] - 56s 118ms/step - loss: 0.1363 - accuracy: 0.9524 - val_loss: 0.1575 - val_accuracy: 0.9555\n",
      "Epoch 12/15\n",
      "475/475 [==============================] - 56s 118ms/step - loss: 0.1317 - accuracy: 0.9527 - val_loss: 0.1443 - val_accuracy: 0.9535\n",
      "Epoch 13/15\n",
      "475/475 [==============================] - 56s 118ms/step - loss: 0.1324 - accuracy: 0.9537 - val_loss: 0.3928 - val_accuracy: 0.7822\n",
      "Epoch 14/15\n",
      "475/475 [==============================] - 56s 118ms/step - loss: 0.1235 - accuracy: 0.9582 - val_loss: 0.1013 - val_accuracy: 0.9662\n",
      "Epoch 15/15\n",
      "475/475 [==============================] - 56s 118ms/step - loss: 0.1193 - accuracy: 0.9600 - val_loss: 0.1225 - val_accuracy: 0.9604\n"
     ]
    },
    {
     "data": {
      "text/html": [
       "<br/>Waiting for W&B process to finish, PID 3301<br/>Program ended successfully."
      ],
      "text/plain": [
       "<IPython.core.display.HTML object>"
      ]
     },
     "metadata": {},
     "output_type": "display_data"
    },
    {
     "data": {
      "application/vnd.jupyter.widget-view+json": {
       "model_id": "",
       "version_major": 2,
       "version_minor": 0
      },
      "text/plain": [
       "VBox(children=(Label(value=' 12.04MB of 12.04MB uploaded (0.00MB deduped)\\r'), FloatProgress(value=1.0, max=1.…"
      ]
     },
     "metadata": {},
     "output_type": "display_data"
    },
    {
     "data": {
      "text/html": [
       "Find user logs for this run at: <code>/home/jovyan/work/wandb/run-20210426_172139-0t9osbxx/logs/debug.log</code>"
      ],
      "text/plain": [
       "<IPython.core.display.HTML object>"
      ]
     },
     "metadata": {},
     "output_type": "display_data"
    },
    {
     "data": {
      "text/html": [
       "Find internal logs for this run at: <code>/home/jovyan/work/wandb/run-20210426_172139-0t9osbxx/logs/debug-internal.log</code>"
      ],
      "text/plain": [
       "<IPython.core.display.HTML object>"
      ]
     },
     "metadata": {},
     "output_type": "display_data"
    },
    {
     "data": {
      "text/html": [
       "<h3>Run summary:</h3><br/><style>\n",
       "    table.wandb td:nth-child(1) { padding: 0 10px; text-align: right }\n",
       "    </style><table class=\"wandb\">\n",
       "<tr><td>epoch</td><td>14</td></tr><tr><td>loss</td><td>0.11928</td></tr><tr><td>accuracy</td><td>0.95996</td></tr><tr><td>val_loss</td><td>0.12252</td></tr><tr><td>val_accuracy</td><td>0.96039</td></tr><tr><td>_runtime</td><td>848</td></tr><tr><td>_timestamp</td><td>1619458548</td></tr><tr><td>_step</td><td>14</td></tr><tr><td>best_val_loss</td><td>0.10134</td></tr><tr><td>best_epoch</td><td>13</td></tr></table>"
      ],
      "text/plain": [
       "<IPython.core.display.HTML object>"
      ]
     },
     "metadata": {},
     "output_type": "display_data"
    },
    {
     "data": {
      "text/html": [
       "<h3>Run history:</h3><br/><style>\n",
       "    table.wandb td:nth-child(1) { padding: 0 10px; text-align: right }\n",
       "    </style><table class=\"wandb\">\n",
       "<tr><td>epoch</td><td>▁▁▂▃▃▃▄▅▅▅▆▇▇▇█</td></tr><tr><td>loss</td><td>█▅▄▃▃▂▂▂▁▁▁▁▁▁▁</td></tr><tr><td>accuracy</td><td>▁▄▆▆▇▇▇▇███████</td></tr><tr><td>val_loss</td><td>▇▄▃▄▃▂▃▃▂▁▂▂█▁▂</td></tr><tr><td>val_accuracy</td><td>▄▅▆▆▇▇▇▇▇███▁██</td></tr><tr><td>_runtime</td><td>▁▁▂▃▃▄▄▅▅▅▆▇▇██</td></tr><tr><td>_timestamp</td><td>▁▁▂▃▃▄▄▅▅▅▆▇▇██</td></tr><tr><td>_step</td><td>▁▁▂▃▃▃▄▅▅▅▆▇▇▇█</td></tr></table><br/>"
      ],
      "text/plain": [
       "<IPython.core.display.HTML object>"
      ]
     },
     "metadata": {},
     "output_type": "display_data"
    },
    {
     "data": {
      "text/html": [
       "Synced 5 W&B file(s), 1 media file(s), 0 artifact file(s) and 1 other file(s)"
      ],
      "text/plain": [
       "<IPython.core.display.HTML object>"
      ]
     },
     "metadata": {},
     "output_type": "display_data"
    },
    {
     "data": {
      "text/html": [
       "\n",
       "                    <br/>Synced <strong style=\"color:#cdcd00\">wise-sweep-30</strong>: <a href=\"https://wandb.ai/motuziik/model_optimization/runs/0t9osbxx\" target=\"_blank\">https://wandb.ai/motuziik/model_optimization/runs/0t9osbxx</a><br/>\n",
       "                "
      ],
      "text/plain": [
       "<IPython.core.display.HTML object>"
      ]
     },
     "metadata": {},
     "output_type": "display_data"
    },
    {
     "name": "stderr",
     "output_type": "stream",
     "text": [
      "\u001b[34m\u001b[1mwandb\u001b[0m: Agent Starting Run: uara3gq7 with config:\n",
      "\u001b[34m\u001b[1mwandb\u001b[0m: \tactivation: tanh\n",
      "\u001b[34m\u001b[1mwandb\u001b[0m: \tbatch_size: 64\n",
      "\u001b[34m\u001b[1mwandb\u001b[0m: \tdropout: 0.2\n",
      "\u001b[34m\u001b[1mwandb\u001b[0m: \toptimizer: adam\n",
      "Failed to detect the name of this notebook, you can set it manually with the WANDB_NOTEBOOK_NAME environment variable to enable code saving.\n"
     ]
    },
    {
     "data": {
      "text/html": [
       "\n",
       "                Tracking run with wandb version 0.10.27<br/>\n",
       "                Syncing run <strong style=\"color:#cdcd00\">gallant-sweep-31</strong> to <a href=\"https://wandb.ai\" target=\"_blank\">Weights & Biases</a> <a href=\"https://docs.wandb.com/integrations/jupyter.html\" target=\"_blank\">(Documentation)</a>.<br/>\n",
       "                Project page: <a href=\"https://wandb.ai/motuziik/model_optimization\" target=\"_blank\">https://wandb.ai/motuziik/model_optimization</a><br/>\n",
       "                Sweep page: <a href=\"https://wandb.ai/motuziik/model_optimization/sweeps/83eceyoz\" target=\"_blank\">https://wandb.ai/motuziik/model_optimization/sweeps/83eceyoz</a><br/>\n",
       "Run page: <a href=\"https://wandb.ai/motuziik/model_optimization/runs/uara3gq7\" target=\"_blank\">https://wandb.ai/motuziik/model_optimization/runs/uara3gq7</a><br/>\n",
       "                Run data is saved locally in <code>/home/jovyan/work/wandb/run-20210426_173552-uara3gq7</code><br/><br/>\n",
       "            "
      ],
      "text/plain": [
       "<IPython.core.display.HTML object>"
      ]
     },
     "metadata": {},
     "output_type": "display_data"
    },
    {
     "name": "stdout",
     "output_type": "stream",
     "text": [
      "Epoch 1/15\n",
      "475/475 [==============================] - 56s 117ms/step - loss: 0.3872 - accuracy: 0.8243 - val_loss: 0.3007 - val_accuracy: 0.8637\n",
      "Epoch 2/15\n",
      "475/475 [==============================] - 55s 117ms/step - loss: 0.2827 - accuracy: 0.8782 - val_loss: 0.2504 - val_accuracy: 0.9018\n",
      "Epoch 3/15\n",
      "475/475 [==============================] - 55s 117ms/step - loss: 0.2209 - accuracy: 0.9111 - val_loss: 0.2155 - val_accuracy: 0.9146\n",
      "Epoch 4/15\n",
      "475/475 [==============================] - 55s 117ms/step - loss: 0.1819 - accuracy: 0.9302 - val_loss: 0.2046 - val_accuracy: 0.9176\n",
      "Epoch 5/15\n",
      "475/475 [==============================] - 55s 117ms/step - loss: 0.1989 - accuracy: 0.9232 - val_loss: 0.1774 - val_accuracy: 0.9330\n",
      "Epoch 6/15\n",
      "475/475 [==============================] - 55s 116ms/step - loss: 0.1733 - accuracy: 0.9349 - val_loss: 0.1895 - val_accuracy: 0.9214\n",
      "Epoch 7/15\n",
      "475/475 [==============================] - 55s 117ms/step - loss: 0.1554 - accuracy: 0.9415 - val_loss: 0.1707 - val_accuracy: 0.9372\n",
      "Epoch 8/15\n",
      "475/475 [==============================] - 55s 117ms/step - loss: 0.1567 - accuracy: 0.9428 - val_loss: 0.1400 - val_accuracy: 0.9459\n",
      "Epoch 9/15\n",
      "475/475 [==============================] - 55s 116ms/step - loss: 0.1649 - accuracy: 0.9403 - val_loss: 0.1724 - val_accuracy: 0.9354\n",
      "Epoch 10/15\n",
      "475/475 [==============================] - 55s 116ms/step - loss: 0.1745 - accuracy: 0.9359 - val_loss: 0.2348 - val_accuracy: 0.9289\n",
      "Epoch 11/15\n",
      "475/475 [==============================] - 55s 116ms/step - loss: 0.1831 - accuracy: 0.9352 - val_loss: 0.2005 - val_accuracy: 0.9133\n",
      "Epoch 12/15\n",
      "475/475 [==============================] - 55s 116ms/step - loss: 0.1807 - accuracy: 0.9356 - val_loss: 0.1693 - val_accuracy: 0.9413\n",
      "Epoch 13/15\n",
      "475/475 [==============================] - 55s 116ms/step - loss: 0.1879 - accuracy: 0.9317 - val_loss: 0.2633 - val_accuracy: 0.8896\n",
      "Epoch 14/15\n",
      "475/475 [==============================] - 55s 116ms/step - loss: 0.1654 - accuracy: 0.9386 - val_loss: 0.1348 - val_accuracy: 0.9521\n",
      "Epoch 15/15\n",
      "475/475 [==============================] - 55s 116ms/step - loss: 0.1680 - accuracy: 0.9391 - val_loss: 0.3110 - val_accuracy: 0.9070\n"
     ]
    },
    {
     "data": {
      "text/html": [
       "<br/>Waiting for W&B process to finish, PID 3398<br/>Program ended successfully."
      ],
      "text/plain": [
       "<IPython.core.display.HTML object>"
      ]
     },
     "metadata": {},
     "output_type": "display_data"
    },
    {
     "data": {
      "application/vnd.jupyter.widget-view+json": {
       "model_id": "",
       "version_major": 2,
       "version_minor": 0
      },
      "text/plain": [
       "VBox(children=(Label(value=' 18.03MB of 18.03MB uploaded (0.00MB deduped)\\r'), FloatProgress(value=1.0, max=1.…"
      ]
     },
     "metadata": {},
     "output_type": "display_data"
    },
    {
     "data": {
      "text/html": [
       "Find user logs for this run at: <code>/home/jovyan/work/wandb/run-20210426_173552-uara3gq7/logs/debug.log</code>"
      ],
      "text/plain": [
       "<IPython.core.display.HTML object>"
      ]
     },
     "metadata": {},
     "output_type": "display_data"
    },
    {
     "data": {
      "text/html": [
       "Find internal logs for this run at: <code>/home/jovyan/work/wandb/run-20210426_173552-uara3gq7/logs/debug-internal.log</code>"
      ],
      "text/plain": [
       "<IPython.core.display.HTML object>"
      ]
     },
     "metadata": {},
     "output_type": "display_data"
    },
    {
     "data": {
      "text/html": [
       "<h3>Run summary:</h3><br/><style>\n",
       "    table.wandb td:nth-child(1) { padding: 0 10px; text-align: right }\n",
       "    </style><table class=\"wandb\">\n",
       "<tr><td>epoch</td><td>14</td></tr><tr><td>loss</td><td>0.168</td></tr><tr><td>accuracy</td><td>0.93907</td></tr><tr><td>val_loss</td><td>0.31096</td></tr><tr><td>val_accuracy</td><td>0.90696</td></tr><tr><td>_runtime</td><td>836</td></tr><tr><td>_timestamp</td><td>1619459388</td></tr><tr><td>_step</td><td>14</td></tr><tr><td>best_val_loss</td><td>0.13484</td></tr><tr><td>best_epoch</td><td>13</td></tr></table>"
      ],
      "text/plain": [
       "<IPython.core.display.HTML object>"
      ]
     },
     "metadata": {},
     "output_type": "display_data"
    },
    {
     "data": {
      "text/html": [
       "<h3>Run history:</h3><br/><style>\n",
       "    table.wandb td:nth-child(1) { padding: 0 10px; text-align: right }\n",
       "    </style><table class=\"wandb\">\n",
       "<tr><td>epoch</td><td>▁▁▂▃▃▃▄▅▅▅▆▇▇▇█</td></tr><tr><td>loss</td><td>█▅▃▂▂▂▁▁▁▂▂▂▂▁▁</td></tr><tr><td>accuracy</td><td>▁▄▆▇▇███████▇██</td></tr><tr><td>val_loss</td><td>█▆▄▄▃▃▂▁▂▅▄▂▆▁█</td></tr><tr><td>val_accuracy</td><td>▁▄▅▅▆▆▇█▇▆▅▇▃█▄</td></tr><tr><td>_runtime</td><td>▁▂▂▃▃▄▄▅▅▆▆▇▇██</td></tr><tr><td>_timestamp</td><td>▁▂▂▃▃▄▄▅▅▆▆▇▇██</td></tr><tr><td>_step</td><td>▁▁▂▃▃▃▄▅▅▅▆▇▇▇█</td></tr></table><br/>"
      ],
      "text/plain": [
       "<IPython.core.display.HTML object>"
      ]
     },
     "metadata": {},
     "output_type": "display_data"
    },
    {
     "data": {
      "text/html": [
       "Synced 5 W&B file(s), 1 media file(s), 0 artifact file(s) and 1 other file(s)"
      ],
      "text/plain": [
       "<IPython.core.display.HTML object>"
      ]
     },
     "metadata": {},
     "output_type": "display_data"
    },
    {
     "data": {
      "text/html": [
       "\n",
       "                    <br/>Synced <strong style=\"color:#cdcd00\">gallant-sweep-31</strong>: <a href=\"https://wandb.ai/motuziik/model_optimization/runs/uara3gq7\" target=\"_blank\">https://wandb.ai/motuziik/model_optimization/runs/uara3gq7</a><br/>\n",
       "                "
      ],
      "text/plain": [
       "<IPython.core.display.HTML object>"
      ]
     },
     "metadata": {},
     "output_type": "display_data"
    },
    {
     "name": "stderr",
     "output_type": "stream",
     "text": [
      "\u001b[34m\u001b[1mwandb\u001b[0m: Agent Starting Run: z5rkmh5m with config:\n",
      "\u001b[34m\u001b[1mwandb\u001b[0m: \tactivation: tanh\n",
      "\u001b[34m\u001b[1mwandb\u001b[0m: \tbatch_size: 64\n",
      "\u001b[34m\u001b[1mwandb\u001b[0m: \tdropout: 0.2\n",
      "\u001b[34m\u001b[1mwandb\u001b[0m: \toptimizer: SGD\n",
      "Failed to detect the name of this notebook, you can set it manually with the WANDB_NOTEBOOK_NAME environment variable to enable code saving.\n"
     ]
    },
    {
     "data": {
      "text/html": [
       "\n",
       "                Tracking run with wandb version 0.10.27<br/>\n",
       "                Syncing run <strong style=\"color:#cdcd00\">copper-sweep-32</strong> to <a href=\"https://wandb.ai\" target=\"_blank\">Weights & Biases</a> <a href=\"https://docs.wandb.com/integrations/jupyter.html\" target=\"_blank\">(Documentation)</a>.<br/>\n",
       "                Project page: <a href=\"https://wandb.ai/motuziik/model_optimization\" target=\"_blank\">https://wandb.ai/motuziik/model_optimization</a><br/>\n",
       "                Sweep page: <a href=\"https://wandb.ai/motuziik/model_optimization/sweeps/83eceyoz\" target=\"_blank\">https://wandb.ai/motuziik/model_optimization/sweeps/83eceyoz</a><br/>\n",
       "Run page: <a href=\"https://wandb.ai/motuziik/model_optimization/runs/z5rkmh5m\" target=\"_blank\">https://wandb.ai/motuziik/model_optimization/runs/z5rkmh5m</a><br/>\n",
       "                Run data is saved locally in <code>/home/jovyan/work/wandb/run-20210426_174953-z5rkmh5m</code><br/><br/>\n",
       "            "
      ],
      "text/plain": [
       "<IPython.core.display.HTML object>"
      ]
     },
     "metadata": {},
     "output_type": "display_data"
    },
    {
     "name": "stdout",
     "output_type": "stream",
     "text": [
      "Epoch 1/15\n",
      "475/475 [==============================] - 56s 117ms/step - loss: 0.5039 - accuracy: 0.7327 - val_loss: 0.3942 - val_accuracy: 0.8339\n",
      "Epoch 2/15\n",
      "475/475 [==============================] - 55s 116ms/step - loss: 0.3633 - accuracy: 0.8322 - val_loss: 0.3563 - val_accuracy: 0.8263\n",
      "Epoch 3/15\n",
      "475/475 [==============================] - 55s 116ms/step - loss: 0.3753 - accuracy: 0.8296 - val_loss: 0.3291 - val_accuracy: 0.8473\n",
      "Epoch 4/15\n",
      "475/475 [==============================] - 55s 116ms/step - loss: 0.3320 - accuracy: 0.8491 - val_loss: 0.3412 - val_accuracy: 0.8548\n",
      "Epoch 5/15\n",
      "475/475 [==============================] - 55s 116ms/step - loss: 0.3176 - accuracy: 0.8555 - val_loss: 0.3068 - val_accuracy: 0.8629\n",
      "Epoch 6/15\n",
      "475/475 [==============================] - 55s 116ms/step - loss: 0.3139 - accuracy: 0.8582 - val_loss: 0.2935 - val_accuracy: 0.8702\n",
      "Epoch 7/15\n",
      "475/475 [==============================] - 55s 116ms/step - loss: 0.3168 - accuracy: 0.8595 - val_loss: 0.3209 - val_accuracy: 0.8606\n",
      "Epoch 8/15\n",
      "475/475 [==============================] - 55s 116ms/step - loss: 0.3055 - accuracy: 0.8642 - val_loss: 0.2822 - val_accuracy: 0.8762\n",
      "Epoch 9/15\n",
      "475/475 [==============================] - 55s 116ms/step - loss: 0.3024 - accuracy: 0.8644 - val_loss: 0.2644 - val_accuracy: 0.8856\n",
      "Epoch 10/15\n",
      "475/475 [==============================] - 55s 116ms/step - loss: 0.3040 - accuracy: 0.8618 - val_loss: 0.5938 - val_accuracy: 0.6572\n",
      "Epoch 11/15\n",
      "475/475 [==============================] - 55s 116ms/step - loss: 0.2932 - accuracy: 0.8707 - val_loss: 0.5358 - val_accuracy: 0.8223\n",
      "Epoch 12/15\n",
      "475/475 [==============================] - 55s 116ms/step - loss: 0.2668 - accuracy: 0.8834 - val_loss: 0.2543 - val_accuracy: 0.8916\n",
      "Epoch 13/15\n",
      "475/475 [==============================] - 55s 116ms/step - loss: 0.2800 - accuracy: 0.8764 - val_loss: 0.3167 - val_accuracy: 0.8651\n",
      "Epoch 14/15\n",
      "475/475 [==============================] - 55s 116ms/step - loss: 0.2567 - accuracy: 0.8913 - val_loss: 0.5668 - val_accuracy: 0.6676\n",
      "Epoch 15/15\n",
      "475/475 [==============================] - 55s 116ms/step - loss: 0.2550 - accuracy: 0.8921 - val_loss: 0.2414 - val_accuracy: 0.9034\n"
     ]
    },
    {
     "data": {
      "text/html": [
       "<br/>Waiting for W&B process to finish, PID 3495<br/>Program ended successfully."
      ],
      "text/plain": [
       "<IPython.core.display.HTML object>"
      ]
     },
     "metadata": {},
     "output_type": "display_data"
    },
    {
     "data": {
      "application/vnd.jupyter.widget-view+json": {
       "model_id": "",
       "version_major": 2,
       "version_minor": 0
      },
      "text/plain": [
       "VBox(children=(Label(value=' 6.03MB of 6.03MB uploaded (0.00MB deduped)\\r'), FloatProgress(value=1.0, max=1.0)…"
      ]
     },
     "metadata": {},
     "output_type": "display_data"
    },
    {
     "data": {
      "text/html": [
       "Find user logs for this run at: <code>/home/jovyan/work/wandb/run-20210426_174953-z5rkmh5m/logs/debug.log</code>"
      ],
      "text/plain": [
       "<IPython.core.display.HTML object>"
      ]
     },
     "metadata": {},
     "output_type": "display_data"
    },
    {
     "data": {
      "text/html": [
       "Find internal logs for this run at: <code>/home/jovyan/work/wandb/run-20210426_174953-z5rkmh5m/logs/debug-internal.log</code>"
      ],
      "text/plain": [
       "<IPython.core.display.HTML object>"
      ]
     },
     "metadata": {},
     "output_type": "display_data"
    },
    {
     "data": {
      "text/html": [
       "<h3>Run summary:</h3><br/><style>\n",
       "    table.wandb td:nth-child(1) { padding: 0 10px; text-align: right }\n",
       "    </style><table class=\"wandb\">\n",
       "<tr><td>epoch</td><td>14</td></tr><tr><td>loss</td><td>0.25501</td></tr><tr><td>accuracy</td><td>0.89205</td></tr><tr><td>val_loss</td><td>0.24136</td></tr><tr><td>val_accuracy</td><td>0.90341</td></tr><tr><td>_runtime</td><td>832</td></tr><tr><td>_timestamp</td><td>1619460226</td></tr><tr><td>_step</td><td>14</td></tr><tr><td>best_val_loss</td><td>0.24136</td></tr><tr><td>best_epoch</td><td>14</td></tr></table>"
      ],
      "text/plain": [
       "<IPython.core.display.HTML object>"
      ]
     },
     "metadata": {},
     "output_type": "display_data"
    },
    {
     "data": {
      "text/html": [
       "<h3>Run history:</h3><br/><style>\n",
       "    table.wandb td:nth-child(1) { padding: 0 10px; text-align: right }\n",
       "    </style><table class=\"wandb\">\n",
       "<tr><td>epoch</td><td>▁▁▂▃▃▃▄▅▅▅▆▇▇▇█</td></tr><tr><td>loss</td><td>█▄▄▃▃▃▃▂▂▂▂▁▂▁▁</td></tr><tr><td>accuracy</td><td>▁▅▅▆▆▇▇▇▇▇▇█▇██</td></tr><tr><td>val_loss</td><td>▄▃▃▃▂▂▃▂▁█▇▁▂▇▁</td></tr><tr><td>val_accuracy</td><td>▆▆▆▇▇▇▇▇▇▁▆█▇▁█</td></tr><tr><td>_runtime</td><td>▁▂▂▃▃▄▄▅▅▆▆▇▇██</td></tr><tr><td>_timestamp</td><td>▁▂▂▃▃▄▄▅▅▆▆▇▇██</td></tr><tr><td>_step</td><td>▁▁▂▃▃▃▄▅▅▅▆▇▇▇█</td></tr></table><br/>"
      ],
      "text/plain": [
       "<IPython.core.display.HTML object>"
      ]
     },
     "metadata": {},
     "output_type": "display_data"
    },
    {
     "data": {
      "text/html": [
       "Synced 5 W&B file(s), 1 media file(s), 0 artifact file(s) and 1 other file(s)"
      ],
      "text/plain": [
       "<IPython.core.display.HTML object>"
      ]
     },
     "metadata": {},
     "output_type": "display_data"
    },
    {
     "data": {
      "text/html": [
       "\n",
       "                    <br/>Synced <strong style=\"color:#cdcd00\">copper-sweep-32</strong>: <a href=\"https://wandb.ai/motuziik/model_optimization/runs/z5rkmh5m\" target=\"_blank\">https://wandb.ai/motuziik/model_optimization/runs/z5rkmh5m</a><br/>\n",
       "                "
      ],
      "text/plain": [
       "<IPython.core.display.HTML object>"
      ]
     },
     "metadata": {},
     "output_type": "display_data"
    },
    {
     "name": "stderr",
     "output_type": "stream",
     "text": [
      "\u001b[34m\u001b[1mwandb\u001b[0m: Agent Starting Run: vbwk6vr6 with config:\n",
      "\u001b[34m\u001b[1mwandb\u001b[0m: \tactivation: tanh\n",
      "\u001b[34m\u001b[1mwandb\u001b[0m: \tbatch_size: 64\n",
      "\u001b[34m\u001b[1mwandb\u001b[0m: \tdropout: 0.2\n",
      "\u001b[34m\u001b[1mwandb\u001b[0m: \toptimizer: RMSprop\n",
      "Failed to detect the name of this notebook, you can set it manually with the WANDB_NOTEBOOK_NAME environment variable to enable code saving.\n"
     ]
    },
    {
     "data": {
      "text/html": [
       "\n",
       "                Tracking run with wandb version 0.10.27<br/>\n",
       "                Syncing run <strong style=\"color:#cdcd00\">sweepy-sweep-33</strong> to <a href=\"https://wandb.ai\" target=\"_blank\">Weights & Biases</a> <a href=\"https://docs.wandb.com/integrations/jupyter.html\" target=\"_blank\">(Documentation)</a>.<br/>\n",
       "                Project page: <a href=\"https://wandb.ai/motuziik/model_optimization\" target=\"_blank\">https://wandb.ai/motuziik/model_optimization</a><br/>\n",
       "                Sweep page: <a href=\"https://wandb.ai/motuziik/model_optimization/sweeps/83eceyoz\" target=\"_blank\">https://wandb.ai/motuziik/model_optimization/sweeps/83eceyoz</a><br/>\n",
       "Run page: <a href=\"https://wandb.ai/motuziik/model_optimization/runs/vbwk6vr6\" target=\"_blank\">https://wandb.ai/motuziik/model_optimization/runs/vbwk6vr6</a><br/>\n",
       "                Run data is saved locally in <code>/home/jovyan/work/wandb/run-20210426_180352-vbwk6vr6</code><br/><br/>\n",
       "            "
      ],
      "text/plain": [
       "<IPython.core.display.HTML object>"
      ]
     },
     "metadata": {},
     "output_type": "display_data"
    },
    {
     "name": "stdout",
     "output_type": "stream",
     "text": [
      "Epoch 1/15\n",
      "475/475 [==============================] - 57s 119ms/step - loss: 0.4793 - accuracy: 0.7715 - val_loss: 0.3537 - val_accuracy: 0.8454\n",
      "Epoch 2/15\n",
      "475/475 [==============================] - 56s 118ms/step - loss: 0.3478 - accuracy: 0.8496 - val_loss: 0.3762 - val_accuracy: 0.8410\n",
      "Epoch 3/15\n",
      "475/475 [==============================] - 56s 118ms/step - loss: 0.2835 - accuracy: 0.8809 - val_loss: 0.2161 - val_accuracy: 0.9217\n",
      "Epoch 4/15\n",
      "475/475 [==============================] - 56s 118ms/step - loss: 0.2312 - accuracy: 0.9095 - val_loss: 0.2077 - val_accuracy: 0.9275\n",
      "Epoch 5/15\n",
      "475/475 [==============================] - 56s 118ms/step - loss: 0.2047 - accuracy: 0.9236 - val_loss: 0.2267 - val_accuracy: 0.9118\n",
      "Epoch 6/15\n",
      "475/475 [==============================] - 56s 118ms/step - loss: 0.1820 - accuracy: 0.9327 - val_loss: 0.2282 - val_accuracy: 0.9078\n",
      "Epoch 7/15\n",
      "475/475 [==============================] - 56s 118ms/step - loss: 0.1735 - accuracy: 0.9357 - val_loss: 0.1428 - val_accuracy: 0.9513\n",
      "Epoch 8/15\n",
      "475/475 [==============================] - 56s 118ms/step - loss: 0.1601 - accuracy: 0.9426 - val_loss: 0.1298 - val_accuracy: 0.9505\n",
      "Epoch 9/15\n",
      "475/475 [==============================] - 56s 118ms/step - loss: 0.1555 - accuracy: 0.9455 - val_loss: 0.1449 - val_accuracy: 0.9483\n",
      "Epoch 10/15\n",
      "475/475 [==============================] - 56s 118ms/step - loss: 0.1466 - accuracy: 0.9465 - val_loss: 0.1278 - val_accuracy: 0.9574\n",
      "Epoch 11/15\n",
      "475/475 [==============================] - 56s 118ms/step - loss: 0.1361 - accuracy: 0.9529 - val_loss: 0.1320 - val_accuracy: 0.9551\n",
      "Epoch 12/15\n",
      "475/475 [==============================] - 56s 118ms/step - loss: 0.1316 - accuracy: 0.9542 - val_loss: 0.1637 - val_accuracy: 0.9528\n",
      "Epoch 13/15\n",
      "475/475 [==============================] - 56s 118ms/step - loss: 0.1324 - accuracy: 0.9539 - val_loss: 0.1120 - val_accuracy: 0.9620\n",
      "Epoch 14/15\n",
      "475/475 [==============================] - 56s 118ms/step - loss: 0.1274 - accuracy: 0.9551 - val_loss: 0.1366 - val_accuracy: 0.9534\n",
      "Epoch 15/15\n",
      "475/475 [==============================] - 56s 118ms/step - loss: 0.1257 - accuracy: 0.9571 - val_loss: 0.1019 - val_accuracy: 0.9647\n"
     ]
    },
    {
     "data": {
      "text/html": [
       "<br/>Waiting for W&B process to finish, PID 3592<br/>Program ended successfully."
      ],
      "text/plain": [
       "<IPython.core.display.HTML object>"
      ]
     },
     "metadata": {},
     "output_type": "display_data"
    },
    {
     "data": {
      "application/vnd.jupyter.widget-view+json": {
       "model_id": "",
       "version_major": 2,
       "version_minor": 0
      },
      "text/plain": [
       "VBox(children=(Label(value=' 12.04MB of 12.04MB uploaded (0.00MB deduped)\\r'), FloatProgress(value=1.0, max=1.…"
      ]
     },
     "metadata": {},
     "output_type": "display_data"
    },
    {
     "data": {
      "text/html": [
       "Find user logs for this run at: <code>/home/jovyan/work/wandb/run-20210426_180352-vbwk6vr6/logs/debug.log</code>"
      ],
      "text/plain": [
       "<IPython.core.display.HTML object>"
      ]
     },
     "metadata": {},
     "output_type": "display_data"
    },
    {
     "data": {
      "text/html": [
       "Find internal logs for this run at: <code>/home/jovyan/work/wandb/run-20210426_180352-vbwk6vr6/logs/debug-internal.log</code>"
      ],
      "text/plain": [
       "<IPython.core.display.HTML object>"
      ]
     },
     "metadata": {},
     "output_type": "display_data"
    },
    {
     "data": {
      "text/html": [
       "<h3>Run summary:</h3><br/><style>\n",
       "    table.wandb td:nth-child(1) { padding: 0 10px; text-align: right }\n",
       "    </style><table class=\"wandb\">\n",
       "<tr><td>epoch</td><td>14</td></tr><tr><td>loss</td><td>0.12573</td></tr><tr><td>accuracy</td><td>0.95713</td></tr><tr><td>val_loss</td><td>0.10186</td></tr><tr><td>val_accuracy</td><td>0.96473</td></tr><tr><td>_runtime</td><td>849</td></tr><tr><td>_timestamp</td><td>1619461081</td></tr><tr><td>_step</td><td>14</td></tr><tr><td>best_val_loss</td><td>0.10186</td></tr><tr><td>best_epoch</td><td>14</td></tr></table>"
      ],
      "text/plain": [
       "<IPython.core.display.HTML object>"
      ]
     },
     "metadata": {},
     "output_type": "display_data"
    },
    {
     "data": {
      "text/html": [
       "<h3>Run history:</h3><br/><style>\n",
       "    table.wandb td:nth-child(1) { padding: 0 10px; text-align: right }\n",
       "    </style><table class=\"wandb\">\n",
       "<tr><td>epoch</td><td>▁▁▂▃▃▃▄▅▅▅▆▇▇▇█</td></tr><tr><td>loss</td><td>█▅▄▃▃▂▂▂▂▁▁▁▁▁▁</td></tr><tr><td>accuracy</td><td>▁▄▅▆▇▇▇▇███████</td></tr><tr><td>val_loss</td><td>▇█▄▄▄▄▂▂▂▂▂▃▁▂▁</td></tr><tr><td>val_accuracy</td><td>▁▁▆▆▅▅▇▇▇█▇▇█▇█</td></tr><tr><td>_runtime</td><td>▁▁▂▂▃▄▄▅▅▅▆▇▇██</td></tr><tr><td>_timestamp</td><td>▁▁▂▂▃▄▄▅▅▅▆▇▇██</td></tr><tr><td>_step</td><td>▁▁▂▃▃▃▄▅▅▅▆▇▇▇█</td></tr></table><br/>"
      ],
      "text/plain": [
       "<IPython.core.display.HTML object>"
      ]
     },
     "metadata": {},
     "output_type": "display_data"
    },
    {
     "data": {
      "text/html": [
       "Synced 5 W&B file(s), 1 media file(s), 0 artifact file(s) and 1 other file(s)"
      ],
      "text/plain": [
       "<IPython.core.display.HTML object>"
      ]
     },
     "metadata": {},
     "output_type": "display_data"
    },
    {
     "data": {
      "text/html": [
       "\n",
       "                    <br/>Synced <strong style=\"color:#cdcd00\">sweepy-sweep-33</strong>: <a href=\"https://wandb.ai/motuziik/model_optimization/runs/vbwk6vr6\" target=\"_blank\">https://wandb.ai/motuziik/model_optimization/runs/vbwk6vr6</a><br/>\n",
       "                "
      ],
      "text/plain": [
       "<IPython.core.display.HTML object>"
      ]
     },
     "metadata": {},
     "output_type": "display_data"
    },
    {
     "name": "stderr",
     "output_type": "stream",
     "text": [
      "\u001b[34m\u001b[1mwandb\u001b[0m: Agent Starting Run: 1cw14lyv with config:\n",
      "\u001b[34m\u001b[1mwandb\u001b[0m: \tactivation: tanh\n",
      "\u001b[34m\u001b[1mwandb\u001b[0m: \tbatch_size: 64\n",
      "\u001b[34m\u001b[1mwandb\u001b[0m: \tdropout: 0.15\n",
      "\u001b[34m\u001b[1mwandb\u001b[0m: \toptimizer: adam\n",
      "Failed to detect the name of this notebook, you can set it manually with the WANDB_NOTEBOOK_NAME environment variable to enable code saving.\n"
     ]
    },
    {
     "data": {
      "text/html": [
       "\n",
       "                Tracking run with wandb version 0.10.27<br/>\n",
       "                Syncing run <strong style=\"color:#cdcd00\">woven-sweep-34</strong> to <a href=\"https://wandb.ai\" target=\"_blank\">Weights & Biases</a> <a href=\"https://docs.wandb.com/integrations/jupyter.html\" target=\"_blank\">(Documentation)</a>.<br/>\n",
       "                Project page: <a href=\"https://wandb.ai/motuziik/model_optimization\" target=\"_blank\">https://wandb.ai/motuziik/model_optimization</a><br/>\n",
       "                Sweep page: <a href=\"https://wandb.ai/motuziik/model_optimization/sweeps/83eceyoz\" target=\"_blank\">https://wandb.ai/motuziik/model_optimization/sweeps/83eceyoz</a><br/>\n",
       "Run page: <a href=\"https://wandb.ai/motuziik/model_optimization/runs/1cw14lyv\" target=\"_blank\">https://wandb.ai/motuziik/model_optimization/runs/1cw14lyv</a><br/>\n",
       "                Run data is saved locally in <code>/home/jovyan/work/wandb/run-20210426_181806-1cw14lyv</code><br/><br/>\n",
       "            "
      ],
      "text/plain": [
       "<IPython.core.display.HTML object>"
      ]
     },
     "metadata": {},
     "output_type": "display_data"
    },
    {
     "name": "stdout",
     "output_type": "stream",
     "text": [
      "Epoch 1/15\n",
      "475/475 [==============================] - 56s 118ms/step - loss: 0.3683 - accuracy: 0.8306 - val_loss: 0.3004 - val_accuracy: 0.8643\n",
      "Epoch 2/15\n",
      "475/475 [==============================] - 55s 116ms/step - loss: 0.2930 - accuracy: 0.8710 - val_loss: 0.3389 - val_accuracy: 0.8670\n",
      "Epoch 3/15\n",
      "475/475 [==============================] - 55s 117ms/step - loss: 0.2598 - accuracy: 0.8941 - val_loss: 0.2386 - val_accuracy: 0.9146\n",
      "Epoch 4/15\n",
      "475/475 [==============================] - 55s 117ms/step - loss: 0.2040 - accuracy: 0.9198 - val_loss: 0.2201 - val_accuracy: 0.9184\n",
      "Epoch 5/15\n",
      "475/475 [==============================] - 55s 116ms/step - loss: 0.2385 - accuracy: 0.9061 - val_loss: 0.2260 - val_accuracy: 0.9245\n",
      "Epoch 6/15\n",
      "475/475 [==============================] - 55s 117ms/step - loss: 0.2188 - accuracy: 0.9143 - val_loss: 0.1982 - val_accuracy: 0.9310\n",
      "Epoch 7/15\n",
      "475/475 [==============================] - 55s 117ms/step - loss: 0.1841 - accuracy: 0.9316 - val_loss: 0.1730 - val_accuracy: 0.9292\n",
      "Epoch 8/15\n",
      "475/475 [==============================] - 55s 116ms/step - loss: 0.2059 - accuracy: 0.9239 - val_loss: 0.2255 - val_accuracy: 0.9160\n",
      "Epoch 9/15\n",
      "475/475 [==============================] - 55s 116ms/step - loss: 0.2050 - accuracy: 0.9248 - val_loss: 0.2086 - val_accuracy: 0.9388\n",
      "Epoch 10/15\n",
      "475/475 [==============================] - 55s 116ms/step - loss: 0.2426 - accuracy: 0.9090 - val_loss: 0.2034 - val_accuracy: 0.9179\n",
      "Epoch 11/15\n",
      "475/475 [==============================] - 55s 116ms/step - loss: 0.3045 - accuracy: 0.8745 - val_loss: 0.4196 - val_accuracy: 0.7518\n",
      "Epoch 12/15\n",
      "475/475 [==============================] - 55s 116ms/step - loss: 0.2686 - accuracy: 0.8941 - val_loss: 0.1737 - val_accuracy: 0.9368\n",
      "Epoch 13/15\n",
      "475/475 [==============================] - 55s 116ms/step - loss: 0.2802 - accuracy: 0.8893 - val_loss: 0.2721 - val_accuracy: 0.9041\n",
      "Epoch 14/15\n",
      "475/475 [==============================] - 55s 116ms/step - loss: 0.2961 - accuracy: 0.8856 - val_loss: 0.2502 - val_accuracy: 0.9093\n",
      "Epoch 15/15\n",
      "475/475 [==============================] - 55s 116ms/step - loss: 0.2715 - accuracy: 0.8999 - val_loss: 0.2561 - val_accuracy: 0.9003\n"
     ]
    },
    {
     "data": {
      "text/html": [
       "<br/>Waiting for W&B process to finish, PID 3689<br/>Program ended successfully."
      ],
      "text/plain": [
       "<IPython.core.display.HTML object>"
      ]
     },
     "metadata": {},
     "output_type": "display_data"
    },
    {
     "data": {
      "application/vnd.jupyter.widget-view+json": {
       "model_id": "",
       "version_major": 2,
       "version_minor": 0
      },
      "text/plain": [
       "VBox(children=(Label(value=' 18.03MB of 18.03MB uploaded (0.00MB deduped)\\r'), FloatProgress(value=1.0, max=1.…"
      ]
     },
     "metadata": {},
     "output_type": "display_data"
    },
    {
     "data": {
      "text/html": [
       "Find user logs for this run at: <code>/home/jovyan/work/wandb/run-20210426_181806-1cw14lyv/logs/debug.log</code>"
      ],
      "text/plain": [
       "<IPython.core.display.HTML object>"
      ]
     },
     "metadata": {},
     "output_type": "display_data"
    },
    {
     "data": {
      "text/html": [
       "Find internal logs for this run at: <code>/home/jovyan/work/wandb/run-20210426_181806-1cw14lyv/logs/debug-internal.log</code>"
      ],
      "text/plain": [
       "<IPython.core.display.HTML object>"
      ]
     },
     "metadata": {},
     "output_type": "display_data"
    },
    {
     "data": {
      "text/html": [
       "<h3>Run summary:</h3><br/><style>\n",
       "    table.wandb td:nth-child(1) { padding: 0 10px; text-align: right }\n",
       "    </style><table class=\"wandb\">\n",
       "<tr><td>epoch</td><td>14</td></tr><tr><td>loss</td><td>0.27147</td></tr><tr><td>accuracy</td><td>0.89988</td></tr><tr><td>val_loss</td><td>0.25606</td></tr><tr><td>val_accuracy</td><td>0.90025</td></tr><tr><td>_runtime</td><td>836</td></tr><tr><td>_timestamp</td><td>1619461922</td></tr><tr><td>_step</td><td>14</td></tr><tr><td>best_val_loss</td><td>0.17304</td></tr><tr><td>best_epoch</td><td>6</td></tr></table>"
      ],
      "text/plain": [
       "<IPython.core.display.HTML object>"
      ]
     },
     "metadata": {},
     "output_type": "display_data"
    },
    {
     "data": {
      "text/html": [
       "<h3>Run history:</h3><br/><style>\n",
       "    table.wandb td:nth-child(1) { padding: 0 10px; text-align: right }\n",
       "    </style><table class=\"wandb\">\n",
       "<tr><td>epoch</td><td>▁▁▂▃▃▃▄▅▅▅▆▇▇▇█</td></tr><tr><td>loss</td><td>█▅▄▂▃▂▁▂▂▃▆▄▅▅▄</td></tr><tr><td>accuracy</td><td>▁▄▅▇▆▇█▇█▆▄▅▅▅▆</td></tr><tr><td>val_loss</td><td>▅▆▃▂▃▂▁▂▂▂█▁▄▃▃</td></tr><tr><td>val_accuracy</td><td>▅▅▇▇▇██▇█▇▁█▇▇▇</td></tr><tr><td>_runtime</td><td>▁▁▂▃▃▄▄▅▅▆▆▆▇██</td></tr><tr><td>_timestamp</td><td>▁▁▂▃▃▄▄▅▅▆▆▆▇██</td></tr><tr><td>_step</td><td>▁▁▂▃▃▃▄▅▅▅▆▇▇▇█</td></tr></table><br/>"
      ],
      "text/plain": [
       "<IPython.core.display.HTML object>"
      ]
     },
     "metadata": {},
     "output_type": "display_data"
    },
    {
     "data": {
      "text/html": [
       "Synced 5 W&B file(s), 1 media file(s), 0 artifact file(s) and 1 other file(s)"
      ],
      "text/plain": [
       "<IPython.core.display.HTML object>"
      ]
     },
     "metadata": {},
     "output_type": "display_data"
    },
    {
     "data": {
      "text/html": [
       "\n",
       "                    <br/>Synced <strong style=\"color:#cdcd00\">woven-sweep-34</strong>: <a href=\"https://wandb.ai/motuziik/model_optimization/runs/1cw14lyv\" target=\"_blank\">https://wandb.ai/motuziik/model_optimization/runs/1cw14lyv</a><br/>\n",
       "                "
      ],
      "text/plain": [
       "<IPython.core.display.HTML object>"
      ]
     },
     "metadata": {},
     "output_type": "display_data"
    },
    {
     "name": "stderr",
     "output_type": "stream",
     "text": [
      "\u001b[34m\u001b[1mwandb\u001b[0m: Agent Starting Run: vbwwo6yk with config:\n",
      "\u001b[34m\u001b[1mwandb\u001b[0m: \tactivation: tanh\n",
      "\u001b[34m\u001b[1mwandb\u001b[0m: \tbatch_size: 64\n",
      "\u001b[34m\u001b[1mwandb\u001b[0m: \tdropout: 0.15\n",
      "\u001b[34m\u001b[1mwandb\u001b[0m: \toptimizer: SGD\n",
      "Failed to detect the name of this notebook, you can set it manually with the WANDB_NOTEBOOK_NAME environment variable to enable code saving.\n"
     ]
    },
    {
     "data": {
      "text/html": [
       "\n",
       "                Tracking run with wandb version 0.10.27<br/>\n",
       "                Syncing run <strong style=\"color:#cdcd00\">different-sweep-35</strong> to <a href=\"https://wandb.ai\" target=\"_blank\">Weights & Biases</a> <a href=\"https://docs.wandb.com/integrations/jupyter.html\" target=\"_blank\">(Documentation)</a>.<br/>\n",
       "                Project page: <a href=\"https://wandb.ai/motuziik/model_optimization\" target=\"_blank\">https://wandb.ai/motuziik/model_optimization</a><br/>\n",
       "                Sweep page: <a href=\"https://wandb.ai/motuziik/model_optimization/sweeps/83eceyoz\" target=\"_blank\">https://wandb.ai/motuziik/model_optimization/sweeps/83eceyoz</a><br/>\n",
       "Run page: <a href=\"https://wandb.ai/motuziik/model_optimization/runs/vbwwo6yk\" target=\"_blank\">https://wandb.ai/motuziik/model_optimization/runs/vbwwo6yk</a><br/>\n",
       "                Run data is saved locally in <code>/home/jovyan/work/wandb/run-20210426_183207-vbwwo6yk</code><br/><br/>\n",
       "            "
      ],
      "text/plain": [
       "<IPython.core.display.HTML object>"
      ]
     },
     "metadata": {},
     "output_type": "display_data"
    },
    {
     "name": "stdout",
     "output_type": "stream",
     "text": [
      "Epoch 1/15\n",
      "475/475 [==============================] - 56s 117ms/step - loss: 0.5401 - accuracy: 0.7005 - val_loss: 0.3902 - val_accuracy: 0.8198\n",
      "Epoch 2/15\n",
      "475/475 [==============================] - 55s 116ms/step - loss: 0.3746 - accuracy: 0.8258 - val_loss: 0.3386 - val_accuracy: 0.8406\n",
      "Epoch 3/15\n",
      "475/475 [==============================] - 55s 116ms/step - loss: 0.3436 - accuracy: 0.8428 - val_loss: 0.3222 - val_accuracy: 0.8556\n",
      "Epoch 4/15\n",
      "475/475 [==============================] - 55s 116ms/step - loss: 0.3307 - accuracy: 0.8489 - val_loss: 0.3201 - val_accuracy: 0.8541\n",
      "Epoch 5/15\n",
      "475/475 [==============================] - 55s 116ms/step - loss: 0.3146 - accuracy: 0.8593 - val_loss: 0.3533 - val_accuracy: 0.8298\n",
      "Epoch 6/15\n",
      "475/475 [==============================] - 55s 116ms/step - loss: 0.3189 - accuracy: 0.8558 - val_loss: 0.3050 - val_accuracy: 0.8651\n",
      "Epoch 7/15\n",
      "475/475 [==============================] - 55s 116ms/step - loss: 0.3184 - accuracy: 0.8541 - val_loss: 0.2845 - val_accuracy: 0.8731\n",
      "Epoch 8/15\n",
      "475/475 [==============================] - 55s 116ms/step - loss: 0.3036 - accuracy: 0.8632 - val_loss: 0.3024 - val_accuracy: 0.8662\n",
      "Epoch 9/15\n",
      "475/475 [==============================] - 55s 116ms/step - loss: 0.3003 - accuracy: 0.8649 - val_loss: 0.2765 - val_accuracy: 0.8768\n",
      "Epoch 10/15\n",
      "475/475 [==============================] - 55s 116ms/step - loss: 0.2839 - accuracy: 0.8743 - val_loss: 0.2611 - val_accuracy: 0.8856\n",
      "Epoch 11/15\n",
      "475/475 [==============================] - 55s 116ms/step - loss: 0.2754 - accuracy: 0.8796 - val_loss: 0.2462 - val_accuracy: 0.8952\n",
      "Epoch 12/15\n",
      "475/475 [==============================] - 55s 116ms/step - loss: 0.2808 - accuracy: 0.8771 - val_loss: 0.2435 - val_accuracy: 0.8960\n",
      "Epoch 13/15\n",
      "475/475 [==============================] - 55s 116ms/step - loss: 0.2634 - accuracy: 0.8859 - val_loss: 0.2602 - val_accuracy: 0.8899\n",
      "Epoch 14/15\n",
      "475/475 [==============================] - 55s 116ms/step - loss: 0.2594 - accuracy: 0.8893 - val_loss: 0.2478 - val_accuracy: 0.8956\n",
      "Epoch 15/15\n",
      "475/475 [==============================] - 55s 116ms/step - loss: 0.2586 - accuracy: 0.8870 - val_loss: 0.2402 - val_accuracy: 0.9021\n"
     ]
    },
    {
     "data": {
      "text/html": [
       "<br/>Waiting for W&B process to finish, PID 3786<br/>Program ended successfully."
      ],
      "text/plain": [
       "<IPython.core.display.HTML object>"
      ]
     },
     "metadata": {},
     "output_type": "display_data"
    },
    {
     "data": {
      "application/vnd.jupyter.widget-view+json": {
       "model_id": "",
       "version_major": 2,
       "version_minor": 0
      },
      "text/plain": [
       "VBox(children=(Label(value=' 6.03MB of 6.03MB uploaded (0.00MB deduped)\\r'), FloatProgress(value=1.0, max=1.0)…"
      ]
     },
     "metadata": {},
     "output_type": "display_data"
    },
    {
     "data": {
      "text/html": [
       "Find user logs for this run at: <code>/home/jovyan/work/wandb/run-20210426_183207-vbwwo6yk/logs/debug.log</code>"
      ],
      "text/plain": [
       "<IPython.core.display.HTML object>"
      ]
     },
     "metadata": {},
     "output_type": "display_data"
    },
    {
     "data": {
      "text/html": [
       "Find internal logs for this run at: <code>/home/jovyan/work/wandb/run-20210426_183207-vbwwo6yk/logs/debug-internal.log</code>"
      ],
      "text/plain": [
       "<IPython.core.display.HTML object>"
      ]
     },
     "metadata": {},
     "output_type": "display_data"
    },
    {
     "data": {
      "text/html": [
       "<h3>Run summary:</h3><br/><style>\n",
       "    table.wandb td:nth-child(1) { padding: 0 10px; text-align: right }\n",
       "    </style><table class=\"wandb\">\n",
       "<tr><td>epoch</td><td>14</td></tr><tr><td>loss</td><td>0.25864</td></tr><tr><td>accuracy</td><td>0.88702</td></tr><tr><td>val_loss</td><td>0.24017</td></tr><tr><td>val_accuracy</td><td>0.90209</td></tr><tr><td>_runtime</td><td>833</td></tr><tr><td>_timestamp</td><td>1619462760</td></tr><tr><td>_step</td><td>14</td></tr><tr><td>best_val_loss</td><td>0.24017</td></tr><tr><td>best_epoch</td><td>14</td></tr></table>"
      ],
      "text/plain": [
       "<IPython.core.display.HTML object>"
      ]
     },
     "metadata": {},
     "output_type": "display_data"
    },
    {
     "data": {
      "text/html": [
       "<h3>Run history:</h3><br/><style>\n",
       "    table.wandb td:nth-child(1) { padding: 0 10px; text-align: right }\n",
       "    </style><table class=\"wandb\">\n",
       "<tr><td>epoch</td><td>▁▁▂▃▃▃▄▅▅▅▆▇▇▇█</td></tr><tr><td>loss</td><td>█▄▃▃▂▂▂▂▂▂▁▂▁▁▁</td></tr><tr><td>accuracy</td><td>▁▆▆▇▇▇▇▇▇▇█████</td></tr><tr><td>val_loss</td><td>█▆▅▅▆▄▃▄▃▂▁▁▂▁▁</td></tr><tr><td>val_accuracy</td><td>▁▃▄▄▂▅▆▅▆▇▇▇▇▇█</td></tr><tr><td>_runtime</td><td>▁▁▂▃▃▄▄▄▅▅▆▇▇██</td></tr><tr><td>_timestamp</td><td>▁▁▂▃▃▄▄▄▅▅▆▇▇██</td></tr><tr><td>_step</td><td>▁▁▂▃▃▃▄▅▅▅▆▇▇▇█</td></tr></table><br/>"
      ],
      "text/plain": [
       "<IPython.core.display.HTML object>"
      ]
     },
     "metadata": {},
     "output_type": "display_data"
    },
    {
     "data": {
      "text/html": [
       "Synced 5 W&B file(s), 1 media file(s), 0 artifact file(s) and 1 other file(s)"
      ],
      "text/plain": [
       "<IPython.core.display.HTML object>"
      ]
     },
     "metadata": {},
     "output_type": "display_data"
    },
    {
     "data": {
      "text/html": [
       "\n",
       "                    <br/>Synced <strong style=\"color:#cdcd00\">different-sweep-35</strong>: <a href=\"https://wandb.ai/motuziik/model_optimization/runs/vbwwo6yk\" target=\"_blank\">https://wandb.ai/motuziik/model_optimization/runs/vbwwo6yk</a><br/>\n",
       "                "
      ],
      "text/plain": [
       "<IPython.core.display.HTML object>"
      ]
     },
     "metadata": {},
     "output_type": "display_data"
    },
    {
     "name": "stderr",
     "output_type": "stream",
     "text": [
      "\u001b[34m\u001b[1mwandb\u001b[0m: Agent Starting Run: 101pavhn with config:\n",
      "\u001b[34m\u001b[1mwandb\u001b[0m: \tactivation: tanh\n",
      "\u001b[34m\u001b[1mwandb\u001b[0m: \tbatch_size: 64\n",
      "\u001b[34m\u001b[1mwandb\u001b[0m: \tdropout: 0.15\n",
      "\u001b[34m\u001b[1mwandb\u001b[0m: \toptimizer: RMSprop\n",
      "Failed to detect the name of this notebook, you can set it manually with the WANDB_NOTEBOOK_NAME environment variable to enable code saving.\n"
     ]
    },
    {
     "data": {
      "text/html": [
       "\n",
       "                Tracking run with wandb version 0.10.27<br/>\n",
       "                Syncing run <strong style=\"color:#cdcd00\">robust-sweep-36</strong> to <a href=\"https://wandb.ai\" target=\"_blank\">Weights & Biases</a> <a href=\"https://docs.wandb.com/integrations/jupyter.html\" target=\"_blank\">(Documentation)</a>.<br/>\n",
       "                Project page: <a href=\"https://wandb.ai/motuziik/model_optimization\" target=\"_blank\">https://wandb.ai/motuziik/model_optimization</a><br/>\n",
       "                Sweep page: <a href=\"https://wandb.ai/motuziik/model_optimization/sweeps/83eceyoz\" target=\"_blank\">https://wandb.ai/motuziik/model_optimization/sweeps/83eceyoz</a><br/>\n",
       "Run page: <a href=\"https://wandb.ai/motuziik/model_optimization/runs/101pavhn\" target=\"_blank\">https://wandb.ai/motuziik/model_optimization/runs/101pavhn</a><br/>\n",
       "                Run data is saved locally in <code>/home/jovyan/work/wandb/run-20210426_184606-101pavhn</code><br/><br/>\n",
       "            "
      ],
      "text/plain": [
       "<IPython.core.display.HTML object>"
      ]
     },
     "metadata": {},
     "output_type": "display_data"
    },
    {
     "name": "stdout",
     "output_type": "stream",
     "text": [
      "Epoch 1/15\n",
      "475/475 [==============================] - 57s 119ms/step - loss: 0.4578 - accuracy: 0.7908 - val_loss: 0.3684 - val_accuracy: 0.8418\n",
      "Epoch 2/15\n",
      "475/475 [==============================] - 56s 118ms/step - loss: 0.3387 - accuracy: 0.8523 - val_loss: 0.3198 - val_accuracy: 0.8621\n",
      "Epoch 3/15\n",
      "475/475 [==============================] - 56s 118ms/step - loss: 0.2815 - accuracy: 0.8819 - val_loss: 0.2174 - val_accuracy: 0.9159\n",
      "Epoch 4/15\n",
      "475/475 [==============================] - 56s 118ms/step - loss: 0.2294 - accuracy: 0.9114 - val_loss: 0.2004 - val_accuracy: 0.9304\n",
      "Epoch 5/15\n",
      "475/475 [==============================] - 56s 118ms/step - loss: 0.2002 - accuracy: 0.9231 - val_loss: 0.2363 - val_accuracy: 0.9229\n",
      "Epoch 6/15\n",
      "475/475 [==============================] - 56s 118ms/step - loss: 0.1753 - accuracy: 0.9354 - val_loss: 0.1362 - val_accuracy: 0.9496\n",
      "Epoch 7/15\n",
      "475/475 [==============================] - 56s 118ms/step - loss: 0.1677 - accuracy: 0.9398 - val_loss: 0.1413 - val_accuracy: 0.9507\n",
      "Epoch 8/15\n",
      "475/475 [==============================] - 56s 118ms/step - loss: 0.1598 - accuracy: 0.9423 - val_loss: 0.1471 - val_accuracy: 0.9507\n",
      "Epoch 9/15\n",
      "475/475 [==============================] - 56s 118ms/step - loss: 0.1524 - accuracy: 0.9443 - val_loss: 0.1298 - val_accuracy: 0.9571\n",
      "Epoch 10/15\n",
      "475/475 [==============================] - 56s 118ms/step - loss: 0.1443 - accuracy: 0.9496 - val_loss: 0.1564 - val_accuracy: 0.9413\n",
      "Epoch 11/15\n",
      "475/475 [==============================] - 56s 118ms/step - loss: 0.1379 - accuracy: 0.9513 - val_loss: 0.1212 - val_accuracy: 0.9575\n",
      "Epoch 12/15\n",
      "475/475 [==============================] - 56s 118ms/step - loss: 0.1311 - accuracy: 0.9548 - val_loss: 0.1333 - val_accuracy: 0.9493\n",
      "Epoch 13/15\n",
      "475/475 [==============================] - 56s 118ms/step - loss: 0.1280 - accuracy: 0.9559 - val_loss: 0.1367 - val_accuracy: 0.9539\n",
      "Epoch 14/15\n",
      "475/475 [==============================] - 56s 118ms/step - loss: 0.1224 - accuracy: 0.9589 - val_loss: 0.1589 - val_accuracy: 0.9422\n",
      "Epoch 15/15\n",
      "475/475 [==============================] - 56s 118ms/step - loss: 0.1213 - accuracy: 0.9591 - val_loss: 0.1120 - val_accuracy: 0.9617\n"
     ]
    },
    {
     "data": {
      "text/html": [
       "<br/>Waiting for W&B process to finish, PID 3883<br/>Program ended successfully."
      ],
      "text/plain": [
       "<IPython.core.display.HTML object>"
      ]
     },
     "metadata": {},
     "output_type": "display_data"
    },
    {
     "data": {
      "application/vnd.jupyter.widget-view+json": {
       "model_id": "",
       "version_major": 2,
       "version_minor": 0
      },
      "text/plain": [
       "VBox(children=(Label(value=' 12.04MB of 12.04MB uploaded (0.00MB deduped)\\r'), FloatProgress(value=1.0, max=1.…"
      ]
     },
     "metadata": {},
     "output_type": "display_data"
    },
    {
     "data": {
      "text/html": [
       "Find user logs for this run at: <code>/home/jovyan/work/wandb/run-20210426_184606-101pavhn/logs/debug.log</code>"
      ],
      "text/plain": [
       "<IPython.core.display.HTML object>"
      ]
     },
     "metadata": {},
     "output_type": "display_data"
    },
    {
     "data": {
      "text/html": [
       "Find internal logs for this run at: <code>/home/jovyan/work/wandb/run-20210426_184606-101pavhn/logs/debug-internal.log</code>"
      ],
      "text/plain": [
       "<IPython.core.display.HTML object>"
      ]
     },
     "metadata": {},
     "output_type": "display_data"
    },
    {
     "data": {
      "text/html": [
       "<h3>Run summary:</h3><br/><style>\n",
       "    table.wandb td:nth-child(1) { padding: 0 10px; text-align: right }\n",
       "    </style><table class=\"wandb\">\n",
       "<tr><td>epoch</td><td>14</td></tr><tr><td>loss</td><td>0.12133</td></tr><tr><td>accuracy</td><td>0.9591</td></tr><tr><td>val_loss</td><td>0.11202</td></tr><tr><td>val_accuracy</td><td>0.96171</td></tr><tr><td>_runtime</td><td>849</td></tr><tr><td>_timestamp</td><td>1619463615</td></tr><tr><td>_step</td><td>14</td></tr><tr><td>best_val_loss</td><td>0.11202</td></tr><tr><td>best_epoch</td><td>14</td></tr></table>"
      ],
      "text/plain": [
       "<IPython.core.display.HTML object>"
      ]
     },
     "metadata": {},
     "output_type": "display_data"
    },
    {
     "data": {
      "text/html": [
       "<h3>Run history:</h3><br/><style>\n",
       "    table.wandb td:nth-child(1) { padding: 0 10px; text-align: right }\n",
       "    </style><table class=\"wandb\">\n",
       "<tr><td>epoch</td><td>▁▁▂▃▃▃▄▅▅▅▆▇▇▇█</td></tr><tr><td>loss</td><td>█▆▄▃▃▂▂▂▂▁▁▁▁▁▁</td></tr><tr><td>accuracy</td><td>▁▄▅▆▇▇▇▇▇██████</td></tr><tr><td>val_loss</td><td>█▇▄▃▄▂▂▂▁▂▁▂▂▂▁</td></tr><tr><td>val_accuracy</td><td>▁▂▅▆▆▇▇▇█▇█▇█▇█</td></tr><tr><td>_runtime</td><td>▁▁▂▃▃▃▄▅▅▆▆▆▇▇█</td></tr><tr><td>_timestamp</td><td>▁▁▂▃▃▃▄▅▅▆▆▆▇▇█</td></tr><tr><td>_step</td><td>▁▁▂▃▃▃▄▅▅▅▆▇▇▇█</td></tr></table><br/>"
      ],
      "text/plain": [
       "<IPython.core.display.HTML object>"
      ]
     },
     "metadata": {},
     "output_type": "display_data"
    },
    {
     "data": {
      "text/html": [
       "Synced 5 W&B file(s), 1 media file(s), 0 artifact file(s) and 1 other file(s)"
      ],
      "text/plain": [
       "<IPython.core.display.HTML object>"
      ]
     },
     "metadata": {},
     "output_type": "display_data"
    },
    {
     "data": {
      "text/html": [
       "\n",
       "                    <br/>Synced <strong style=\"color:#cdcd00\">robust-sweep-36</strong>: <a href=\"https://wandb.ai/motuziik/model_optimization/runs/101pavhn\" target=\"_blank\">https://wandb.ai/motuziik/model_optimization/runs/101pavhn</a><br/>\n",
       "                "
      ],
      "text/plain": [
       "<IPython.core.display.HTML object>"
      ]
     },
     "metadata": {},
     "output_type": "display_data"
    },
    {
     "name": "stderr",
     "output_type": "stream",
     "text": [
      "\u001b[34m\u001b[1mwandb\u001b[0m: Sweep Agent: Waiting for job.\n",
      "\u001b[34m\u001b[1mwandb\u001b[0m: Sweep Agent: Exiting.\n"
     ]
    }
   ],
   "source": [
    "# Initialize a new sweep\n",
    "# Arguments:\n",
    "#     – sweep_id: the sweep_id to run - this was returned above by wandb.sweep()\n",
    "#     – function: function that defines your model architecture and trains it\n",
    "wandb.agent(sweep_id, train)"
   ]
  },
  {
   "cell_type": "code",
   "execution_count": 1,
   "metadata": {},
   "outputs": [
    {
     "name": "stdout",
     "output_type": "stream",
     "text": [
      "Mon Apr 26 10:51:39 2021       \n",
      "+-----------------------------------------------------------------------------+\n",
      "| NVIDIA-SMI 450.80.02    Driver Version: 450.80.02    CUDA Version: 11.0     |\n",
      "|-------------------------------+----------------------+----------------------+\n",
      "| GPU  Name        Persistence-M| Bus-Id        Disp.A | Volatile Uncorr. ECC |\n",
      "| Fan  Temp  Perf  Pwr:Usage/Cap|         Memory-Usage | GPU-Util  Compute M. |\n",
      "|                               |                      |               MIG M. |\n",
      "|===============================+======================+======================|\n",
      "|   0  Tesla K40c          Off  | 00000000:01:00.0 Off |                    0 |\n",
      "| 28%   57C    P0    72W / 235W |      0MiB / 11441MiB |    100%      Default |\n",
      "|                               |                      |                  N/A |\n",
      "+-------------------------------+----------------------+----------------------+\n",
      "                                                                               \n",
      "+-----------------------------------------------------------------------------+\n",
      "| Processes:                                                                  |\n",
      "|  GPU   GI   CI        PID   Type   Process name                  GPU Memory |\n",
      "|        ID   ID                                                   Usage      |\n",
      "|=============================================================================|\n",
      "|  No running processes found                                                 |\n",
      "+-----------------------------------------------------------------------------+\n"
     ]
    }
   ],
   "source": [
    " !nvidia-smi"
   ]
  }
 ],
 "metadata": {
  "kernelspec": {
   "display_name": "Python 3",
   "language": "python",
   "name": "python3"
  },
  "language_info": {
   "codemirror_mode": {
    "name": "ipython",
    "version": 3
   },
   "file_extension": ".py",
   "mimetype": "text/x-python",
   "name": "python",
   "nbconvert_exporter": "python",
   "pygments_lexer": "ipython3",
   "version": "3.7.3"
  }
 },
 "nbformat": 4,
 "nbformat_minor": 4
}
